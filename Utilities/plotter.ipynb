{
 "cells": [
  {
   "cell_type": "code",
   "execution_count": null,
   "id": "ec50e9f7",
   "metadata": {},
   "outputs": [
    {
     "name": "stdout",
     "output_type": "stream",
     "text": [
      "🔍 AXIS INTERPRETATION ANALYSIS\n",
      "============================================================\n",
      "\n",
      "📍 X-AXIS ANALYSIS:\n",
      "========================================\n",
      "\n",
      "⬅️  LEFT EXTREME (X < -1.98):\n",
      "Study Types: {'Observational Study': 14, 'Systematic Review': 1}\n",
      "Sample Titles:\n",
      "   • 3. Prevention or Delay of Diabetes and Associated Comorbidit...\n",
      "   • 4. Comprehensive Medical Evaluation and Assessment of Comorb...\n",
      "   • 4. Comprehensive Medical Evaluation and Assessment of Comorb...\n",
      "\n",
      "➡️  RIGHT EXTREME (X > 3.07):\n",
      "Study Types: {'Observational Study': 8, 'Case Report': 5, 'Cohort Study': 1, 'Systematic Review': 1}\n",
      "Sample Titles:\n",
      "   • Sequential Presentation of Obsessive-Compulsive Disorder and...\n",
      "   • A Wolfram-like syndrome family: Case report....\n",
      "   • [Wolfram-like syndrome: a case report]....\n",
      "\n",
      "📍 Y-AXIS ANALYSIS:\n",
      "========================================\n",
      "\n",
      "⬇️  FRONT EXTREME (Y < -2.29):\n",
      "Study Types: {'Observational Study': 9, 'Cohort Study': 3, 'Meta-Analysis': 1, 'Clinical Trial': 1, 'Case Report': 1}\n",
      "Sample Titles:\n",
      "   • Arginine-stimulated copeptin in children and adolescents....\n",
      "   • Arginine-Stimulated Copeptin-Based Diagnosis of Central Diab...\n",
      "   • Importance of Intraoperative Factors in Postoperative Argini...\n",
      "\n",
      "⬆️  BACK EXTREME (Y > 2.02):\n",
      "Study Types: {'Observational Study': 12, 'Case Report': 2, 'Cohort Study': 1}\n",
      "Sample Titles:\n",
      "   • Wolfram syndrome type 1: a case series....\n",
      "   • The Wolfram-like variant WFS1<sup>E864K</sup> destabilizes M...\n",
      "   • Genomics of Wolfram Syndrome 1 (WFS1)....\n",
      "\n",
      "📍 Z-AXIS ANALYSIS:\n",
      "========================================\n",
      "\n",
      "⬇️  BOTTOM EXTREME (Z < -1.60):\n",
      "Study Types: {'Observational Study': 14, 'Clinical Trial': 1}\n",
      "Sample Titles:\n",
      "   • Metabolic reprogramming of renal epithelial cells contribute...\n",
      "   • Harnessing plant metabolic pathways for innovative diabetes ...\n",
      "   • Dietary flavonoids prevent diabetes through epigenetic regul...\n",
      "\n",
      "⬆️  TOP EXTREME (Z > 1.58):\n",
      "Study Types: {'Observational Study': 7, 'Cohort Study': 3, 'Cross-Sectional Study': 3, 'Meta-Analysis': 1, 'Systematic Review': 1}\n",
      "Sample Titles:\n",
      "   • Characteristics and Outcomes in Pediatric Versus Adult Crani...\n",
      "   • Posterior hypothalamic involvement on pre-operative MRI pred...\n",
      "   • Knowledge, attitude, and practice of pre-diabetic older peop...\n",
      "🔍 AXIS INTERPRETATION ANALYSIS\n",
      "============================================================\n",
      "\n",
      "📍 X-AXIS ANALYSIS:\n",
      "========================================\n",
      "\n",
      "⬅️  LEFT EXTREME (X < -2.29):\n",
      "Study Types: {'Observational Study': 9, 'Systematic Review': 1}\n",
      "Sample Titles:\n",
      "   • 3. Prevention or Delay of Diabetes and Associated Comorbidit...\n",
      "   • 4. Comprehensive Medical Evaluation and Assessment of Comorb...\n",
      "   • 4. Comprehensive Medical Evaluation and Assessment of Comorb...\n",
      "\n",
      "➡️  RIGHT EXTREME (X > 3.11):\n",
      "Study Types: {'Case Report': 5, 'Observational Study': 4, 'Cohort Study': 1}\n",
      "Sample Titles:\n",
      "   • Sequential Presentation of Obsessive-Compulsive Disorder and...\n",
      "   • A Wolfram-like syndrome family: Case report....\n",
      "   • [Wolfram-like syndrome: a case report]....\n",
      "\n",
      "📍 Y-AXIS ANALYSIS:\n",
      "========================================\n",
      "\n",
      "⬇️  FRONT EXTREME (Y < -2.46):\n",
      "Study Types: {'Observational Study': 7, 'Cohort Study': 2, 'Meta-Analysis': 1}\n",
      "Sample Titles:\n",
      "   • Arginine-stimulated copeptin in children and adolescents....\n",
      "   • Arginine-Stimulated Copeptin-Based Diagnosis of Central Diab...\n",
      "   • Importance of Intraoperative Factors in Postoperative Argini...\n",
      "\n",
      "⬆️  BACK EXTREME (Y > 2.12):\n",
      "Study Types: {'Observational Study': 8, 'Case Report': 2}\n",
      "Sample Titles:\n",
      "   • Wolfram syndrome type 1: a case series....\n",
      "   • The Wolfram-like variant WFS1<sup>E864K</sup> destabilizes M...\n",
      "   • Genomics of Wolfram Syndrome 1 (WFS1)....\n",
      "\n",
      "📍 Z-AXIS ANALYSIS:\n",
      "========================================\n",
      "\n",
      "⬇️  BOTTOM EXTREME (Z < -1.75):\n",
      "Study Types: {'Observational Study': 9, 'Clinical Trial': 1}\n",
      "Sample Titles:\n",
      "   • Metabolic reprogramming of renal epithelial cells contribute...\n",
      "   • Harnessing plant metabolic pathways for innovative diabetes ...\n",
      "   • Dietary flavonoids prevent diabetes through epigenetic regul...\n",
      "\n",
      "⬆️  TOP EXTREME (Z > 1.73):\n",
      "Study Types: {'Observational Study': 4, 'Cohort Study': 3, 'Cross-Sectional Study': 2, 'Meta-Analysis': 1}\n",
      "Sample Titles:\n",
      "   • Characteristics and Outcomes in Pediatric Versus Adult Crani...\n",
      "   • Posterior hypothalamic involvement on pre-operative MRI pred...\n",
      "   • Knowledge, attitude, and practice of pre-diabetic older peop...\n"
     ]
    },
    {
     "data": {
      "application/vnd.plotly.v1+json": {
       "config": {
        "plotlyServerURL": "https://plot.ly"
       },
       "data": [
        {
         "hovertemplate": "<b>Observational Study</b><br>%{text}<br><extra></extra>",
         "marker": {
          "color": "#1abc9c",
          "line": {
           "color": "white",
           "width": 0.5
          },
          "opacity": 0.8,
          "size": 6
         },
         "mode": "markers",
         "name": "Observational Study",
         "text": [
          "Guidelines and Recommendations for Laboratory Analysis in th...",
          "Rethinking the Impact and Management of Diabetes in Heart Fa...",
          "Open Ecosystem Through Secure Plug and Play Interoperability...",
          "Diabetes Ketoacidosis and Hyperosmolar Hyperglycemic Syndrom...",
          "Parental Determinants in Childhood Diabetes Prevention and M...",
          "Comorbidity of Depression and Diabetes: A Literature Review ...",
          "GLP-1R agonists demonstrate potential to treat Wolfram syndr...",
          "Tamoxifen Affects Aquaporin-3 Expression and Subcellular Loc...",
          "Diabetes Mellitus Secondary to Endocrine Diseases: An Update...",
          "Developing a Computable Phenotype for Identifying Children, ...",
          "Wearable Electrochemical Glucose Sensors in Diabetes Managem...",
          "Effect of biological variation in HbA1c and blood glucose on...",
          "Reciprocal rescue of Wolfram syndrome by two causative genes...",
          "Diabetes Care And Transgender Health: Clinical Pearls....",
          "Phenotypic and Genetic Diversity in Diabetes Across Populati...",
          "Helping smokers with diabetes quit: A scoping review of the ...",
          "Evaluation of the Oral Bacterial Genome and Metabolites in P...",
          "A scoping review of photovoice for people living with diabet...",
          "TGR5 Activation by Dietary Bioactives and Related Improvemen...",
          "A Research Roadmap to Address the Heterogeneity of Diabetes ...",
          "Metabolomics Characterization of Disease Markers in Diabetes...",
          "Smaller Pancreas Volume in Insulin-Dependent Monogenic Diabe...",
          "Enhancement of taste by retronasal odors in patients with Wo...",
          "Metabolic reprogramming of renal epithelial cells contribute...",
          "[Management of cardiovascular diseases in patients with diab...",
          "Hyperglycemic Crises in Adults With Diabetes: A Consensus Re...",
          "Assessment of left atrioventricular coupling and left atrial...",
          "Pathophysiology of Prediabetes, Diabetes, and Diabetic Remis...",
          "4. Comprehensive Medical Evaluation and Assessment of Comorb...",
          "Understanding Gaps in the Hypertension and Diabetes Care Cas...",
          "Special Issue \"Molecular Therapeutics for Diabetes and Relat...",
          "Neonatal diabetes mellitus around the world: Update 2024....",
          "Efficacy and Safety of Pitavastatin in Patients with Impaire...",
          "Sleep habits in the pathogenesis and management of diabesity...",
          "Pathophysiology and Advances in the Therapy of Cardiomyopath...",
          "Use of Dairy Products in people living with diabetes....",
          "Response to endoplasmic reticulum stress in arginine vasopre...",
          "Recommendations for management of diabetes and its complicat...",
          "[Geriatric aspects for the management of diabetes mellitus (...",
          "2. Diagnosis and Classification of Diabetes: Standards of Ca...",
          "Diabetes: a review of its pathophysiology, and advanced meth...",
          "[Diabetes and migration (update 2023)]....",
          "Peer Support in the Management of Diabetes to Improve Cardio...",
          "Preoperative and Perioperative Management of Diabetics Under...",
          "Arginine vasopressin deficiency: diagnosis, management and t...",
          "Hand-Schüller-Christian syndrome combined with empty sella s...",
          "Diabetes advocacy in the Asia-Pacific region....",
          "The role of the farnesoid X receptor in diabetes and its com...",
          "Birthweight and risk of diabetes in later life....",
          "Arginine-stimulated copeptin in children and adolescents....",
          "Molecular Research on Diabetes....",
          "Genomics of Wolfram Syndrome 1 (WFS1)....",
          "Pathophysiology, diagnosis, and management of immune checkpo...",
          "Supporting women with diabetes experiencing menopause: A wor...",
          "[Diabetes mellitus: definition, classification, diagnosis, s...",
          "[Ecology and therapeutic education for patients with diabete...",
          "A Bibliometric Study from 1992 to 2023 on the Relationship b...",
          "Novel Experimental Dietary Supplementations to Combat Metabo...",
          "Advancing diabetes primary care education and knowledge in N...",
          "[Developing cultural competence for better support]....",
          "Implementing Effective Care Through Utilization of Diabetes-...",
          "Toward Ultrasound Molecular Imaging of Endothelial Dysfuncti...",
          "Clinical characteristics and primary outcomes of patients wi...",
          "[Diabetic kidney disease (update 2023) : Position paper of t...",
          "Oxytocin in response to MDMA provocation test in patients wi...",
          "Comprehensive overview of disease models for Wolfram syndrom...",
          "Prevalence and predictive modeling of undiagnosed diabetes a...",
          "Managing Diabetes in Older Adults: Current Approaches in Lon...",
          "Pregnancy-related hypophysitis revisited....",
          "Glucocorticoid impact therapy for recurrent IgG4-related dis...",
          "The promise of CRISPR/Cas9 technology in diabetes mellitus t...",
          "Increasing diabetes testing adherence with incentives in rur...",
          "A deep phenotyping study in mouse and iPSC models to underst...",
          "Second international consensus report on gaps and opportunit...",
          "The connections of sialic acids and diabetes mellitus: thera...",
          "Diabetes Care in Humanitarian Settings....",
          "Severe hyponatremia and diabetes insipidus caused by low-dos...",
          "Metabolic crosstalk and therapeutic interplay between diabet...",
          "Malnutrition-related diabetes mellitus: Rushing toward \"type...",
          "System Dynamics Modeling for Diabetes Treatment and Preventi...",
          "Pituitary Stalk Stretch Predicts Postoperative Diabetes Insi...",
          "Advances in the treatment of hepatogenous diabetes: A review...",
          "Quality Indicators for Diabetes in Adults: A Review of Perfo...",
          "Machine learning in precision diabetes care and cardiovascul...",
          "β cell dedifferentiation, the underlying mechanism of diabet...",
          "Exploring quality improvement for diabetes care in First Nat...",
          "[Diabetes and women, why are we different?]....",
          "The relationship between diabetes burden and health-related ...",
          "Insights on Improving Health Insurance Literacy in Diabetes....",
          "Iatrogenic endocrine complications of lithium therapy....",
          "Advancing Equity in Diabetes Prevention, Treatment, and Outc...",
          "Continuous glycemic monitoring in managing diabetes in adult...",
          "Racial and Ethnic Disparities in Diabetes Clinical Care and ...",
          "Advancing diabetes surveillance ecosystems: a case study of ...",
          "Central and nephrogenic diabetes insipidus: updates on diagn...",
          "[Diet and diabetes: constantly evolving recommendations]....",
          "Intracranial germ cell tumors: a view of the endocrinologist...",
          "β-cell neogenesis: A rising star to rescue diabetes mellitus...",
          "Discordance Between Clinician and Person-With-Diabetes Perce...",
          "Selective proteasome degradation of C-terminally-truncated h...",
          "Evaluation of the diabetes care cascade and compliance with ...",
          "Exploring new insights in coronary lesion assessment and tre...",
          "Comprehensive Overview of Quality of Life Instruments Used i...",
          "SGLT2 inhibitor use in the management of feline diabetes mel...",
          "MCT1-dependent energetic failure and neuroinflammation under...",
          "4. Comprehensive Medical Evaluation and Assessment of Comorb...",
          "Iatrogenic Cushing syndrome in a child due to erroneous comp...",
          "Direct diabetes-related healthcare expenditures in Slovenia:...",
          "Revolutionizing Diabetes Care: The Role of Marine Bioactive ...",
          "Transient diabetes insipidus in critically ill COVID19 patie...",
          "Clinical Characteristics of Adipsic Diabetes Insipidus....",
          "Etiology and Pathophysiology of Diabetes Mellitus in Dogs....",
          "The Wolfram-like variant WFS1<sup>E864K</sup> destabilizes M...",
          "Structural and functional analysis of aquaporin-2 mutants in...",
          "Barriers and solutions for the management of severe hypoglyc...",
          "New Perspectives and Prospects of microRNA Delivery in Diabe...",
          "[Not Available]....",
          "Wolfram Syndrome 1: A Pediatrician's and Pediatric Endocrino...",
          "ISR inhibition reverses pancreatic β-cell failure in Wolfram...",
          "Pathogenic mechanisms, diagnostic, and therapeutic potential...",
          "Novel Approaches to Control Diabetes....",
          "[Advances in diagnosis and treatment of Wolfram syndrome and...",
          "New developments and concepts in the diagnosis and managemen...",
          "Cell migration in diabetic wound healing: Molecular mechanis...",
          "Environment, Climate, and Diabetes: An International Topic....",
          "A suggested protocol for the endocrine postoperative managem...",
          "[Serum Uric Acid Level and Its Influencing Factors in Patien...",
          "The diabetes patient for ambulatory surgery....",
          "12. Retinopathy, Neuropathy, and Foot Care: Standards of Car...",
          "Managing Diabetes Mellitus in the Emergency Department....",
          "Artificial Intelligence for Predicting and Diagnosing Compli...",
          "Wolfram syndrome 2 gene (CISD2) deficiency disrupts Ca<sup>2...",
          "Treatment with the dual-incretin agonist DA-CH5 demonstrates...",
          "RAGE plays key role in diabetic retinopathy: a review....",
          "Targeting ferroptosis in the neurovascular unit: A promising...",
          "[Diagnosis and treatment strategy of periodontitis with diab...",
          "The influence of a diabetes awareness program on diabetes kn...",
          "A novel <i>AVPR2</i> gene mutation in a Chinese pedigree wit...",
          "Optimal staffing for a good quality inpatient diabetes servi...",
          "HDAC4: an emerging target in diabetes mellitus and diabetic ...",
          "Harnessing plant metabolic pathways for innovative diabetes ...",
          "Nutritional Management of Cats and Dogs with Diabetes Mellit...",
          "Wolfram syndrome type 1: a case series....",
          "Cellular Senescence: A Bridge Between Diabetes and Microangi...",
          "Stereotactic Radiosurgery for Localized Cranial Langerhans C...",
          "An update on chronic complications of diabetes mellitus: fro...",
          "Infectious Disease And Diabetes....",
          "Bringing the assessment and treatment of diabetes distress i...",
          "Aquaporins in Diabetes Insipidus....",
          "Vascular complications of diabetes: A narrative review....",
          "The Value of Medical Nutrition Therapy and Diabetes Self-Man...",
          "Mind Matters: Mental Health and Diabetes Management....",
          "Wfs1<sup>E864K</sup> knock-in mice illuminate the fundamenta...",
          "Characteristics of autosomal dominant WFS1-associated optic ...",
          "Arginine-Stimulated Copeptin-Based Diagnosis of Central Diab...",
          "3. Prevention or Delay of Diabetes and Associated Comorbidit...",
          "Many kinases for controlling the water channel aquaporin-2....",
          "Novel <i>WFS1</i> Variants in Two Moroccan Families with Wol...",
          "Lack of renal NHE1 exacerbates lithium-induced nephrogenic d...",
          "Importance of Intraoperative Factors in Postoperative Argini...",
          "Wolfram Syndrome 1: A Neuropsychiatric Perspective on a Rare...",
          "Tubular Diseases and Stones Seen From Pediatric and Adult Ne...",
          "Surveillance for Diabetes in Hospital-Evaluation of Dashboar...",
          "Chronic Venous Disease and Its Intersections With Diabetes M...",
          "Interventions to address global inequity in diabetes: intern...",
          "Copeptin analysis in endocrine disorders....",
          "[Hospital diabetes management (Update 2023)]....",
          "Clinical features and surgical outcomes of Rathke cleft cyst...",
          "Diagnostic Utility of Copeptin in Pediatric Patients with Po...",
          "Evaluation of Madras Diabetes Research Foundation-Indian Dia...",
          "International expert consensus statement on the diagnosis an...",
          "Artificial Intelligence in Efficient Diabetes Care....",
          "Dopamine D2 receptors in WFS1-neurons regulate food-seeking ...",
          "Evaluation of diabetes care services, data quality, and avai...",
          "Sociodemographic and geographic inequalities in diagnosis an...",
          "Mineralocorticoids induce polyuria by reducing apical aquapo...",
          "Adipose-derived Mesenchymal Stem Cells Therapy as a new Trea...",
          "The progress of clinical research on the detection of 1,5-an...",
          "Dietary flavonoids prevent diabetes through epigenetic regul...",
          "Geriatric Syndromes in Older Adults with Diabetes....",
          "Diabetology and Nanotechnology: A Compelling Combination....",
          "ER calcium depletion as a key driver for impaired ER-to-mito...",
          "Genetic basis of nephrogenic diabetes insipidus....",
          "Pediatric diabetes: management of acute complications in the...",
          "Healing the diabetic wound: Unlocking the secrets of genes a...",
          "A WFS1 variant disrupting acceptor splice site uncovers the ...",
          "<i>Vaccinium</i> as Potential Therapy for Diabetes and Micro...",
          "Endoplasmic reticulum-mitochondria lockdown in Wolfram syndr...",
          "Clinical impacts of frailty on 123,172 people with diabetes ...",
          "Photobiomodulation for diabetes and its complications: a rev...",
          "[Other specific types of diabetes and exocrine pancreatic in...",
          "HBA1C point-of-care testing for diabetes control in a low-in...",
          "Cardiac digital twins: a tool to investigate the function an...",
          "The genetic and clinical characteristics of WFS1 related dia...",
          "Monogenic Defects of Beta Cell Function: From Clinical Suspi...",
          "Artificial intelligence for diabetes care: current and futur...",
          "Delineating Wolfram-like syndrome: A systematic review and d...",
          "Syndrome of inappropriate secretion of antidiuretic hormone ...",
          "Design and Implementation of the Diabetes Impact Project: A ...",
          "Transtheoretical-Based Model of Intervention for Diabetes an...",
          "Diabetes insipidus: Vasopressin deficiency…....",
          "SID/SIEDP expert consensus on optimizing clinical strategies...",
          "Diabetes as a consequence of acute pancreatitis....",
          "Public Policy and Health System Responses to Diabetes Mellit...",
          "Epigenetic regulatory mechanism of macrophage polarization i...",
          "[Evolving skills for people with diabetes]....",
          "2. Diagnosis and Classification of Diabetes: Standards of Ca...",
          "Tackling the challenge of cardiovascular diseases and diabet...",
          "tRNA Fragments in Diabetes Mellitus....",
          "2. Classification and Diagnosis of Diabetes: Standards of Ca...",
          "Management of Type 3c Diabetes in an Elite Tactical Athlete....",
          "Sentiments prediction and thematic analysis for diabetes mob...",
          "The socio-environmental determinants of diabetes and their c...",
          "Early trigeminal and sensory impairment and lysosomal dysfun...",
          "Preoperative considerations for patients with diabetes....",
          "Call to action on diabetes care: reaching communities facing..."
         ],
         "type": "scatter3d",
         "x": {
          "bdata": "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",
          "dtype": "f8"
         },
         "y": {
          "bdata": "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",
          "dtype": "f8"
         },
         "z": {
          "bdata": "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",
          "dtype": "f8"
         }
        },
        {
         "hovertemplate": "<b>Systematic Review</b><br>%{text}<br><extra></extra>",
         "marker": {
          "color": "#2ecc71",
          "line": {
           "color": "white",
           "width": 0.5
          },
          "opacity": 0.8,
          "size": 6
         },
         "mode": "markers",
         "name": "Systematic Review",
         "text": [
          "Gut-associated metabolites and diabetes pathology: a systema...",
          "Knowledge, attitude, and practice toward pre-diabetes among ...",
          "Determinants of and barriers to diabetes care among patients...",
          "Guidelines on the diagnosis and treatment of active Charcot ...",
          "Diagnosis and treatment of active charcot neuro-osteoarthrop...",
          "Xanthogranuloma of the sellar region: a systematic review....",
          "WFS1 autosomal dominant variants linked with hearing loss: u...",
          "What are the perceptions and experiences of adults using mob..."
         ],
         "type": "scatter3d",
         "x": {
          "bdata": "3dlaoO8b7L8X+sv9/EwCwNX9lC3LIvi/thmpkoNy6r9Wa5aH+Q7lv5qa6Z97zfU/sivDp06/CED3J2yFmur3vw==",
          "dtype": "f8"
         },
         "y": {
          "bdata": "CPoHvH3Xi7/s6roOMIPHP9Rw6wQC8d8/y8jFRGHd0z/pJRks/q/iv7v5cbzhMPq/1GyyBVFe/j8dQd/bqufpPw==",
          "dtype": "f8"
         },
         "z": {
          "bdata": "gP6Qyn7L8b8CnqaxaUv0P8vOjMwwf+k/6YeuUILK7T99AGfA0CvgPwmOtv2n+/o/JC42T4kZ3j9kXPxRjp/UPw==",
          "dtype": "f8"
         }
        },
        {
         "hovertemplate": "<b>Cohort Study</b><br>%{text}<br><extra></extra>",
         "marker": {
          "color": "#9b59b6",
          "line": {
           "color": "white",
           "width": 0.5
          },
          "opacity": 0.8,
          "size": 6
         },
         "mode": "markers",
         "name": "Cohort Study",
         "text": [
          "Rural-urban disparities in the diagnosis and treatment of hy...",
          "Diabetes Research Matters: A Three-Round Priority-Setting Su...",
          "Machine learning profiles of cardiovascular risk in patients...",
          "Paediatric Wolfram syndrome Type 1: should gonadal dysfuncti...",
          "Correlation of Pituitary Descent and Diabetes Insipidus Afte...",
          "Posterior hypothalamic involvement on pre-operative MRI pred...",
          "Triphasic response after endoscopic craniopharyngioma resect...",
          "Use of hospital care among Dutch diabetes patients....",
          "The miR-668 binding site variant rs1046322 on <i>WFS1</i> is...",
          "Healthcare cost and survival in patients with non-functionin...",
          "Nuclear translocation of beta catenin in patients with Rathk...",
          "The laboratory investigation of diabetes insipidus: A review...",
          "Insights from a Wolfram syndrome cohort: clinical and molecu...",
          "Modelling diabetes and depression in Pakistan: using economi...",
          "Plasma oxytocin levels in response to glucagon in patients w..."
         ],
         "type": "scatter3d",
         "x": {
          "bdata": "lzdUYf258r8DZsy77tLwvxnYx7MABeO/o3MCGlTrCEDdN5oLOX7mP2zkD48VrO0/KgEmyaNj8j+H+fqxnfP3vy8+8f6E8gJAxJO1kHJQyj/BkqCJ3InxP3+p1gMtXPc/y3TspAb7AkCB2sGBkOj0v/LqY0KGp/M/",
          "dtype": "f8"
         },
         "y": {
          "bdata": "x9XfBkW44L9uOoJ1SSvQP51/UaHl9d8/CMaux/Xy8j88Q6z5QgsEwNUQFfrEo/2/P5klmjGgA8B8GH2XCJ/Sv28FdTjGOgBARpyxRfT5+7/kY3zvQ2v9v88IWHtYHwDApAQqW0oK+z/vX5jLPGjov/SSpI/wpAPA",
          "dtype": "f8"
         },
         "z": {
          "bdata": "CoASGWzR8z/HlcKBJ3D2P5bDiR4g5eo/ICvVg7ko7T8zPqhZtzbrP1T4tx2+BAFARdvunOLc5j+gIC5KmOn7PyR2iDkf9uI/p6W0LfWv+z90MVspFSHhP1cyFjlLLeW/O7OPDfyW9j8/qjhlayrSP7evD6jnD78/",
          "dtype": "f8"
         }
        },
        {
         "hovertemplate": "<b>Case Report</b><br>%{text}<br><extra></extra>",
         "marker": {
          "color": "#f39c12",
          "line": {
           "color": "white",
           "width": 0.5
          },
          "opacity": 0.8,
          "size": 6
         },
         "mode": "markers",
         "name": "Case Report",
         "text": [
          "Idiopathic partial central diabetes insipidus....",
          "Diabetes insipidus related to sedation in the intensive care...",
          "Clinical management and obstetric outcome in WFS1 Wolfram sy...",
          "Bilateral Optic Neuritis and Hypophysitis With Diabetes Insi...",
          "Multiple pituitary hormone deficiencies in a kitten: Hyposom...",
          "Lithium-induced Nephrogenic Diabetes Insipidus with Efficacy...",
          "Pediatric abscessed craniopharyngioma: A case report and rev...",
          "A Pair of Siblings With Wolfram Syndrome: A Review of the Li...",
          "Diabetes insipidus and Guillain-Barré-like syndrome followin...",
          "A novel <i>WFS1</i> variant associated with isolated congeni...",
          "[Wolfram-like syndrome: a case report]....",
          "A Wolfram-like syndrome family: Case report....",
          "Probable Dexmedetomidine Induced Diabetes Insipidus: A Case ...",
          "Necrotizing infundibulo-hypophysitis: case-report and litera...",
          "Autosomal dominant nephrogenic diabetes insipidus in one fam...",
          "Successful Treatment of Lithium-Induced Nephrogenic Diabetes...",
          "Sequential Presentation of Obsessive-Compulsive Disorder and...",
          "Sheehan's syndrome presenting with panhypopituitarism and ce...",
          "A case of central diabetes insipidus after COVID-19 as a pro...",
          "Clinical management of unremitting nephrogenic diabetes insi...",
          "Wolfram Syndrome Type I Case Report and Review-Focus on Earl...",
          "Fanconi syndrome, diabetes insipidus, and acute kidney injur..."
         ],
         "type": "scatter3d",
         "x": {
          "bdata": "VftB5JWC+z8vWkMQsCTnP9ZfnBLTpwdAaCoajDSg8z90zOrcqkX3Pz3tL/eMlP8/dB+kmCwZ8D8sGR+7HVsJQCMzwxOSmOk/jBJuNHDcCEBd4YD6fh0MQL30E0vTowxApXP8UAL38j8EWfVb59fyP+N+elXYtgRAZobAWgzW+D+A1bi1wuoMQJ1OT2OVIPg/PoAlMzaZ+j86S4XFaNDxPwrQ3+x5agZA+3Xk+g2C8z8=",
          "dtype": "f8"
         },
         "y": {
          "bdata": "u97R8qo/+L+Bc+S1ZhX/v7bRGEftwvs/HkcyI69Y/7/5FnxyY1cCwL/pUmFSbvq/T/QEICTp+b+V9ap8OpUBQMZ7PMnwbfO/h+fyrCsH/D8OpJci4z38P71fXXxVQQJAdaMRn4lo/7/llj9IHSr9vxFDe1cHXO6/2knwluRB/L9xpA7roIH4PyG7ky9kkP6/KjkQyBqB/78vMEBtf37zvwKXVxQ0Zfo/YA7g5QIB6L8=",
          "dtype": "f8"
         },
         "z": {
          "bdata": "rQ1TrjtB8L9SYdDJ4MDMv/F1BsYBpPI/bkuhOxU0zz9LPSIlOBqsv47w29B9j/i/tmYLlO4E8T+SZiNUj57jPyb/Fbxy4de/r6tJVwVO3D/zeFQX7nnuP6rBLuL2vO0/Nc0Vs9RTzb++huyshoDhPxNBJQALLOC/Opbt3XLZ8r8HDXMn2MPlP6q9AplZerW/HITJc+UFpz/rlPliPerwvwdsr2VLM/A/7qCE3UkG5b8=",
          "dtype": "f8"
         }
        },
        {
         "hovertemplate": "<b>Cross-Sectional Study</b><br>%{text}<br><extra></extra>",
         "marker": {
          "color": "#34495e",
          "line": {
           "color": "white",
           "width": 0.5
          },
          "opacity": 0.8,
          "size": 6
         },
         "mode": "markers",
         "name": "Cross-Sectional Study",
         "text": [
          "Knowledge, attitude, and practice towards diabetes mellitus ...",
          "The impact of the covid-19 pandemic on diabetes care: the pe...",
          "Artificial intelligence model for early detection of diabete...",
          "Medical costs and health care utilization in Dutch diabetes ...",
          "Association between mental health and self-care behavior amo...",
          "Inequalities in the prevalence, diagnosis awareness, treatme...",
          "Knowledge, attitude, and practice of pre-diabetic older peop...",
          "Status of screening and preventive efforts against diabetic ..."
         ],
         "type": "scatter3d",
         "x": {
          "bdata": "IMxJ/KVn9r/GYzWl/mfvv9kpSlBmUvO/7Iy6V9je8r8CUDaP8bDxvxrsMRb/+/S/eJxpG/419L9kKve0RJrvvw==",
          "dtype": "f8"
         },
         "y": {
          "bdata": "1SsWbbfooT8huYHB+4bnv8JZwNnMB+k/VF6dTt6tu78U4FXlu7PGv9ygrcCCBcq/QCY0ciWS0L+D5q6LOi/XPw==",
          "dtype": "f8"
         },
         "z": {
          "bdata": "lfC5wxkD8D8+Av6AMKTxP8ZEkgAKg8M/E/84eiAS9T+n4cM9Elz9P0a/q3+QMvo/FtOT7tUo/j8S+mTzmmjyPw==",
          "dtype": "f8"
         }
        },
        {
         "hovertemplate": "<b>Meta-Analysis</b><br>%{text}<br><extra></extra>",
         "marker": {
          "color": "#3498db",
          "line": {
           "color": "white",
           "width": 0.5
          },
          "opacity": 0.8,
          "size": 6
         },
         "mode": "markers",
         "name": "Meta-Analysis",
         "text": [
          "Cognitive changes in people with diabetes with lower extremi...",
          "Characteristics and Outcomes in Pediatric Versus Adult Crani...",
          "The worldwide trend in diabetes awareness, treatment, and co...",
          "Prevalence of microvascular complications and associated fac...",
          "Diagnostic Accuracy of Copeptin in the Differential Diagnosi...",
          "Central diabetes insipidus (vasopressin deficiency) after su..."
         ],
         "type": "scatter3d",
         "x": {
          "bdata": "qGNa0/sA8L+Za0MAFi3fP2GuWCAX6f6/Xpr/dXen9L89VFW7JlvsP3IsYVVAa/c/",
          "dtype": "f8"
         },
         "y": {
          "bdata": "dzpbeB5Wor9IJT3niRn7v+QAqw7A7r4/hWE34jMjmr8yA1DQNnUBwEgYuiFu6ATA",
          "dtype": "f8"
         },
         "z": {
          "bdata": "ZlQVrf7a6D+aOgFBILcCQHY8VlsPwfg/X8Dfv8jL6j9V7fno78fpP0O7pc1RXOE/",
          "dtype": "f8"
         }
        },
        {
         "hovertemplate": "<b>Clinical Trial</b><br>%{text}<br><extra></extra>",
         "marker": {
          "color": "#e74c3c",
          "line": {
           "color": "white",
           "width": 0.5
          },
          "opacity": 0.8,
          "size": 6
         },
         "mode": "markers",
         "name": "Clinical Trial",
         "text": [
          "[Research progress in molecular mechanism of acupuncture for...",
          "The effect of multi-component exercise on cognition function...",
          "Is the Current Lifestyle Modification Approach to Diabetes P...",
          "Diabetes and cardiovascular disease in older adults....",
          "Safety of withholding perioperative steroids for patients wi..."
         ],
         "type": "scatter3d",
         "x": {
          "bdata": "9iDOaHeD9b/MF2gMKu/3v1YTG4uQuvm/yXhDkLBq+b9wQRE4OvrfPw==",
          "dtype": "f8"
         },
         "y": {
          "bdata": "IO/HBNHosr+DZA+LFrngPyQVvMaH9eA/Ul5HQTcT5D8pxUw6AJcCwA==",
          "dtype": "f8"
         },
         "z": {
          "bdata": "9TgAFZhc/b/D4CsNzGLaPx/icWatpLy/EtSvoVkA378M3Om/eW7nPw==",
          "dtype": "f8"
         }
        },
        {
         "hoverinfo": "none",
         "line": {
          "color": "navy",
          "width": 8
         },
         "mode": "lines",
         "showlegend": false,
         "type": "scatter3d",
         "x": [
          -10,
          10
         ],
         "y": [
          0,
          0
         ],
         "z": [
          0,
          0
         ]
        },
        {
         "hoverinfo": "none",
         "line": {
          "color": "navy",
          "width": 8
         },
         "mode": "lines",
         "showlegend": false,
         "type": "scatter3d",
         "x": [
          0,
          0
         ],
         "y": [
          -10,
          10
         ],
         "z": [
          0,
          0
         ]
        },
        {
         "hoverinfo": "none",
         "line": {
          "color": "navy",
          "width": 8
         },
         "mode": "lines",
         "showlegend": false,
         "type": "scatter3d",
         "x": [
          0,
          0
         ],
         "y": [
          0,
          0
         ],
         "z": [
          -10,
          10
         ]
        },
        {
         "hoverinfo": "none",
         "line": {
          "color": "navy",
          "width": 6
         },
         "mode": "lines",
         "showlegend": false,
         "type": "scatter3d",
         "x": [
          9.5,
          10,
          9.5
         ],
         "y": [
          -0.5,
          0,
          0.5
         ],
         "z": [
          0,
          0,
          0
         ]
        },
        {
         "hoverinfo": "none",
         "line": {
          "color": "navy",
          "width": 6
         },
         "mode": "lines",
         "showlegend": false,
         "type": "scatter3d",
         "x": [
          -0.5,
          0,
          0.5
         ],
         "y": [
          9.5,
          10,
          9.5
         ],
         "z": [
          0,
          0,
          0
         ]
        },
        {
         "hoverinfo": "none",
         "line": {
          "color": "navy",
          "width": 6
         },
         "mode": "lines",
         "showlegend": false,
         "type": "scatter3d",
         "x": [
          0,
          0,
          0
         ],
         "y": [
          -0.5,
          0,
          0.5
         ],
         "z": [
          9.5,
          10,
          9.5
         ]
        },
        {
         "hoverinfo": "none",
         "mode": "text",
         "showlegend": false,
         "text": [
          "Observational<br>Studies"
         ],
         "textfont": {
          "color": "darkblue",
          "size": 12
         },
         "type": "scatter3d",
         "x": [
          -10.8
         ],
         "y": [
          0
         ],
         "z": [
          2.4000000000000004
         ]
        },
        {
         "hoverinfo": "none",
         "mode": "text",
         "showlegend": false,
         "text": [
          "Clinical<br>Trials"
         ],
         "textfont": {
          "color": "darkblue",
          "size": 12
         },
         "type": "scatter3d",
         "x": [
          10.8
         ],
         "y": [
          0
         ],
         "z": [
          2.4000000000000004
         ]
        },
        {
         "hoverinfo": "none",
         "mode": "text",
         "showlegend": false,
         "text": [
          "Clinical<br>Practice"
         ],
         "textfont": {
          "color": "darkgreen",
          "size": 12
         },
         "type": "scatter3d",
         "x": [
          0
         ],
         "y": [
          -10.8
         ],
         "z": [
          2.4000000000000004
         ]
        },
        {
         "hoverinfo": "none",
         "mode": "text",
         "showlegend": false,
         "text": [
          "Basic<br>Research"
         ],
         "textfont": {
          "color": "darkgreen",
          "size": 12
         },
         "type": "scatter3d",
         "x": [
          0
         ],
         "y": [
          10.8
         ],
         "z": [
          2.4000000000000004
         ]
        },
        {
         "hoverinfo": "none",
         "mode": "text",
         "showlegend": false,
         "text": [
          "Prevention"
         ],
         "textfont": {
          "color": "darkorange",
          "size": 12
         },
         "type": "scatter3d",
         "x": [
          2.4000000000000004
         ],
         "y": [
          0
         ],
         "z": [
          -10.8
         ]
        },
        {
         "hoverinfo": "none",
         "mode": "text",
         "showlegend": false,
         "text": [
          "Complications"
         ],
         "textfont": {
          "color": "darkorange",
          "size": 12
         },
         "type": "scatter3d",
         "x": [
          2.4000000000000004
         ],
         "y": [
          0
         ],
         "z": [
          10.8
         ]
        }
       ],
       "layout": {
        "font": {
         "color": "black",
         "size": 12
        },
        "height": 600,
        "margin": {
         "b": 0,
         "l": 0,
         "r": 0,
         "t": 40
        },
        "paper_bgcolor": "white",
        "plot_bgcolor": "white",
        "scene": {
         "bgcolor": "rgba(240, 240, 240, 0.1)",
         "camera": {
          "eye": {
           "x": 1.5,
           "y": 1.5,
           "z": 1.5
          }
         },
         "xaxis": {
          "gridcolor": "rgba(200, 200, 200, 0.3)",
          "showbackground": false,
          "showgrid": true,
          "showspikes": false,
          "showticklabels": false,
          "title": {
           "text": ""
          }
         },
         "yaxis": {
          "gridcolor": "rgba(200, 200, 200, 0.3)",
          "showbackground": false,
          "showgrid": true,
          "showspikes": false,
          "showticklabels": false,
          "title": {
           "text": ""
          }
         },
         "zaxis": {
          "gridcolor": "rgba(200, 200, 200, 0.3)",
          "showbackground": false,
          "showgrid": true,
          "showspikes": false,
          "showticklabels": false,
          "title": {
           "text": ""
          }
         }
        },
        "template": {
         "data": {
          "bar": [
           {
            "error_x": {
             "color": "#2a3f5f"
            },
            "error_y": {
             "color": "#2a3f5f"
            },
            "marker": {
             "line": {
              "color": "#E5ECF6",
              "width": 0.5
             },
             "pattern": {
              "fillmode": "overlay",
              "size": 10,
              "solidity": 0.2
             }
            },
            "type": "bar"
           }
          ],
          "barpolar": [
           {
            "marker": {
             "line": {
              "color": "#E5ECF6",
              "width": 0.5
             },
             "pattern": {
              "fillmode": "overlay",
              "size": 10,
              "solidity": 0.2
             }
            },
            "type": "barpolar"
           }
          ],
          "carpet": [
           {
            "aaxis": {
             "endlinecolor": "#2a3f5f",
             "gridcolor": "white",
             "linecolor": "white",
             "minorgridcolor": "white",
             "startlinecolor": "#2a3f5f"
            },
            "baxis": {
             "endlinecolor": "#2a3f5f",
             "gridcolor": "white",
             "linecolor": "white",
             "minorgridcolor": "white",
             "startlinecolor": "#2a3f5f"
            },
            "type": "carpet"
           }
          ],
          "choropleth": [
           {
            "colorbar": {
             "outlinewidth": 0,
             "ticks": ""
            },
            "type": "choropleth"
           }
          ],
          "contour": [
           {
            "colorbar": {
             "outlinewidth": 0,
             "ticks": ""
            },
            "colorscale": [
             [
              0,
              "#0d0887"
             ],
             [
              0.1111111111111111,
              "#46039f"
             ],
             [
              0.2222222222222222,
              "#7201a8"
             ],
             [
              0.3333333333333333,
              "#9c179e"
             ],
             [
              0.4444444444444444,
              "#bd3786"
             ],
             [
              0.5555555555555556,
              "#d8576b"
             ],
             [
              0.6666666666666666,
              "#ed7953"
             ],
             [
              0.7777777777777778,
              "#fb9f3a"
             ],
             [
              0.8888888888888888,
              "#fdca26"
             ],
             [
              1,
              "#f0f921"
             ]
            ],
            "type": "contour"
           }
          ],
          "contourcarpet": [
           {
            "colorbar": {
             "outlinewidth": 0,
             "ticks": ""
            },
            "type": "contourcarpet"
           }
          ],
          "heatmap": [
           {
            "colorbar": {
             "outlinewidth": 0,
             "ticks": ""
            },
            "colorscale": [
             [
              0,
              "#0d0887"
             ],
             [
              0.1111111111111111,
              "#46039f"
             ],
             [
              0.2222222222222222,
              "#7201a8"
             ],
             [
              0.3333333333333333,
              "#9c179e"
             ],
             [
              0.4444444444444444,
              "#bd3786"
             ],
             [
              0.5555555555555556,
              "#d8576b"
             ],
             [
              0.6666666666666666,
              "#ed7953"
             ],
             [
              0.7777777777777778,
              "#fb9f3a"
             ],
             [
              0.8888888888888888,
              "#fdca26"
             ],
             [
              1,
              "#f0f921"
             ]
            ],
            "type": "heatmap"
           }
          ],
          "histogram": [
           {
            "marker": {
             "pattern": {
              "fillmode": "overlay",
              "size": 10,
              "solidity": 0.2
             }
            },
            "type": "histogram"
           }
          ],
          "histogram2d": [
           {
            "colorbar": {
             "outlinewidth": 0,
             "ticks": ""
            },
            "colorscale": [
             [
              0,
              "#0d0887"
             ],
             [
              0.1111111111111111,
              "#46039f"
             ],
             [
              0.2222222222222222,
              "#7201a8"
             ],
             [
              0.3333333333333333,
              "#9c179e"
             ],
             [
              0.4444444444444444,
              "#bd3786"
             ],
             [
              0.5555555555555556,
              "#d8576b"
             ],
             [
              0.6666666666666666,
              "#ed7953"
             ],
             [
              0.7777777777777778,
              "#fb9f3a"
             ],
             [
              0.8888888888888888,
              "#fdca26"
             ],
             [
              1,
              "#f0f921"
             ]
            ],
            "type": "histogram2d"
           }
          ],
          "histogram2dcontour": [
           {
            "colorbar": {
             "outlinewidth": 0,
             "ticks": ""
            },
            "colorscale": [
             [
              0,
              "#0d0887"
             ],
             [
              0.1111111111111111,
              "#46039f"
             ],
             [
              0.2222222222222222,
              "#7201a8"
             ],
             [
              0.3333333333333333,
              "#9c179e"
             ],
             [
              0.4444444444444444,
              "#bd3786"
             ],
             [
              0.5555555555555556,
              "#d8576b"
             ],
             [
              0.6666666666666666,
              "#ed7953"
             ],
             [
              0.7777777777777778,
              "#fb9f3a"
             ],
             [
              0.8888888888888888,
              "#fdca26"
             ],
             [
              1,
              "#f0f921"
             ]
            ],
            "type": "histogram2dcontour"
           }
          ],
          "mesh3d": [
           {
            "colorbar": {
             "outlinewidth": 0,
             "ticks": ""
            },
            "type": "mesh3d"
           }
          ],
          "parcoords": [
           {
            "line": {
             "colorbar": {
              "outlinewidth": 0,
              "ticks": ""
             }
            },
            "type": "parcoords"
           }
          ],
          "pie": [
           {
            "automargin": true,
            "type": "pie"
           }
          ],
          "scatter": [
           {
            "fillpattern": {
             "fillmode": "overlay",
             "size": 10,
             "solidity": 0.2
            },
            "type": "scatter"
           }
          ],
          "scatter3d": [
           {
            "line": {
             "colorbar": {
              "outlinewidth": 0,
              "ticks": ""
             }
            },
            "marker": {
             "colorbar": {
              "outlinewidth": 0,
              "ticks": ""
             }
            },
            "type": "scatter3d"
           }
          ],
          "scattercarpet": [
           {
            "marker": {
             "colorbar": {
              "outlinewidth": 0,
              "ticks": ""
             }
            },
            "type": "scattercarpet"
           }
          ],
          "scattergeo": [
           {
            "marker": {
             "colorbar": {
              "outlinewidth": 0,
              "ticks": ""
             }
            },
            "type": "scattergeo"
           }
          ],
          "scattergl": [
           {
            "marker": {
             "colorbar": {
              "outlinewidth": 0,
              "ticks": ""
             }
            },
            "type": "scattergl"
           }
          ],
          "scattermap": [
           {
            "marker": {
             "colorbar": {
              "outlinewidth": 0,
              "ticks": ""
             }
            },
            "type": "scattermap"
           }
          ],
          "scattermapbox": [
           {
            "marker": {
             "colorbar": {
              "outlinewidth": 0,
              "ticks": ""
             }
            },
            "type": "scattermapbox"
           }
          ],
          "scatterpolar": [
           {
            "marker": {
             "colorbar": {
              "outlinewidth": 0,
              "ticks": ""
             }
            },
            "type": "scatterpolar"
           }
          ],
          "scatterpolargl": [
           {
            "marker": {
             "colorbar": {
              "outlinewidth": 0,
              "ticks": ""
             }
            },
            "type": "scatterpolargl"
           }
          ],
          "scatterternary": [
           {
            "marker": {
             "colorbar": {
              "outlinewidth": 0,
              "ticks": ""
             }
            },
            "type": "scatterternary"
           }
          ],
          "surface": [
           {
            "colorbar": {
             "outlinewidth": 0,
             "ticks": ""
            },
            "colorscale": [
             [
              0,
              "#0d0887"
             ],
             [
              0.1111111111111111,
              "#46039f"
             ],
             [
              0.2222222222222222,
              "#7201a8"
             ],
             [
              0.3333333333333333,
              "#9c179e"
             ],
             [
              0.4444444444444444,
              "#bd3786"
             ],
             [
              0.5555555555555556,
              "#d8576b"
             ],
             [
              0.6666666666666666,
              "#ed7953"
             ],
             [
              0.7777777777777778,
              "#fb9f3a"
             ],
             [
              0.8888888888888888,
              "#fdca26"
             ],
             [
              1,
              "#f0f921"
             ]
            ],
            "type": "surface"
           }
          ],
          "table": [
           {
            "cells": {
             "fill": {
              "color": "#EBF0F8"
             },
             "line": {
              "color": "white"
             }
            },
            "header": {
             "fill": {
              "color": "#C8D4E3"
             },
             "line": {
              "color": "white"
             }
            },
            "type": "table"
           }
          ]
         },
         "layout": {
          "annotationdefaults": {
           "arrowcolor": "#2a3f5f",
           "arrowhead": 0,
           "arrowwidth": 1
          },
          "autotypenumbers": "strict",
          "coloraxis": {
           "colorbar": {
            "outlinewidth": 0,
            "ticks": ""
           }
          },
          "colorscale": {
           "diverging": [
            [
             0,
             "#8e0152"
            ],
            [
             0.1,
             "#c51b7d"
            ],
            [
             0.2,
             "#de77ae"
            ],
            [
             0.3,
             "#f1b6da"
            ],
            [
             0.4,
             "#fde0ef"
            ],
            [
             0.5,
             "#f7f7f7"
            ],
            [
             0.6,
             "#e6f5d0"
            ],
            [
             0.7,
             "#b8e186"
            ],
            [
             0.8,
             "#7fbc41"
            ],
            [
             0.9,
             "#4d9221"
            ],
            [
             1,
             "#276419"
            ]
           ],
           "sequential": [
            [
             0,
             "#0d0887"
            ],
            [
             0.1111111111111111,
             "#46039f"
            ],
            [
             0.2222222222222222,
             "#7201a8"
            ],
            [
             0.3333333333333333,
             "#9c179e"
            ],
            [
             0.4444444444444444,
             "#bd3786"
            ],
            [
             0.5555555555555556,
             "#d8576b"
            ],
            [
             0.6666666666666666,
             "#ed7953"
            ],
            [
             0.7777777777777778,
             "#fb9f3a"
            ],
            [
             0.8888888888888888,
             "#fdca26"
            ],
            [
             1,
             "#f0f921"
            ]
           ],
           "sequentialminus": [
            [
             0,
             "#0d0887"
            ],
            [
             0.1111111111111111,
             "#46039f"
            ],
            [
             0.2222222222222222,
             "#7201a8"
            ],
            [
             0.3333333333333333,
             "#9c179e"
            ],
            [
             0.4444444444444444,
             "#bd3786"
            ],
            [
             0.5555555555555556,
             "#d8576b"
            ],
            [
             0.6666666666666666,
             "#ed7953"
            ],
            [
             0.7777777777777778,
             "#fb9f3a"
            ],
            [
             0.8888888888888888,
             "#fdca26"
            ],
            [
             1,
             "#f0f921"
            ]
           ]
          },
          "colorway": [
           "#636efa",
           "#EF553B",
           "#00cc96",
           "#ab63fa",
           "#FFA15A",
           "#19d3f3",
           "#FF6692",
           "#B6E880",
           "#FF97FF",
           "#FECB52"
          ],
          "font": {
           "color": "#2a3f5f"
          },
          "geo": {
           "bgcolor": "white",
           "lakecolor": "white",
           "landcolor": "#E5ECF6",
           "showlakes": true,
           "showland": true,
           "subunitcolor": "white"
          },
          "hoverlabel": {
           "align": "left"
          },
          "hovermode": "closest",
          "mapbox": {
           "style": "light"
          },
          "paper_bgcolor": "white",
          "plot_bgcolor": "#E5ECF6",
          "polar": {
           "angularaxis": {
            "gridcolor": "white",
            "linecolor": "white",
            "ticks": ""
           },
           "bgcolor": "#E5ECF6",
           "radialaxis": {
            "gridcolor": "white",
            "linecolor": "white",
            "ticks": ""
           }
          },
          "scene": {
           "xaxis": {
            "backgroundcolor": "#E5ECF6",
            "gridcolor": "white",
            "gridwidth": 2,
            "linecolor": "white",
            "showbackground": true,
            "ticks": "",
            "zerolinecolor": "white"
           },
           "yaxis": {
            "backgroundcolor": "#E5ECF6",
            "gridcolor": "white",
            "gridwidth": 2,
            "linecolor": "white",
            "showbackground": true,
            "ticks": "",
            "zerolinecolor": "white"
           },
           "zaxis": {
            "backgroundcolor": "#E5ECF6",
            "gridcolor": "white",
            "gridwidth": 2,
            "linecolor": "white",
            "showbackground": true,
            "ticks": "",
            "zerolinecolor": "white"
           }
          },
          "shapedefaults": {
           "line": {
            "color": "#2a3f5f"
           }
          },
          "ternary": {
           "aaxis": {
            "gridcolor": "white",
            "linecolor": "white",
            "ticks": ""
           },
           "baxis": {
            "gridcolor": "white",
            "linecolor": "white",
            "ticks": ""
           },
           "bgcolor": "#E5ECF6",
           "caxis": {
            "gridcolor": "white",
            "linecolor": "white",
            "ticks": ""
           }
          },
          "title": {
           "x": 0.05
          },
          "xaxis": {
           "automargin": true,
           "gridcolor": "white",
           "linecolor": "white",
           "ticks": "",
           "title": {
            "standoff": 15
           },
           "zerolinecolor": "white",
           "zerolinewidth": 2
          },
          "yaxis": {
           "automargin": true,
           "gridcolor": "white",
           "linecolor": "white",
           "ticks": "",
           "title": {
            "standoff": 15
           },
           "zerolinecolor": "white",
           "zerolinewidth": 2
          }
         }
        },
        "title": {
         "text": "Medical Research Vector Space<br><sub>X: Study Type | Y: Research Setting | Z: Disease Complexity</sub>"
        },
        "width": 800
       }
      }
     },
     "metadata": {},
     "output_type": "display_data"
    },
    {
     "name": "stdout",
     "output_type": "stream",
     "text": [
      "💾 Saved labeled version: medical_research_3d_labeled.html\n",
      "\n",
      "📊 AXIS CORRELATION ANALYSIS:\n",
      "==================================================\n",
      "\n",
      "📅 Publication Year Correlations:\n",
      "   X-axis: -0.170\n",
      "   Y-axis: 0.216\n",
      "   Z-axis: -0.190\n",
      "\n",
      "📈 Citation Count Correlations:\n",
      "   X-axis: nan\n",
      "   Y-axis: nan\n",
      "   Z-axis: nan\n",
      "\n",
      "📋 Study Type Distribution by Axis:\n",
      "\n",
      "X-Axis:\n",
      "   Cross-Sectional Study: -1.18\n",
      "   Clinical Trial: -1.11\n",
      "   Systematic Review: -0.40\n",
      "   Meta-Analysis: -0.23\n",
      "   Observational Study: -0.15\n",
      "   Cohort Study: 0.60\n",
      "   Case Report: 1.98\n",
      "\n",
      "Y-Axis:\n",
      "   Meta-Analysis: -1.07\n",
      "   Cohort Study: -0.72\n",
      "   Case Report: -0.53\n",
      "   Clinical Trial: -0.14\n",
      "   Cross-Sectional Study: -0.04\n",
      "   Observational Study: 0.13\n",
      "   Systematic Review: 0.18\n",
      "\n",
      "Z-Axis:\n",
      "   Clinical Trial: -0.26\n",
      "   Observational Study: -0.16\n",
      "   Case Report: 0.04\n",
      "   Systematic Review: 0.61\n",
      "   Cohort Study: 0.92\n",
      "   Meta-Analysis: 1.14\n",
      "   Cross-Sectional Study: 1.26\n"
     ]
    },
    {
     "name": "stderr",
     "output_type": "stream",
     "text": [
      "/opt/homebrew/Caskroom/miniconda/base/envs/agents/lib/python3.11/site-packages/numpy/lib/_function_base_impl.py:3045: RuntimeWarning:\n",
      "\n",
      "invalid value encountered in divide\n",
      "\n",
      "/opt/homebrew/Caskroom/miniconda/base/envs/agents/lib/python3.11/site-packages/numpy/lib/_function_base_impl.py:3046: RuntimeWarning:\n",
      "\n",
      "invalid value encountered in divide\n",
      "\n"
     ]
    }
   ],
   "source": [
    "\n",
    "import numpy as np\n",
    "import pandas as pd\n",
    "\n",
    "def analyze_axis_meanings(df, coords_3d, n_extreme=10):\n",
    "    \"\"\"\n",
    "    Analyze what each axis represents by looking at extreme papers\n",
    "    \"\"\"\n",
    "    df_with_coords = df.copy()\n",
    "    df_with_coords['x'] = coords_3d[:, 0]\n",
    "    df_with_coords['y'] = coords_3d[:, 1] \n",
    "    df_with_coords['z'] = coords_3d[:, 2]\n",
    "    \n",
    "    print(\"🔍 AXIS INTERPRETATION ANALYSIS\")\n",
    "    print(\"=\" * 60)\n",
    "    \n",
    "    # X-AXIS ANALYSIS\n",
    "    print(f\"\\n📍 X-AXIS ANALYSIS:\")\n",
    "    print(f\"{'='*40}\")\n",
    "    \n",
    "    # Left extreme (most negative X)\n",
    "    left_extreme = df_with_coords.nsmallest(n_extreme, 'x')\n",
    "    print(f\"\\n⬅️  LEFT EXTREME (X < {left_extreme['x'].max():.2f}):\")\n",
    "    print(\"Study Types:\", left_extreme['study_type'].value_counts().to_dict())\n",
    "    print(\"Sample Titles:\")\n",
    "    for title in left_extreme['title'].head(3):\n",
    "        print(f\"   • {title}\")\n",
    "    \n",
    "    # Right extreme (most positive X)\n",
    "    right_extreme = df_with_coords.nlargest(n_extreme, 'x')\n",
    "    print(f\"\\n➡️  RIGHT EXTREME (X > {right_extreme['x'].min():.2f}):\")\n",
    "    print(\"Study Types:\", right_extreme['study_type'].value_counts().to_dict())\n",
    "    print(\"Sample Titles:\")\n",
    "    for title in right_extreme['title'].head(3):\n",
    "        print(f\"   • {title}\")\n",
    "    \n",
    "    # Y-AXIS ANALYSIS\n",
    "    print(f\"\\n📍 Y-AXIS ANALYSIS:\")\n",
    "    print(f\"{'='*40}\")\n",
    "    \n",
    "    # Front extreme (most negative Y)\n",
    "    front_extreme = df_with_coords.nsmallest(n_extreme, 'y')\n",
    "    print(f\"\\n⬇️  FRONT EXTREME (Y < {front_extreme['y'].max():.2f}):\")\n",
    "    print(\"Study Types:\", front_extreme['study_type'].value_counts().to_dict())\n",
    "    print(\"Sample Titles:\")\n",
    "    for title in front_extreme['title'].head(3):\n",
    "        print(f\"   • {title}\")\n",
    "    \n",
    "    # Back extreme (most positive Y)\n",
    "    back_extreme = df_with_coords.nlargest(n_extreme, 'y')\n",
    "    print(f\"\\n⬆️  BACK EXTREME (Y > {back_extreme['y'].min():.2f}):\")\n",
    "    print(\"Study Types:\", back_extreme['study_type'].value_counts().to_dict())\n",
    "    print(\"Sample Titles:\")\n",
    "    for title in back_extreme['title'].head(3):\n",
    "        print(f\"   • {title}\")\n",
    "    \n",
    "    # Z-AXIS ANALYSIS\n",
    "    print(f\"\\n📍 Z-AXIS ANALYSIS:\")\n",
    "    print(f\"{'='*40}\")\n",
    "    \n",
    "    # Bottom extreme (most negative Z)\n",
    "    bottom_extreme = df_with_coords.nsmallest(n_extreme, 'z')\n",
    "    print(f\"\\n⬇️  BOTTOM EXTREME (Z < {bottom_extreme['z'].max():.2f}):\")\n",
    "    print(\"Study Types:\", bottom_extreme['study_type'].value_counts().to_dict())\n",
    "    print(\"Sample Titles:\")\n",
    "    for title in bottom_extreme['title'].head(3):\n",
    "        print(f\"   • {title}\")\n",
    "    \n",
    "    # Top extreme (most positive Z)\n",
    "    top_extreme = df_with_coords.nlargest(n_extreme, 'z')\n",
    "    print(f\"\\n⬆️  TOP EXTREME (Z > {top_extreme['z'].min():.2f}):\")\n",
    "    print(\"Study Types:\", top_extreme['study_type'].value_counts().to_dict())\n",
    "    print(\"Sample Titles:\")\n",
    "    for title in top_extreme['title'].head(3):\n",
    "        print(f\"   • {title}\")\n",
    "    \n",
    "    return df_with_coords\n",
    "\n",
    "def create_axis_labeled_plot(df, coords_3d):\n",
    "    \"\"\"\n",
    "    Create a plot with axis interpretations labeled\n",
    "    \"\"\"\n",
    "    import plotly.graph_objects as go\n",
    "    \n",
    "    # Analyze extremes first\n",
    "    df_analyzed = analyze_axis_meanings(df, coords_3d)\n",
    "    \n",
    "    # Create base plot (use your existing function)\n",
    "    fig = create_simple_3d_plot(df, coords_3d, color_by='study_type')\n",
    "    \n",
    "    # Add axis labels based on analysis\n",
    "    axis_range = max(abs(coords_3d).max() * 1.3, 12)\n",
    "    \n",
    "    # X-axis labels\n",
    "    fig.add_trace(go.Scatter3d(\n",
    "        x=[-axis_range * 0.9], y=[0], z=[axis_range * 0.2],\n",
    "        mode='text',\n",
    "        text=['Observational<br>Studies'],\n",
    "        textfont=dict(size=12, color='darkblue'),\n",
    "        showlegend=False,\n",
    "        hoverinfo='none'\n",
    "    ))\n",
    "    \n",
    "    fig.add_trace(go.Scatter3d(\n",
    "        x=[axis_range * 0.9], y=[0], z=[axis_range * 0.2],\n",
    "        mode='text',\n",
    "        text=['Clinical<br>Trials'],\n",
    "        textfont=dict(size=12, color='darkblue'),\n",
    "        showlegend=False,\n",
    "        hoverinfo='none'\n",
    "    ))\n",
    "    \n",
    "    # Y-axis labels\n",
    "    fig.add_trace(go.Scatter3d(\n",
    "        x=[0], y=[-axis_range * 0.9], z=[axis_range * 0.2],\n",
    "        mode='text',\n",
    "        text=['Clinical<br>Practice'],\n",
    "        textfont=dict(size=12, color='darkgreen'),\n",
    "        showlegend=False,\n",
    "        hoverinfo='none'\n",
    "    ))\n",
    "    \n",
    "    fig.add_trace(go.Scatter3d(\n",
    "        x=[0], y=[axis_range * 0.9], z=[axis_range * 0.2],\n",
    "        mode='text',\n",
    "        text=['Basic<br>Research'],\n",
    "        textfont=dict(size=12, color='darkgreen'),\n",
    "        showlegend=False,\n",
    "        hoverinfo='none'\n",
    "    ))\n",
    "    \n",
    "    # Z-axis labels\n",
    "    fig.add_trace(go.Scatter3d(\n",
    "        x=[axis_range * 0.2], y=[0], z=[-axis_range * 0.9],\n",
    "        mode='text',\n",
    "        text=['Prevention'],\n",
    "        textfont=dict(size=12, color='darkorange'),\n",
    "        showlegend=False,\n",
    "        hoverinfo='none'\n",
    "    ))\n",
    "    \n",
    "    fig.add_trace(go.Scatter3d(\n",
    "        x=[axis_range * 0.2], y=[0], z=[axis_range * 0.9],\n",
    "        mode='text',\n",
    "        text=['Complications'],\n",
    "        textfont=dict(size=12, color='darkorange'),\n",
    "        showlegend=False,\n",
    "        hoverinfo='none'\n",
    "    ))\n",
    "    \n",
    "    # Update title\n",
    "    fig.update_layout(\n",
    "        title='Medical Research Vector Space<br><sub>X: Study Type | Y: Research Setting | Z: Disease Complexity</sub>'\n",
    "    )\n",
    "    \n",
    "    return fig\n",
    "\n",
    "df_with_coords = analyze_axis_meanings(df, coords_3d, n_extreme=15)\n",
    "\n",
    "fig_labeled = create_axis_labeled_plot(df, coords_3d)\n",
    "fig_labeled.show()\n",
    "\n",
    "fig_labeled.write_html(\"medical_research_3d_labeled.html\")\n",
    "print(\"💾 Saved labeled version: medical_research_3d_labeled.html\")\n",
    "\n",
    "\n",
    "def analyze_axis_correlations(df_with_coords):\n",
    "    \"\"\"\n",
    "    Check which features correlate with each axis\n",
    "    \"\"\"\n",
    "    print(f\"\\n📊 AXIS CORRELATION ANALYSIS:\")\n",
    "    print(f\"{'='*50}\")\n",
    "    \n",
    "    # Correlation with year\n",
    "    x_year_corr = df_with_coords['x'].corr(df_with_coords['year'])\n",
    "    y_year_corr = df_with_coords['y'].corr(df_with_coords['year'])\n",
    "    z_year_corr = df_with_coords['z'].corr(df_with_coords['year'])\n",
    "    \n",
    "    print(f\"\\n📅 Publication Year Correlations:\")\n",
    "    print(f\"   X-axis: {x_year_corr:.3f}\")\n",
    "    print(f\"   Y-axis: {y_year_corr:.3f}\")\n",
    "    print(f\"   Z-axis: {z_year_corr:.3f}\")\n",
    "    \n",
    "    # Correlation with citations\n",
    "    x_cit_corr = df_with_coords['x'].corr(df_with_coords['citations'])\n",
    "    y_cit_corr = df_with_coords['y'].corr(df_with_coords['citations'])\n",
    "    z_cit_corr = df_with_coords['z'].corr(df_with_coords['citations'])\n",
    "    \n",
    "    print(f\"\\n📈 Citation Count Correlations:\")\n",
    "    print(f\"   X-axis: {x_cit_corr:.3f}\")\n",
    "    print(f\"   Y-axis: {y_cit_corr:.3f}\")  \n",
    "    print(f\"   Z-axis: {z_cit_corr:.3f}\")\n",
    "    \n",
    "    # Study type distribution along each axis\n",
    "    print(f\"\\n📋 Study Type Distribution by Axis:\")\n",
    "    for axis in ['x', 'y', 'z']:\n",
    "        print(f\"\\n{axis.upper()}-Axis:\")\n",
    "        axis_study_corr = df_with_coords.groupby('study_type')[axis].mean().sort_values()\n",
    "        for study_type, mean_pos in axis_study_corr.items():\n",
    "            print(f\"   {study_type}: {mean_pos:.2f}\")\n",
    "\n",
    "# Run correlation analysis\n",
    "analyze_axis_correlations(df_with_coords)"
   ]
  },
  {
   "cell_type": "code",
   "execution_count": null,
   "id": "ae796609",
   "metadata": {},
   "outputs": [
    {
     "name": "stdout",
     "output_type": "stream",
     "text": [
      "🔍 Running detailed axis interpretation...\n",
      "🔍 DETAILED PATIENT AXIS INTERPRETATION\n",
      "======================================================================\n",
      "\n",
      "📍 X-AXIS: Disease Control & Management\n",
      "==================================================\n",
      "\n",
      "⬅️  LEFT EXTREME (X < -1.19):\n",
      "   🎯 HbA1c Control:\n",
      "      • Average HbA1c: 10.5%\n",
      "      • Well controlled (<7%): 0/25 (0.0%)\n",
      "   💊 Treatment:\n",
      "      • Average adherence: 77.1%\n",
      "      • Excellent response: 11/25\n",
      "   📊 Stability:\n",
      "      • Average hospitalizations: 0.5\n",
      "      • Average complications: 2.1\n",
      "\n",
      "➡️  RIGHT EXTREME (X > 0.96):\n",
      "   🎯 HbA1c Control:\n",
      "      • Average HbA1c: 6.2%\n",
      "      • Poorly controlled (>9%): 0/25 (0.0%)\n",
      "   💊 Treatment:\n",
      "      • Average adherence: 80.3%\n",
      "      • Poor response: 1/25\n",
      "   📊 Stability:\n",
      "      • Average hospitalizations: 0.2\n",
      "      • Average complications: 0.3\n",
      "\n",
      "📍 Y-AXIS: Disease Duration & Progression\n",
      "==================================================\n",
      "\n",
      "⬇️  FRONT EXTREME (Y < -1.15):\n",
      "   ⏰ Disease Timeline:\n",
      "      • Average age: 50.6 years\n",
      "      • Average years with diabetes: 5.0\n",
      "      • Newly diagnosed (<2 years): 11/25\n",
      "   🔬 Disease State:\n",
      "      • Type 1 diabetes: 23/25\n",
      "      • Average complications: 1.2\n",
      "      • Simple complexity: 14/25\n",
      "\n",
      "⬆️  BACK EXTREME (Y > 0.90):\n",
      "   ⏰ Disease Timeline:\n",
      "      • Average age: 57.5 years\n",
      "      • Average years with diabetes: 4.6\n",
      "      • Long-standing (>10 years): 2/25\n",
      "   🔬 Disease State:\n",
      "      • Type 2 diabetes: 25/25\n",
      "      • Average complications: 0.8\n",
      "      • Complex cases: 1/25\n",
      "\n",
      "📍 Z-AXIS: Clinical Complexity & Comorbidity Burden\n",
      "==================================================\n",
      "\n",
      "⬇️  BOTTOM EXTREME (Z < -0.97):\n",
      "   🏥 Healthcare Utilization:\n",
      "      • Average hospitalizations: 0.2\n",
      "      • Zero hospitalizations: 21/25\n",
      "   🔗 Disease Burden:\n",
      "      • Average comorbidities: 0.8\n",
      "      • Average complications: 0.7\n",
      "      • Low risk category: 11/25\n",
      "   💰 Social Factors:\n",
      "      • Average SES score: 5.5/10\n",
      "      • Private insurance: 12/25\n",
      "\n",
      "⬆️  TOP EXTREME (Z > 0.78):\n",
      "   🏥 Healthcare Utilization:\n",
      "      • Average hospitalizations: 0.1\n",
      "      • Multiple hospitalizations (>2): 0/25\n",
      "   🔗 Disease Burden:\n",
      "      • Average comorbidities: 1.8\n",
      "      • Average complications: 1.0\n",
      "      • High/Very High risk: 4/25\n",
      "   💰 Social Factors:\n",
      "      • Average SES score: 5.5/10\n",
      "      • Medicaid/Uninsured: 8/25\n",
      "\n",
      "📊 AXIS CORRELATION ANALYSIS\n",
      "==================================================\n",
      "\n",
      "Variable             X-Axis       Y-Axis       Z-Axis      \n",
      "-------------------- ------------ ------------ ------------\n",
      "Current HbA1c        -0.710       -0.175       +0.127      \n",
      "HbA1c Change         -0.125       -0.103       +0.027      \n",
      "Years with Diabetes  -0.050       +0.000       +0.045      \n",
      "Age                  -0.008       +0.105       +0.065      \n",
      "Complications        -0.265       -0.094       +0.094      \n",
      "Comorbidities        +0.053       +0.144       +0.187      \n",
      "Hospitalizations     -0.119       -0.071       +0.074      \n",
      "Medication Adherence +0.008       +0.036       -0.071      \n",
      "CV Risk Score        +0.011       +0.087       +0.043      \n",
      "Kidney Risk          -0.034       -0.088       +0.027      \n",
      "BMI                  -0.143       +0.188       -0.101      \n",
      "Socioeconomic Score  +0.052       +0.020       +0.053      \n",
      "\n",
      "🎯 STRONGEST CORRELATIONS:\n",
      "\n",
      "X (Control):\n",
      "   1. Current HbA1c: 0.710\n",
      "   2. Complications: 0.265\n",
      "   3. BMI: 0.143\n",
      "\n",
      "Y (Progression):\n",
      "   1. BMI: 0.188\n",
      "   2. Current HbA1c: 0.175\n",
      "   3. Comorbidities: 0.144\n",
      "\n",
      "Z (Complexity):\n",
      "   1. Comorbidities: 0.187\n",
      "   2. Current HbA1c: 0.127\n",
      "   3. BMI: 0.101\n",
      "\n",
      "🎨 Creating labeled patient visualization...\n"
     ]
    },
    {
     "data": {
      "application/vnd.plotly.v1+json": {
       "config": {
        "plotlyServerURL": "https://plot.ly"
       },
       "data": [
        {
         "hovertemplate": "%{text}<extra></extra>",
         "marker": {
          "color": "#e74c3c",
          "line": {
           "color": "white",
           "width": 0.5
          },
          "opacity": 0.8,
          "size": {
           "bdata": "AAAAAAAAHEAAAAAAAAAcQAAAAAAAABBAAAAAAAAAFkAAAAAAAAAWQAAAAAAAABBAAAAAAAAAIUAAAAAAAAAQQAAAAAAAABBAAAAAAAAAHEAAAAAAAAAcQAAAAAAAACRAAAAAAAAAFkAAAAAAAAAQQAAAAAAAABxAAAAAAAAAEEAAAAAAAAAWQAAAAAAAABBAAAAAAAAAFkAAAAAAAAAhQAAAAAAAABxAAAAAAAAAEEAAAAAAAAAQQAAAAAAAABBAAAAAAAAAIUAAAAAAAAAkQAAAAAAAABxAAAAAAAAAFkAAAAAAAAAhQAAAAAAAABZAAAAAAAAAFkAAAAAAAAAQQAAAAAAAABBAAAAAAAAAIUAAAAAAAAAhQAAAAAAAABBAAAAAAAAAIUAAAAAAAAAcQAAAAAAAABxAAAAAAAAAEEAAAAAAAAAhQAAAAAAAABBAAAAAAAAAEEAAAAAAAAAQQAAAAAAAABBAAAAAAAAAFkAAAAAAAAAWQAAAAAAAABxAAAAAAAAAFkAAAAAAAAAWQAAAAAAAACFAAAAAAAAAFkAAAAAAAAAhQAAAAAAAABxAAAAAAAAAHEAAAAAAAAAQQAAAAAAAABZAAAAAAAAAFkAAAAAAAAAQQAAAAAAAACRAAAAAAAAAHEAAAAAAAAAcQAAAAAAAABBAAAAAAAAAIUAAAAAAAAAkQAAAAAAAABBAAAAAAAAAEEAAAAAAAAAkQAAAAAAAACFAAAAAAAAAFkAAAAAAAAAcQAAAAAAAABBAAAAAAAAAHEAAAAAAAAAQQAAAAAAAABZAAAAAAAAAFkAAAAAAAAAWQAAAAAAAACRAAAAAAAAAEEAAAAAAAAAWQAAAAAAAABBAAAAAAAAAFkAAAAAAAAAcQAAAAAAAABBAAAAAAAAAFkAAAAAAAAAhQAAAAAAAABZAAAAAAAAAFkAAAAAAAAAcQAAAAAAAABZAAAAAAAAAFkA=",
           "dtype": "f8"
          }
         },
         "mode": "markers",
         "name": "Poorly Controlled",
         "text": [
          "<b>Patient P000475</b><br>Age: 44, Female<br>Diabetes: Type 2<br>HbA1c: 8.4% (Δ -1.0%)<br>BMI: 44.8<br>Complications: 2<br>Comorbidities: 3<br>Treatment: Good<br>Risk: Moderate Risk<br>Years with DM: 2.5",
          "<b>Patient P000202</b><br>Age: 35, Male<br>Diabetes: Type 2<br>HbA1c: 8.5% (Δ -1.9%)<br>BMI: 29.8<br>Complications: 2<br>Comorbidities: 3<br>Treatment: Excellent<br>Risk: Moderate Risk<br>Years with DM: 3.0",
          "<b>Patient P000467</b><br>Age: 27, Male<br>Diabetes: Type 2<br>HbA1c: 8.6% (Δ -0.7%)<br>BMI: 27.0<br>Complications: 0<br>Comorbidities: 4<br>Treatment: Good<br>Risk: Moderate Risk<br>Years with DM: 2.8",
          "<b>Patient P000185</b><br>Age: 39, Male<br>Diabetes: Type 2<br>HbA1c: 8.4% (Δ -1.2%)<br>BMI: 26.6<br>Complications: 1<br>Comorbidities: 1<br>Treatment: Good<br>Risk: Moderate Risk<br>Years with DM: 2.5",
          "<b>Patient P000305</b><br>Age: 48, Female<br>Diabetes: Type 2<br>HbA1c: 8.4% (Δ -2.2%)<br>BMI: 29.9<br>Complications: 1<br>Comorbidities: 2<br>Treatment: Excellent<br>Risk: Moderate Risk<br>Years with DM: 5.3",
          "<b>Patient P000382</b><br>Age: 59, Female<br>Diabetes: Type 2<br>HbA1c: 8.1% (Δ -0.9%)<br>BMI: 31.0<br>Complications: 0<br>Comorbidities: 1<br>Treatment: Good<br>Risk: Moderate Risk<br>Years with DM: 3.0",
          "<b>Patient P000021</b><br>Age: 81, Female<br>Diabetes: Type 1<br>HbA1c: 8.7% (Δ -1.4%)<br>BMI: 23.5<br>Complications: 3<br>Comorbidities: 3<br>Treatment: Good<br>Risk: Very High Risk<br>Years with DM: 15.2",
          "<b>Patient P000207</b><br>Age: 39, Female<br>Diabetes: Type 2<br>HbA1c: 8.1% (Δ -0.9%)<br>BMI: 30.0<br>Complications: 0<br>Comorbidities: 2<br>Treatment: Good<br>Risk: Low Risk<br>Years with DM: 0.1",
          "<b>Patient P000463</b><br>Age: 66, Female<br>Diabetes: Type 2<br>HbA1c: 8.2% (Δ -0.9%)<br>BMI: 22.8<br>Complications: 0<br>Comorbidities: 0<br>Treatment: Good<br>Risk: Moderate Risk<br>Years with DM: 7.2",
          "<b>Patient P000448</b><br>Age: 60, Male<br>Diabetes: Type 2<br>HbA1c: 8.0% (Δ -1.5%)<br>BMI: 24.7<br>Complications: 2<br>Comorbidities: 3<br>Treatment: Good<br>Risk: Moderate Risk<br>Years with DM: 1.1",
          "<b>Patient P000314</b><br>Age: 41, Female<br>Diabetes: Type 2<br>HbA1c: 8.5% (Δ -0.3%)<br>BMI: 33.0<br>Complications: 2<br>Comorbidities: 3<br>Treatment: Moderate<br>Risk: Moderate Risk<br>Years with DM: 3.2",
          "<b>Patient P000012</b><br>Age: 61, Female<br>Diabetes: Type 2<br>HbA1c: 8.3% (Δ -1.4%)<br>BMI: 33.0<br>Complications: 4<br>Comorbidities: 1<br>Treatment: Good<br>Risk: High Risk<br>Years with DM: 9.9",
          "<b>Patient P000072</b><br>Age: 59, Female<br>Diabetes: Type 2<br>HbA1c: 8.2% (Δ -1.3%)<br>BMI: 25.4<br>Complications: 1<br>Comorbidities: 1<br>Treatment: Good<br>Risk: Moderate Risk<br>Years with DM: 5.0",
          "<b>Patient P000064</b><br>Age: 76, Female<br>Diabetes: Type 2<br>HbA1c: 8.7% (Δ -0.7%)<br>BMI: 41.4<br>Complications: 0<br>Comorbidities: 0<br>Treatment: Good<br>Risk: Moderate Risk<br>Years with DM: 2.5",
          "<b>Patient P000120</b><br>Age: 56, Female<br>Diabetes: Type 2<br>HbA1c: 8.8% (Δ -3.2%)<br>BMI: 38.0<br>Complications: 2<br>Comorbidities: 4<br>Treatment: Excellent<br>Risk: Very High Risk<br>Years with DM: 14.6",
          "<b>Patient P000378</b><br>Age: 50, Male<br>Diabetes: Type 2<br>HbA1c: 8.0% (Δ -2.8%)<br>BMI: 32.2<br>Complications: 0<br>Comorbidities: 1<br>Treatment: Excellent<br>Risk: High Risk<br>Years with DM: 11.1",
          "<b>Patient P000485</b><br>Age: 43, Male<br>Diabetes: Type 2<br>HbA1c: 8.2% (Δ -0.7%)<br>BMI: 33.6<br>Complications: 1<br>Comorbidities: 2<br>Treatment: Good<br>Risk: Moderate Risk<br>Years with DM: 5.8",
          "<b>Patient P000102</b><br>Age: 57, Female<br>Diabetes: Type 1<br>HbA1c: 8.7% (Δ -1.5%)<br>BMI: 32.2<br>Complications: 0<br>Comorbidities: 4<br>Treatment: Excellent<br>Risk: Moderate Risk<br>Years with DM: 1.9",
          "<b>Patient P000114</b><br>Age: 49, Male<br>Diabetes: Type 2<br>HbA1c: 8.7% (Δ -1.6%)<br>BMI: 28.9<br>Complications: 1<br>Comorbidities: 1<br>Treatment: Excellent<br>Risk: Moderate Risk<br>Years with DM: 1.5",
          "<b>Patient P000045</b><br>Age: 47, Female<br>Diabetes: Type 2<br>HbA1c: 8.4% (Δ -1.2%)<br>BMI: 33.2<br>Complications: 3<br>Comorbidities: 0<br>Treatment: Good<br>Risk: Moderate Risk<br>Years with DM: 5.1",
          "<b>Patient P000241</b><br>Age: 88, Female<br>Diabetes: Type 2<br>HbA1c: 8.9% (Δ -2.6%)<br>BMI: 30.4<br>Complications: 2<br>Comorbidities: 5<br>Treatment: Excellent<br>Risk: Moderate Risk<br>Years with DM: 1.0",
          "<b>Patient P000285</b><br>Age: 56, Male<br>Diabetes: Type 2<br>HbA1c: 8.8% (Δ -1.4%)<br>BMI: 40.1<br>Complications: 0<br>Comorbidities: 1<br>Treatment: Good<br>Risk: Moderate Risk<br>Years with DM: 3.2",
          "<b>Patient P000196</b><br>Age: 63, Male<br>Diabetes: Type 2<br>HbA1c: 8.0% (Δ -1.2%)<br>BMI: 30.9<br>Complications: 0<br>Comorbidities: 3<br>Treatment: Good<br>Risk: Moderate Risk<br>Years with DM: 1.3",
          "<b>Patient P000051</b><br>Age: 70, Male<br>Diabetes: Type 2<br>HbA1c: 8.4% (Δ -0.5%)<br>BMI: 28.3<br>Complications: 0<br>Comorbidities: 3<br>Treatment: Moderate<br>Risk: Moderate Risk<br>Years with DM: 0.9",
          "<b>Patient P000376</b><br>Age: 59, Female<br>Diabetes: Type 2<br>HbA1c: 8.1% (Δ +1.1%)<br>BMI: 33.4<br>Complications: 3<br>Comorbidities: 2<br>Treatment: Poor<br>Risk: High Risk<br>Years with DM: 12.5",
          "<b>Patient P000388</b><br>Age: 84, Female<br>Diabetes: Type 2<br>HbA1c: 8.3% (Δ -0.7%)<br>BMI: 23.5<br>Complications: 4<br>Comorbidities: 4<br>Treatment: Good<br>Risk: Very High Risk<br>Years with DM: 14.5",
          "<b>Patient P000222</b><br>Age: 68, Female<br>Diabetes: Type 1<br>HbA1c: 8.4% (Δ -1.3%)<br>BMI: 18.3<br>Complications: 2<br>Comorbidities: 1<br>Treatment: Good<br>Risk: Very High Risk<br>Years with DM: 15.9",
          "<b>Patient P000156</b><br>Age: 33, Male<br>Diabetes: Type 2<br>HbA1c: 8.0% (Δ -0.8%)<br>BMI: 30.3<br>Complications: 1<br>Comorbidities: 0<br>Treatment: Good<br>Risk: Low Risk<br>Years with DM: 0.4",
          "<b>Patient P000267</b><br>Age: 63, Female<br>Diabetes: Type 2<br>HbA1c: 8.6% (Δ -1.6%)<br>BMI: 35.4<br>Complications: 3<br>Comorbidities: 4<br>Treatment: Excellent<br>Risk: High Risk<br>Years with DM: 9.0",
          "<b>Patient P000389</b><br>Age: 42, Female<br>Diabetes: Type 2<br>HbA1c: 8.6% (Δ -1.0%)<br>BMI: 29.6<br>Complications: 1<br>Comorbidities: 2<br>Treatment: Good<br>Risk: Moderate Risk<br>Years with DM: 1.0",
          "<b>Patient P000325</b><br>Age: 52, Male<br>Diabetes: Type 2<br>HbA1c: 8.7% (Δ -0.9%)<br>BMI: 28.4<br>Complications: 1<br>Comorbidities: 2<br>Treatment: Good<br>Risk: High Risk<br>Years with DM: 5.2",
          "<b>Patient P000025</b><br>Age: 54, Male<br>Diabetes: Type 2<br>HbA1c: 8.0% (Δ -0.8%)<br>BMI: 33.5<br>Complications: 0<br>Comorbidities: 0<br>Treatment: Good<br>Risk: Moderate Risk<br>Years with DM: 1.8",
          "<b>Patient P000315</b><br>Age: 27, Male<br>Diabetes: Type 2<br>HbA1c: 8.5% (Δ +0.2%)<br>BMI: 29.0<br>Complications: 0<br>Comorbidities: 2<br>Treatment: Moderate<br>Risk: Moderate Risk<br>Years with DM: 6.2",
          "<b>Patient P000275</b><br>Age: 60, Female<br>Diabetes: Type 2<br>HbA1c: 8.0% (Δ -1.0%)<br>BMI: 33.7<br>Complications: 3<br>Comorbidities: 2<br>Treatment: Good<br>Risk: High Risk<br>Years with DM: 13.5",
          "<b>Patient P000446</b><br>Age: 86, Male<br>Diabetes: Type 2<br>HbA1c: 8.2% (Δ -2.4%)<br>BMI: 30.6<br>Complications: 3<br>Comorbidities: 2<br>Treatment: Excellent<br>Risk: High Risk<br>Years with DM: 10.3",
          "<b>Patient P000029</b><br>Age: 53, Female<br>Diabetes: Type 2<br>HbA1c: 8.1% (Δ -0.8%)<br>BMI: 32.9<br>Complications: 0<br>Comorbidities: 4<br>Treatment: Good<br>Risk: Moderate Risk<br>Years with DM: 0.0",
          "<b>Patient P000407</b><br>Age: 67, Male<br>Diabetes: Type 2<br>HbA1c: 8.8% (Δ -2.3%)<br>BMI: 29.6<br>Complications: 3<br>Comorbidities: 2<br>Treatment: Excellent<br>Risk: High Risk<br>Years with DM: 6.2",
          "<b>Patient P000229</b><br>Age: 48, Male<br>Diabetes: Type 2<br>HbA1c: 8.0% (Δ -1.4%)<br>BMI: 35.1<br>Complications: 2<br>Comorbidities: 0<br>Treatment: Good<br>Risk: High Risk<br>Years with DM: 10.0",
          "<b>Patient P000265</b><br>Age: 73, Female<br>Diabetes: Type 2<br>HbA1c: 8.9% (Δ -1.2%)<br>BMI: 33.1<br>Complications: 2<br>Comorbidities: 3<br>Treatment: Good<br>Risk: Moderate Risk<br>Years with DM: 3.1",
          "<b>Patient P000394</b><br>Age: 59, Female<br>Diabetes: Type 2<br>HbA1c: 8.6% (Δ -1.8%)<br>BMI: 39.5<br>Complications: 0<br>Comorbidities: 4<br>Treatment: Excellent<br>Risk: Moderate Risk<br>Years with DM: 0.1",
          "<b>Patient P000095</b><br>Age: 67, Female<br>Diabetes: Type 1<br>HbA1c: 8.8% (Δ -0.7%)<br>BMI: 21.8<br>Complications: 3<br>Comorbidities: 2<br>Treatment: Good<br>Risk: Moderate Risk<br>Years with DM: 2.7",
          "<b>Patient P000421</b><br>Age: 43, Male<br>Diabetes: Type 2<br>HbA1c: 8.1% (Δ -1.7%)<br>BMI: 37.3<br>Complications: 0<br>Comorbidities: 1<br>Treatment: Excellent<br>Risk: Moderate Risk<br>Years with DM: 5.4",
          "<b>Patient P000281</b><br>Age: 62, Male<br>Diabetes: Type 2<br>HbA1c: 8.5% (Δ -1.9%)<br>BMI: 27.7<br>Complications: 0<br>Comorbidities: 1<br>Treatment: Excellent<br>Risk: Moderate Risk<br>Years with DM: 0.5",
          "<b>Patient P000410</b><br>Age: 50, Female<br>Diabetes: Type 2<br>HbA1c: 8.2% (Δ -2.0%)<br>BMI: 31.3<br>Complications: 0<br>Comorbidities: 1<br>Treatment: Excellent<br>Risk: Low Risk<br>Years with DM: 1.1",
          "<b>Patient P000200</b><br>Age: 40, Female<br>Diabetes: Type 2<br>HbA1c: 8.0% (Δ -2.8%)<br>BMI: 28.5<br>Complications: 0<br>Comorbidities: 0<br>Treatment: Excellent<br>Risk: Moderate Risk<br>Years with DM: 9.8",
          "<b>Patient P000076</b><br>Age: 65, Female<br>Diabetes: Type 2<br>HbA1c: 8.5% (Δ -1.8%)<br>BMI: 29.5<br>Complications: 1<br>Comorbidities: 1<br>Treatment: Excellent<br>Risk: Moderate Risk<br>Years with DM: 0.8",
          "<b>Patient P000299</b><br>Age: 54, Male<br>Diabetes: Type 2<br>HbA1c: 8.3% (Δ -2.0%)<br>BMI: 30.5<br>Complications: 1<br>Comorbidities: 1<br>Treatment: Excellent<br>Risk: Moderate Risk<br>Years with DM: 2.2",
          "<b>Patient P000157</b><br>Age: 53, Female<br>Diabetes: Type 2<br>HbA1c: 8.5% (Δ +0.0%)<br>BMI: 27.7<br>Complications: 2<br>Comorbidities: 1<br>Treatment: Moderate<br>Risk: Moderate Risk<br>Years with DM: 1.1",
          "<b>Patient P000474</b><br>Age: 52, Female<br>Diabetes: Type 2<br>HbA1c: 8.9% (Δ -1.9%)<br>BMI: 41.4<br>Complications: 1<br>Comorbidities: 2<br>Treatment: Excellent<br>Risk: Moderate Risk<br>Years with DM: 1.6",
          "<b>Patient P000498</b><br>Age: 87, Female<br>Diabetes: Type 2<br>HbA1c: 8.6% (Δ -1.7%)<br>BMI: 38.2<br>Complications: 1<br>Comorbidities: 3<br>Treatment: Excellent<br>Risk: Moderate Risk<br>Years with DM: 4.9",
          "<b>Patient P000437</b><br>Age: 52, Female<br>Diabetes: Type 2<br>HbA1c: 8.6% (Δ +0.7%)<br>BMI: 22.9<br>Complications: 3<br>Comorbidities: 5<br>Treatment: Poor<br>Risk: High Risk<br>Years with DM: 11.4",
          "<b>Patient P000250</b><br>Age: 78, Female<br>Diabetes: Type 2<br>HbA1c: 8.4% (Δ -1.2%)<br>BMI: 37.0<br>Complications: 1<br>Comorbidities: 0<br>Treatment: Good<br>Risk: Moderate Risk<br>Years with DM: 3.5",
          "<b>Patient P000482</b><br>Age: 54, Female<br>Diabetes: Type 2<br>HbA1c: 8.3% (Δ -2.2%)<br>BMI: 23.1<br>Complications: 3<br>Comorbidities: 3<br>Treatment: Excellent<br>Risk: High Risk<br>Years with DM: 10.3",
          "<b>Patient P000168</b><br>Age: 33, Male<br>Diabetes: Type 2<br>HbA1c: 8.6% (Δ -0.7%)<br>BMI: 24.8<br>Complications: 2<br>Comorbidities: 1<br>Treatment: Good<br>Risk: Moderate Risk<br>Years with DM: 2.3",
          "<b>Patient P000224</b><br>Age: 69, Male<br>Diabetes: Type 2<br>HbA1c: 8.3% (Δ -1.3%)<br>BMI: 29.4<br>Complications: 2<br>Comorbidities: 3<br>Treatment: Good<br>Risk: High Risk<br>Years with DM: 7.5",
          "<b>Patient P000480</b><br>Age: 38, Male<br>Diabetes: Type 2<br>HbA1c: 8.5% (Δ +0.1%)<br>BMI: 30.8<br>Complications: 0<br>Comorbidities: 0<br>Treatment: Moderate<br>Risk: Low Risk<br>Years with DM: 0.8",
          "<b>Patient P000055</b><br>Age: 68, Female<br>Diabetes: Type 2<br>HbA1c: 8.1% (Δ -1.2%)<br>BMI: 36.6<br>Complications: 1<br>Comorbidities: 4<br>Treatment: Good<br>Risk: Moderate Risk<br>Years with DM: 5.3",
          "<b>Patient P000336</b><br>Age: 38, Male<br>Diabetes: Type 1<br>HbA1c: 8.6% (Δ -0.8%)<br>BMI: 24.5<br>Complications: 1<br>Comorbidities: 3<br>Treatment: Good<br>Risk: High Risk<br>Years with DM: 16.1",
          "<b>Patient P000399</b><br>Age: 70, Female<br>Diabetes: Type 2<br>HbA1c: 8.3% (Δ -1.9%)<br>BMI: 22.3<br>Complications: 0<br>Comorbidities: 0<br>Treatment: Excellent<br>Risk: High Risk<br>Years with DM: 7.6",
          "<b>Patient P000483</b><br>Age: 57, Female<br>Diabetes: Type 2<br>HbA1c: 8.9% (Δ -3.1%)<br>BMI: 27.8<br>Complications: 4<br>Comorbidities: 0<br>Treatment: Excellent<br>Risk: Very High Risk<br>Years with DM: 19.9",
          "<b>Patient P000268</b><br>Age: 95, Female<br>Diabetes: Type 2<br>HbA1c: 8.5% (Δ -2.4%)<br>BMI: 25.6<br>Complications: 2<br>Comorbidities: 4<br>Treatment: Excellent<br>Risk: High Risk<br>Years with DM: 7.1",
          "<b>Patient P000151</b><br>Age: 29, Female<br>Diabetes: Type 2<br>HbA1c: 8.0% (Δ -0.9%)<br>BMI: 29.9<br>Complications: 2<br>Comorbidities: 2<br>Treatment: Good<br>Risk: Moderate Risk<br>Years with DM: 7.4",
          "<b>Patient P000071</b><br>Age: 60, Male<br>Diabetes: Type 2<br>HbA1c: 8.6% (Δ -2.7%)<br>BMI: 30.1<br>Complications: 0<br>Comorbidities: 2<br>Treatment: Excellent<br>Risk: Moderate Risk<br>Years with DM: 4.8",
          "<b>Patient P000073</b><br>Age: 60, Male<br>Diabetes: Type 2<br>HbA1c: 8.3% (Δ -0.5%)<br>BMI: 27.1<br>Complications: 3<br>Comorbidities: 1<br>Treatment: Moderate<br>Risk: High Risk<br>Years with DM: 11.1",
          "<b>Patient P000159</b><br>Age: 75, Male<br>Diabetes: Type 2<br>HbA1c: 8.1% (Δ -1.3%)<br>BMI: 18.0<br>Complications: 4<br>Comorbidities: 2<br>Treatment: Good<br>Risk: Moderate Risk<br>Years with DM: 1.2",
          "<b>Patient P000179</b><br>Age: 39, Male<br>Diabetes: Type 1<br>HbA1c: 8.4% (Δ +0.2%)<br>BMI: 26.2<br>Complications: 0<br>Comorbidities: 3<br>Treatment: Moderate<br>Risk: Moderate Risk<br>Years with DM: 1.6",
          "<b>Patient P000462</b><br>Age: 18, Male<br>Diabetes: Type 2<br>HbA1c: 8.2% (Δ -1.0%)<br>BMI: 29.6<br>Complications: 0<br>Comorbidities: 3<br>Treatment: Good<br>Risk: Moderate Risk<br>Years with DM: 4.3",
          "<b>Patient P000011</b><br>Age: 42, Male<br>Diabetes: Type 2<br>HbA1c: 8.1% (Δ -3.0%)<br>BMI: 30.0<br>Complications: 4<br>Comorbidities: 4<br>Treatment: Excellent<br>Risk: Moderate Risk<br>Years with DM: 4.8",
          "<b>Patient P000496</b><br>Age: 54, Female<br>Diabetes: Type 2<br>HbA1c: 8.5% (Δ +0.5%)<br>BMI: 29.6<br>Complications: 3<br>Comorbidities: 3<br>Treatment: Moderate<br>Risk: High Risk<br>Years with DM: 12.5",
          "<b>Patient P000158</b><br>Age: 62, Female<br>Diabetes: Type 2<br>HbA1c: 8.8% (Δ -1.6%)<br>BMI: 32.8<br>Complications: 1<br>Comorbidities: 2<br>Treatment: Excellent<br>Risk: Moderate Risk<br>Years with DM: 5.6",
          "<b>Patient P000450</b><br>Age: 59, Female<br>Diabetes: Type 2<br>HbA1c: 8.8% (Δ -1.0%)<br>BMI: 35.2<br>Complications: 2<br>Comorbidities: 0<br>Treatment: Good<br>Risk: Very High Risk<br>Years with DM: 21.3",
          "<b>Patient P000490</b><br>Age: 58, Female<br>Diabetes: Type 2<br>HbA1c: 8.2% (Δ -1.5%)<br>BMI: 31.4<br>Complications: 0<br>Comorbidities: 0<br>Treatment: Good<br>Risk: Moderate Risk<br>Years with DM: 3.7",
          "<b>Patient P000117</b><br>Age: 60, Female<br>Diabetes: Type 2<br>HbA1c: 8.1% (Δ +0.3%)<br>BMI: 31.4<br>Complications: 2<br>Comorbidities: 4<br>Treatment: Moderate<br>Risk: High Risk<br>Years with DM: 11.9",
          "<b>Patient P000249</b><br>Age: 54, Female<br>Diabetes: Type 2<br>HbA1c: 8.9% (Δ -2.3%)<br>BMI: 25.1<br>Complications: 0<br>Comorbidities: 2<br>Treatment: Excellent<br>Risk: Moderate Risk<br>Years with DM: 1.5",
          "<b>Patient P000403</b><br>Age: 25, Female<br>Diabetes: Type 2<br>HbA1c: 8.3% (Δ -1.5%)<br>BMI: 33.4<br>Complications: 1<br>Comorbidities: 0<br>Treatment: Excellent<br>Risk: Moderate Risk<br>Years with DM: 3.9",
          "<b>Patient P000432</b><br>Age: 62, Male<br>Diabetes: Type 2<br>HbA1c: 8.1% (Δ -3.4%)<br>BMI: 29.7<br>Complications: 1<br>Comorbidities: 1<br>Treatment: Excellent<br>Risk: Moderate Risk<br>Years with DM: 0.3",
          "<b>Patient P000466</b><br>Age: 40, Male<br>Diabetes: Type 2<br>HbA1c: 8.5% (Δ -1.2%)<br>BMI: 29.2<br>Complications: 1<br>Comorbidities: 3<br>Treatment: Good<br>Risk: High Risk<br>Years with DM: 11.6",
          "<b>Patient P000163</b><br>Age: 53, Male<br>Diabetes: Type 2<br>HbA1c: 8.0% (Δ -0.9%)<br>BMI: 29.9<br>Complications: 4<br>Comorbidities: 0<br>Treatment: Good<br>Risk: High Risk<br>Years with DM: 10.8",
          "<b>Patient P000434</b><br>Age: 58, Male<br>Diabetes: Type 2<br>HbA1c: 8.0% (Δ -1.2%)<br>BMI: 27.8<br>Complications: 0<br>Comorbidities: 1<br>Treatment: Good<br>Risk: Moderate Risk<br>Years with DM: 3.6",
          "<b>Patient P000005</b><br>Age: 48, Female<br>Diabetes: Type 2<br>HbA1c: 8.4% (Δ -1.9%)<br>BMI: 39.9<br>Complications: 1<br>Comorbidities: 1<br>Treatment: Excellent<br>Risk: Moderate Risk<br>Years with DM: 1.9",
          "<b>Patient P000238</b><br>Age: 62, Female<br>Diabetes: Type 2<br>HbA1c: 8.8% (Δ -1.0%)<br>BMI: 25.4<br>Complications: 0<br>Comorbidities: 4<br>Treatment: Good<br>Risk: Moderate Risk<br>Years with DM: 2.4",
          "<b>Patient P000086</b><br>Age: 67, Female<br>Diabetes: Type 2<br>HbA1c: 8.5% (Δ -1.5%)<br>BMI: 36.0<br>Complications: 1<br>Comorbidities: 4<br>Treatment: Excellent<br>Risk: Moderate Risk<br>Years with DM: 3.1",
          "<b>Patient P000468</b><br>Age: 77, Male<br>Diabetes: Type 2<br>HbA1c: 8.9% (Δ -0.6%)<br>BMI: 30.7<br>Complications: 2<br>Comorbidities: 5<br>Treatment: Good<br>Risk: Moderate Risk<br>Years with DM: 1.9",
          "<b>Patient P000234</b><br>Age: 64, Female<br>Diabetes: Type 2<br>HbA1c: 8.1% (Δ -0.3%)<br>BMI: 29.3<br>Complications: 0<br>Comorbidities: 2<br>Treatment: Moderate<br>Risk: Low Risk<br>Years with DM: 0.4",
          "<b>Patient P000186</b><br>Age: 49, Male<br>Diabetes: Type 2<br>HbA1c: 8.2% (Δ -1.1%)<br>BMI: 26.8<br>Complications: 1<br>Comorbidities: 1<br>Treatment: Good<br>Risk: Moderate Risk<br>Years with DM: 4.4",
          "<b>Patient P000239</b><br>Age: 72, Female<br>Diabetes: Type 2<br>HbA1c: 8.1% (Δ -1.2%)<br>BMI: 27.9<br>Complications: 3<br>Comorbidities: 2<br>Treatment: Good<br>Risk: High Risk<br>Years with DM: 10.7",
          "<b>Patient P000017</b><br>Age: 50, Female<br>Diabetes: Type 2<br>HbA1c: 8.8% (Δ -2.2%)<br>BMI: 31.9<br>Complications: 1<br>Comorbidities: 1<br>Treatment: Excellent<br>Risk: High Risk<br>Years with DM: 9.9",
          "<b>Patient P000144</b><br>Age: 26, Male<br>Diabetes: Type 1<br>HbA1c: 8.0% (Δ -0.8%)<br>BMI: 28.7<br>Complications: 1<br>Comorbidities: 0<br>Treatment: Good<br>Risk: Moderate Risk<br>Years with DM: 3.2",
          "<b>Patient P000119</b><br>Age: 65, Female<br>Diabetes: Type 2<br>HbA1c: 8.8% (Δ -1.3%)<br>BMI: 23.2<br>Complications: 2<br>Comorbidities: 5<br>Treatment: Good<br>Risk: Moderate Risk<br>Years with DM: 6.2",
          "<b>Patient P000195</b><br>Age: 43, Female<br>Diabetes: Type 2<br>HbA1c: 8.1% (Δ -2.9%)<br>BMI: 24.1<br>Complications: 1<br>Comorbidities: 0<br>Treatment: Excellent<br>Risk: Moderate Risk<br>Years with DM: 6.3",
          "<b>Patient P000107</b><br>Age: 74, Male<br>Diabetes: Type 2<br>HbA1c: 8.5% (Δ -0.7%)<br>BMI: 35.8<br>Complications: 1<br>Comorbidities: 3<br>Treatment: Good<br>Risk: Moderate Risk<br>Years with DM: 1.6"
         ],
         "type": "scatter3d",
         "x": {
          "bdata": "jWwgkdK19L97KGPFTlbev2S3M7u5eus/lKe7+soq2L/FTGKZZ/Hpv/2WSJwkk+e/kukmfpOQ0z/3DLY5m5bbP7vcSSQH3Oi/3h+g+Rhvyb+DsxEoH2DaP7z7KSLDYaM/CNfTO6y78b89lHPmN1XXvy8RxA+eHPC/QO1pNGMr0T+jKBODkbDlP5r8tpZbbeg/wIbcJTT4xr9x7iNsO1jqv0prU9LnH7I/En1b+5lE8r+vIUihMxzjPxyP8JJ3nde/iSGmgxqS4L/VDUzNraHOP5KaNmRcDOA//cmqaKsw2r+2vqOjOYbdv/HOor8OQOq/giyWXFol5T+X1WbOs53pPwm/rBezApe/UWiS/XEc079SiQxjvf3Wv4e2miqE6Nu/ZM3NPNOW5b8++2vSoA7iPzJUZd9B5LO/jVWbqZg/8r8/GV9y13zaP+AhBDJ8j+4/nc3mKJCW7b+CmlwIQ7vhvwadTsxy0ee/RHfWktiU3L+mQAQ0zxjjv/cHZwvZPdy/sLY3VNSB5L+mZhe+GtTmv5LQRgzKG+i/E7xIpUPMuD9jFwLIFM/gv9jr+HOhle6/zO1vvLbQrL95NJvlT+zgP5dB7tuzQ5Y/PBDL3vSf0z/6fa/2qTnyv8yQTOjC1+C/+FKm+khO2r+rzCTm2VLdvweBog5jgeO/b3QE+zhK6r+LWNf26J2ePwGJd0lJhbw/OTe4ak4izb+neFcraJ3RP0W9VwiteOG/x5KclZpA6b+egrPQWD3xv0IzFfX0J9+/5xip4Cxp0r8UoM311+PuvxIthW8K3OS/Kx3tgKy39b8sHfoNW5Lov/rLpAnmmfC/z1Jjj1KGyD8OurEsQf/gv5cVzFFGzGY/I38+57iE2j+bh0qD/pPnv7wCsrNkMZ2/bKWxbsFoyz/Z2DgUA4rhPwdSL74krPG/esRUpnub3z/ZgigbKIPXP36fHQxNEee/ybg1VckJxb8=",
          "dtype": "f8"
         },
         "y": {
          "bdata": "84lL1zo04z8hgh7NewatP+pXskY2E80/rQOYFH7g5z/fmTHZVCnYP4x+Zb5CzNo/bZwYTcTU87/gARyRx3F2P4Uj5DzWNrk/v+YncqCR5T+RmIJ7qGjJvz940vW4wuK/9G63h33Rwj9a4VcyBUylv/8Z8hGWCcQ/4GDO8K5j5z8eyTGcTObdP8Bg4ySHqPC/YtMVQ0dz1T96X4Z9FmHNv78mDr5Grtw/zhPTA9MQ0T8AbaDsHb7xP/loi3YW/fM/XCCwUk+M4j9kg5xpC0fKP7vkgjjLYPK/NA5JRMlY47+rlOytALDjP80kfrc7Puo/74fxPhxF5D8bVMZkOdLEP8yWQU4GlZg/jsgEuuo01D/qIrRXVeTnP9RqKDNu5c2/AXEnhuXF0j8vPVuJKZTCP2PYl3zLxtU/nM9QuGF2z79C6WcvCEv0vwKZd49rrqI/sEuqNgHr3j+gGjbOGirsPyB0KvMv8eE/zLyvtaL11T/9jFVA85fyP8e1TK5mgtW/tN1pB0qVyT+kbC01uKTZP1/zS3kzJZI/t/FFhrjJ4T+uit2jNd/XP7+OVjbFNci/gka9LTks2T+zwa+f1YSmvxaNRKVoCL8/tfcPZFV3778J88kO9qazvw6C1/wnDdy/u3rFBxFx1z9eoyNg2xbyPyco0salhPU/cARWOat/sL+95m5tDe/Qvxw0VCAO0fO/v68Go6Qu2T/bGxhp+6LHP8Vnn2ns392/p850+wMN7j8BY+MpsMXiPwAzrmq5I+U/vZVHBKhK1D+7H6QETCHZP2pd423j3sy/5b7ZG2b/2D8nY8z3iEVmv7RdjyFfjrE/M1zhMVkz3j9zbf49fBLhP0eGD4Qu/cw/4e0xBqznqz8adjmKpILpP78Dld9yMuk/cNkkGSN48T9YRkCCMI9JP1CA1PaBQMw/W7ryLpMq+r/FS+o1V47Avw0/1TdhwYa/j2c6nPx35z8=",
          "dtype": "f8"
         },
         "z": {
          "bdata": "M/kj8DBs3D9Vv9+i1C7Cv32A/VRZGd+/ajIz+mp/6b/cccqhspS/P4IKn8Muysi/Rh5UjqE5fz8YZv3KcC/iv4SVxjXzEcW/uutRCFnk0b87tyms7ejUP707r1IkN+E/WnsyrmvV0r/WOdpeOKbqv8ysFHj/SeM/UyJNlwFo6L8CTE8NX8jLv2hR8iaazcc/0N/9iBdM47+W8hKfgFjtv+CLGOK1teY/ANSAVY1Xgb+5kBlxYc7nPzliEI4aNNI/Vd/dz6AJsT+L49tEXKjRvw6dmKmdItQ/R/3eMCxH57+VqKaJ3A63P98OCl0g97G/TnKEtKn00j/CJFuCExfFv+RNluwpaua/16drEZJZvL+q6YwTfrO3v8YmGw55Gui/u26XFuNdqz/hwjo2lVPaPw78lQos4ck/KqFejLl/lL8xCXHMJOLhP3QzJcwtu9E//UfVad2Rij94SYfoNPbYvxIrA47AYde/6PLtgvH43r8DZIxtrU+Zv8m8nkO5PNu/Vcq4bhTfxL/k/cB98ovUv+zIjTqxLs2/xE1x/s8P5r/uWks+6e/VvzeM4VlHj9C/W/50IUFBxj9FtHitVkSuv3bVSfFpeck/45H45BrC4j/JtdlHrgnbP8O40CsxTum/nX/wNzGOjr9q/hodMGrVPzaKa9oKR98/2TdT5IkL57+cLXXadCDhv7w+L3ZvHOs/JySEXHiS4799q3Bfrl3dv8RnNjJqXsw/YUQwr3Yu2D+H4dsp20fYv1UbkwSvvac/7+8fo96Xhr8D5eKxjnHiP3rOM+kYiM+/N8er54hR4r/gGXR6YeOyP0cqRALiXNI/sXadOXJX8L9fLf7XDSK4P+6niPfRKcQ/aa8tXixI2r+1cPDC0VjcPxpHUhPsvsW/KsfzvEGv3T8D1CfObfrev6j4t8+E3Mc/sFsrgLw5uD9SL5ecYfbPP8g28Qz49em/dUZ3AHtk5j8=",
          "dtype": "f8"
         }
        },
        {
         "hovertemplate": "%{text}<extra></extra>",
         "marker": {
          "color": "#f39c12",
          "line": {
           "color": "white",
           "width": 0.5
          },
          "opacity": 0.8,
          "size": {
           "bdata": "AAAAAAAAFkAAAAAAAAAcQAAAAAAAABxAAAAAAAAAEEAAAAAAAAAkQAAAAAAAABZAAAAAAAAAEEAAAAAAAAAQQAAAAAAAABxAAAAAAAAAEEAAAAAAAAAQQAAAAAAAABZAAAAAAAAAEEAAAAAAAAAWQAAAAAAAABBAAAAAAAAAEEAAAAAAAAAhQAAAAAAAABZAAAAAAAAAEEAAAAAAAAAWQAAAAAAAABBAAAAAAAAAEEAAAAAAAAAWQAAAAAAAABZAAAAAAAAAHEAAAAAAAAAQQAAAAAAAACdAAAAAAAAAFkAAAAAAAAAQQAAAAAAAABBAAAAAAAAAFkAAAAAAAAAQQAAAAAAAABZAAAAAAAAAEEAAAAAAAAAWQAAAAAAAABZAAAAAAAAAEEAAAAAAAAAQQAAAAAAAABBAAAAAAAAAHEAAAAAAAAAWQAAAAAAAABBAAAAAAAAAEEAAAAAAAAAcQAAAAAAAABZAAAAAAAAAHEAAAAAAAAAWQAAAAAAAABBAAAAAAAAAFkAAAAAAAAAQQAAAAAAAABBAAAAAAAAAHEAAAAAAAAAWQAAAAAAAACFAAAAAAAAAEEAAAAAAAAAQQAAAAAAAABxAAAAAAAAAEEAAAAAAAAAWQAAAAAAAABZAAAAAAAAAHEAAAAAAAAAcQAAAAAAAABxAAAAAAAAAEEAAAAAAAAAQQAAAAAAAABBAAAAAAAAAJEAAAAAAAAAhQAAAAAAAABZAAAAAAAAAEEAAAAAAAAAQQAAAAAAAABxAAAAAAAAAHEAAAAAAAAAcQAAAAAAAABxAAAAAAAAAHEAAAAAAAAAQQAAAAAAAABZAAAAAAAAAEEAAAAAAAAAQQAAAAAAAABBAAAAAAAAAFkAAAAAAAAAWQAAAAAAAABBAAAAAAAAAEEAAAAAAAAAWQAAAAAAAACFAAAAAAAAAEEA=",
           "dtype": "f8"
          }
         },
         "mode": "markers",
         "name": "Moderately Controlled",
         "text": [
          "<b>Patient P000054</b><br>Age: 48, Male<br>Diabetes: Type 2<br>HbA1c: 7.5% (Δ -0.8%)<br>BMI: 26.8<br>Complications: 1<br>Comorbidities: 2<br>Treatment: Good<br>Risk: Moderate Risk<br>Years with DM: 1.1",
          "<b>Patient P000371</b><br>Age: 76, Male<br>Diabetes: Type 2<br>HbA1c: 7.9% (Δ -1.7%)<br>BMI: 31.2<br>Complications: 2<br>Comorbidities: 6<br>Treatment: Excellent<br>Risk: Moderate Risk<br>Years with DM: 4.3",
          "<b>Patient P000026</b><br>Age: 46, Male<br>Diabetes: Type 1<br>HbA1c: 7.8% (Δ -2.2%)<br>BMI: 27.6<br>Complications: 2<br>Comorbidities: 0<br>Treatment: Excellent<br>Risk: Moderate Risk<br>Years with DM: 5.6",
          "<b>Patient P000423</b><br>Age: 65, Female<br>Diabetes: Type 2<br>HbA1c: 7.6% (Δ -2.0%)<br>BMI: 29.8<br>Complications: 0<br>Comorbidities: 3<br>Treatment: Excellent<br>Risk: Moderate Risk<br>Years with DM: 3.9",
          "<b>Patient P000173</b><br>Age: 70, Male<br>Diabetes: Type 2<br>HbA1c: 7.5% (Δ -1.5%)<br>BMI: 25.9<br>Complications: 4<br>Comorbidities: 4<br>Treatment: Excellent<br>Risk: High Risk<br>Years with DM: 12.2",
          "<b>Patient P000223</b><br>Age: 59, Female<br>Diabetes: Type 2<br>HbA1c: 7.6% (Δ -2.2%)<br>BMI: 37.2<br>Complications: 1<br>Comorbidities: 1<br>Treatment: Excellent<br>Risk: Low Risk<br>Years with DM: 1.2",
          "<b>Patient P000022</b><br>Age: 55, Male<br>Diabetes: Type 2<br>HbA1c: 7.2% (Δ -1.2%)<br>BMI: 32.2<br>Complications: 0<br>Comorbidities: 2<br>Treatment: Good<br>Risk: Moderate Risk<br>Years with DM: 3.2",
          "<b>Patient P000010</b><br>Age: 39, Male<br>Diabetes: Type 2<br>HbA1c: 7.0% (Δ -0.9%)<br>BMI: 34.2<br>Complications: 0<br>Comorbidities: 0<br>Treatment: Good<br>Risk: Low Risk<br>Years with DM: 2.3",
          "<b>Patient P000147</b><br>Age: 75, Female<br>Diabetes: Type 2<br>HbA1c: 7.6% (Δ -0.8%)<br>BMI: 26.9<br>Complications: 2<br>Comorbidities: 4<br>Treatment: Good<br>Risk: Moderate Risk<br>Years with DM: 5.3",
          "<b>Patient P000091</b><br>Age: 61, Female<br>Diabetes: Type 2<br>HbA1c: 7.5% (Δ -1.2%)<br>BMI: 29.7<br>Complications: 0<br>Comorbidities: 1<br>Treatment: Good<br>Risk: Low Risk<br>Years with DM: 0.8",
          "<b>Patient P000008</b><br>Age: 47, Male<br>Diabetes: Type 1<br>HbA1c: 7.7% (Δ +0.3%)<br>BMI: 28.9<br>Complications: 0<br>Comorbidities: 1<br>Treatment: Moderate<br>Risk: Low Risk<br>Years with DM: 1.7",
          "<b>Patient P000013</b><br>Age: 56, Female<br>Diabetes: Type 2<br>HbA1c: 7.7% (Δ -3.1%)<br>BMI: 34.1<br>Complications: 1<br>Comorbidities: 2<br>Treatment: Excellent<br>Risk: Moderate Risk<br>Years with DM: 4.1",
          "<b>Patient P000137</b><br>Age: 42, Male<br>Diabetes: Type 2<br>HbA1c: 7.1% (Δ -0.7%)<br>BMI: 24.0<br>Complications: 0<br>Comorbidities: 3<br>Treatment: Good<br>Risk: Low Risk<br>Years with DM: 2.6",
          "<b>Patient P000128</b><br>Age: 70, Male<br>Diabetes: Type 1<br>HbA1c: 7.2% (Δ -1.5%)<br>BMI: 28.7<br>Complications: 1<br>Comorbidities: 0<br>Treatment: Excellent<br>Risk: Moderate Risk<br>Years with DM: 1.9",
          "<b>Patient P000039</b><br>Age: 80, Female<br>Diabetes: Type 2<br>HbA1c: 7.4% (Δ -1.1%)<br>BMI: 28.7<br>Complications: 0<br>Comorbidities: 3<br>Treatment: Good<br>Risk: Moderate Risk<br>Years with DM: 0.3",
          "<b>Patient P000457</b><br>Age: 63, Male<br>Diabetes: Type 2<br>HbA1c: 7.1% (Δ -0.8%)<br>BMI: 24.5<br>Complications: 0<br>Comorbidities: 2<br>Treatment: Good<br>Risk: Low Risk<br>Years with DM: 0.9",
          "<b>Patient P000415</b><br>Age: 67, Male<br>Diabetes: Type 2<br>HbA1c: 7.5% (Δ -2.3%)<br>BMI: 28.5<br>Complications: 3<br>Comorbidities: 2<br>Treatment: Excellent<br>Risk: High Risk<br>Years with DM: 14.8",
          "<b>Patient P000014</b><br>Age: 73, Male<br>Diabetes: Type 2<br>HbA1c: 7.1% (Δ -1.8%)<br>BMI: 32.4<br>Complications: 1<br>Comorbidities: 2<br>Treatment: Excellent<br>Risk: Moderate Risk<br>Years with DM: 4.8",
          "<b>Patient P000304</b><br>Age: 36, Male<br>Diabetes: Type 1<br>HbA1c: 7.4% (Δ -2.6%)<br>BMI: 24.6<br>Complications: 0<br>Comorbidities: 0<br>Treatment: Excellent<br>Risk: Low Risk<br>Years with DM: 1.5",
          "<b>Patient P000057</b><br>Age: 55, Female<br>Diabetes: Type 2<br>HbA1c: 7.5% (Δ -0.7%)<br>BMI: 35.7<br>Complications: 1<br>Comorbidities: 1<br>Treatment: Good<br>Risk: Moderate Risk<br>Years with DM: 3.5",
          "<b>Patient P000212</b><br>Age: 77, Male<br>Diabetes: Type 2<br>HbA1c: 7.1% (Δ -2.2%)<br>BMI: 31.4<br>Complications: 0<br>Comorbidities: 2<br>Treatment: Excellent<br>Risk: Moderate Risk<br>Years with DM: 2.2",
          "<b>Patient P000276</b><br>Age: 47, Male<br>Diabetes: Type 2<br>HbA1c: 7.4% (Δ -0.1%)<br>BMI: 31.2<br>Complications: 0<br>Comorbidities: 3<br>Treatment: Moderate<br>Risk: Moderate Risk<br>Years with DM: 6.7",
          "<b>Patient P000251</b><br>Age: 79, Male<br>Diabetes: Type 1<br>HbA1c: 7.5% (Δ -0.7%)<br>BMI: 27.2<br>Complications: 1<br>Comorbidities: 1<br>Treatment: Good<br>Risk: Moderate Risk<br>Years with DM: 2.6",
          "<b>Patient P000368</b><br>Age: 76, Female<br>Diabetes: Type 2<br>HbA1c: 7.3% (Δ -1.2%)<br>BMI: 28.1<br>Complications: 1<br>Comorbidities: 3<br>Treatment: Good<br>Risk: Moderate Risk<br>Years with DM: 1.2",
          "<b>Patient P000282</b><br>Age: 50, Female<br>Diabetes: Type 2<br>HbA1c: 7.5% (Δ -0.3%)<br>BMI: 30.9<br>Complications: 2<br>Comorbidities: 1<br>Treatment: Moderate<br>Risk: Moderate Risk<br>Years with DM: 9.2",
          "<b>Patient P000260</b><br>Age: 28, Female<br>Diabetes: Type 2<br>HbA1c: 7.0% (Δ -3.8%)<br>BMI: 31.8<br>Complications: 0<br>Comorbidities: 0<br>Treatment: Excellent<br>Risk: Moderate Risk<br>Years with DM: 4.5",
          "<b>Patient P000454</b><br>Age: 38, Female<br>Diabetes: Type 2<br>HbA1c: 7.5% (Δ -1.3%)<br>BMI: 27.0<br>Complications: 5<br>Comorbidities: 0<br>Treatment: Good<br>Risk: High Risk<br>Years with DM: 18.7",
          "<b>Patient P000043</b><br>Age: 86, Male<br>Diabetes: Type 2<br>HbA1c: 7.6% (Δ -0.5%)<br>BMI: 21.2<br>Complications: 1<br>Comorbidities: 2<br>Treatment: Good<br>Risk: Moderate Risk<br>Years with DM: 0.6",
          "<b>Patient P000414</b><br>Age: 69, Female<br>Diabetes: Type 2<br>HbA1c: 7.7% (Δ -1.6%)<br>BMI: 31.0<br>Complications: 0<br>Comorbidities: 0<br>Treatment: Excellent<br>Risk: Moderate Risk<br>Years with DM: 0.1",
          "<b>Patient P000321</b><br>Age: 62, Female<br>Diabetes: Type 2<br>HbA1c: 7.4% (Δ -0.9%)<br>BMI: 40.8<br>Complications: 0<br>Comorbidities: 2<br>Treatment: Good<br>Risk: Low Risk<br>Years with DM: 1.8",
          "<b>Patient P000287</b><br>Age: 70, Male<br>Diabetes: Type 2<br>HbA1c: 7.0% (Δ -0.5%)<br>BMI: 26.3<br>Complications: 1<br>Comorbidities: 3<br>Treatment: Moderate<br>Risk: Moderate Risk<br>Years with DM: 7.4",
          "<b>Patient P000083</b><br>Age: 18, Male<br>Diabetes: Type 2<br>HbA1c: 7.1% (Δ -0.2%)<br>BMI: 29.0<br>Complications: 0<br>Comorbidities: 2<br>Treatment: Moderate<br>Risk: Low Risk<br>Years with DM: 0.4",
          "<b>Patient P000003</b><br>Age: 23, Female<br>Diabetes: Type 2<br>HbA1c: 7.0% (Δ -1.0%)<br>BMI: 33.3<br>Complications: 1<br>Comorbidities: 0<br>Treatment: Good<br>Risk: Low Risk<br>Years with DM: 4.6",
          "<b>Patient P000261</b><br>Age: 39, Male<br>Diabetes: Type 2<br>HbA1c: 7.7% (Δ -2.2%)<br>BMI: 29.8<br>Complications: 0<br>Comorbidities: 0<br>Treatment: Excellent<br>Risk: Low Risk<br>Years with DM: 1.3",
          "<b>Patient P000028</b><br>Age: 52, Female<br>Diabetes: Type 2<br>HbA1c: 7.4% (Δ -1.6%)<br>BMI: 28.3<br>Complications: 1<br>Comorbidities: 1<br>Treatment: Excellent<br>Risk: Moderate Risk<br>Years with DM: 10.7",
          "<b>Patient P000259</b><br>Age: 89, Female<br>Diabetes: Type 2<br>HbA1c: 7.3% (Δ -1.4%)<br>BMI: 27.0<br>Complications: 1<br>Comorbidities: 2<br>Treatment: Good<br>Risk: Moderate Risk<br>Years with DM: 4.4",
          "<b>Patient P000411</b><br>Age: 54, Female<br>Diabetes: Type 2<br>HbA1c: 7.5% (Δ -2.4%)<br>BMI: 40.0<br>Complications: 0<br>Comorbidities: 2<br>Treatment: Excellent<br>Risk: Moderate Risk<br>Years with DM: 8.5",
          "<b>Patient P000419</b><br>Age: 41, Male<br>Diabetes: Type 2<br>HbA1c: 7.3% (Δ -2.9%)<br>BMI: 34.2<br>Complications: 0<br>Comorbidities: 5<br>Treatment: Excellent<br>Risk: Moderate Risk<br>Years with DM: 4.6",
          "<b>Patient P000074</b><br>Age: 41, Female<br>Diabetes: Type 1<br>HbA1c: 7.3% (Δ -0.9%)<br>BMI: 28.9<br>Complications: 0<br>Comorbidities: 3<br>Treatment: Good<br>Risk: Low Risk<br>Years with DM: 2.0",
          "<b>Patient P000152</b><br>Age: 57, Female<br>Diabetes: Type 1<br>HbA1c: 7.3% (Δ -2.5%)<br>BMI: 25.0<br>Complications: 2<br>Comorbidities: 3<br>Treatment: Excellent<br>Risk: Moderate Risk<br>Years with DM: 0.6",
          "<b>Patient P000052</b><br>Age: 62, Female<br>Diabetes: Type 2<br>HbA1c: 7.7% (Δ -0.8%)<br>BMI: 30.3<br>Complications: 1<br>Comorbidities: 1<br>Treatment: Good<br>Risk: Moderate Risk<br>Years with DM: 2.4",
          "<b>Patient P000252</b><br>Age: 18, Male<br>Diabetes: Type 2<br>HbA1c: 7.5% (Δ -0.6%)<br>BMI: 29.6<br>Complications: 0<br>Comorbidities: 1<br>Treatment: Good<br>Risk: Low Risk<br>Years with DM: 0.4",
          "<b>Patient P000436</b><br>Age: 62, Male<br>Diabetes: Type 2<br>HbA1c: 7.0% (Δ -1.5%)<br>BMI: 26.0<br>Complications: 0<br>Comorbidities: 1<br>Treatment: Good<br>Risk: Low Risk<br>Years with DM: 1.2",
          "<b>Patient P000386</b><br>Age: 44, Female<br>Diabetes: Type 2<br>HbA1c: 7.5% (Δ -1.7%)<br>BMI: 29.3<br>Complications: 2<br>Comorbidities: 1<br>Treatment: Excellent<br>Risk: Low Risk<br>Years with DM: 3.1",
          "<b>Patient P000380</b><br>Age: 36, Male<br>Diabetes: Type 2<br>HbA1c: 7.0% (Δ -1.0%)<br>BMI: 36.2<br>Complications: 1<br>Comorbidities: 2<br>Treatment: Good<br>Risk: Low Risk<br>Years with DM: 2.1",
          "<b>Patient P000491</b><br>Age: 42, Male<br>Diabetes: Type 2<br>HbA1c: 7.3% (Δ -2.1%)<br>BMI: 21.8<br>Complications: 2<br>Comorbidities: 3<br>Treatment: Excellent<br>Risk: Very High Risk<br>Years with DM: 30.5",
          "<b>Patient P000060</b><br>Age: 55, Male<br>Diabetes: Type 2<br>HbA1c: 7.9% (Δ +0.2%)<br>BMI: 38.6<br>Complications: 1<br>Comorbidities: 1<br>Treatment: Moderate<br>Risk: Moderate Risk<br>Years with DM: 5.7",
          "<b>Patient P000217</b><br>Age: 43, Female<br>Diabetes: Type 1<br>HbA1c: 7.9% (Δ +0.7%)<br>BMI: 28.7<br>Complications: 0<br>Comorbidities: 2<br>Treatment: Poor<br>Risk: Moderate Risk<br>Years with DM: 5.0",
          "<b>Patient P000009</b><br>Age: 67, Female<br>Diabetes: Type 2<br>HbA1c: 7.7% (Δ -0.2%)<br>BMI: 27.4<br>Complications: 1<br>Comorbidities: 3<br>Treatment: Moderate<br>Risk: High Risk<br>Years with DM: 11.1",
          "<b>Patient P000171</b><br>Age: 62, Female<br>Diabetes: Type 2<br>HbA1c: 7.4% (Δ -0.7%)<br>BMI: 29.9<br>Complications: 0<br>Comorbidities: 2<br>Treatment: Good<br>Risk: Low Risk<br>Years with DM: 0.5",
          "<b>Patient P000361</b><br>Age: 49, Female<br>Diabetes: Type 2<br>HbA1c: 7.5% (Δ -0.5%)<br>BMI: 32.2<br>Complications: 0<br>Comorbidities: 1<br>Treatment: Good<br>Risk: Low Risk<br>Years with DM: 1.0",
          "<b>Patient P000469</b><br>Age: 36, Male<br>Diabetes: Type 2<br>HbA1c: 7.3% (Δ -1.4%)<br>BMI: 33.4<br>Complications: 2<br>Comorbidities: 3<br>Treatment: Good<br>Risk: Moderate Risk<br>Years with DM: 4.7",
          "<b>Patient P000486</b><br>Age: 63, Male<br>Diabetes: Type 2<br>HbA1c: 7.8% (Δ -2.0%)<br>BMI: 31.8<br>Complications: 1<br>Comorbidities: 1<br>Treatment: Excellent<br>Risk: High Risk<br>Years with DM: 8.8",
          "<b>Patient P000220</b><br>Age: 33, Male<br>Diabetes: Type 2<br>HbA1c: 7.9% (Δ +0.3%)<br>BMI: 23.5<br>Complications: 3<br>Comorbidities: 3<br>Treatment: Moderate<br>Risk: Moderate Risk<br>Years with DM: 5.5",
          "<b>Patient P000215</b><br>Age: 54, Male<br>Diabetes: Type 1<br>HbA1c: 7.0% (Δ -2.0%)<br>BMI: 21.1<br>Complications: 0<br>Comorbidities: 3<br>Treatment: Excellent<br>Risk: Moderate Risk<br>Years with DM: 6.8",
          "<b>Patient P000153</b><br>Age: 54, Male<br>Diabetes: Type 2<br>HbA1c: 7.2% (Δ -1.7%)<br>BMI: 20.7<br>Complications: 0<br>Comorbidities: 2<br>Treatment: Excellent<br>Risk: Low Risk<br>Years with DM: 2.0",
          "<b>Patient P000169</b><br>Age: 68, Male<br>Diabetes: Type 2<br>HbA1c: 7.5% (Δ -0.3%)<br>BMI: 32.4<br>Complications: 2<br>Comorbidities: 3<br>Treatment: Moderate<br>Risk: Moderate Risk<br>Years with DM: 6.6",
          "<b>Patient P000061</b><br>Age: 74, Male<br>Diabetes: Type 2<br>HbA1c: 7.6% (Δ -2.3%)<br>BMI: 33.3<br>Complications: 0<br>Comorbidities: 3<br>Treatment: Excellent<br>Risk: Moderate Risk<br>Years with DM: 5.4",
          "<b>Patient P000445</b><br>Age: 60, Male<br>Diabetes: Type 2<br>HbA1c: 7.5% (Δ -2.0%)<br>BMI: 30.3<br>Complications: 1<br>Comorbidities: 2<br>Treatment: Excellent<br>Risk: Moderate Risk<br>Years with DM: 3.2",
          "<b>Patient P000094</b><br>Age: 38, Female<br>Diabetes: Type 2<br>HbA1c: 7.9% (Δ -1.9%)<br>BMI: 25.8<br>Complications: 1<br>Comorbidities: 2<br>Treatment: Excellent<br>Risk: Low Risk<br>Years with DM: 1.1",
          "<b>Patient P000123</b><br>Age: 65, Male<br>Diabetes: Type 2<br>HbA1c: 7.8% (Δ -0.4%)<br>BMI: 31.3<br>Complications: 2<br>Comorbidities: 1<br>Treatment: Moderate<br>Risk: High Risk<br>Years with DM: 8.2",
          "<b>Patient P000472</b><br>Age: 64, Female<br>Diabetes: Type 2<br>HbA1c: 7.6% (Δ -0.8%)<br>BMI: 37.8<br>Complications: 2<br>Comorbidities: 1<br>Treatment: Good<br>Risk: High Risk<br>Years with DM: 11.7",
          "<b>Patient P000191</b><br>Age: 71, Female<br>Diabetes: Type 2<br>HbA1c: 7.4% (Δ -0.4%)<br>BMI: 29.0<br>Complications: 2<br>Comorbidities: 4<br>Treatment: Moderate<br>Risk: High Risk<br>Years with DM: 10.3",
          "<b>Patient P000048</b><br>Age: 62, Male<br>Diabetes: Type 2<br>HbA1c: 7.7% (Δ -0.7%)<br>BMI: 33.3<br>Complications: 0<br>Comorbidities: 1<br>Treatment: Good<br>Risk: Moderate Risk<br>Years with DM: 6.2",
          "<b>Patient P000320</b><br>Age: 46, Male<br>Diabetes: Type 2<br>HbA1c: 7.2% (Δ -0.9%)<br>BMI: 33.0<br>Complications: 0<br>Comorbidities: 0<br>Treatment: Good<br>Risk: Low Risk<br>Years with DM: 1.3",
          "<b>Patient P000302</b><br>Age: 74, Female<br>Diabetes: Type 2<br>HbA1c: 7.2% (Δ -0.8%)<br>BMI: 25.7<br>Complications: 0<br>Comorbidities: 1<br>Treatment: Good<br>Risk: Moderate Risk<br>Years with DM: 0.5",
          "<b>Patient P000284</b><br>Age: 37, Female<br>Diabetes: Type 2<br>HbA1c: 7.8% (Δ -0.9%)<br>BMI: 36.2<br>Complications: 4<br>Comorbidities: 1<br>Treatment: Good<br>Risk: Moderate Risk<br>Years with DM: 7.8",
          "<b>Patient P000313</b><br>Age: 59, Male<br>Diabetes: Type 2<br>HbA1c: 7.1% (Δ -1.9%)<br>BMI: 32.0<br>Complications: 3<br>Comorbidities: 2<br>Treatment: Excellent<br>Risk: High Risk<br>Years with DM: 12.5",
          "<b>Patient P000115</b><br>Age: 74, Male<br>Diabetes: Type 2<br>HbA1c: 7.8% (Δ -0.7%)<br>BMI: 29.0<br>Complications: 1<br>Comorbidities: 1<br>Treatment: Good<br>Risk: Moderate Risk<br>Years with DM: 4.5",
          "<b>Patient P000058</b><br>Age: 68, Female<br>Diabetes: Type 2<br>HbA1c: 7.4% (Δ -1.6%)<br>BMI: 29.9<br>Complications: 0<br>Comorbidities: 3<br>Treatment: Excellent<br>Risk: Low Risk<br>Years with DM: 0.9",
          "<b>Patient P000447</b><br>Age: 48, Female<br>Diabetes: Type 2<br>HbA1c: 7.9% (Δ -2.6%)<br>BMI: 35.5<br>Complications: 0<br>Comorbidities: 2<br>Treatment: Excellent<br>Risk: Moderate Risk<br>Years with DM: 1.0",
          "<b>Patient P000085</b><br>Age: 41, Male<br>Diabetes: Type 2<br>HbA1c: 7.1% (Δ -4.3%)<br>BMI: 25.2<br>Complications: 2<br>Comorbidities: 0<br>Treatment: Excellent<br>Risk: Moderate Risk<br>Years with DM: 7.4",
          "<b>Patient P000047</b><br>Age: 56, Female<br>Diabetes: Type 2<br>HbA1c: 7.7% (Δ -0.6%)<br>BMI: 30.0<br>Complications: 2<br>Comorbidities: 3<br>Treatment: Good<br>Risk: Moderate Risk<br>Years with DM: 3.8",
          "<b>Patient P000350</b><br>Age: 57, Female<br>Diabetes: Type 2<br>HbA1c: 7.1% (Δ -2.5%)<br>BMI: 29.8<br>Complications: 2<br>Comorbidities: 2<br>Treatment: Excellent<br>Risk: Moderate Risk<br>Years with DM: 8.9",
          "<b>Patient P000135</b><br>Age: 53, Female<br>Diabetes: Type 2<br>HbA1c: 7.0% (Δ -3.4%)<br>BMI: 33.0<br>Complications: 2<br>Comorbidities: 2<br>Treatment: Excellent<br>Risk: Moderate Risk<br>Years with DM: 4.1",
          "<b>Patient P000461</b><br>Age: 23, Male<br>Diabetes: Type 1<br>HbA1c: 7.8% (Δ -2.1%)<br>BMI: 27.7<br>Complications: 2<br>Comorbidities: 2<br>Treatment: Excellent<br>Risk: High Risk<br>Years with DM: 13.9",
          "<b>Patient P000248</b><br>Age: 59, Female<br>Diabetes: Type 2<br>HbA1c: 7.2% (Δ -1.0%)<br>BMI: 24.4<br>Complications: 0<br>Comorbidities: 4<br>Treatment: Good<br>Risk: Low Risk<br>Years with DM: 1.1",
          "<b>Patient P000126</b><br>Age: 64, Female<br>Diabetes: Type 2<br>HbA1c: 7.4% (Δ -2.3%)<br>BMI: 30.8<br>Complications: 1<br>Comorbidities: 7<br>Treatment: Excellent<br>Risk: Low Risk<br>Years with DM: 0.4",
          "<b>Patient P000214</b><br>Age: 54, Male<br>Diabetes: Type 2<br>HbA1c: 7.6% (Δ -2.1%)<br>BMI: 25.1<br>Complications: 0<br>Comorbidities: 1<br>Treatment: Excellent<br>Risk: Moderate Risk<br>Years with DM: 3.4",
          "<b>Patient P000406</b><br>Age: 29, Female<br>Diabetes: Type 2<br>HbA1c: 7.4% (Δ -2.7%)<br>BMI: 36.7<br>Complications: 0<br>Comorbidities: 2<br>Treatment: Excellent<br>Risk: Low Risk<br>Years with DM: 2.2",
          "<b>Patient P000489</b><br>Age: 48, Female<br>Diabetes: Type 2<br>HbA1c: 7.8% (Δ -3.6%)<br>BMI: 29.7<br>Complications: 0<br>Comorbidities: 1<br>Treatment: Excellent<br>Risk: Moderate Risk<br>Years with DM: 7.3",
          "<b>Patient P000166</b><br>Age: 60, Male<br>Diabetes: Type 2<br>HbA1c: 7.0% (Δ -0.6%)<br>BMI: 30.6<br>Complications: 1<br>Comorbidities: 3<br>Treatment: Good<br>Risk: Moderate Risk<br>Years with DM: 4.2",
          "<b>Patient P000366</b><br>Age: 47, Male<br>Diabetes: Type 2<br>HbA1c: 7.7% (Δ -0.7%)<br>BMI: 23.1<br>Complications: 1<br>Comorbidities: 2<br>Treatment: Good<br>Risk: Moderate Risk<br>Years with DM: 4.7",
          "<b>Patient P000041</b><br>Age: 22, Female<br>Diabetes: Type 2<br>HbA1c: 7.0% (Δ -0.6%)<br>BMI: 32.2<br>Complications: 0<br>Comorbidities: 0<br>Treatment: Good<br>Risk: Low Risk<br>Years with DM: 0.4",
          "<b>Patient P000301</b><br>Age: 51, Female<br>Diabetes: Type 1<br>HbA1c: 7.7% (Δ -0.4%)<br>BMI: 25.9<br>Complications: 0<br>Comorbidities: 1<br>Treatment: Moderate<br>Risk: Low Risk<br>Years with DM: 1.8",
          "<b>Patient P000162</b><br>Age: 36, Female<br>Diabetes: Type 2<br>HbA1c: 7.6% (Δ -3.1%)<br>BMI: 24.4<br>Complications: 1<br>Comorbidities: 1<br>Treatment: Excellent<br>Risk: Low Risk<br>Years with DM: 2.2",
          "<b>Patient P000357</b><br>Age: 81, Female<br>Diabetes: Type 2<br>HbA1c: 7.5% (Δ -2.0%)<br>BMI: 32.2<br>Complications: 3<br>Comorbidities: 2<br>Treatment: Excellent<br>Risk: Very High Risk<br>Years with DM: 23.6",
          "<b>Patient P000075</b><br>Age: 64, Female<br>Diabetes: Type 2<br>HbA1c: 7.6% (Δ -1.0%)<br>BMI: 32.9<br>Complications: 0<br>Comorbidities: 3<br>Treatment: Good<br>Risk: Moderate Risk<br>Years with DM: 0.7"
         ],
         "type": "scatter3d",
         "x": {
          "bdata": "kavy2DcK4b8gvIG7H9PYv6M9Z/hDAuI/+fgElfyL47+mf0ryVL7ZP8ko99KpFeu/1lRykiP67D/EgAGzFEvpP3FNjaBuPti/tvf/gpTc6j+HkEbdMDXrP7Q9UpKnG7E/VQ+VCzPL7D/WvB0ErtzuP7Wh3DnDHfA/otZaE4Dl7j8K1Uu6ftHXP7b00ABipec/E8IL/KXVxL9mrZsdjd3XP+SJXnP6bu0/EW24wfmy6j+k00WyITLoP88ChZHizu4/A2yY4DUW4T9yXtNZZMjmP7OVA7dhrrI/CmMQx70dsj/5Bn8LpJe/P+D8Mm1I1ec/+CQQjO3o4z84ofIttLvsP3P9ophLcug/Y5vwi21Zx79mSqfUT2ntP3+/6v9qiL2/RLEIlQQT7z/cjc74+TXiP99u9/zD3Mg/TFMGH4nW5z9Djq85PJTfv3UOsC0pUeo/FT0TSibT6z/JuJlvFE3aPxGTgNWuWes/ms7zkkbT0b9M5V5Dgz+tv6isKxp/dfA/tQnljrvP4D+w6rwZ8q/pP09+dobb1Ow/dQmOpc+R4j9dKsSwN3nnP7vs1sjsNNI/ywlKCpXJ4D/ZVCT5SPzgP732uzK0ENs/lbsd8+/E5j+JLzbqFUC6P2L99GovrOG/+Ek5gIIptD9kIShkep/UP2rQfNCmy94/oRPSJugX3r9lmlU2lyXqP3P1YXCMSOc/uELNMP828L9+v79ZfUW2P9gk20WriL4/NJ5LFU9W7T/dMeVfYOXUvySc9IH919w/kpkOtfWC3D9nc53CtHLxP+esisXakto/nDIAx+uS6z95Gp73MTm8v6J0jZG8/eI/l/y6WOYhuT8aCyOX8zvnPxBA0ts5de2/ncLJkJFz4T9Q0zQKbvDhP6WmPd/x1tg/V91gyAAgwz+kGSZGcnHcv6m3f2Sci++/5EFDSNZw178=",
          "dtype": "f8"
         },
         "y": {
          "bdata": "lEaPyl0h4D/pRZzpVOa7v82Lae5qnfu/MEAbz7GQ27/qnXu/MPfGv9iPcKbY7/A/g4TeqyUu2T/biznNZrzWv0gnZkzpX+c/3nQ06A0Kz7/pkS0zBdP1v0/wjNIxqu4/Iq+ofiLq0z/RWaWdzBv2v80tJm3QQ+k/giv2dtAau7906Rs3shjHP+hPqg5bBMk/2YBJq8Ew+7+ueuLrje2WPwdr8VqHAs4/IF6S29dzqD+TPLcP1QDyv10POWbrEtc//kxIpeepvr/KTbPfIE7IP/REFt6jXNc/3YsZr3TY2L+ilKJrCozlP+s6YSGrnMI/GlXpYmjD5D+iWyU36ci1P4c1mo8V+Mw/WeXofb1h5D9SqWCqmkn0P9VEkm/Fz8w/eNWPXpJawD9Ms3b6ZQS9P+NoVBsbauW/qPy9KBsH7b8R3WS80eTjP0j+V2+AFbg/GhHsPYmF9T9E4SijBk3jP++vMu1zybK/dODbdq/zvT/CI7s2SV21P1xgwm5qb/C/ggq7pBfNwb/u61TJGrDgP1wA42UXrdQ/3LeSGJ9I0z8l74mbcJOlP3FfU6uKhtk/9DGQeHxz7b9Fq0hdZ1HRP8Zln3XSOpQ/jo0G04v07j/+ObkLw2nhP1rtpATkb94/tAM1axH37T9KFcEP6WfWv5o9IO7LV7q/xpyPCfwa9D8lsiHd/1PNPzj4d4vkSdA/HvPj32PMhb/qRolB4P3EP3uD+8fCi+Y/uL1CCdfh1D+zgLBYhfTYv1ivODXSdrk/wh6/UeOKzT9M+6tU9zzsP6uMeKTZ08i/tqUC0jue77/I6I4hyW6XP+XNahfOH5s/f3juCwB5yD8hcCcyxKywvyP2LgHbGOG//FrtcDhXuD/XV8Hj1QPmPyyFYyzxd+W/HBRl3oHM9r9aADkJNfS5P/+hFBqXIr4/qyRbmM448z8=",
          "dtype": "f8"
         },
         "z": {
          "bdata": "uWf21lZO278UvVpNPQWhP4bJiE9MD9g/qyNqH/N4yL/AESMezdDXvxSgOWfiRcK/6YD5yD5IwT9158RKODv2vyrYzWApTNk/WUHQLtJi7r87z4s/CVXmPz3lNI/PCMe/nLV1Vbl1vT827L3q5HDWP8iMQH6NVeA/yMhZCX737b8FARhYhY7jv/vpWF+OqdM/I+t8EsTb6z/w8sBV1Mziv3TINk30zNa/iN93jZ2Txz+i5cn/kQmdP17h2WxMYNM/1Z2U1iv78b97CSE91My1v8NTEo8IMdo/tGjL/s4v3r/9mziANAm5v5L89KS29cO/6Py3E/sR4z+X4BkPLcntv88l6k5cOYk/+bgytGyazr9N/rTCzgvvPxVFtWGf4tK/tm/qJaSbyT86XlpTdNPcv45DXkX6TdM/evn3FgJE3T89Eq56jqOdv08Po1Kd58u/E0cNS6aJ7D9aJLxAGaCavwDl5YlXSei/VOhVYgK1mz96eyPOGJrXP/Fjp2/m3M8/NrAyX66o9L/MZ6d6AgnJv0b/KXmUu8+/BNEqrD8X1D/rpDSTIRLgv9SKKRRG1tG/PDq6CRhe3j89cDzEi5nGPy6rtHdSt+O/TmRh0m2adL9Uy/LcCjrXv/yXVAXht+C/Ah3VdPny5T87zGM8vozxvz4wQf2Q+Om/hT109eUO0T9IC07t3H+vv/dxWwRQo6+/Up7+cgrywj9fjKOw9GvgvxTRicdU6MG/IWnINGAazb/Ekl6SsbjYv3KgJcuWVdO/1vkWT6ERsr+om03XySPuP5mmo0IoffC/jsaTQzyA4z9JWlIVoZueP7lcZiD5F9a/f/kZHfrvtj8bj6fSIfiuP9GEPEl8o+W/8zi60S1Q4L+NV19c1DXwP1sNAN/XPvW/qnA5mJbT1D9pEanYKqXivyGFOBJnEMG/S5M2/yRxxD8=",
          "dtype": "f8"
         }
        },
        {
         "hovertemplate": "%{text}<extra></extra>",
         "marker": {
          "color": "#8e44ad",
          "line": {
           "color": "white",
           "width": 0.5
          },
          "opacity": 0.8,
          "size": {
           "bdata": "AAAAAAAAHEAAAAAAAAAQQAAAAAAAABBAAAAAAAAAFkAAAAAAAAAWQAAAAAAAABBAAAAAAAAAHEAAAAAAAAAcQAAAAAAAABxAAAAAAAAAIUAAAAAAAAAWQAAAAAAAABZAAAAAAAAAFkAAAAAAAAAcQAAAAAAAABZAAAAAAAAAFkAAAAAAAAAcQAAAAAAAABxAAAAAAAAAFkAAAAAAAAAcQAAAAAAAABZAAAAAAAAAEEAAAAAAAAAQQAAAAAAAABBAAAAAAAAAFkAAAAAAAAAQQAAAAAAAABxAAAAAAAAAEEAAAAAAAAAWQAAAAAAAABxAAAAAAAAAIUAAAAAAAAAcQAAAAAAAABBAAAAAAAAAIUAAAAAAAAAWQAAAAAAAABZAAAAAAAAAFkAAAAAAAAAWQAAAAAAAABZAAAAAAAAAFkAAAAAAAAAWQAAAAAAAABBAAAAAAAAAHEAAAAAAAAAcQAAAAAAAABBAAAAAAAAAFkAAAAAAAAAcQAAAAAAAABxAAAAAAAAAHEAAAAAAAAAcQAAAAAAAABZAAAAAAAAAFkAAAAAAAAAQQAAAAAAAABBAAAAAAAAAEEAAAAAAAAAQQAAAAAAAACRAAAAAAAAAFkAAAAAAAAAQQAAAAAAAABxAAAAAAAAAHEAAAAAAAAAhQAAAAAAAACFAAAAAAAAAHEAAAAAAAAAcQAAAAAAAACFAAAAAAAAAFkAAAAAAAAAQQAAAAAAAACdAAAAAAAAAJEAAAAAAAAAcQAAAAAAAACdAAAAAAAAAJEAAAAAAAAAWQAAAAAAAABZAAAAAAAAAEEAAAAAAAAAcQAAAAAAAABxAAAAAAAAAFkAAAAAAAAAcQAAAAAAAABBAAAAAAAAAIUAAAAAAAAAhQAAAAAAAABBAAAAAAAAAFkAAAAAAAAAhQAAAAAAAABZAAAAAAAAAEEAAAAAAAAAWQAAAAAAAACpAAAAAAAAAFkAAAAAAAAAtQAAAAAAAABxAAAAAAAAAIUAAAAAAAAAWQAAAAAAAABxAAAAAAAAAIUAAAAAAAAAcQAAAAAAAADBAAAAAAAAAIUAAAAAAAAAQQAAAAAAAABxAAAAAAAAAFkAAAAAAAAAWQAAAAAAAABxAAAAAAAAAEEAAAAAAAAAWQAAAAAAAABBAAAAAAAAAJEAAAAAAAAAcQAAAAAAAABBAAAAAAAAAFkAAAAAAAAAcQAAAAAAAABZAAAAAAAAAEEAAAAAAAAAWQAAAAAAAABZAAAAAAAAAIUAAAAAAAAAQQAAAAAAAACRAAAAAAAAAFkAAAAAAAAAkQAAAAAAAABxAAAAAAAAAJEAAAAAAAAAWQAAAAAAAABBAAAAAAAAAIUAAAAAAAAAkQAAAAAAAABBAAAAAAAAAFkAAAAAAAAAWQAAAAAAAABZAAAAAAAAAEEAAAAAAAAAcQAAAAAAAABxAAAAAAAAAIUAAAAAAAAAWQAAAAAAAABBAAAAAAAAAJ0AAAAAAAAAhQAAAAAAAABZAAAAAAAAAJ0AAAAAAAAAcQAAAAAAAABZAAAAAAAAAHEAAAAAAAAAQQAAAAAAAABZAAAAAAAAAHEAAAAAAAAAWQAAAAAAAABxAAAAAAAAAIUAAAAAAAAAWQAAAAAAAABxAAAAAAAAAFkAAAAAAAAAcQAAAAAAAACdAAAAAAAAAFkAAAAAAAAAcQAAAAAAAABZAAAAAAAAAHEAAAAAAAAAWQAAAAAAAABxAAAAAAAAAHEAAAAAAAAAhQAAAAAAAABBAAAAAAAAAFkAAAAAAAAAkQA==",
           "dtype": "f8"
          }
         },
         "mode": "markers",
         "name": "Very Poor Control",
         "text": [
          "<b>Patient P000167</b><br>Age: 51, Female<br>Diabetes: Type 2<br>HbA1c: 9.8% (Δ -1.2%)<br>BMI: 21.3<br>Complications: 2<br>Comorbidities: 5<br>Treatment: Good<br>Risk: Moderate Risk<br>Years with DM: 1.0",
          "<b>Patient P000453</b><br>Age: 83, Female<br>Diabetes: Type 2<br>HbA1c: 10.6% (Δ -0.2%)<br>BMI: 25.2<br>Complications: 0<br>Comorbidities: 4<br>Treatment: Moderate<br>Risk: High Risk<br>Years with DM: 1.4",
          "<b>Patient P000246</b><br>Age: 49, Male<br>Diabetes: Type 2<br>HbA1c: 9.9% (Δ -0.7%)<br>BMI: 29.0<br>Complications: 0<br>Comorbidities: 3<br>Treatment: Good<br>Risk: Moderate Risk<br>Years with DM: 2.4",
          "<b>Patient P000255</b><br>Age: 18, Male<br>Diabetes: Type 2<br>HbA1c: 9.6% (Δ -2.4%)<br>BMI: 30.6<br>Complications: 1<br>Comorbidities: 1<br>Treatment: Excellent<br>Risk: Moderate Risk<br>Years with DM: 0.8",
          "<b>Patient P000435</b><br>Age: 64, Female<br>Diabetes: Type 2<br>HbA1c: 10.6% (Δ -0.5%)<br>BMI: 33.6<br>Complications: 1<br>Comorbidities: 3<br>Treatment: Good<br>Risk: High Risk<br>Years with DM: 4.9",
          "<b>Patient P000180</b><br>Age: 57, Female<br>Diabetes: Type 2<br>HbA1c: 10.3% (Δ +0.2%)<br>BMI: 25.6<br>Complications: 0<br>Comorbidities: 1<br>Treatment: Moderate<br>Risk: Moderate Risk<br>Years with DM: 5.0",
          "<b>Patient P000263</b><br>Age: 74, Male<br>Diabetes: Type 2<br>HbA1c: 11.2% (Δ -0.9%)<br>BMI: 29.9<br>Complications: 2<br>Comorbidities: 2<br>Treatment: Good<br>Risk: High Risk<br>Years with DM: 1.2",
          "<b>Patient P000089</b><br>Age: 66, Male<br>Diabetes: Type 2<br>HbA1c: 11.3% (Δ -1.8%)<br>BMI: 31.1<br>Complications: 2<br>Comorbidities: 1<br>Treatment: Excellent<br>Risk: Very High Risk<br>Years with DM: 10.5",
          "<b>Patient P000452</b><br>Age: 41, Female<br>Diabetes: Type 2<br>HbA1c: 9.1% (Δ +0.2%)<br>BMI: 31.7<br>Complications: 2<br>Comorbidities: 4<br>Treatment: Moderate<br>Risk: Moderate Risk<br>Years with DM: 1.1",
          "<b>Patient P000492</b><br>Age: 65, Male<br>Diabetes: Type 1<br>HbA1c: 10.5% (Δ -0.8%)<br>BMI: 19.1<br>Complications: 3<br>Comorbidities: 3<br>Treatment: Good<br>Risk: High Risk<br>Years with DM: 3.7",
          "<b>Patient P000130</b><br>Age: 37, Male<br>Diabetes: Type 2<br>HbA1c: 9.8% (Δ +0.3%)<br>BMI: 27.2<br>Complications: 1<br>Comorbidities: 2<br>Treatment: Moderate<br>Risk: Moderate Risk<br>Years with DM: 2.3",
          "<b>Patient P000189</b><br>Age: 59, Female<br>Diabetes: Type 2<br>HbA1c: 10.0% (Δ -0.7%)<br>BMI: 34.1<br>Complications: 1<br>Comorbidities: 2<br>Treatment: Good<br>Risk: Moderate Risk<br>Years with DM: 2.3",
          "<b>Patient P000146</b><br>Age: 77, Female<br>Diabetes: Type 2<br>HbA1c: 9.7% (Δ -1.5%)<br>BMI: 30.1<br>Complications: 1<br>Comorbidities: 5<br>Treatment: Excellent<br>Risk: High Risk<br>Years with DM: 6.0",
          "<b>Patient P000303</b><br>Age: 55, Male<br>Diabetes: Type 2<br>HbA1c: 10.5% (Δ -3.5%)<br>BMI: 34.7<br>Complications: 2<br>Comorbidities: 3<br>Treatment: Excellent<br>Risk: Moderate Risk<br>Years with DM: 3.5",
          "<b>Patient P000211</b><br>Age: 23, Male<br>Diabetes: Type 1<br>HbA1c: 9.6% (Δ -0.9%)<br>BMI: 21.3<br>Complications: 1<br>Comorbidities: 4<br>Treatment: Good<br>Risk: Moderate Risk<br>Years with DM: 6.0",
          "<b>Patient P000316</b><br>Age: 66, Male<br>Diabetes: Type 2<br>HbA1c: 9.0% (Δ -0.1%)<br>BMI: 25.4<br>Complications: 1<br>Comorbidities: 4<br>Treatment: Moderate<br>Risk: Moderate Risk<br>Years with DM: 2.3",
          "<b>Patient P000002</b><br>Age: 44, Male<br>Diabetes: Type 2<br>HbA1c: 12.6% (Δ +0.9%)<br>BMI: 25.3<br>Complications: 2<br>Comorbidities: 2<br>Treatment: Poor<br>Risk: High Risk<br>Years with DM: 0.9",
          "<b>Patient P000018</b><br>Age: 35, Male<br>Diabetes: Type 2<br>HbA1c: 9.6% (Δ -1.2%)<br>BMI: 31.7<br>Complications: 2<br>Comorbidities: 2<br>Treatment: Good<br>Risk: Moderate Risk<br>Years with DM: 5.9",
          "<b>Patient P000476</b><br>Age: 55, Female<br>Diabetes: Type 2<br>HbA1c: 11.4% (Δ -1.2%)<br>BMI: 26.6<br>Complications: 1<br>Comorbidities: 4<br>Treatment: Good<br>Risk: Moderate Risk<br>Years with DM: 0.0",
          "<b>Patient P000424</b><br>Age: 42, Female<br>Diabetes: Type 2<br>HbA1c: 9.0% (Δ -1.4%)<br>BMI: 31.4<br>Complications: 2<br>Comorbidities: 0<br>Treatment: Good<br>Risk: Moderate Risk<br>Years with DM: 5.4",
          "<b>Patient P000237</b><br>Age: 75, Male<br>Diabetes: Type 2<br>HbA1c: 10.5% (Δ -1.8%)<br>BMI: 30.2<br>Complications: 1<br>Comorbidities: 0<br>Treatment: Excellent<br>Risk: High Risk<br>Years with DM: 0.1",
          "<b>Patient P000125</b><br>Age: 49, Male<br>Diabetes: Type 2<br>HbA1c: 11.4% (Δ -0.3%)<br>BMI: 27.4<br>Complications: 0<br>Comorbidities: 5<br>Treatment: Moderate<br>Risk: Moderate Risk<br>Years with DM: 1.8",
          "<b>Patient P000236</b><br>Age: 32, Male<br>Diabetes: Type 2<br>HbA1c: 9.3% (Δ -0.4%)<br>BMI: 32.4<br>Complications: 0<br>Comorbidities: 1<br>Treatment: Moderate<br>Risk: Moderate Risk<br>Years with DM: 3.0",
          "<b>Patient P000216</b><br>Age: 64, Female<br>Diabetes: Type 1<br>HbA1c: 9.6% (Δ +0.3%)<br>BMI: 30.9<br>Complications: 0<br>Comorbidities: 0<br>Treatment: Moderate<br>Risk: Moderate Risk<br>Years with DM: 1.9",
          "<b>Patient P000392</b><br>Age: 39, Female<br>Diabetes: Type 2<br>HbA1c: 12.8% (Δ +0.4%)<br>BMI: 30.7<br>Complications: 1<br>Comorbidities: 0<br>Treatment: Moderate<br>Risk: Moderate Risk<br>Years with DM: 0.6",
          "<b>Patient P000175</b><br>Age: 94, Male<br>Diabetes: Type 2<br>HbA1c: 9.6% (Δ -1.0%)<br>BMI: 27.2<br>Complications: 0<br>Comorbidities: 5<br>Treatment: Good<br>Risk: High Risk<br>Years with DM: 9.7",
          "<b>Patient P000326</b><br>Age: 39, Male<br>Diabetes: Type 2<br>HbA1c: 10.0% (Δ -2.1%)<br>BMI: 27.2<br>Complications: 2<br>Comorbidities: 4<br>Treatment: Excellent<br>Risk: Very High Risk<br>Years with DM: 18.7",
          "<b>Patient P000449</b><br>Age: 60, Female<br>Diabetes: Type 2<br>HbA1c: 10.7% (Δ +0.6%)<br>BMI: 29.3<br>Complications: 0<br>Comorbidities: 4<br>Treatment: Poor<br>Risk: Moderate Risk<br>Years with DM: 0.2",
          "<b>Patient P000470</b><br>Age: 34, Female<br>Diabetes: Type 2<br>HbA1c: 12.1% (Δ -0.5%)<br>BMI: 39.6<br>Complications: 1<br>Comorbidities: 2<br>Treatment: Moderate<br>Risk: Moderate Risk<br>Years with DM: 2.4",
          "<b>Patient P000067</b><br>Age: 69, Female<br>Diabetes: Type 2<br>HbA1c: 9.2% (Δ -2.0%)<br>BMI: 34.7<br>Complications: 2<br>Comorbidities: 5<br>Treatment: Excellent<br>Risk: Moderate Risk<br>Years with DM: 1.5",
          "<b>Patient P000347</b><br>Age: 71, Female<br>Diabetes: Type 2<br>HbA1c: 10.3% (Δ -1.4%)<br>BMI: 31.0<br>Complications: 3<br>Comorbidities: 1<br>Treatment: Good<br>Risk: High Risk<br>Years with DM: 6.2",
          "<b>Patient P000286</b><br>Age: 45, Female<br>Diabetes: Type 2<br>HbA1c: 10.9% (Δ -1.2%)<br>BMI: 25.4<br>Complications: 2<br>Comorbidities: 3<br>Treatment: Good<br>Risk: Moderate Risk<br>Years with DM: 2.8",
          "<b>Patient P000339</b><br>Age: 55, Female<br>Diabetes: Type 2<br>HbA1c: 10.1% (Δ -1.7%)<br>BMI: 24.6<br>Complications: 0<br>Comorbidities: 1<br>Treatment: Excellent<br>Risk: Moderate Risk<br>Years with DM: 0.2",
          "<b>Patient P000300</b><br>Age: 77, Female<br>Diabetes: Type 2<br>HbA1c: 10.7% (Δ -0.3%)<br>BMI: 27.0<br>Complications: 3<br>Comorbidities: 1<br>Treatment: Moderate<br>Risk: High Risk<br>Years with DM: 5.2",
          "<b>Patient P000034</b><br>Age: 49, Male<br>Diabetes: Type 1<br>HbA1c: 10.9% (Δ -1.2%)<br>BMI: 20.3<br>Complications: 1<br>Comorbidities: 1<br>Treatment: Good<br>Risk: High Risk<br>Years with DM: 10.7",
          "<b>Patient P000355</b><br>Age: 47, Male<br>Diabetes: Type 2<br>HbA1c: 10.2% (Δ -0.4%)<br>BMI: 33.3<br>Complications: 1<br>Comorbidities: 6<br>Treatment: Moderate<br>Risk: Moderate Risk<br>Years with DM: 2.8",
          "<b>Patient P000188</b><br>Age: 53, Male<br>Diabetes: Type 2<br>HbA1c: 10.5% (Δ -0.2%)<br>BMI: 38.6<br>Complications: 1<br>Comorbidities: 0<br>Treatment: Moderate<br>Risk: Moderate Risk<br>Years with DM: 0.8",
          "<b>Patient P000033</b><br>Age: 75, Male<br>Diabetes: Type 2<br>HbA1c: 10.5% (Δ -0.1%)<br>BMI: 30.2<br>Complications: 1<br>Comorbidities: 3<br>Treatment: Moderate<br>Risk: Moderate Risk<br>Years with DM: 1.6",
          "<b>Patient P000456</b><br>Age: 64, Female<br>Diabetes: Type 2<br>HbA1c: 11.2% (Δ -1.4%)<br>BMI: 23.0<br>Complications: 1<br>Comorbidities: 4<br>Treatment: Good<br>Risk: High Risk<br>Years with DM: 5.0",
          "<b>Patient P000307</b><br>Age: 57, Male<br>Diabetes: Type 2<br>HbA1c: 9.0% (Δ -0.7%)<br>BMI: 41.5<br>Complications: 1<br>Comorbidities: 4<br>Treatment: Good<br>Risk: High Risk<br>Years with DM: 10.1",
          "<b>Patient P000090</b><br>Age: 50, Female<br>Diabetes: Type 2<br>HbA1c: 10.7% (Δ -2.1%)<br>BMI: 38.0<br>Complications: 1<br>Comorbidities: 2<br>Treatment: Excellent<br>Risk: Moderate Risk<br>Years with DM: 4.1",
          "<b>Patient P000292</b><br>Age: 59, Male<br>Diabetes: Type 1<br>HbA1c: 9.6% (Δ -2.0%)<br>BMI: 24.0<br>Complications: 0<br>Comorbidities: 3<br>Treatment: Excellent<br>Risk: Moderate Risk<br>Years with DM: 5.9",
          "<b>Patient P000390</b><br>Age: 52, Male<br>Diabetes: Type 2<br>HbA1c: 9.5% (Δ +0.6%)<br>BMI: 26.6<br>Complications: 2<br>Comorbidities: 2<br>Treatment: Poor<br>Risk: Moderate Risk<br>Years with DM: 3.5",
          "<b>Patient P000070</b><br>Age: 60, Male<br>Diabetes: Type 2<br>HbA1c: 13.1% (Δ -0.9%)<br>BMI: 32.6<br>Complications: 2<br>Comorbidities: 0<br>Treatment: Good<br>Risk: High Risk<br>Years with DM: 0.5",
          "<b>Patient P000103</b><br>Age: 73, Male<br>Diabetes: Type 2<br>HbA1c: 9.8% (Δ -0.1%)<br>BMI: 36.3<br>Complications: 0<br>Comorbidities: 1<br>Treatment: Moderate<br>Risk: High Risk<br>Years with DM: 4.3",
          "<b>Patient P000264</b><br>Age: 65, Male<br>Diabetes: Type 2<br>HbA1c: 9.3% (Δ -1.5%)<br>BMI: 26.5<br>Complications: 1<br>Comorbidities: 3<br>Treatment: Excellent<br>Risk: High Risk<br>Years with DM: 6.4",
          "<b>Patient P000210</b><br>Age: 55, Male<br>Diabetes: Type 2<br>HbA1c: 9.0% (Δ -3.1%)<br>BMI: 31.2<br>Complications: 2<br>Comorbidities: 2<br>Treatment: Excellent<br>Risk: Very High Risk<br>Years with DM: 14.7",
          "<b>Patient P000444</b><br>Age: 71, Female<br>Diabetes: Type 2<br>HbA1c: 14.0% (Δ +0.0%)<br>BMI: 30.4<br>Complications: 2<br>Comorbidities: 3<br>Treatment: Moderate<br>Risk: High Risk<br>Years with DM: 0.7",
          "<b>Patient P000141</b><br>Age: 56, Female<br>Diabetes: Type 2<br>HbA1c: 9.4% (Δ -1.3%)<br>BMI: 31.8<br>Complications: 2<br>Comorbidities: 2<br>Treatment: Good<br>Risk: Moderate Risk<br>Years with DM: 3.6",
          "<b>Patient P000272</b><br>Age: 29, Female<br>Diabetes: Type 2<br>HbA1c: 11.5% (Δ -0.1%)<br>BMI: 28.5<br>Complications: 2<br>Comorbidities: 0<br>Treatment: Moderate<br>Risk: Moderate Risk<br>Years with DM: 2.1",
          "<b>Patient P000317</b><br>Age: 90, Female<br>Diabetes: Type 2<br>HbA1c: 9.3% (Δ -0.7%)<br>BMI: 25.4<br>Complications: 1<br>Comorbidities: 1<br>Treatment: Good<br>Risk: Moderate Risk<br>Years with DM: 2.1",
          "<b>Patient P000164</b><br>Age: 33, Male<br>Diabetes: Type 2<br>HbA1c: 10.3% (Δ -1.1%)<br>BMI: 30.5<br>Complications: 1<br>Comorbidities: 4<br>Treatment: Good<br>Risk: Moderate Risk<br>Years with DM: 4.2",
          "<b>Patient P000499</b><br>Age: 37, Female<br>Diabetes: Type 2<br>HbA1c: 10.2% (Δ -0.7%)<br>BMI: 41.4<br>Complications: 0<br>Comorbidities: 0<br>Treatment: Good<br>Risk: Moderate Risk<br>Years with DM: 1.0",
          "<b>Patient P000338</b><br>Age: 33, Female<br>Diabetes: Type 2<br>HbA1c: 10.7% (Δ +0.0%)<br>BMI: 31.5<br>Complications: 0<br>Comorbidities: 0<br>Treatment: Moderate<br>Risk: Moderate Risk<br>Years with DM: 3.1",
          "<b>Patient P000079</b><br>Age: 79, Female<br>Diabetes: Type 2<br>HbA1c: 11.2% (Δ +2.4%)<br>BMI: 30.7<br>Complications: 0<br>Comorbidities: 0<br>Treatment: Poor<br>Risk: High Risk<br>Years with DM: 2.8",
          "<b>Patient P000324</b><br>Age: 40, Male<br>Diabetes: Type 2<br>HbA1c: 9.9% (Δ -1.8%)<br>BMI: 29.2<br>Complications: 0<br>Comorbidities: 0<br>Treatment: Excellent<br>Risk: Moderate Risk<br>Years with DM: 1.8",
          "<b>Patient P000206</b><br>Age: 75, Male<br>Diabetes: Type 2<br>HbA1c: 10.8% (Δ -0.8%)<br>BMI: 38.5<br>Complications: 4<br>Comorbidities: 3<br>Treatment: Good<br>Risk: High Risk<br>Years with DM: 2.0",
          "<b>Patient P000274</b><br>Age: 59, Female<br>Diabetes: Type 2<br>HbA1c: 9.6% (Δ -0.4%)<br>BMI: 43.0<br>Complications: 1<br>Comorbidities: 3<br>Treatment: Moderate<br>Risk: Moderate Risk<br>Years with DM: 0.5",
          "<b>Patient P000190</b><br>Age: 55, Female<br>Diabetes: Type 2<br>HbA1c: 9.5% (Δ -1.5%)<br>BMI: 21.0<br>Complications: 0<br>Comorbidities: 6<br>Treatment: Excellent<br>Risk: Moderate Risk<br>Years with DM: 1.4",
          "<b>Patient P000269</b><br>Age: 56, Male<br>Diabetes: Type 2<br>HbA1c: 12.2% (Δ -1.8%)<br>BMI: 36.3<br>Complications: 2<br>Comorbidities: 1<br>Treatment: Excellent<br>Risk: High Risk<br>Years with DM: 2.4",
          "<b>Patient P000016</b><br>Age: 60, Male<br>Diabetes: Type 1<br>HbA1c: 9.9% (Δ -0.4%)<br>BMI: 25.7<br>Complications: 2<br>Comorbidities: 1<br>Treatment: Moderate<br>Risk: Moderate Risk<br>Years with DM: 0.6",
          "<b>Patient P000184</b><br>Age: 45, Male<br>Diabetes: Type 2<br>HbA1c: 10.4% (Δ -0.9%)<br>BMI: 41.3<br>Complications: 3<br>Comorbidities: 1<br>Treatment: Good<br>Risk: Moderate Risk<br>Years with DM: 4.3",
          "<b>Patient P000042</b><br>Age: 68, Male<br>Diabetes: Type 2<br>HbA1c: 9.7% (Δ -2.1%)<br>BMI: 26.9<br>Complications: 3<br>Comorbidities: 2<br>Treatment: Excellent<br>Risk: Moderate Risk<br>Years with DM: 1.4",
          "<b>Patient P000308</b><br>Age: 58, Female<br>Diabetes: Type 2<br>HbA1c: 10.7% (Δ -2.2%)<br>BMI: 39.1<br>Complications: 2<br>Comorbidities: 5<br>Treatment: Excellent<br>Risk: High Risk<br>Years with DM: 3.5",
          "<b>Patient P000088</b><br>Age: 47, Male<br>Diabetes: Type 2<br>HbA1c: 9.4% (Δ -1.1%)<br>BMI: 23.9<br>Complications: 2<br>Comorbidities: 3<br>Treatment: Good<br>Risk: Moderate Risk<br>Years with DM: 0.9",
          "<b>Patient P000358</b><br>Age: 67, Female<br>Diabetes: Type 2<br>HbA1c: 12.7% (Δ -1.0%)<br>BMI: 27.3<br>Complications: 3<br>Comorbidities: 1<br>Treatment: Good<br>Risk: High Risk<br>Years with DM: 1.6",
          "<b>Patient P000065</b><br>Age: 44, Female<br>Diabetes: Type 2<br>HbA1c: 9.3% (Δ -1.3%)<br>BMI: 34.9<br>Complications: 1<br>Comorbidities: 1<br>Treatment: Good<br>Risk: Moderate Risk<br>Years with DM: 3.3",
          "<b>Patient P000420</b><br>Age: 37, Female<br>Diabetes: Type 2<br>HbA1c: 10.5% (Δ -2.1%)<br>BMI: 33.8<br>Complications: 0<br>Comorbidities: 2<br>Treatment: Excellent<br>Risk: Moderate Risk<br>Years with DM: 0.3",
          "<b>Patient P000143</b><br>Age: 43, Female<br>Diabetes: Type 2<br>HbA1c: 13.2% (Δ +0.6%)<br>BMI: 30.3<br>Complications: 5<br>Comorbidities: 1<br>Treatment: Poor<br>Risk: High Risk<br>Years with DM: 6.1",
          "<b>Patient P000391</b><br>Age: 55, Female<br>Diabetes: Type 2<br>HbA1c: 9.4% (Δ -2.2%)<br>BMI: 31.3<br>Complications: 4<br>Comorbidities: 2<br>Treatment: Excellent<br>Risk: High Risk<br>Years with DM: 11.7",
          "<b>Patient P000459</b><br>Age: 75, Male<br>Diabetes: Type 2<br>HbA1c: 11.0% (Δ -1.3%)<br>BMI: 37.8<br>Complications: 2<br>Comorbidities: 7<br>Treatment: Good<br>Risk: High Risk<br>Years with DM: 6.2",
          "<b>Patient P000113</b><br>Age: 46, Male<br>Diabetes: Type 1<br>HbA1c: 10.4% (Δ -1.0%)<br>BMI: 24.7<br>Complications: 5<br>Comorbidities: 2<br>Treatment: Good<br>Risk: High Risk<br>Years with DM: 13.9",
          "<b>Patient P000298</b><br>Age: 33, Female<br>Diabetes: Type 2<br>HbA1c: 9.0% (Δ -2.5%)<br>BMI: 33.4<br>Complications: 4<br>Comorbidities: 1<br>Treatment: Excellent<br>Risk: High Risk<br>Years with DM: 10.8",
          "<b>Patient P000398</b><br>Age: 74, Female<br>Diabetes: Type 2<br>HbA1c: 9.5% (Δ -1.0%)<br>BMI: 30.2<br>Complications: 1<br>Comorbidities: 3<br>Treatment: Good<br>Risk: Moderate Risk<br>Years with DM: 3.2",
          "<b>Patient P000096</b><br>Age: 25, Female<br>Diabetes: Type 2<br>HbA1c: 10.6% (Δ -2.6%)<br>BMI: 33.2<br>Complications: 1<br>Comorbidities: 0<br>Treatment: Excellent<br>Risk: Moderate Risk<br>Years with DM: 3.7",
          "<b>Patient P000258</b><br>Age: 56, Male<br>Diabetes: Type 2<br>HbA1c: 9.7% (Δ -1.5%)<br>BMI: 29.1<br>Complications: 0<br>Comorbidities: 1<br>Treatment: Good<br>Risk: High Risk<br>Years with DM: 4.5",
          "<b>Patient P000464</b><br>Age: 22, Male<br>Diabetes: Type 2<br>HbA1c: 10.0% (Δ -2.4%)<br>BMI: 27.2<br>Complications: 2<br>Comorbidities: 3<br>Treatment: Excellent<br>Risk: Moderate Risk<br>Years with DM: 3.0",
          "<b>Patient P000369</b><br>Age: 43, Male<br>Diabetes: Type 2<br>HbA1c: 9.5% (Δ -0.4%)<br>BMI: 34.8<br>Complications: 2<br>Comorbidities: 0<br>Treatment: Moderate<br>Risk: Moderate Risk<br>Years with DM: 2.5",
          "<b>Patient P000400</b><br>Age: 52, Male<br>Diabetes: Type 2<br>HbA1c: 11.3% (Δ -1.0%)<br>BMI: 31.4<br>Complications: 1<br>Comorbidities: 1<br>Treatment: Good<br>Risk: High Risk<br>Years with DM: 4.5",
          "<b>Patient P000471</b><br>Age: 46, Male<br>Diabetes: Type 2<br>HbA1c: 10.4% (Δ -1.4%)<br>BMI: 41.0<br>Complications: 2<br>Comorbidities: 0<br>Treatment: Good<br>Risk: High Risk<br>Years with DM: 8.2",
          "<b>Patient P000431</b><br>Age: 63, Male<br>Diabetes: Type 2<br>HbA1c: 9.5% (Δ -2.0%)<br>BMI: 22.2<br>Complications: 0<br>Comorbidities: 3<br>Treatment: Excellent<br>Risk: Moderate Risk<br>Years with DM: 3.7",
          "<b>Patient P000334</b><br>Age: 47, Female<br>Diabetes: Type 1<br>HbA1c: 9.1% (Δ -1.3%)<br>BMI: 25.0<br>Complications: 3<br>Comorbidities: 4<br>Treatment: Good<br>Risk: Moderate Risk<br>Years with DM: 3.6",
          "<b>Patient P000176</b><br>Age: 35, Female<br>Diabetes: Type 2<br>HbA1c: 12.2% (Δ +0.4%)<br>BMI: 27.7<br>Complications: 3<br>Comorbidities: 1<br>Treatment: Moderate<br>Risk: High Risk<br>Years with DM: 7.5",
          "<b>Patient P000416</b><br>Age: 33, Male<br>Diabetes: Type 2<br>HbA1c: 11.5% (Δ -1.3%)<br>BMI: 28.2<br>Complications: 0<br>Comorbidities: 1<br>Treatment: Good<br>Risk: Moderate Risk<br>Years with DM: 2.2",
          "<b>Patient P000495</b><br>Age: 67, Male<br>Diabetes: Type 1<br>HbA1c: 9.9% (Δ -1.2%)<br>BMI: 24.6<br>Complications: 1<br>Comorbidities: 3<br>Treatment: Good<br>Risk: High Risk<br>Years with DM: 4.3",
          "<b>Patient P000422</b><br>Age: 42, Male<br>Diabetes: Type 2<br>HbA1c: 10.9% (Δ -1.3%)<br>BMI: 30.8<br>Complications: 3<br>Comorbidities: 2<br>Treatment: Good<br>Risk: Moderate Risk<br>Years with DM: 0.7",
          "<b>Patient P000197</b><br>Age: 66, Male<br>Diabetes: Type 2<br>HbA1c: 9.8% (Δ -1.1%)<br>BMI: 28.8<br>Complications: 1<br>Comorbidities: 2<br>Treatment: Good<br>Risk: High Risk<br>Years with DM: 6.7",
          "<b>Patient P000219</b><br>Age: 30, Male<br>Diabetes: Type 2<br>HbA1c: 9.0% (Δ -0.2%)<br>BMI: 26.2<br>Complications: 0<br>Comorbidities: 2<br>Treatment: Moderate<br>Risk: Moderate Risk<br>Years with DM: 5.4",
          "<b>Patient P000385</b><br>Age: 49, Female<br>Diabetes: Type 2<br>HbA1c: 9.7% (Δ -1.9%)<br>BMI: 29.8<br>Complications: 1<br>Comorbidities: 3<br>Treatment: Excellent<br>Risk: Moderate Risk<br>Years with DM: 3.4",
          "<b>Patient P000329</b><br>Age: 54, Male<br>Diabetes: Type 2<br>HbA1c: 9.5% (Δ -1.6%)<br>BMI: 21.9<br>Complications: 6<br>Comorbidities: 3<br>Treatment: Excellent<br>Risk: High Risk<br>Years with DM: 13.2",
          "<b>Patient P000181</b><br>Age: 54, Male<br>Diabetes: Type 2<br>HbA1c: 12.7% (Δ -1.3%)<br>BMI: 18.2<br>Complications: 1<br>Comorbidities: 4<br>Treatment: Good<br>Risk: High Risk<br>Years with DM: 4.8",
          "<b>Patient P000142</b><br>Age: 46, Male<br>Diabetes: Type 1<br>HbA1c: 10.9% (Δ -2.4%)<br>BMI: 30.5<br>Complications: 7<br>Comorbidities: 1<br>Treatment: Excellent<br>Risk: High Risk<br>Years with DM: 9.2",
          "<b>Patient P000149</b><br>Age: 53, Female<br>Diabetes: Type 2<br>HbA1c: 11.4% (Δ -1.4%)<br>BMI: 33.6<br>Complications: 2<br>Comorbidities: 2<br>Treatment: Good<br>Risk: High Risk<br>Years with DM: 4.2",
          "<b>Patient P000139</b><br>Age: 43, Female<br>Diabetes: Type 2<br>HbA1c: 11.1% (Δ -0.7%)<br>BMI: 27.4<br>Complications: 3<br>Comorbidities: 1<br>Treatment: Good<br>Risk: High Risk<br>Years with DM: 5.5",
          "<b>Patient P000020</b><br>Age: 41, Male<br>Diabetes: Type 2<br>HbA1c: 10.0% (Δ +0.4%)<br>BMI: 33.0<br>Complications: 1<br>Comorbidities: 3<br>Treatment: Moderate<br>Risk: Moderate Risk<br>Years with DM: 0.3",
          "<b>Patient P000099</b><br>Age: 42, Male<br>Diabetes: Type 1<br>HbA1c: 9.3% (Δ -1.3%)<br>BMI: 28.9<br>Complications: 2<br>Comorbidities: 1<br>Treatment: Good<br>Risk: High Risk<br>Years with DM: 8.4",
          "<b>Patient P000443</b><br>Age: 52, Female<br>Diabetes: Type 2<br>HbA1c: 10.0% (Δ -0.6%)<br>BMI: 26.1<br>Complications: 3<br>Comorbidities: 2<br>Treatment: Good<br>Risk: Very High Risk<br>Years with DM: 15.5",
          "<b>Patient P000343</b><br>Age: 45, Female<br>Diabetes: Type 2<br>HbA1c: 9.6% (Δ -1.3%)<br>BMI: 31.4<br>Complications: 2<br>Comorbidities: 0<br>Treatment: Good<br>Risk: High Risk<br>Years with DM: 8.2",
          "<b>Patient P000193</b><br>Age: 77, Female<br>Diabetes: Type 2<br>HbA1c: 9.6% (Δ -3.0%)<br>BMI: 39.6<br>Complications: 8<br>Comorbidities: 2<br>Treatment: Excellent<br>Risk: High Risk<br>Years with DM: 9.6",
          "<b>Patient P000155</b><br>Age: 33, Male<br>Diabetes: Type 2<br>HbA1c: 10.4% (Δ -1.6%)<br>BMI: 44.2<br>Complications: 3<br>Comorbidities: 3<br>Treatment: Excellent<br>Risk: Moderate Risk<br>Years with DM: 5.5",
          "<b>Patient P000441</b><br>Age: 71, Female<br>Diabetes: Type 2<br>HbA1c: 10.6% (Δ +0.6%)<br>BMI: 30.9<br>Complications: 0<br>Comorbidities: 1<br>Treatment: Poor<br>Risk: High Risk<br>Years with DM: 9.7",
          "<b>Patient P000132</b><br>Age: 66, Female<br>Diabetes: Type 2<br>HbA1c: 10.9% (Δ -0.6%)<br>BMI: 29.6<br>Complications: 2<br>Comorbidities: 1<br>Treatment: Good<br>Risk: High Risk<br>Years with DM: 3.5",
          "<b>Patient P000129</b><br>Age: 62, Female<br>Diabetes: Type 2<br>HbA1c: 9.3% (Δ -2.2%)<br>BMI: 29.7<br>Complications: 1<br>Comorbidities: 0<br>Treatment: Excellent<br>Risk: High Risk<br>Years with DM: 11.2",
          "<b>Patient P000387</b><br>Age: 30, Male<br>Diabetes: Type 1<br>HbA1c: 9.3% (Δ +0.6%)<br>BMI: 23.1<br>Complications: 1<br>Comorbidities: 0<br>Treatment: Poor<br>Risk: Moderate Risk<br>Years with DM: 0.9",
          "<b>Patient P000344</b><br>Age: 42, Male<br>Diabetes: Type 2<br>HbA1c: 9.1% (Δ -1.2%)<br>BMI: 34.0<br>Complications: 2<br>Comorbidities: 4<br>Treatment: Good<br>Risk: High Risk<br>Years with DM: 6.6",
          "<b>Patient P000145</b><br>Age: 60, Female<br>Diabetes: Type 2<br>HbA1c: 9.2% (Δ -1.0%)<br>BMI: 25.4<br>Complications: 0<br>Comorbidities: 3<br>Treatment: Good<br>Risk: High Risk<br>Years with DM: 10.0",
          "<b>Patient P000140</b><br>Age: 53, Male<br>Diabetes: Type 2<br>HbA1c: 9.5% (Δ -2.6%)<br>BMI: 25.6<br>Complications: 1<br>Comorbidities: 2<br>Treatment: Excellent<br>Risk: Moderate Risk<br>Years with DM: 4.2",
          "<b>Patient P000270</b><br>Age: 43, Female<br>Diabetes: Type 1<br>HbA1c: 12.4% (Δ -1.1%)<br>BMI: 23.6<br>Complications: 0<br>Comorbidities: 1<br>Treatment: Good<br>Risk: High Risk<br>Years with DM: 8.9",
          "<b>Patient P000228</b><br>Age: 55, Female<br>Diabetes: Type 2<br>HbA1c: 9.2% (Δ -2.2%)<br>BMI: 33.8<br>Complications: 4<br>Comorbidities: 1<br>Treatment: Excellent<br>Risk: High Risk<br>Years with DM: 8.7",
          "<b>Patient P000024</b><br>Age: 52, Male<br>Diabetes: Type 2<br>HbA1c: 10.8% (Δ -2.0%)<br>BMI: 34.3<br>Complications: 2<br>Comorbidities: 1<br>Treatment: Excellent<br>Risk: Moderate Risk<br>Years with DM: 2.1",
          "<b>Patient P000235</b><br>Age: 62, Female<br>Diabetes: Type 2<br>HbA1c: 9.6% (Δ +0.4%)<br>BMI: 21.7<br>Complications: 0<br>Comorbidities: 2<br>Treatment: Moderate<br>Risk: Moderate Risk<br>Years with DM: 3.7",
          "<b>Patient P000226</b><br>Age: 51, Female<br>Diabetes: Type 2<br>HbA1c: 12.3% (Δ -1.1%)<br>BMI: 37.6<br>Complications: 1<br>Comorbidities: 1<br>Treatment: Good<br>Risk: Moderate Risk<br>Years with DM: 0.9",
          "<b>Patient P000331</b><br>Age: 66, Female<br>Diabetes: Type 2<br>HbA1c: 12.0% (Δ -1.1%)<br>BMI: 29.1<br>Complications: 2<br>Comorbidities: 1<br>Treatment: Good<br>Risk: High Risk<br>Years with DM: 8.1",
          "<b>Patient P000438</b><br>Age: 52, Male<br>Diabetes: Type 2<br>HbA1c: 9.2% (Δ -1.3%)<br>BMI: 28.5<br>Complications: 1<br>Comorbidities: 6<br>Treatment: Good<br>Risk: Moderate Risk<br>Years with DM: 0.8",
          "<b>Patient P000309</b><br>Age: 65, Female<br>Diabetes: Type 2<br>HbA1c: 9.7% (Δ -2.1%)<br>BMI: 33.5<br>Complications: 0<br>Comorbidities: 1<br>Treatment: Excellent<br>Risk: Moderate Risk<br>Years with DM: 2.3",
          "<b>Patient P000112</b><br>Age: 18, Male<br>Diabetes: Type 2<br>HbA1c: 10.3% (Δ -0.3%)<br>BMI: 27.5<br>Complications: 1<br>Comorbidities: 1<br>Treatment: Moderate<br>Risk: Moderate Risk<br>Years with DM: 0.1",
          "<b>Patient P000127</b><br>Age: 43, Female<br>Diabetes: Type 2<br>HbA1c: 9.5% (Δ -1.3%)<br>BMI: 25.8<br>Complications: 1<br>Comorbidities: 1<br>Treatment: Good<br>Risk: Moderate Risk<br>Years with DM: 3.0",
          "<b>Patient P000049</b><br>Age: 95, Male<br>Diabetes: Type 2<br>HbA1c: 9.0% (Δ -1.1%)<br>BMI: 45.0<br>Complications: 3<br>Comorbidities: 2<br>Treatment: Good<br>Risk: Very High Risk<br>Years with DM: 10.3",
          "<b>Patient P000170</b><br>Age: 48, Female<br>Diabetes: Type 2<br>HbA1c: 10.4% (Δ -1.2%)<br>BMI: 36.7<br>Complications: 0<br>Comorbidities: 0<br>Treatment: Good<br>Risk: Moderate Risk<br>Years with DM: 0.3",
          "<b>Patient P000015</b><br>Age: 22, Male<br>Diabetes: Type 2<br>HbA1c: 10.5% (Δ -0.5%)<br>BMI: 24.6<br>Complications: 4<br>Comorbidities: 3<br>Treatment: Good<br>Risk: High Risk<br>Years with DM: 13.2",
          "<b>Patient P000484</b><br>Age: 63, Male<br>Diabetes: Type 2<br>HbA1c: 10.3% (Δ -0.7%)<br>BMI: 35.4<br>Complications: 1<br>Comorbidities: 3<br>Treatment: Good<br>Risk: High Risk<br>Years with DM: 4.7",
          "<b>Patient P000097</b><br>Age: 56, Female<br>Diabetes: Type 2<br>HbA1c: 9.9% (Δ -1.5%)<br>BMI: 24.4<br>Complications: 4<br>Comorbidities: 1<br>Treatment: Good<br>Risk: Moderate Risk<br>Years with DM: 0.1",
          "<b>Patient P000297</b><br>Age: 67, Female<br>Diabetes: Type 2<br>HbA1c: 10.5% (Δ -1.5%)<br>BMI: 26.1<br>Complications: 2<br>Comorbidities: 3<br>Treatment: Good<br>Risk: Moderate Risk<br>Years with DM: 0.3",
          "<b>Patient P000373</b><br>Age: 72, Female<br>Diabetes: Type 2<br>HbA1c: 10.4% (Δ -0.9%)<br>BMI: 26.8<br>Complications: 4<br>Comorbidities: 2<br>Treatment: Good<br>Risk: High Risk<br>Years with DM: 8.5",
          "<b>Patient P000253</b><br>Age: 80, Male<br>Diabetes: Type 1<br>HbA1c: 11.4% (Δ -1.9%)<br>BMI: 21.1<br>Complications: 1<br>Comorbidities: 2<br>Treatment: Excellent<br>Risk: High Risk<br>Years with DM: 2.9",
          "<b>Patient P000341</b><br>Age: 64, Male<br>Diabetes: Type 2<br>HbA1c: 9.0% (Δ -1.7%)<br>BMI: 31.5<br>Complications: 0<br>Comorbidities: 5<br>Treatment: Excellent<br>Risk: Moderate Risk<br>Years with DM: 0.4",
          "<b>Patient P000345</b><br>Age: 57, Male<br>Diabetes: Type 2<br>HbA1c: 10.1% (Δ -1.9%)<br>BMI: 21.1<br>Complications: 3<br>Comorbidities: 1<br>Treatment: Excellent<br>Risk: High Risk<br>Years with DM: 6.1",
          "<b>Patient P000078</b><br>Age: 52, Female<br>Diabetes: Type 2<br>HbA1c: 9.9% (Δ +0.3%)<br>BMI: 28.0<br>Complications: 4<br>Comorbidities: 2<br>Treatment: Moderate<br>Risk: Moderate Risk<br>Years with DM: 2.3",
          "<b>Patient P000497</b><br>Age: 89, Male<br>Diabetes: Type 2<br>HbA1c: 10.8% (Δ -0.1%)<br>BMI: 30.1<br>Complications: 0<br>Comorbidities: 2<br>Treatment: Moderate<br>Risk: High Risk<br>Years with DM: 2.1",
          "<b>Patient P000209</b><br>Age: 66, Female<br>Diabetes: Type 2<br>HbA1c: 9.8% (Δ -1.7%)<br>BMI: 31.9<br>Complications: 1<br>Comorbidities: 2<br>Treatment: Excellent<br>Risk: Moderate Risk<br>Years with DM: 0.6",
          "<b>Patient P000322</b><br>Age: 53, Female<br>Diabetes: Type 2<br>HbA1c: 9.8% (Δ -2.3%)<br>BMI: 36.2<br>Complications: 1<br>Comorbidities: 1<br>Treatment: Excellent<br>Risk: Moderate Risk<br>Years with DM: 1.9",
          "<b>Patient P000116</b><br>Age: 53, Female<br>Diabetes: Type 2<br>HbA1c: 11.4% (Δ +0.4%)<br>BMI: 33.9<br>Complications: 1<br>Comorbidities: 2<br>Treatment: Moderate<br>Risk: Moderate Risk<br>Years with DM: 2.0",
          "<b>Patient P000040</b><br>Age: 58, Female<br>Diabetes: Type 2<br>HbA1c: 11.7% (Δ -0.5%)<br>BMI: 29.2<br>Complications: 0<br>Comorbidities: 0<br>Treatment: Good<br>Risk: High Risk<br>Years with DM: 2.9",
          "<b>Patient P000425</b><br>Age: 78, Female<br>Diabetes: Type 2<br>HbA1c: 11.5% (Δ -2.0%)<br>BMI: 31.0<br>Complications: 2<br>Comorbidities: 4<br>Treatment: Excellent<br>Risk: Very High Risk<br>Years with DM: 9.3",
          "<b>Patient P000201</b><br>Age: 49, Female<br>Diabetes: Type 1<br>HbA1c: 9.9% (Δ -1.4%)<br>BMI: 31.8<br>Complications: 2<br>Comorbidities: 1<br>Treatment: Good<br>Risk: Moderate Risk<br>Years with DM: 2.5",
          "<b>Patient P000174</b><br>Age: 58, Female<br>Diabetes: Type 1<br>HbA1c: 10.1% (Δ -1.2%)<br>BMI: 23.8<br>Complications: 3<br>Comorbidities: 2<br>Treatment: Good<br>Risk: High Risk<br>Years with DM: 8.6",
          "<b>Patient P000479</b><br>Age: 72, Female<br>Diabetes: Type 2<br>HbA1c: 9.1% (Δ -1.6%)<br>BMI: 31.0<br>Complications: 1<br>Comorbidities: 3<br>Treatment: Excellent<br>Risk: Moderate Risk<br>Years with DM: 1.7",
          "<b>Patient P000451</b><br>Age: 41, Female<br>Diabetes: Type 2<br>HbA1c: 11.5% (Δ -0.8%)<br>BMI: 31.7<br>Complications: 0<br>Comorbidities: 1<br>Treatment: Good<br>Risk: High Risk<br>Years with DM: 6.5",
          "<b>Patient P000306</b><br>Age: 53, Female<br>Diabetes: Type 2<br>HbA1c: 11.1% (Δ -1.8%)<br>BMI: 35.6<br>Complications: 5<br>Comorbidities: 1<br>Treatment: Excellent<br>Risk: Very High Risk<br>Years with DM: 26.4",
          "<b>Patient P000439</b><br>Age: 84, Male<br>Diabetes: Type 2<br>HbA1c: 13.6% (Δ +0.3%)<br>BMI: 22.6<br>Complications: 3<br>Comorbidities: 4<br>Treatment: Moderate<br>Risk: Very High Risk<br>Years with DM: 20.3",
          "<b>Patient P000232</b><br>Age: 43, Female<br>Diabetes: Type 1<br>HbA1c: 9.2% (Δ -1.5%)<br>BMI: 21.9<br>Complications: 1<br>Comorbidities: 3<br>Treatment: Excellent<br>Risk: Moderate Risk<br>Years with DM: 7.6",
          "<b>Patient P000295</b><br>Age: 59, Male<br>Diabetes: Type 2<br>HbA1c: 10.0% (Δ +0.9%)<br>BMI: 24.9<br>Complications: 5<br>Comorbidities: 2<br>Treatment: Poor<br>Risk: Very High Risk<br>Years with DM: 20.8",
          "<b>Patient P000365</b><br>Age: 45, Male<br>Diabetes: Type 2<br>HbA1c: 12.1% (Δ +0.0%)<br>BMI: 34.1<br>Complications: 2<br>Comorbidities: 4<br>Treatment: Moderate<br>Risk: Moderate Risk<br>Years with DM: 1.7",
          "<b>Patient P000256</b><br>Age: 81, Female<br>Diabetes: Type 2<br>HbA1c: 9.8% (Δ -1.1%)<br>BMI: 30.1<br>Complications: 1<br>Comorbidities: 0<br>Treatment: Good<br>Risk: Moderate Risk<br>Years with DM: 1.0",
          "<b>Patient P000106</b><br>Age: 50, Male<br>Diabetes: Type 2<br>HbA1c: 9.6% (Δ -1.4%)<br>BMI: 36.0<br>Complications: 2<br>Comorbidities: 1<br>Treatment: Good<br>Risk: Moderate Risk<br>Years with DM: 5.1",
          "<b>Patient P000062</b><br>Age: 63, Female<br>Diabetes: Type 2<br>HbA1c: 9.5% (Δ -1.2%)<br>BMI: 24.1<br>Complications: 0<br>Comorbidities: 1<br>Treatment: Good<br>Risk: Moderate Risk<br>Years with DM: 0.9",
          "<b>Patient P000346</b><br>Age: 34, Female<br>Diabetes: Type 2<br>HbA1c: 9.1% (Δ -1.8%)<br>BMI: 24.5<br>Complications: 1<br>Comorbidities: 1<br>Treatment: Excellent<br>Risk: Moderate Risk<br>Years with DM: 2.4",
          "<b>Patient P000348</b><br>Age: 31, Female<br>Diabetes: Type 2<br>HbA1c: 10.7% (Δ -1.3%)<br>BMI: 39.0<br>Complications: 2<br>Comorbidities: 0<br>Treatment: Good<br>Risk: Moderate Risk<br>Years with DM: 2.2",
          "<b>Patient P000194</b><br>Age: 59, Male<br>Diabetes: Type 1<br>HbA1c: 10.2% (Δ +0.6%)<br>BMI: 25.0<br>Complications: 1<br>Comorbidities: 1<br>Treatment: Poor<br>Risk: Moderate Risk<br>Years with DM: 0.6",
          "<b>Patient P000205</b><br>Age: 50, Female<br>Diabetes: Type 2<br>HbA1c: 9.7% (Δ +0.0%)<br>BMI: 34.2<br>Complications: 2<br>Comorbidities: 1<br>Treatment: Moderate<br>Risk: High Risk<br>Years with DM: 8.6",
          "<b>Patient P000408</b><br>Age: 72, Male<br>Diabetes: Type 2<br>HbA1c: 10.0% (Δ -0.2%)<br>BMI: 28.7<br>Complications: 3<br>Comorbidities: 1<br>Treatment: Moderate<br>Risk: Very High Risk<br>Years with DM: 12.2",
          "<b>Patient P000418</b><br>Age: 67, Male<br>Diabetes: Type 2<br>HbA1c: 11.0% (Δ -1.4%)<br>BMI: 37.6<br>Complications: 1<br>Comorbidities: 2<br>Treatment: Good<br>Risk: Moderate Risk<br>Years with DM: 0.2",
          "<b>Patient P000333</b><br>Age: 71, Female<br>Diabetes: Type 2<br>HbA1c: 9.6% (Δ -0.5%)<br>BMI: 32.3<br>Complications: 2<br>Comorbidities: 3<br>Treatment: Good<br>Risk: High Risk<br>Years with DM: 6.7",
          "<b>Patient P000203</b><br>Age: 68, Female<br>Diabetes: Type 2<br>HbA1c: 9.6% (Δ -0.8%)<br>BMI: 33.6<br>Complications: 1<br>Comorbidities: 2<br>Treatment: Good<br>Risk: Moderate Risk<br>Years with DM: 4.2",
          "<b>Patient P000427</b><br>Age: 83, Female<br>Diabetes: Type 2<br>HbA1c: 10.6% (Δ -1.2%)<br>BMI: 38.8<br>Complications: 2<br>Comorbidities: 2<br>Treatment: Good<br>Risk: High Risk<br>Years with DM: 3.8",
          "<b>Patient P000063</b><br>Age: 43, Male<br>Diabetes: Type 2<br>HbA1c: 10.3% (Δ -1.4%)<br>BMI: 40.6<br>Complications: 5<br>Comorbidities: 4<br>Treatment: Good<br>Risk: High Risk<br>Years with DM: 9.7",
          "<b>Patient P000208</b><br>Age: 53, Female<br>Diabetes: Type 2<br>HbA1c: 9.4% (Δ -1.4%)<br>BMI: 32.7<br>Complications: 1<br>Comorbidities: 3<br>Treatment: Good<br>Risk: Moderate Risk<br>Years with DM: 0.1",
          "<b>Patient P000311</b><br>Age: 50, Female<br>Diabetes: Type 2<br>HbA1c: 9.9% (Δ -1.3%)<br>BMI: 31.3<br>Complications: 2<br>Comorbidities: 1<br>Treatment: Good<br>Risk: High Risk<br>Years with DM: 6.7",
          "<b>Patient P000050</b><br>Age: 50, Female<br>Diabetes: Type 2<br>HbA1c: 10.2% (Δ -1.6%)<br>BMI: 36.2<br>Complications: 1<br>Comorbidities: 0<br>Treatment: Excellent<br>Risk: Moderate Risk<br>Years with DM: 2.6",
          "<b>Patient P000110</b><br>Age: 64, Male<br>Diabetes: Type 2<br>HbA1c: 9.1% (Δ -2.0%)<br>BMI: 35.8<br>Complications: 2<br>Comorbidities: 2<br>Treatment: Excellent<br>Risk: Moderate Risk<br>Years with DM: 3.9",
          "<b>Patient P000487</b><br>Age: 64, Male<br>Diabetes: Type 2<br>HbA1c: 11.5% (Δ -2.0%)<br>BMI: 29.6<br>Complications: 1<br>Comorbidities: 3<br>Treatment: Excellent<br>Risk: Very High Risk<br>Years with DM: 14.2",
          "<b>Patient P000066</b><br>Age: 39, Male<br>Diabetes: Type 2<br>HbA1c: 9.8% (Δ -1.3%)<br>BMI: 28.6<br>Complications: 2<br>Comorbidities: 1<br>Treatment: Good<br>Risk: Moderate Risk<br>Years with DM: 3.1",
          "<b>Patient P000354</b><br>Age: 40, Male<br>Diabetes: Type 2<br>HbA1c: 11.3% (Δ -0.4%)<br>BMI: 31.1<br>Complications: 2<br>Comorbidities: 1<br>Treatment: Moderate<br>Risk: High Risk<br>Years with DM: 7.7",
          "<b>Patient P000318</b><br>Age: 58, Female<br>Diabetes: Type 1<br>HbA1c: 10.4% (Δ -1.7%)<br>BMI: 23.4<br>Complications: 3<br>Comorbidities: 3<br>Treatment: Excellent<br>Risk: Moderate Risk<br>Years with DM: 2.8",
          "<b>Patient P000134</b><br>Age: 53, Male<br>Diabetes: Type 2<br>HbA1c: 10.5% (Δ -1.7%)<br>BMI: 29.7<br>Complications: 0<br>Comorbidities: 0<br>Treatment: Excellent<br>Risk: High Risk<br>Years with DM: 5.9",
          "<b>Patient P000006</b><br>Age: 20, Male<br>Diabetes: Type 2<br>HbA1c: 9.6% (Δ -2.6%)<br>BMI: 28.0<br>Complications: 1<br>Comorbidities: 0<br>Treatment: Excellent<br>Risk: Moderate Risk<br>Years with DM: 5.9",
          "<b>Patient P000178</b><br>Age: 44, Female<br>Diabetes: Type 2<br>HbA1c: 11.0% (Δ -0.7%)<br>BMI: 21.9<br>Complications: 4<br>Comorbidities: 1<br>Treatment: Good<br>Risk: Very High Risk<br>Years with DM: 12.7"
         ],
         "type": "scatter3d",
         "x": {
          "bdata": "2reBgalE6b/t0EELBDfQv/Ai19HKd+K/kM0LHiKk9b+y6QYMWhfhv6Dy2ohCE+2/CTHXM7QN3b8R1USrnNnmv0+ZYD7Nt7W/4CiS/mtHyr8ddL5RVs7SvyCCiLPqF7E/tTX9LbSq4L+toSGVuWXpvz35wjh7HK6/sGOAPynF679PItnQxLXuv+P14r/Wo6C/yK/E845f8L/NNgRsuQD0v6iNiuBQEfO/vZjXkC/N8L9b34NqIIDEv8z+r4AgquC/ykgJv0Fi87/e6ohRS3rAv54wfttb6Oe/CKQsKwny77+MCnjEc9zwv6w+x4iqQ8C/oyIOLe0O+r/CNoyWNVTtvzJkxqf28te/OvZ4OQTU4b/cu5qmP/vbv+fyrs4zZdC/Os1i6/kk8L9bGKWe8ji7v2GBH2OTseW/Le3ouml5679MzHBicSrhv0PN8ZnZCOs/3zoYB3hoxj9CSC5Y6sj4v+8q4+QAb+y/DpZF2dVdur+6DjDDeG/cv2o3NKMVIfC/MvYJQ8eY7784ScyeTS30v22c1t2WPN+/QL22wHhA4L/H6QIHuP/6vySxNwA4D+a/dyjYb6t52b82fUqJ2fLkv6B89cOhde6/SXFoqzpt5L+YT/UH2cXrvzc/d6tZjum/maJ+W7PdwL++d1LhWsTpv7JuqcYHyvO/DLfe2dT4nb+nuzFJIHvHvxQYMkMxHsM/eFzSmSqLub8EIbfIrYTyv32hd+4tJOW/leesg+7N7L8KKkI0cWHpv7sr2r00UdQ/zIBfAbcY879LUaZ7zZWtP3H7rDzi6PS/PIsoVB44rj8Lu/RcBp7jv7jrhIfQV/y/wNfPWzVB27+of92HjhLsv5K6GmKYBq2/isOHWd6Fnj+WisyoCXT0vzcUk6YlpuG/mSpBjNf06T8vtooIZRr0vwq5sV4Vhte/OjTR4gt+tT9wX118/AWoP761sh2ryNC/GPu6eoIJ878MgrJ/57KRv2Z4Od1XVuO/5f5WFDZH8r/n9xr4IHvov2eIJpbzDLY/x6sNajHmb792R3iNjMLRv0dJJRyPP+G/YZi+lQRk3L953/BmfUXov6gv/xpxMue/BtsWABgk6L/ru5Bbx1biv48lygrSeOW/BbppB/DAz7+sF2pz5p3vv/XjBmH+Z8a/XiDNOsUZ4b9Pi20eaBX0v4k6IYaEuei/RL+GKhDP6b8n+RM/SknlvzVM+IWHNta/pfZrsaTNrL+WlGi+rsnXv4TGlE70nei/ou4oCDYazD95y4bxCZnJv8P5eEm2js6/lcJ4dhQ52b9wbMZrixv2vxbaeR4Py/C/YKGJ5seL3L/apqROmn3avzPDupBPU+S/jzMP4TjY9r+f7PImndLAP/hgcdhdX/O/hEclMQnV778hWyqx9mqyvwqh5ZKer9+/dJ1yowZm6b9T1OL9wWjyv6b1SG2NB+A/u/zo6n5txj+z+p1LdHzyv1woXuAU69e/1NaEfCq29787oxDqwrrwv2dZ/VKRQdC/ilsg1N9Q4L+zHTheFlDyv3N3viSIBbG/NLTopMiA5r9WIzgsKXKuPyO4a85cL7S/DKMlkPZp8b/AFhFHWNW3vypaXYmNOey/TWYhmu973L9ERb3knQrgv/PBSq4XUcS/qsqy+qThwb+kDMEmb5Dsv8GsSPKLeee/smYQlk6L078PrqG3Y+/hv45jgMzSHdC/ojb6A+Mr7L9hBYEStoz0v/PZeeIIIeQ/BOyp8jDG57+hXxFVCDHgP6MAdY0rV+O/OJpjGGyX9L8AMfw3gJf0vw==",
          "dtype": "f8"
         },
         "y": {
          "bdata": "Msb3kda21L/UOkqHjJPNv+LYxLfIU9w/o67LRZd9uD8xV4gdSzXLv/dfqnvew7u/6YnNB/6D4L9jHqn2M6mHP0qvCsoex86/6OvIPzsV8L+/XQAydpvHP04NQFTvqN2/n4N3d9dWxT+tHJv/KlvVv5QWg9EnxeW/Pefs46+j3z+hBEGZx//lv9YPZOybM7E/kYcjzpL0N7+yPteD1Ra2v46IxuFXeMu/b+E0a6KMwr8dxMZV4NvjP6AOjYGFsvi/njbbbKQn4L/U91KpbETxPxvLaROcRds/2uouln2/oL/jcfyW3VjXvzHSzAzSvME/XnVgJvGq2D/oTN7MF4jKv460yYk6sK0/rlO9sSXst7/L78uA9p/0vy3hgO5S1NK/Zi0xhbGb6L/BeN1yR6TiP7zFt8Qtqru/Ke/MDPPfwj+fROSlZOnRP7AnljH/h/C/6fwUN+fB3b/vRqleEOLGv1s1p8ghhec/glpRYNTAzD9OL6Scr7bKv4up76nFodW/AqEbcL/o2L+lTmCNPS/vv4G1Sj9h6OE/ZXEoE7SKxD/qvRuXMuDWv7RlhCvclcw/TmCa/E5M8L8SUEGsf2vQP6g6+hqw3ts/cmPaoYTWuD+eO8FPb4DhPyflt/a/7Ny/t1qYXHRE9r84f2xLXaTov0eSt7KGOsg/Ql52Pz6m4L9jOSYEC7zdvw2o+9CUc+a/oLUiszEi4j8+I3elZvq1PzfCOjhUBN2/XNF8b9SZm78il2t67rrbv06fZkJc+u6/m5SzZ3VW/L5cW1BOqlvgP70ygzkCcNC/8KUh34Qf5L9x8/5hW/jiP14bW4hTbdi/NUY/w9Pm2T/JDsR+3YnePwGomJXH8mk/6oLWYOKE678iaehaCaDAP3UXosHjcMK/W1wQQ4xy7L9WZmOZ4N61vxc6mGjjorS/1FrE+tgR7j8AcR1tSR+kv7ZkaERlKtS/PtideGCGuz+x/3Kqp1Plvx1saWD0M8u/g4DXzuyT3T+SHqGpQkXMP3m6BTBmIO+/uJRXtKJuuT/f762G/ijlvwdOALkvKcs/Ec9YyVDR0T+w3JP9hQnSv6/0AJpGr8a/JXOATYzCoT+G07a6dKz5v6lFruSuq4e/0ZmqlamP5z9kBmTnDoTQv/GewQexUPa/RhBNlm990b9ohLy5ZlvAP0G9yS8+tOM/wvmX8BTkyr9MpC3lSJ7Uv+nvqqWj7bW/ty7rug9Vxr+5cnhP0O/Rv4AbRBVdeOq/vBZ5+Buh0b9WbBJxUnz4v0htydsF0dY/BLCR9xvo4r+ku5NbHcPiv+xX51fLuMs/s3JJfB9Dsr/d+RRL9Yrxv+w1gbEEAbc/dY+kQGUrxr81gS41hvXhP8q0++kHgMg/m2zR1Gd6wL9c2oPwO4Hbv2BlM5V6st6/WZelg4KRxD/kF0YKwxe6v07yfBNacvG/2Ce5PcWx9L93RwQiCmG6v3/gM4vxkeC/iMLzc1mC4b+O3WAe06DBP0ZRULMec+O/K8JZHnuJzD/PaOGX3hrhPwBtlkKEVeC/6hM2zkwxtj/jtdjOQfHCv1RLoTSxM8w/AL/IMBdt87+SwXCQxa/0v9PsXHajMt8/flN2VbGT1r/ScrD2kiDTvzoFbSF8RNi/MjTHPv+K2D8/VbwirvHgPyfx6neKEN2/uF97UoV37z8/9XTu/LSzv62+GENOC+a/cryTcSu6hT+c6QXK8JTDPzQqyXLUa+2/y78irsgv1D9QDvUf7zLxv/XHqHM4/dE/Ez/iQpRvx7+yNACj9zTAPw==",
          "dtype": "f8"
         },
         "z": {
          "bdata": "YvSC5L080b+q6hTGmQrPP46RReUMf9o/IFNY28YetT8G0rmxNnfav/Q1ViBmsaE/heUTuWoH2D8+9DAmP1fsP0PM8j17tcW/ND8coOvb4z+jve+pCNi4P4vKOz1ug9C/izvNy3sBpj/WpgTDMxzbP/Ul1vYb/dk/8gW2f7wl0j+9u6WkkSTXP+geGilQSN+/w6g1SknDuT9AygyaR0rRP4Hmh9OIZOI/GucAp0eCzj/PfOqE/dvdP1Btoujc6ts/CsIl64FnxD/l4UFrEuvGvwjZ1QQhC+g/HDuhWbby4T/IkJeiJu3Kv4Pku/jxLeA/sv8ua31C0z/C9Pz0hyjUv0bCvW9NG7G/NuLiwA2ArD+ZVIWCGPvpPyweNMjE4tQ/19skKTiO1r+Zx/02xGXhP0W87Rreqak/Rpy+8LBI0T+MY+8O7JjIP01HVeASJeI/ckC/jZwU5D8JvnN5X1uxv7xWmPxYK9W/Z6KWIBlGzD/0PTZLu7PMP0kZckTLkdo/MBjJvpVk1j+5I96QQTDVv/squblDMtS/360f46TtzT8KsDmbvEG7P6xtuXpFRrC/vejXpN8O77+T9ryb65i/P9LkpxXqkdY/Ivc+jnl+wL+kLpM6K67kP+Uw7CUdKdi/Q6IyM+ua3T/19vFXdlVtP/pI78Tr+dw/arnNKlyRyL+cbsGT8rOyPxJHRWTAYN4/1m+9SmH7tr+ovlMoQqZ+P2p+7Wm2v7A/4++KGozj2b9k2QWkKiXPP3St7w0REug/mRy2DfIS17+vfR6AED/RP+BoWOvYpca/d7nRt27z0z/6S4L6BjrHP/unDX0TMsI/MD6vIp/B5D+okszR/Y20P6xY/rnyq78/kV/4Kqqi4j+Tpx5aQZ7RPyjJtC0c9sy/b1rzbOsy2z+IRgTIt4S9v3lRwJwgIfA/vdMf1iCr2j899fBLYunWv8sPslfXD9k/unBHnfYlqj9jvsdE3B3vP+JHuV4TQtK/Kw0/uGdsyL/ql6ojyamkv4bXkYDivNs/oFkpXBF20D8QYDlGlBrXv7M+uo1KN7w/VfTQzzqm3T/as1OFCTXgv3Z9dmh3ssk/rapoJBrKwj9RaMDLrrfrP0BBma8zaM4/e3ZelByM0r/PvKUrZLvOv0UHH2I6geE/I7CH/nT0yb9YzJSAfZmmP+regWncxba/5H8Mx3nOzj86R6+4liGdP5SZgFZvXNw/VZxovVec1L+HJFBsDy7bv5gsjHlg59u/PUxNbsfx4L86ugHQCbXZv87qiBsWm+g/K+ORWR6B2b/w4tnV9TDQP0/qkFQ+J8I/lO48LHjm4z+XxbPFA0XMP47bkD4AZNq/QtORnxIF0r8yfppUmpPSP3K39uKDg8q/v/Q/YVX8mz8gp/NXS73Yv3mPfHfv5+E/NJpM+DZ507/bg393M1HAPwYsfErpK+M/m4q/TdNB4T/09rVOpTxTvwktndl2VeK/UbL+R1bo2z/F1O+ryBbQP2G0HNWGIPA/9qO8EKN337+N6yA1g0vZP7+/7cpy7dQ/veRsJHvoir/T6v4U87Duvzt89CQEb8W/C0mKnp9fvD/9ZSDGSdjfP1XUlYdYZM4/QF4kNNs03D/GzDXZicjwP4UnH7cTnbi//GUfX8kc278sqYlTsTLKP22+hrqa98i/0iJkGIko4j9xiEwEddvpv3Z/1FaZYcW/9dw5oksNj7/Q9wRgcXfKP5Rl1DYZa9Y/eNN95/TT1r91bGOdvBHjPzLymQYue+u/qgcDzOd7jD/gWDiXDe/kPw==",
          "dtype": "f8"
         }
        },
        {
         "hovertemplate": "%{text}<extra></extra>",
         "marker": {
          "color": "#2ecc71",
          "line": {
           "color": "white",
           "width": 0.5
          },
          "opacity": 0.8,
          "size": {
           "bdata": "AAAAAAAAEEAAAAAAAAAcQAAAAAAAABxAAAAAAAAAEEAAAAAAAAAQQAAAAAAAABBAAAAAAAAAEEAAAAAAAAAQQAAAAAAAABZAAAAAAAAAFkAAAAAAAAAWQAAAAAAAABZAAAAAAAAAIUAAAAAAAAAQQAAAAAAAABBAAAAAAAAAEEAAAAAAAAAWQAAAAAAAABBAAAAAAAAAEEAAAAAAAAAcQAAAAAAAABZAAAAAAAAAFkAAAAAAAAAQQAAAAAAAABBAAAAAAAAAEEAAAAAAAAAQQAAAAAAAACRAAAAAAAAAHEAAAAAAAAAWQAAAAAAAACFAAAAAAAAAFkAAAAAAAAAcQAAAAAAAABZAAAAAAAAAEEAAAAAAAAAQQAAAAAAAABZAAAAAAAAAEEAAAAAAAAAnQAAAAAAAABBAAAAAAAAAFkAAAAAAAAAQQAAAAAAAABBAAAAAAAAAEEAAAAAAAAAWQAAAAAAAABZAAAAAAAAAJEAAAAAAAAAkQAAAAAAAABxAAAAAAAAAEEAAAAAAAAAWQAAAAAAAABZAAAAAAAAAEEAAAAAAAAAQQAAAAAAAABBAAAAAAAAAFkAAAAAAAAAWQAAAAAAAABBAAAAAAAAAEEAAAAAAAAAWQAAAAAAAABBAAAAAAAAAEEAAAAAAAAAQQAAAAAAAABZAAAAAAAAAEEAAAAAAAAAhQAAAAAAAABBAAAAAAAAAFkAAAAAAAAAWQAAAAAAAABZAAAAAAAAAEEAAAAAAAAAQQAAAAAAAABBAAAAAAAAAFkAAAAAAAAAQQAAAAAAAABxAAAAAAAAAEEAAAAAAAAAQQAAAAAAAABxAAAAAAAAAEEAAAAAAAAAcQAAAAAAAABBAAAAAAAAAEEAAAAAAAAAQQAAAAAAAABxAAAAAAAAAEEAAAAAAAAAQQAAAAAAAABZAAAAAAAAAFkAAAAAAAAAWQAAAAAAAABBAAAAAAAAAEEAAAAAAAAAcQAAAAAAAABBAAAAAAAAAJEAAAAAAAAAQQAAAAAAAACdAAAAAAAAAEEAAAAAAAAAQQAAAAAAAABBAAAAAAAAAEEAAAAAAAAAQQAAAAAAAABBAAAAAAAAAFkAAAAAAAAAQQAAAAAAAABZAAAAAAAAAEEAAAAAAAAAcQAAAAAAAABBAAAAAAAAAJEAAAAAAAAAWQAAAAAAAABBAAAAAAAAAFkAAAAAAAAAWQAAAAAAAABBAAAAAAAAAFkAAAAAAAAAQQAAAAAAAABxAAAAAAAAAFkAAAAAAAAAQQAAAAAAAABxAAAAAAAAAFkAAAAAAAAAWQAAAAAAAABBAAAAAAAAAFkAAAAAAAAAWQAAAAAAAACFAAAAAAAAAHEAAAAAAAAAQQAAAAAAAABBAAAAAAAAAHEAAAAAAAAAcQAAAAAAAABBAAAAAAAAAEEAAAAAAAAAQQAAAAAAAABxAAAAAAAAAFkAAAAAAAAAQQAAAAAAAABBAAAAAAAAAFkAAAAAAAAAQQAAAAAAAABBAAAAAAAAAEEAAAAAAAAAQQAAAAAAAABZAAAAAAAAAEEAAAAAAAAAcQAAAAAAAABxAAAAAAAAAEEAAAAAAAAAQQAAAAAAAABBAAAAAAAAAKkAAAAAAAAAQQAAAAAAAABxAAAAAAAAAEEA=",
           "dtype": "f8"
          }
         },
         "mode": "markers",
         "name": "Well Controlled",
         "text": [
          "<b>Patient P000161</b><br>Age: 56, Male<br>Diabetes: Type 2<br>HbA1c: 5.5% (Δ -1.0%)<br>BMI: 33.5<br>Complications: 0<br>Comorbidities: 2<br>Treatment: Good<br>Risk: Moderate Risk<br>Years with DM: 7.3",
          "<b>Patient P000375</b><br>Age: 44, Male<br>Diabetes: Type 2<br>HbA1c: 6.1% (Δ -0.6%)<br>BMI: 26.4<br>Complications: 2<br>Comorbidities: 1<br>Treatment: Good<br>Risk: Low Risk<br>Years with DM: 3.0",
          "<b>Patient P000084</b><br>Age: 62, Male<br>Diabetes: Type 2<br>HbA1c: 5.6% (Δ -1.3%)<br>BMI: 30.9<br>Complications: 2<br>Comorbidities: 1<br>Treatment: Good<br>Risk: Moderate Risk<br>Years with DM: 8.7",
          "<b>Patient P000494</b><br>Age: 76, Male<br>Diabetes: Type 2<br>HbA1c: 6.5% (Δ -3.0%)<br>BMI: 29.6<br>Complications: 0<br>Comorbidities: 0<br>Treatment: Excellent<br>Risk: Moderate Risk<br>Years with DM: 3.1",
          "<b>Patient P000289</b><br>Age: 60, Male<br>Diabetes: Type 2<br>HbA1c: 5.5% (Δ -1.7%)<br>BMI: 23.3<br>Complications: 0<br>Comorbidities: 4<br>Treatment: Excellent<br>Risk: Moderate Risk<br>Years with DM: 7.4",
          "<b>Patient P000148</b><br>Age: 62, Female<br>Diabetes: Type 2<br>HbA1c: 5.9% (Δ -0.6%)<br>BMI: 32.5<br>Complications: 0<br>Comorbidities: 3<br>Treatment: Good<br>Risk: Low Risk<br>Years with DM: 1.3",
          "<b>Patient P000377</b><br>Age: 56, Female<br>Diabetes: Type 2<br>HbA1c: 5.5% (Δ -1.0%)<br>BMI: 23.2<br>Complications: 0<br>Comorbidities: 0<br>Treatment: Good<br>Risk: Low Risk<br>Years with DM: 0.9",
          "<b>Patient P000370</b><br>Age: 55, Female<br>Diabetes: Type 2<br>HbA1c: 6.5% (Δ -1.2%)<br>BMI: 30.1<br>Complications: 0<br>Comorbidities: 4<br>Treatment: Good<br>Risk: Low Risk<br>Years with DM: 2.3",
          "<b>Patient P000278</b><br>Age: 58, Female<br>Diabetes: Type 2<br>HbA1c: 6.6% (Δ -2.2%)<br>BMI: 35.9<br>Complications: 1<br>Comorbidities: 3<br>Treatment: Excellent<br>Risk: Moderate Risk<br>Years with DM: 4.8",
          "<b>Patient P000353</b><br>Age: 75, Male<br>Diabetes: Type 2<br>HbA1c: 5.5% (Δ -1.5%)<br>BMI: 29.6<br>Complications: 1<br>Comorbidities: 2<br>Treatment: Good<br>Risk: Moderate Risk<br>Years with DM: 4.3",
          "<b>Patient P000240</b><br>Age: 19, Male<br>Diabetes: Type 2<br>HbA1c: 6.7% (Δ -1.7%)<br>BMI: 33.1<br>Complications: 1<br>Comorbidities: 2<br>Treatment: Excellent<br>Risk: Low Risk<br>Years with DM: 2.0",
          "<b>Patient P000122</b><br>Age: 56, Female<br>Diabetes: Type 2<br>HbA1c: 6.1% (Δ -0.4%)<br>BMI: 34.9<br>Complications: 1<br>Comorbidities: 3<br>Treatment: Moderate<br>Risk: Moderate Risk<br>Years with DM: 3.4",
          "<b>Patient P000404</b><br>Age: 49, Female<br>Diabetes: Type 1<br>HbA1c: 5.5% (Δ -1.0%)<br>BMI: 21.1<br>Complications: 3<br>Comorbidities: 1<br>Treatment: Good<br>Risk: High Risk<br>Years with DM: 17.3",
          "<b>Patient P000405</b><br>Age: 28, Female<br>Diabetes: Type 2<br>HbA1c: 5.5% (Δ -1.0%)<br>BMI: 22.7<br>Complications: 0<br>Comorbidities: 2<br>Treatment: Good<br>Risk: Moderate Risk<br>Years with DM: 4.8",
          "<b>Patient P000330</b><br>Age: 46, Male<br>Diabetes: Type 2<br>HbA1c: 5.7% (Δ -3.7%)<br>BMI: 27.0<br>Complications: 0<br>Comorbidities: 2<br>Treatment: Excellent<br>Risk: Low Risk<br>Years with DM: 2.5",
          "<b>Patient P000204</b><br>Age: 46, Male<br>Diabetes: Type 2<br>HbA1c: 5.5% (Δ -3.7%)<br>BMI: 40.0<br>Complications: 0<br>Comorbidities: 2<br>Treatment: Excellent<br>Risk: Low Risk<br>Years with DM: 0.0",
          "<b>Patient P000458</b><br>Age: 61, Female<br>Diabetes: Type 2<br>HbA1c: 6.8% (Δ -3.5%)<br>BMI: 23.4<br>Complications: 1<br>Comorbidities: 1<br>Treatment: Excellent<br>Risk: Moderate Risk<br>Years with DM: 4.9",
          "<b>Patient P000288</b><br>Age: 45, Male<br>Diabetes: Type 2<br>HbA1c: 5.5% (Δ -1.0%)<br>BMI: 31.3<br>Complications: 0<br>Comorbidities: 3<br>Treatment: Good<br>Risk: Low Risk<br>Years with DM: 2.2",
          "<b>Patient P000367</b><br>Age: 85, Male<br>Diabetes: Type 1<br>HbA1c: 5.5% (Δ -2.0%)<br>BMI: 23.1<br>Complications: 0<br>Comorbidities: 4<br>Treatment: Excellent<br>Risk: Moderate Risk<br>Years with DM: 5.7",
          "<b>Patient P000198</b><br>Age: 55, Female<br>Diabetes: Type 2<br>HbA1c: 5.7% (Δ -1.8%)<br>BMI: 21.2<br>Complications: 2<br>Comorbidities: 1<br>Treatment: Excellent<br>Risk: Moderate Risk<br>Years with DM: 7.2",
          "<b>Patient P000310</b><br>Age: 65, Female<br>Diabetes: Type 2<br>HbA1c: 5.5% (Δ -1.0%)<br>BMI: 21.1<br>Complications: 1<br>Comorbidities: 4<br>Treatment: Good<br>Risk: High Risk<br>Years with DM: 10.1",
          "<b>Patient P000037</b><br>Age: 85, Female<br>Diabetes: Type 2<br>HbA1c: 5.5% (Δ -1.7%)<br>BMI: 33.7<br>Complications: 1<br>Comorbidities: 2<br>Treatment: Excellent<br>Risk: Moderate Risk<br>Years with DM: 6.0",
          "<b>Patient P000182</b><br>Age: 51, Female<br>Diabetes: Type 2<br>HbA1c: 6.7% (Δ -2.4%)<br>BMI: 34.0<br>Complications: 0<br>Comorbidities: 0<br>Treatment: Excellent<br>Risk: Low Risk<br>Years with DM: 2.1",
          "<b>Patient P000440</b><br>Age: 45, Female<br>Diabetes: Type 2<br>HbA1c: 5.9% (Δ -3.0%)<br>BMI: 32.4<br>Complications: 0<br>Comorbidities: 1<br>Treatment: Excellent<br>Risk: Moderate Risk<br>Years with DM: 3.1",
          "<b>Patient P000068</b><br>Age: 39, Female<br>Diabetes: Type 2<br>HbA1c: 6.2% (Δ -0.3%)<br>BMI: 35.6<br>Complications: 0<br>Comorbidities: 2<br>Treatment: Moderate<br>Risk: Low Risk<br>Years with DM: 1.6",
          "<b>Patient P000098</b><br>Age: 59, Female<br>Diabetes: Type 2<br>HbA1c: 5.5% (Δ -1.6%)<br>BMI: 33.7<br>Complications: 0<br>Comorbidities: 1<br>Treatment: Excellent<br>Risk: Moderate Risk<br>Years with DM: 2.9",
          "<b>Patient P000007</b><br>Age: 73, Male<br>Diabetes: Type 2<br>HbA1c: 5.5% (Δ -1.0%)<br>BMI: 34.6<br>Complications: 4<br>Comorbidities: 2<br>Treatment: Good<br>Risk: Moderate Risk<br>Years with DM: 8.6",
          "<b>Patient P000349</b><br>Age: 50, Female<br>Diabetes: Type 2<br>HbA1c: 5.5% (Δ -2.7%)<br>BMI: 37.7<br>Complications: 2<br>Comorbidities: 1<br>Treatment: Excellent<br>Risk: Moderate Risk<br>Years with DM: 4.1",
          "<b>Patient P000019</b><br>Age: 38, Male<br>Diabetes: Type 2<br>HbA1c: 5.5% (Δ -1.9%)<br>BMI: 30.5<br>Complications: 1<br>Comorbidities: 0<br>Treatment: Excellent<br>Risk: Moderate Risk<br>Years with DM: 9.2",
          "<b>Patient P000465</b><br>Age: 56, Female<br>Diabetes: Type 2<br>HbA1c: 5.6% (Δ -1.7%)<br>BMI: 26.2<br>Complications: 3<br>Comorbidities: 2<br>Treatment: Excellent<br>Risk: Low Risk<br>Years with DM: 0.9",
          "<b>Patient P000429</b><br>Age: 18, Female<br>Diabetes: Type 2<br>HbA1c: 6.0% (Δ -3.0%)<br>BMI: 28.3<br>Complications: 1<br>Comorbidities: 3<br>Treatment: Excellent<br>Risk: Moderate Risk<br>Years with DM: 5.8",
          "<b>Patient P000393</b><br>Age: 82, Male<br>Diabetes: Type 2<br>HbA1c: 6.2% (Δ -1.7%)<br>BMI: 24.3<br>Complications: 2<br>Comorbidities: 2<br>Treatment: Excellent<br>Risk: High Risk<br>Years with DM: 8.9",
          "<b>Patient P000477</b><br>Age: 45, Male<br>Diabetes: Type 2<br>HbA1c: 5.7% (Δ -3.6%)<br>BMI: 27.5<br>Complications: 1<br>Comorbidities: 1<br>Treatment: Excellent<br>Risk: Moderate Risk<br>Years with DM: 6.0",
          "<b>Patient P000283</b><br>Age: 59, Female<br>Diabetes: Type 2<br>HbA1c: 5.5% (Δ -2.0%)<br>BMI: 27.7<br>Complications: 0<br>Comorbidities: 0<br>Treatment: Excellent<br>Risk: Moderate Risk<br>Years with DM: 2.7",
          "<b>Patient P000080</b><br>Age: 51, Male<br>Diabetes: Type 2<br>HbA1c: 5.8% (Δ -1.8%)<br>BMI: 35.6<br>Complications: 0<br>Comorbidities: 0<br>Treatment: Excellent<br>Risk: Low Risk<br>Years with DM: 1.2",
          "<b>Patient P000218</b><br>Age: 33, Female<br>Diabetes: Type 2<br>HbA1c: 5.5% (Δ -2.8%)<br>BMI: 26.6<br>Complications: 1<br>Comorbidities: 0<br>Treatment: Excellent<br>Risk: Moderate Risk<br>Years with DM: 6.1",
          "<b>Patient P000291</b><br>Age: 48, Male<br>Diabetes: Type 2<br>HbA1c: 6.1% (Δ -2.1%)<br>BMI: 41.9<br>Complications: 0<br>Comorbidities: 2<br>Treatment: Excellent<br>Risk: Low Risk<br>Years with DM: 2.1",
          "<b>Patient P000412</b><br>Age: 45, Female<br>Diabetes: Type 2<br>HbA1c: 5.5% (Δ -1.1%)<br>BMI: 26.3<br>Complications: 5<br>Comorbidities: 1<br>Treatment: Good<br>Risk: High Risk<br>Years with DM: 17.7",
          "<b>Patient P000077</b><br>Age: 76, Female<br>Diabetes: Type 2<br>HbA1c: 6.4% (Δ -1.4%)<br>BMI: 29.8<br>Complications: 0<br>Comorbidities: 4<br>Treatment: Good<br>Risk: Moderate Risk<br>Years with DM: 1.0",
          "<b>Patient P000150</b><br>Age: 71, Female<br>Diabetes: Type 2<br>HbA1c: 6.4% (Δ -1.5%)<br>BMI: 24.6<br>Complications: 1<br>Comorbidities: 3<br>Treatment: Excellent<br>Risk: High Risk<br>Years with DM: 9.7",
          "<b>Patient P000104</b><br>Age: 48, Female<br>Diabetes: Type 2<br>HbA1c: 6.1% (Δ -0.5%)<br>BMI: 25.3<br>Complications: 0<br>Comorbidities: 1<br>Treatment: Good<br>Risk: Low Risk<br>Years with DM: 2.0",
          "<b>Patient P000478</b><br>Age: 67, Male<br>Diabetes: Type 1<br>HbA1c: 6.4% (Δ -0.1%)<br>BMI: 30.6<br>Complications: 0<br>Comorbidities: 1<br>Treatment: Moderate<br>Risk: Moderate Risk<br>Years with DM: 2.3",
          "<b>Patient P000293</b><br>Age: 51, Male<br>Diabetes: Type 2<br>HbA1c: 5.5% (Δ -2.5%)<br>BMI: 36.0<br>Complications: 0<br>Comorbidities: 1<br>Treatment: Excellent<br>Risk: Low Risk<br>Years with DM: 0.2",
          "<b>Patient P000430</b><br>Age: 75, Male<br>Diabetes: Type 1<br>HbA1c: 6.7% (Δ -0.4%)<br>BMI: 18.1<br>Complications: 1<br>Comorbidities: 3<br>Treatment: Moderate<br>Risk: High Risk<br>Years with DM: 9.7",
          "<b>Patient P000243</b><br>Age: 76, Female<br>Diabetes: Type 2<br>HbA1c: 6.2% (Δ -2.2%)<br>BMI: 35.6<br>Complications: 1<br>Comorbidities: 3<br>Treatment: Excellent<br>Risk: Moderate Risk<br>Years with DM: 3.0",
          "<b>Patient P000335</b><br>Age: 32, Female<br>Diabetes: Type 2<br>HbA1c: 5.5% (Δ -2.7%)<br>BMI: 24.3<br>Complications: 4<br>Comorbidities: 1<br>Treatment: Excellent<br>Risk: Moderate Risk<br>Years with DM: 12.5",
          "<b>Patient P000360</b><br>Age: 70, Female<br>Diabetes: Type 2<br>HbA1c: 6.4% (Δ -0.7%)<br>BMI: 34.4<br>Complications: 4<br>Comorbidities: 2<br>Treatment: Good<br>Risk: High Risk<br>Years with DM: 14.9",
          "<b>Patient P000023</b><br>Age: 41, Female<br>Diabetes: Type 2<br>HbA1c: 6.3% (Δ -1.5%)<br>BMI: 19.5<br>Complications: 2<br>Comorbidities: 2<br>Treatment: Excellent<br>Risk: Low Risk<br>Years with DM: 1.9",
          "<b>Patient P000231</b><br>Age: 64, Male<br>Diabetes: Type 2<br>HbA1c: 5.5% (Δ -1.0%)<br>BMI: 26.1<br>Complications: 0<br>Comorbidities: 0<br>Treatment: Good<br>Risk: Moderate Risk<br>Years with DM: 7.1",
          "<b>Patient P000082</b><br>Age: 30, Male<br>Diabetes: Type 2<br>HbA1c: 6.7% (Δ -1.6%)<br>BMI: 30.1<br>Complications: 1<br>Comorbidities: 1<br>Treatment: Excellent<br>Risk: Low Risk<br>Years with DM: 2.6",
          "<b>Patient P000362</b><br>Age: 58, Female<br>Diabetes: Type 2<br>HbA1c: 6.4% (Δ -1.5%)<br>BMI: 22.1<br>Complications: 1<br>Comorbidities: 1<br>Treatment: Excellent<br>Risk: Moderate Risk<br>Years with DM: 3.4",
          "<b>Patient P000473</b><br>Age: 73, Male<br>Diabetes: Type 2<br>HbA1c: 5.5% (Δ -3.2%)<br>BMI: 36.8<br>Complications: 0<br>Comorbidities: 3<br>Treatment: Excellent<br>Risk: Moderate Risk<br>Years with DM: 1.6",
          "<b>Patient P000242</b><br>Age: 36, Male<br>Diabetes: Type 2<br>HbA1c: 5.5% (Δ -1.0%)<br>BMI: 35.3<br>Complications: 0<br>Comorbidities: 0<br>Treatment: Good<br>Risk: Moderate Risk<br>Years with DM: 3.1",
          "<b>Patient P000262</b><br>Age: 32, Male<br>Diabetes: Type 1<br>HbA1c: 5.5% (Δ -1.9%)<br>BMI: 20.9<br>Complications: 0<br>Comorbidities: 2<br>Treatment: Excellent<br>Risk: Low Risk<br>Years with DM: 2.9",
          "<b>Patient P000372</b><br>Age: 57, Male<br>Diabetes: Type 1<br>HbA1c: 5.5% (Δ -1.2%)<br>BMI: 18.0<br>Complications: 1<br>Comorbidities: 1<br>Treatment: Good<br>Risk: Moderate Risk<br>Years with DM: 5.0",
          "<b>Patient P000247</b><br>Age: 39, Male<br>Diabetes: Type 2<br>HbA1c: 6.2% (Δ -1.9%)<br>BMI: 23.8<br>Complications: 1<br>Comorbidities: 1<br>Treatment: Excellent<br>Risk: Moderate Risk<br>Years with DM: 5.0",
          "<b>Patient P000093</b><br>Age: 40, Male<br>Diabetes: Type 2<br>HbA1c: 5.5% (Δ -1.2%)<br>BMI: 39.9<br>Complications: 0<br>Comorbidities: 1<br>Treatment: Good<br>Risk: Low Risk<br>Years with DM: 0.7",
          "<b>Patient P000124</b><br>Age: 39, Female<br>Diabetes: Type 2<br>HbA1c: 5.5% (Δ -3.2%)<br>BMI: 34.5<br>Complications: 0<br>Comorbidities: 1<br>Treatment: Excellent<br>Risk: Moderate Risk<br>Years with DM: 4.1",
          "<b>Patient P000101</b><br>Age: 70, Male<br>Diabetes: Type 2<br>HbA1c: 5.5% (Δ -1.9%)<br>BMI: 23.9<br>Complications: 1<br>Comorbidities: 2<br>Treatment: Excellent<br>Risk: Very High Risk<br>Years with DM: 28.8",
          "<b>Patient P000340</b><br>Age: 43, Female<br>Diabetes: Type 1<br>HbA1c: 5.5% (Δ -1.0%)<br>BMI: 23.6<br>Complications: 0<br>Comorbidities: 5<br>Treatment: Good<br>Risk: Moderate Risk<br>Years with DM: 6.6",
          "<b>Patient P000154</b><br>Age: 60, Male<br>Diabetes: Type 2<br>HbA1c: 6.2% (Δ -3.2%)<br>BMI: 26.5<br>Complications: 0<br>Comorbidities: 3<br>Treatment: Excellent<br>Risk: Moderate Risk<br>Years with DM: 2.4",
          "<b>Patient P000488</b><br>Age: 63, Female<br>Diabetes: Type 2<br>HbA1c: 6.4% (Δ -0.6%)<br>BMI: 28.4<br>Complications: 0<br>Comorbidities: 2<br>Treatment: Good<br>Risk: Moderate Risk<br>Years with DM: 2.2",
          "<b>Patient P000245</b><br>Age: 49, Female<br>Diabetes: Type 1<br>HbA1c: 6.7% (Δ -2.9%)<br>BMI: 27.5<br>Complications: 1<br>Comorbidities: 3<br>Treatment: Excellent<br>Risk: Moderate Risk<br>Years with DM: 7.8",
          "<b>Patient P000409</b><br>Age: 55, Female<br>Diabetes: Type 1<br>HbA1c: 5.7% (Δ -2.6%)<br>BMI: 27.6<br>Complications: 0<br>Comorbidities: 3<br>Treatment: Excellent<br>Risk: Moderate Risk<br>Years with DM: 1.5",
          "<b>Patient P000342</b><br>Age: 43, Male<br>Diabetes: Type 2<br>HbA1c: 5.5% (Δ -1.0%)<br>BMI: 22.9<br>Complications: 3<br>Comorbidities: 1<br>Treatment: Good<br>Risk: Moderate Risk<br>Years with DM: 11.4",
          "<b>Patient P000277</b><br>Age: 53, Male<br>Diabetes: Type 2<br>HbA1c: 5.5% (Δ -2.6%)<br>BMI: 27.8<br>Complications: 0<br>Comorbidities: 2<br>Treatment: Excellent<br>Risk: Low Risk<br>Years with DM: 1.9",
          "<b>Patient P000254</b><br>Age: 52, Female<br>Diabetes: Type 2<br>HbA1c: 6.2% (Δ -3.5%)<br>BMI: 30.2<br>Complications: 1<br>Comorbidities: 3<br>Treatment: Excellent<br>Risk: Moderate Risk<br>Years with DM: 3.7",
          "<b>Patient P000004</b><br>Age: 55, Male<br>Diabetes: Type 1<br>HbA1c: 5.5% (Δ -1.0%)<br>BMI: 23.3<br>Complications: 1<br>Comorbidities: 3<br>Treatment: Good<br>Risk: Moderate Risk<br>Years with DM: 2.6",
          "<b>Patient P000279</b><br>Age: 42, Male<br>Diabetes: Type 2<br>HbA1c: 5.5% (Δ -1.3%)<br>BMI: 37.6<br>Complications: 1<br>Comorbidities: 1<br>Treatment: Good<br>Risk: High Risk<br>Years with DM: 15.9",
          "<b>Patient P000199</b><br>Age: 37, Male<br>Diabetes: Type 2<br>HbA1c: 6.8% (Δ -2.3%)<br>BMI: 29.3<br>Complications: 0<br>Comorbidities: 1<br>Treatment: Excellent<br>Risk: Low Risk<br>Years with DM: 0.6",
          "<b>Patient P000395</b><br>Age: 54, Female<br>Diabetes: Type 2<br>HbA1c: 6.3% (Δ -1.6%)<br>BMI: 30.3<br>Complications: 0<br>Comorbidities: 2<br>Treatment: Excellent<br>Risk: Moderate Risk<br>Years with DM: 7.4",
          "<b>Patient P000273</b><br>Age: 47, Female<br>Diabetes: Type 2<br>HbA1c: 5.5% (Δ -1.3%)<br>BMI: 33.5<br>Complications: 0<br>Comorbidities: 4<br>Treatment: Good<br>Risk: Moderate Risk<br>Years with DM: 3.5",
          "<b>Patient P000426</b><br>Age: 42, Female<br>Diabetes: Type 2<br>HbA1c: 5.5% (Δ -1.2%)<br>BMI: 35.0<br>Complications: 1<br>Comorbidities: 3<br>Treatment: Good<br>Risk: Low Risk<br>Years with DM: 3.7",
          "<b>Patient P000271</b><br>Age: 65, Male<br>Diabetes: Type 2<br>HbA1c: 6.9% (Δ -1.9%)<br>BMI: 23.7<br>Complications: 0<br>Comorbidities: 4<br>Treatment: Excellent<br>Risk: Moderate Risk<br>Years with DM: 4.0",
          "<b>Patient P000351</b><br>Age: 42, Male<br>Diabetes: Type 2<br>HbA1c: 5.5% (Δ -2.0%)<br>BMI: 20.2<br>Complications: 2<br>Comorbidities: 0<br>Treatment: Excellent<br>Risk: Moderate Risk<br>Years with DM: 5.3",
          "<b>Patient P000177</b><br>Age: 52, Female<br>Diabetes: Type 2<br>HbA1c: 5.5% (Δ -4.1%)<br>BMI: 28.4<br>Complications: 0<br>Comorbidities: 2<br>Treatment: Excellent<br>Risk: Moderate Risk<br>Years with DM: 10.1",
          "<b>Patient P000352</b><br>Age: 33, Female<br>Diabetes: Type 2<br>HbA1c: 5.5% (Δ -1.0%)<br>BMI: 24.6<br>Complications: 0<br>Comorbidities: 1<br>Treatment: Good<br>Risk: Low Risk<br>Years with DM: 0.4",
          "<b>Patient P000455</b><br>Age: 51, Female<br>Diabetes: Type 2<br>HbA1c: 5.5% (Δ -1.0%)<br>BMI: 36.1<br>Complications: 2<br>Comorbidities: 2<br>Treatment: Good<br>Risk: Moderate Risk<br>Years with DM: 9.9",
          "<b>Patient P000165</b><br>Age: 79, Male<br>Diabetes: Type 1<br>HbA1c: 6.7% (Δ -2.5%)<br>BMI: 26.2<br>Complications: 0<br>Comorbidities: 1<br>Treatment: Excellent<br>Risk: Moderate Risk<br>Years with DM: 2.9",
          "<b>Patient P000359</b><br>Age: 53, Female<br>Diabetes: Type 1<br>HbA1c: 6.3% (Δ -1.0%)<br>BMI: 23.6<br>Complications: 2<br>Comorbidities: 2<br>Treatment: Good<br>Risk: Moderate Risk<br>Years with DM: 5.8",
          "<b>Patient P000027</b><br>Age: 36, Male<br>Diabetes: Type 2<br>HbA1c: 5.5% (Δ -1.4%)<br>BMI: 32.7<br>Complications: 0<br>Comorbidities: 1<br>Treatment: Good<br>Risk: Low Risk<br>Years with DM: 0.3",
          "<b>Patient P000481</b><br>Age: 52, Female<br>Diabetes: Type 2<br>HbA1c: 6.0% (Δ -1.2%)<br>BMI: 27.7<br>Complications: 0<br>Comorbidities: 0<br>Treatment: Good<br>Risk: Moderate Risk<br>Years with DM: 5.8",
          "<b>Patient P000030</b><br>Age: 54, Female<br>Diabetes: Type 2<br>HbA1c: 6.8% (Δ -1.3%)<br>BMI: 31.5<br>Complications: 0<br>Comorbidities: 2<br>Treatment: Good<br>Risk: Low Risk<br>Years with DM: 0.9",
          "<b>Patient P000031</b><br>Age: 61, Female<br>Diabetes: Type 2<br>HbA1c: 6.1% (Δ -1.5%)<br>BMI: 33.1<br>Complications: 2<br>Comorbidities: 2<br>Treatment: Good<br>Risk: Moderate Risk<br>Years with DM: 3.6",
          "<b>Patient P000396</b><br>Age: 48, Female<br>Diabetes: Type 2<br>HbA1c: 5.5% (Δ -1.0%)<br>BMI: 25.0<br>Complications: 0<br>Comorbidities: 3<br>Treatment: Good<br>Risk: Moderate Risk<br>Years with DM: 4.7",
          "<b>Patient P000001</b><br>Age: 59, Male<br>Diabetes: Type 2<br>HbA1c: 5.5% (Δ -1.0%)<br>BMI: 34.2<br>Complications: 0<br>Comorbidities: 0<br>Treatment: Good<br>Risk: Low Risk<br>Years with DM: 2.5",
          "<b>Patient P000056</b><br>Age: 18, Female<br>Diabetes: Type 2<br>HbA1c: 5.5% (Δ -1.8%)<br>BMI: 23.9<br>Complications: 1<br>Comorbidities: 2<br>Treatment: Excellent<br>Risk: High Risk<br>Years with DM: 15.0",
          "<b>Patient P000294</b><br>Age: 51, Male<br>Diabetes: Type 2<br>HbA1c: 5.5% (Δ -1.0%)<br>BMI: 29.7<br>Complications: 1<br>Comorbidities: 0<br>Treatment: Good<br>Risk: High Risk<br>Years with DM: 10.3",
          "<b>Patient P000111</b><br>Age: 46, Male<br>Diabetes: Type 2<br>HbA1c: 6.5% (Δ -4.1%)<br>BMI: 32.2<br>Complications: 1<br>Comorbidities: 4<br>Treatment: Excellent<br>Risk: Low Risk<br>Years with DM: 1.2",
          "<b>Patient P000244</b><br>Age: 62, Female<br>Diabetes: Type 2<br>HbA1c: 5.5% (Δ -1.3%)<br>BMI: 27.8<br>Complications: 0<br>Comorbidities: 3<br>Treatment: Good<br>Risk: Low Risk<br>Years with DM: 0.3",
          "<b>Patient P000312</b><br>Age: 54, Male<br>Diabetes: Type 1<br>HbA1c: 5.9% (Δ -1.9%)<br>BMI: 24.5<br>Complications: 0<br>Comorbidities: 2<br>Treatment: Excellent<br>Risk: Moderate Risk<br>Years with DM: 4.3",
          "<b>Patient P000332</b><br>Age: 49, Female<br>Diabetes: Type 2<br>HbA1c: 6.5% (Δ -1.3%)<br>BMI: 41.6<br>Complications: 2<br>Comorbidities: 3<br>Treatment: Good<br>Risk: Moderate Risk<br>Years with DM: 11.7",
          "<b>Patient P000118</b><br>Age: 44, Female<br>Diabetes: Type 2<br>HbA1c: 5.9% (Δ -3.4%)<br>BMI: 24.7<br>Complications: 0<br>Comorbidities: 1<br>Treatment: Excellent<br>Risk: Moderate Risk<br>Years with DM: 3.3",
          "<b>Patient P000319</b><br>Age: 30, Female<br>Diabetes: Type 2<br>HbA1c: 6.4% (Δ -2.0%)<br>BMI: 26.2<br>Complications: 4<br>Comorbidities: 4<br>Treatment: Excellent<br>Risk: Moderate Risk<br>Years with DM: 7.3",
          "<b>Patient P000138</b><br>Age: 79, Female<br>Diabetes: Type 2<br>HbA1c: 6.5% (Δ -2.5%)<br>BMI: 24.1<br>Complications: 0<br>Comorbidities: 3<br>Treatment: Excellent<br>Risk: Moderate Risk<br>Years with DM: 0.8",
          "<b>Patient P000460</b><br>Age: 44, Female<br>Diabetes: Type 2<br>HbA1c: 5.6% (Δ -0.9%)<br>BMI: 26.6<br>Complications: 5<br>Comorbidities: 1<br>Treatment: Good<br>Risk: Moderate Risk<br>Years with DM: 11.7",
          "<b>Patient P000121</b><br>Age: 39, Female<br>Diabetes: Type 2<br>HbA1c: 6.8% (Δ -2.1%)<br>BMI: 40.6<br>Complications: 0<br>Comorbidities: 1<br>Treatment: Excellent<br>Risk: Low Risk<br>Years with DM: 1.6",
          "<b>Patient P000131</b><br>Age: 42, Female<br>Diabetes: Type 2<br>HbA1c: 6.3% (Δ -3.6%)<br>BMI: 32.9<br>Complications: 0<br>Comorbidities: 3<br>Treatment: Excellent<br>Risk: Low Risk<br>Years with DM: 2.8",
          "<b>Patient P000296</b><br>Age: 40, Male<br>Diabetes: Type 2<br>HbA1c: 5.5% (Δ -2.4%)<br>BMI: 38.5<br>Complications: 0<br>Comorbidities: 2<br>Treatment: Excellent<br>Risk: Low Risk<br>Years with DM: 0.8",
          "<b>Patient P000383</b><br>Age: 58, Male<br>Diabetes: Type 2<br>HbA1c: 5.8% (Δ -1.5%)<br>BMI: 20.7<br>Complications: 0<br>Comorbidities: 1<br>Treatment: Good<br>Risk: Low Risk<br>Years with DM: 0.4",
          "<b>Patient P000230</b><br>Age: 68, Male<br>Diabetes: Type 2<br>HbA1c: 5.5% (Δ -2.1%)<br>BMI: 34.7<br>Complications: 0<br>Comorbidities: 1<br>Treatment: Excellent<br>Risk: Moderate Risk<br>Years with DM: 2.6",
          "<b>Patient P000213</b><br>Age: 38, Male<br>Diabetes: Type 1<br>HbA1c: 6.1% (Δ -1.2%)<br>BMI: 29.0<br>Complications: 0<br>Comorbidities: 1<br>Treatment: Good<br>Risk: Low Risk<br>Years with DM: 1.1",
          "<b>Patient P000337</b><br>Age: 78, Female<br>Diabetes: Type 2<br>HbA1c: 6.1% (Δ -1.0%)<br>BMI: 23.7<br>Complications: 1<br>Comorbidities: 6<br>Treatment: Good<br>Risk: Moderate Risk<br>Years with DM: 1.2",
          "<b>Patient P000384</b><br>Age: 34, Male<br>Diabetes: Type 2<br>HbA1c: 5.8% (Δ -1.2%)<br>BMI: 25.2<br>Complications: 0<br>Comorbidities: 3<br>Treatment: Good<br>Risk: Moderate Risk<br>Years with DM: 7.9",
          "<b>Patient P000092</b><br>Age: 64, Male<br>Diabetes: Type 2<br>HbA1c: 6.7% (Δ +0.0%)<br>BMI: 24.8<br>Complications: 1<br>Comorbidities: 1<br>Treatment: Moderate<br>Risk: Moderate Risk<br>Years with DM: 5.4",
          "<b>Patient P000038</b><br>Age: 70, Male<br>Diabetes: Type 2<br>HbA1c: 6.5% (Δ -0.8%)<br>BMI: 29.9<br>Complications: 0<br>Comorbidities: 2<br>Treatment: Good<br>Risk: Moderate Risk<br>Years with DM: 0.9",
          "<b>Patient P000442</b><br>Age: 57, Female<br>Diabetes: Type 1<br>HbA1c: 6.7% (Δ -3.7%)<br>BMI: 25.6<br>Complications: 2<br>Comorbidities: 3<br>Treatment: Excellent<br>Risk: Moderate Risk<br>Years with DM: 3.8",
          "<b>Patient P000105</b><br>Age: 65, Male<br>Diabetes: Type 2<br>HbA1c: 6.5% (Δ -1.9%)<br>BMI: 30.6<br>Complications: 0<br>Comorbidities: 1<br>Treatment: Excellent<br>Risk: Low Risk<br>Years with DM: 1.2",
          "<b>Patient P000108</b><br>Age: 56, Male<br>Diabetes: Type 2<br>HbA1c: 5.5% (Δ -3.5%)<br>BMI: 33.8<br>Complications: 4<br>Comorbidities: 2<br>Treatment: Excellent<br>Risk: Very High Risk<br>Years with DM: 24.8",
          "<b>Patient P000081</b><br>Age: 61, Female<br>Diabetes: Type 2<br>HbA1c: 5.5% (Δ -1.2%)<br>BMI: 18.5<br>Complications: 1<br>Comorbidities: 2<br>Treatment: Good<br>Risk: Moderate Risk<br>Years with DM: 4.4",
          "<b>Patient P000493</b><br>Age: 50, Female<br>Diabetes: Type 2<br>HbA1c: 5.5% (Δ -2.0%)<br>BMI: 32.6<br>Complications: 0<br>Comorbidities: 0<br>Treatment: Excellent<br>Risk: Low Risk<br>Years with DM: 0.8",
          "<b>Patient P000069</b><br>Age: 35, Female<br>Diabetes: Type 2<br>HbA1c: 5.5% (Δ -1.6%)<br>BMI: 22.2<br>Complications: 1<br>Comorbidities: 0<br>Treatment: Excellent<br>Risk: Low Risk<br>Years with DM: 2.1",
          "<b>Patient P000133</b><br>Age: 45, Male<br>Diabetes: Type 2<br>HbA1c: 5.8% (Δ -2.0%)<br>BMI: 33.9<br>Complications: 1<br>Comorbidities: 0<br>Treatment: Excellent<br>Risk: Moderate Risk<br>Years with DM: 4.9",
          "<b>Patient P000160</b><br>Age: 77, Male<br>Diabetes: Type 2<br>HbA1c: 6.5% (Δ +0.0%)<br>BMI: 30.1<br>Complications: 0<br>Comorbidities: 5<br>Treatment: Moderate<br>Risk: Moderate Risk<br>Years with DM: 0.6",
          "<b>Patient P000035</b><br>Age: 74, Female<br>Diabetes: Type 2<br>HbA1c: 5.5% (Δ -1.0%)<br>BMI: 23.0<br>Complications: 1<br>Comorbidities: 3<br>Treatment: Good<br>Risk: Moderate Risk<br>Years with DM: 6.6",
          "<b>Patient P000413</b><br>Age: 56, Female<br>Diabetes: Type 1<br>HbA1c: 6.9% (Δ -2.4%)<br>BMI: 24.7<br>Complications: 0<br>Comorbidities: 1<br>Treatment: Excellent<br>Risk: Moderate Risk<br>Years with DM: 5.3",
          "<b>Patient P000087</b><br>Age: 84, Female<br>Diabetes: Type 2<br>HbA1c: 5.5% (Δ -1.0%)<br>BMI: 29.8<br>Complications: 2<br>Comorbidities: 4<br>Treatment: Good<br>Risk: High Risk<br>Years with DM: 14.7",
          "<b>Patient P000379</b><br>Age: 53, Male<br>Diabetes: Type 2<br>HbA1c: 5.7% (Δ -1.6%)<br>BMI: 27.1<br>Complications: 1<br>Comorbidities: 1<br>Treatment: Excellent<br>Risk: Moderate Risk<br>Years with DM: 7.8",
          "<b>Patient P000227</b><br>Age: 72, Male<br>Diabetes: Type 2<br>HbA1c: 5.8% (Δ -2.0%)<br>BMI: 32.7<br>Complications: 0<br>Comorbidities: 1<br>Treatment: Excellent<br>Risk: Low Risk<br>Years with DM: 0.7",
          "<b>Patient P000053</b><br>Age: 57, Male<br>Diabetes: Type 2<br>HbA1c: 6.2% (Δ -1.5%)<br>BMI: 30.3<br>Complications: 2<br>Comorbidities: 4<br>Treatment: Excellent<br>Risk: High Risk<br>Years with DM: 10.4",
          "<b>Patient P000290</b><br>Age: 49, Male<br>Diabetes: Type 2<br>HbA1c: 5.7% (Δ -2.7%)<br>BMI: 28.6<br>Complications: 1<br>Comorbidities: 1<br>Treatment: Excellent<br>Risk: Moderate Risk<br>Years with DM: 5.0",
          "<b>Patient P000381</b><br>Age: 54, Male<br>Diabetes: Type 2<br>HbA1c: 6.2% (Δ -3.1%)<br>BMI: 20.0<br>Complications: 1<br>Comorbidities: 0<br>Treatment: Excellent<br>Risk: Moderate Risk<br>Years with DM: 5.1",
          "<b>Patient P000266</b><br>Age: 57, Male<br>Diabetes: Type 2<br>HbA1c: 5.5% (Δ -1.0%)<br>BMI: 29.3<br>Complications: 0<br>Comorbidities: 5<br>Treatment: Good<br>Risk: Moderate Risk<br>Years with DM: 1.4",
          "<b>Patient P000323</b><br>Age: 70, Female<br>Diabetes: Type 2<br>HbA1c: 5.5% (Δ -1.0%)<br>BMI: 26.6<br>Complications: 1<br>Comorbidities: 1<br>Treatment: Good<br>Risk: Moderate Risk<br>Years with DM: 2.4",
          "<b>Patient P000187</b><br>Age: 45, Male<br>Diabetes: Type 2<br>HbA1c: 5.5% (Δ -1.0%)<br>BMI: 35.0<br>Complications: 1<br>Comorbidities: 3<br>Treatment: Good<br>Risk: Moderate Risk<br>Years with DM: 9.1",
          "<b>Patient P000172</b><br>Age: 55, Male<br>Diabetes: Type 2<br>HbA1c: 6.7% (Δ -1.3%)<br>BMI: 27.6<br>Complications: 3<br>Comorbidities: 2<br>Treatment: Good<br>Risk: Moderate Risk<br>Years with DM: 6.9",
          "<b>Patient P000402</b><br>Age: 59, Female<br>Diabetes: Type 1<br>HbA1c: 6.4% (Δ -1.8%)<br>BMI: 20.2<br>Complications: 2<br>Comorbidities: 3<br>Treatment: Excellent<br>Risk: High Risk<br>Years with DM: 9.6",
          "<b>Patient P000356</b><br>Age: 52, Male<br>Diabetes: Type 2<br>HbA1c: 5.5% (Δ -1.0%)<br>BMI: 25.4<br>Complications: 0<br>Comorbidities: 1<br>Treatment: Good<br>Risk: Low Risk<br>Years with DM: 0.7",
          "<b>Patient P000109</b><br>Age: 55, Female<br>Diabetes: Type 2<br>HbA1c: 5.5% (Δ -1.0%)<br>BMI: 29.9<br>Complications: 0<br>Comorbidities: 2<br>Treatment: Good<br>Risk: Low Risk<br>Years with DM: 0.2",
          "<b>Patient P000433</b><br>Age: 38, Female<br>Diabetes: Type 1<br>HbA1c: 6.5% (Δ -2.4%)<br>BMI: 24.8<br>Complications: 2<br>Comorbidities: 1<br>Treatment: Excellent<br>Risk: Moderate Risk<br>Years with DM: 5.6",
          "<b>Patient P000221</b><br>Age: 44, Female<br>Diabetes: Type 2<br>HbA1c: 6.0% (Δ -2.8%)<br>BMI: 33.5<br>Complications: 2<br>Comorbidities: 2<br>Treatment: Excellent<br>Risk: Very High Risk<br>Years with DM: 29.5",
          "<b>Patient P000280</b><br>Age: 54, Male<br>Diabetes: Type 2<br>HbA1c: 5.5% (Δ -1.8%)<br>BMI: 23.7<br>Complications: 0<br>Comorbidities: 2<br>Treatment: Excellent<br>Risk: Low Risk<br>Years with DM: 1.0",
          "<b>Patient P000225</b><br>Age: 64, Female<br>Diabetes: Type 2<br>HbA1c: 6.8% (Δ -1.1%)<br>BMI: 26.3<br>Complications: 0<br>Comorbidities: 3<br>Treatment: Good<br>Risk: Low Risk<br>Years with DM: 0.8",
          "<b>Patient P000233</b><br>Age: 53, Male<br>Diabetes: Type 2<br>HbA1c: 5.9% (Δ -2.0%)<br>BMI: 26.2<br>Complications: 0<br>Comorbidities: 2<br>Treatment: Excellent<br>Risk: Low Risk<br>Years with DM: 1.8",
          "<b>Patient P000257</b><br>Age: 53, Male<br>Diabetes: Type 2<br>HbA1c: 5.5% (Δ -2.6%)<br>BMI: 25.9<br>Complications: 2<br>Comorbidities: 1<br>Treatment: Excellent<br>Risk: Moderate Risk<br>Years with DM: 7.9",
          "<b>Patient P000044</b><br>Age: 44, Female<br>Diabetes: Type 2<br>HbA1c: 5.6% (Δ -2.7%)<br>BMI: 29.0<br>Complications: 1<br>Comorbidities: 1<br>Treatment: Excellent<br>Risk: Low Risk<br>Years with DM: 1.6",
          "<b>Patient P000183</b><br>Age: 39, Male<br>Diabetes: Type 2<br>HbA1c: 5.5% (Δ -1.8%)<br>BMI: 31.8<br>Complications: 0<br>Comorbidities: 2<br>Treatment: Excellent<br>Risk: Low Risk<br>Years with DM: 0.4",
          "<b>Patient P000363</b><br>Age: 48, Female<br>Diabetes: Type 1<br>HbA1c: 5.5% (Δ -1.5%)<br>BMI: 25.6<br>Complications: 0<br>Comorbidities: 2<br>Treatment: Excellent<br>Risk: Low Risk<br>Years with DM: 2.3",
          "<b>Patient P000401</b><br>Age: 38, Female<br>Diabetes: Type 2<br>HbA1c: 6.8% (Δ -1.1%)<br>BMI: 28.1<br>Complications: 1<br>Comorbidities: 0<br>Treatment: Good<br>Risk: Moderate Risk<br>Years with DM: 11.3",
          "<b>Patient P000032</b><br>Age: 67, Female<br>Diabetes: Type 2<br>HbA1c: 6.3% (Δ -1.2%)<br>BMI: 26.3<br>Complications: 0<br>Comorbidities: 3<br>Treatment: Good<br>Risk: Moderate Risk<br>Years with DM: 2.3",
          "<b>Patient P000100</b><br>Age: 55, Female<br>Diabetes: Type 1<br>HbA1c: 5.7% (Δ -1.8%)<br>BMI: 26.0<br>Complications: 0<br>Comorbidities: 2<br>Treatment: Excellent<br>Risk: Low Risk<br>Years with DM: 2.5",
          "<b>Patient P000374</b><br>Age: 46, Female<br>Diabetes: Type 2<br>HbA1c: 6.5% (Δ -2.7%)<br>BMI: 32.8<br>Complications: 0<br>Comorbidities: 4<br>Treatment: Excellent<br>Risk: Low Risk<br>Years with DM: 0.6",
          "<b>Patient P000036</b><br>Age: 46, Female<br>Diabetes: Type 2<br>HbA1c: 5.5% (Δ -1.6%)<br>BMI: 30.5<br>Complications: 0<br>Comorbidities: 2<br>Treatment: Excellent<br>Risk: Moderate Risk<br>Years with DM: 7.8",
          "<b>Patient P000328</b><br>Age: 57, Male<br>Diabetes: Type 1<br>HbA1c: 6.3% (Δ -0.2%)<br>BMI: 27.7<br>Complications: 1<br>Comorbidities: 4<br>Treatment: Moderate<br>Risk: Moderate Risk<br>Years with DM: 6.5",
          "<b>Patient P000364</b><br>Age: 39, Male<br>Diabetes: Type 1<br>HbA1c: 5.9% (Δ -3.4%)<br>BMI: 28.1<br>Complications: 0<br>Comorbidities: 3<br>Treatment: Excellent<br>Risk: Low Risk<br>Years with DM: 3.3",
          "<b>Patient P000136</b><br>Age: 51, Female<br>Diabetes: Type 2<br>HbA1c: 5.5% (Δ -1.4%)<br>BMI: 29.4<br>Complications: 2<br>Comorbidities: 2<br>Treatment: Good<br>Risk: Moderate Risk<br>Years with DM: 6.2",
          "<b>Patient P000046</b><br>Age: 44, Female<br>Diabetes: Type 2<br>HbA1c: 6.9% (Δ -0.8%)<br>BMI: 27.0<br>Complications: 2<br>Comorbidities: 4<br>Treatment: Good<br>Risk: Moderate Risk<br>Years with DM: 10.2",
          "<b>Patient P000327</b><br>Age: 18, Male<br>Diabetes: Type 2<br>HbA1c: 5.9% (Δ -2.7%)<br>BMI: 27.5<br>Complications: 0<br>Comorbidities: 1<br>Treatment: Excellent<br>Risk: Low Risk<br>Years with DM: 1.7",
          "<b>Patient P000192</b><br>Age: 42, Female<br>Diabetes: Type 1<br>HbA1c: 6.0% (Δ -1.6%)<br>BMI: 27.1<br>Complications: 0<br>Comorbidities: 2<br>Treatment: Excellent<br>Risk: Low Risk<br>Years with DM: 0.6",
          "<b>Patient P000428</b><br>Age: 23, Female<br>Diabetes: Type 2<br>HbA1c: 5.7% (Δ -2.0%)<br>BMI: 27.8<br>Complications: 0<br>Comorbidities: 1<br>Treatment: Excellent<br>Risk: Moderate Risk<br>Years with DM: 5.1",
          "<b>Patient P000397</b><br>Age: 79, Female<br>Diabetes: Type 2<br>HbA1c: 6.7% (Δ -0.6%)<br>BMI: 32.4<br>Complications: 6<br>Comorbidities: 1<br>Treatment: Good<br>Risk: High Risk<br>Years with DM: 11.8",
          "<b>Patient P000417</b><br>Age: 73, Male<br>Diabetes: Type 2<br>HbA1c: 5.7% (Δ -2.6%)<br>BMI: 25.0<br>Complications: 0<br>Comorbidities: 4<br>Treatment: Excellent<br>Risk: Low Risk<br>Years with DM: 1.1",
          "<b>Patient P000059</b><br>Age: 24, Male<br>Diabetes: Type 2<br>HbA1c: 5.5% (Δ -3.1%)<br>BMI: 26.0<br>Complications: 2<br>Comorbidities: 2<br>Treatment: Excellent<br>Risk: Moderate Risk<br>Years with DM: 4.2",
          "<b>Patient P000500</b><br>Age: 52, Male<br>Diabetes: Type 2<br>HbA1c: 5.5% (Δ -1.8%)<br>BMI: 29.7<br>Complications: 0<br>Comorbidities: 0<br>Treatment: Excellent<br>Risk: Low Risk<br>Years with DM: 1.6"
         ],
         "type": "scatter3d",
         "x": {
          "bdata": "tEYeb6z76D+rJ0mcfuzhP0s67hq6geM/5dPDcLXI0T9zUXFWsoftP7mYHO7/zdw/f196HaJr0T84qZcDIjnqP38dTdFM8OQ/VGT27u735j+R1zGnbHiqP7SEE6mBNek/pyqObuxs5D8BUpRIY4TvP8bTEwaWYsU/6ZmhkpOS7j/5ktEc3gW6P6bMasjwte0/aoHfqjUM8D9cSwidVMfiP0mdWwWcxNc/3VFDuioV6j9GnkUQ43HpP13D0Eo8COA/79AO9oB/7T9NxwaQX4bLv/YCQAbjmOw/lYYbvzx51r9rT0JddOTvP2eJT3lufcM/JOqbiep55L8d5dh45mXNP4SMTl1EtnI/V8w9HE1S7z9Md7jMi3PwP6uxovcWw9I/lGONAYz15z+TasmbTVPePzCZDhE28ew/UIptnD1h6D9Cs3oIc33SP3lx9TnXxvE/vBABoZ/o7T+nLM4ztODtP5x/TIXVZ8k/CRHLpgcv4D8hfyBUkxniP9hgmNpWSsI/L0pvpWTQ1T8tsIsym+/oP4tVl8Zx0Ok/liGOs1Px8z+ZsXsH4tnwP3dcy4hABeY/g4L+/tn+3z/uzGrQWrToP5otpuQVuu4/12RWdcR43z8wEFMRqOvVP8l6Iy0aUPA/cAgMOwhD6j8/BlNhEereP/dYaZZqJvA/UmzkVRoi8T9krV0XVubdP8krtD2pssG/O4LvPo783D8wEQa9D3LyPymykqBuvOc//+a+EGrGy7/0x9ytuTHnP45rTe9+UMg/6sINXwpW5T+IgpFPTM2yv5zcTAefTeC/coFXqwZez7+xmOaOJJjrP/dg7FTQBOE/AIsnuyLC8j8skIabTKvgP8YcypR8vds/h9a4/r6b6D+h4Ul06/Hiv7BoH845veM/KGNLAW/m6T8G5tC7SgjpP7JJ+vEyUNw/EssSoQ/o2T+aXyISfQbrPzjE7RNwoOM/2a84fMdO8j+KD/psyMzbP9Lxe/MuIes/xMf8Wvss2T9zWWwQOijEv/ygQRxXTdk/BjKseGaC4D8D73UH3gHZPwFUdkHvLOo/7c762aPTnr/qVWNSXebtPzNVYYytiOY/tL8zuZqh6j/pQJGAWxjsP/MXiB9wj+Y/Ww6P3AeP5D8I//sQ3nPdP8BQ0FB73u0/ivxQq6PSpD+1fWxKsGLfPyoJw+rqvu8/3aMYIbHP5z9nqpEIst7ZP1fZdvW+Yes/cbPKa4Tw6j+v84ttFIzoP9CrMwkHG+I/G6R0Ekvy5z9V/D6gl8fnP7Pu4mJwa+k/LUsaFgDm2j83IG9TJ8DgPw/5omLJhd4//iRyjWVq0z+3v73ZiiRtPxpxUyANK+U/ocWOdACg7T87sPqSrg7aP0FICUka1Ly/m+mp3n1p7D8e7EkyrNzWPzNVZlojqek/IUlUnquG4j/IdLNJc0fpPwqoDREGA+A/YyauurMm6D+Iiu+7k6zmP7JQkn6dNuM/a9YouG/33T/CwwMeNJ3tP9jR4MsThPI/al/e8U+H2T/uI+Slc+PnPxdg230lpe4/rmXdhPxN8j+y1EsOXHrQP2MRou3/YeU/7LXFa66w7z80on0RZXjoPzUu7A/N7t+/cJy9fEUt4z9+UC//Tm/sP4k1lMd/OfA/VkPHuDdW6D8=",
          "dtype": "f8"
         },
         "y": {
          "bdata": "RHPreNU76j9l4n1PXKTTvxyZF/SMEcA/H+ivAY6mrD/zobv2wZfZP0zBrBCPOc0/miI0ioXFsD9GTvoNGDbFP66nyHYdzew/WmCyMKCWtr/sWQ1u+RDfP2eyfvjcE/M/8bl0tbVs879ggp2Qw3fzP2DYPxwKY70/Di0avzna6T9UP8LEjszWPwyjEATxgOs/S+UOrhjCyr955mTuCyLIP/2hnVoxBrw/aac8kqO41D+qfGRwg+DFPyQqGtY9DLE/kTzcZCXPzD9eHhZKTHHVv8/4UcbYbLA/bHfqeRXuzr+4aCPgdijMPwiD8EnS88m/QedYUQ7FsL8BUVysTwnDP9gmkwOMENc/jIYb7w1Fyz+1gFsu8QrIP3L8EQDtJd+/UHVyGLc31T+2MUb86be2v0JM5V7hB6K/ZeVBAZqF3D84NFp7wXOyv27uI8kQkcy/m4krcHa53z8HIk00phbrv0VtKtXHeqw/HJpAClVf1D92HVka3TndP9FZ7WvHN6A/rjl5KeLruz8VF+g/AgbKv9pI6yzPncE/kvrGv3Qa7T+6oJkzICPCPx1kMe0pyOa/B663o+/q8b8v5W1KkrfSvyH6xRjaFJ8/C/wOFdYqxT8B5HMw8VPHP4SDC6STot2/Pyxy2BtO5z9SMAArRS7Qv7l9nGKgZ9e/cpQdi4t1y7+T/lTX3pDLv6b/69Uld+E/RH6b2q5Szj9X49G0JFTHvxghRDZUp76/tWwMtJV04b/2wliQb2rqP0UF1tiSbKm/04Z4V0s26z9D5wBcEqjDvw4WiVac6uy/3AcaFBId1L/pJqXCAUTEP+a/fhXEHJo/C9MsWlqp6L+284vDgj/1v4xtV4BlH5U/EMnfv7hl2L89SSlPc6XBP4itdQYeVrm/Zjq+b7Aswz+5aMWo2W7Yv3Pm2/yTrdK/WCzL2OiUuz9MWG3AV8isP6/rCMCnyss/a09iVIva67/WcntOo0FXvzV3/a2t8eQ/s3eFQTpuwL9dhv1pA9XMv+Bf6Vea4/M/u48cQmUe0T95TQW/5IzgP6dt+Vo668o/2hkMtwwj4r+UqI/WzaLTP/xNdXSnQfa/VpijkUEX4D/QJ+frIKbPP3SBM7oX6NC/SZC6SWenmr8GjPh3bxbzv0Sz7y6hnLS/yFo4r1Eiqj99skX9VbbQv13H6C0MDso/v2+BLSY8rj/7JoY0rNjSv0bHS3G4YsC/YP0uFOk/t786QM77iTD1v5BmP6rXjtc/zDGmVzC7zT/XfJgZTaPav7VBUukwJeg/Az8Zaa0Y1r8nUeExL4PWv5vxdSLvsbc/VqMQFIUZuz8TyKyNQs64v5U8xXr/ht8/rQklRNwz17/JsQn0NMfNP25SdQfImqy/p3Yd2B+q87/MFE/cOq6CP1RIjCHC/Lo/Ho4xEM1U2z/g2hOdWHfmPyNLgVFMLfU/CiO6RsvYyT8ain7t51nPP3LiEJImkPC/C9gdlfEiqj/v1Gl8uMntPx3jx4+mhrU/QTKtNICh4D9FiknnmMNyv1N8BHE87te/HPCMHX9J0r8G250RzTGkv7HqL4rD09s/Kg/xKRIB0D8A6rtV227tv2DK4kxFbtO/lR4g+Ez31T/wdH9V6hDpPzZzd5XlQeU/EXnj8+cQyj8=",
          "dtype": "f8"
         },
         "z": {
          "bdata": "eVuH3H2B5j9r9J1AjMfvv5hGHe25kuq/1Z9gEL3777/Zys+Na62Rv3Pd49GTV96/DMUkq1qr1T8Yp2MaijPRP12k6qgxJuQ/eJOnpW0l5r8VuKRJ11jaP9zewUOOYuc/L22t1U7i5T/hI6IVo7PgP4vquggFPNS/c5ITepjjwT/7Fk4Cf07ZP0fNb1PIvNk/bPZSqQXd6D+DoAffIhu9v7p+4jT9OJW/zNC3ICrXwL/wA/BQ8ky0v08mzUGiFNy/7esijK3Imz+vgca1lUjsPwcCcWeWG8U/pteaj1zavT9/l2UY7FzUP6wmSO+Kedq/XyPupdrcyr/GPrFTdIDSP/8lbW7gwuS/nPwRD/mN0D+2z0yv0grPPx+4iZYKD/K/TCI03HPo7r+PpwD0+rbov19Hv+jVse6/J/YvA7aFyz9Pq5ZjtUjRP9KNLShXjvQ/raGLap8Irb/eZBc1eNflP02UUYCTAuA/ma0LVRLi2D9p2ngVZYrUP0pUvvt2ws6/Jd/XELoH8b+NV4Wqgdrxv8Pczz29bLQ/YW1shH7j5D+ErE+ieyPRP6QJyvrvuOI/dOcWauUI3T9yiishCl7yv4+UOftRz8I/frBfhsKUvD+Mps+e7wLRvwqHXTQ5Q+I/iVdN0AJv0b+Yf1YXKMHOP5JZQeAS9+Y/I2hHRM6o6j9C1PbYDCHyv822fvf64fA/W9VQ4MN6mL8kS32SBMDjPxw/xG8xQeq/vPrM+NlR8r9BqVPkEl/xP8Eak60tzdG/GSenTf7U6D9r4sWeoW3av8GCpDGUGea/wD6dBp6n6T+GspRL+3i+v5P/gLDrbLm/0WoiCYF+xD9AhHTf4PLdP/SSdEViFNe/tPVZQ7XD9r/UuWobKsXRvxNkaWIqNdI/er6W5m43vj8Yc4Pbnvv1v5HpcoI06+i/SdztF2V2wD+uZM03p+upP/dILOeDT8e/IFPiGsLbxz9M/E5+7NPbv4OEgmYhDdA/UkzTHF6S5r9sItODbhbtP2nSw8w+eO8/999+EBBC8L/yVoIarl/Av2GCziwE5MM/3UdKgokZ8b9tkZv3qdHVP9npd40f3N8/RpTHy8Aw4D+xfzYlruy2v6zF/1MtG+W/gyCqFIzn5b9FV+0rjj3fPzBHtzFOl/O//FBguvqD4j+fKzUkU5vsv9/H8IHbl9E/r7TNLQkqvb/vFimo/T/4vwCPbXANYty/ZGj2qHVm67/Z7nQL+WjgP/AoYQ3e5sC/UAMDAcFwxT8t1riy0NbnvwZzv77VpOM/LIVo2GR34r+Zpn3AlVj0v0hZXE/fQ8G/rEwT/vlW3D/4vuEJ79jmvyKSuTo7e8U/CjurWna95T+EN3XvpbDbP7SP17m5390/FcHRoM2vyD/3UvZjsoa9P2TflloZ+eq/0ATP/xBe57/LK3Z3G1HJP8cwljnBOu8/aRsZ2ni43r/Pyy2RNJ3xv0fZbh1OUOM/HNxEuhaJ1j884oDlx8DmP+xz9YTSSOs/IleDV1zI17+k+znOYN29v7A6Mxu7YuM/3fcNv3Ay5j9/WkkKlh3Uv4VgtIzgLKe/XTem6D+C0T8ck0MbwMzmP3tltFaR2eO/9MwV2AE4vj9wz7vWOyblP+wzts/+Xca/PvotvwnQs78=",
          "dtype": "f8"
         }
        },
        {
         "hoverinfo": "none",
         "line": {
          "color": "navy",
          "width": 8
         },
         "mode": "lines",
         "showlegend": false,
         "type": "scatter3d",
         "x": [
          -10,
          10
         ],
         "y": [
          0,
          0
         ],
         "z": [
          0,
          0
         ]
        },
        {
         "hoverinfo": "none",
         "line": {
          "color": "navy",
          "width": 8
         },
         "mode": "lines",
         "showlegend": false,
         "type": "scatter3d",
         "x": [
          0,
          0
         ],
         "y": [
          -10,
          10
         ],
         "z": [
          0,
          0
         ]
        },
        {
         "hoverinfo": "none",
         "line": {
          "color": "navy",
          "width": 8
         },
         "mode": "lines",
         "showlegend": false,
         "type": "scatter3d",
         "x": [
          0,
          0
         ],
         "y": [
          0,
          0
         ],
         "z": [
          -10,
          10
         ]
        },
        {
         "hoverinfo": "none",
         "line": {
          "color": "navy",
          "width": 6
         },
         "mode": "lines",
         "showlegend": false,
         "type": "scatter3d",
         "x": [
          9.5,
          10,
          9.5
         ],
         "y": [
          -0.5,
          0,
          0.5
         ],
         "z": [
          0,
          0,
          0
         ]
        },
        {
         "hoverinfo": "none",
         "line": {
          "color": "navy",
          "width": 6
         },
         "mode": "lines",
         "showlegend": false,
         "type": "scatter3d",
         "x": [
          -0.5,
          0,
          0.5
         ],
         "y": [
          9.5,
          10,
          9.5
         ],
         "z": [
          0,
          0,
          0
         ]
        },
        {
         "hoverinfo": "none",
         "line": {
          "color": "navy",
          "width": 6
         },
         "mode": "lines",
         "showlegend": false,
         "type": "scatter3d",
         "x": [
          0,
          0,
          0
         ],
         "y": [
          -0.5,
          0,
          0.5
         ],
         "z": [
          9.5,
          10,
          9.5
         ]
        },
        {
         "hoverinfo": "none",
         "mode": "text",
         "showlegend": false,
         "text": [
          "Well<br>Controlled"
         ],
         "textfont": {
          "color": "darkblue",
          "size": 12
         },
         "type": "scatter3d",
         "x": [
          -10.8
         ],
         "y": [
          0
         ],
         "z": [
          2.4000000000000004
         ]
        },
        {
         "hoverinfo": "none",
         "mode": "text",
         "showlegend": false,
         "text": [
          "Poorly<br>Controlled"
         ],
         "textfont": {
          "color": "darkred",
          "size": 12
         },
         "type": "scatter3d",
         "x": [
          10.8
         ],
         "y": [
          0
         ],
         "z": [
          2.4000000000000004
         ]
        },
        {
         "hoverinfo": "none",
         "mode": "text",
         "showlegend": false,
         "text": [
          "Recently<br>Diagnosed"
         ],
         "textfont": {
          "color": "darkgreen",
          "size": 12
         },
         "type": "scatter3d",
         "x": [
          0
         ],
         "y": [
          -10.8
         ],
         "z": [
          2.4000000000000004
         ]
        },
        {
         "hoverinfo": "none",
         "mode": "text",
         "showlegend": false,
         "text": [
          "Long-standing<br>Diabetes"
         ],
         "textfont": {
          "color": "darkgreen",
          "size": 12
         },
         "type": "scatter3d",
         "x": [
          0
         ],
         "y": [
          10.8
         ],
         "z": [
          2.4000000000000004
         ]
        },
        {
         "hoverinfo": "none",
         "mode": "text",
         "showlegend": false,
         "text": [
          "Simple<br>Cases"
         ],
         "textfont": {
          "color": "darkorange",
          "size": 12
         },
         "type": "scatter3d",
         "x": [
          2.4000000000000004
         ],
         "y": [
          0
         ],
         "z": [
          -10.8
         ]
        },
        {
         "hoverinfo": "none",
         "mode": "text",
         "showlegend": false,
         "text": [
          "Complex<br>Cases"
         ],
         "textfont": {
          "color": "darkorange",
          "size": 12
         },
         "type": "scatter3d",
         "x": [
          2.4000000000000004
         ],
         "y": [
          0
         ],
         "z": [
          10.8
         ]
        }
       ],
       "layout": {
        "font": {
         "color": "black",
         "size": 12
        },
        "height": 700,
        "margin": {
         "b": 0,
         "l": 0,
         "r": 0,
         "t": 60
        },
        "paper_bgcolor": "white",
        "plot_bgcolor": "white",
        "scene": {
         "bgcolor": "rgba(240, 240, 240, 0.1)",
         "camera": {
          "eye": {
           "x": 1.5,
           "y": 1.5,
           "z": 1.5
          }
         },
         "xaxis": {
          "gridcolor": "rgba(200, 200, 200, 0.3)",
          "showbackground": false,
          "showgrid": true,
          "showspikes": false,
          "showticklabels": false,
          "title": {
           "text": "Clinical Dimension 1"
          }
         },
         "yaxis": {
          "gridcolor": "rgba(200, 200, 200, 0.3)",
          "showbackground": false,
          "showgrid": true,
          "showspikes": false,
          "showticklabels": false,
          "title": {
           "text": "Clinical Dimension 2"
          }
         },
         "zaxis": {
          "gridcolor": "rgba(200, 200, 200, 0.3)",
          "showbackground": false,
          "showgrid": true,
          "showspikes": false,
          "showticklabels": false,
          "title": {
           "text": "Clinical Dimension 3"
          }
         }
        },
        "template": {
         "data": {
          "bar": [
           {
            "error_x": {
             "color": "#2a3f5f"
            },
            "error_y": {
             "color": "#2a3f5f"
            },
            "marker": {
             "line": {
              "color": "#E5ECF6",
              "width": 0.5
             },
             "pattern": {
              "fillmode": "overlay",
              "size": 10,
              "solidity": 0.2
             }
            },
            "type": "bar"
           }
          ],
          "barpolar": [
           {
            "marker": {
             "line": {
              "color": "#E5ECF6",
              "width": 0.5
             },
             "pattern": {
              "fillmode": "overlay",
              "size": 10,
              "solidity": 0.2
             }
            },
            "type": "barpolar"
           }
          ],
          "carpet": [
           {
            "aaxis": {
             "endlinecolor": "#2a3f5f",
             "gridcolor": "white",
             "linecolor": "white",
             "minorgridcolor": "white",
             "startlinecolor": "#2a3f5f"
            },
            "baxis": {
             "endlinecolor": "#2a3f5f",
             "gridcolor": "white",
             "linecolor": "white",
             "minorgridcolor": "white",
             "startlinecolor": "#2a3f5f"
            },
            "type": "carpet"
           }
          ],
          "choropleth": [
           {
            "colorbar": {
             "outlinewidth": 0,
             "ticks": ""
            },
            "type": "choropleth"
           }
          ],
          "contour": [
           {
            "colorbar": {
             "outlinewidth": 0,
             "ticks": ""
            },
            "colorscale": [
             [
              0,
              "#0d0887"
             ],
             [
              0.1111111111111111,
              "#46039f"
             ],
             [
              0.2222222222222222,
              "#7201a8"
             ],
             [
              0.3333333333333333,
              "#9c179e"
             ],
             [
              0.4444444444444444,
              "#bd3786"
             ],
             [
              0.5555555555555556,
              "#d8576b"
             ],
             [
              0.6666666666666666,
              "#ed7953"
             ],
             [
              0.7777777777777778,
              "#fb9f3a"
             ],
             [
              0.8888888888888888,
              "#fdca26"
             ],
             [
              1,
              "#f0f921"
             ]
            ],
            "type": "contour"
           }
          ],
          "contourcarpet": [
           {
            "colorbar": {
             "outlinewidth": 0,
             "ticks": ""
            },
            "type": "contourcarpet"
           }
          ],
          "heatmap": [
           {
            "colorbar": {
             "outlinewidth": 0,
             "ticks": ""
            },
            "colorscale": [
             [
              0,
              "#0d0887"
             ],
             [
              0.1111111111111111,
              "#46039f"
             ],
             [
              0.2222222222222222,
              "#7201a8"
             ],
             [
              0.3333333333333333,
              "#9c179e"
             ],
             [
              0.4444444444444444,
              "#bd3786"
             ],
             [
              0.5555555555555556,
              "#d8576b"
             ],
             [
              0.6666666666666666,
              "#ed7953"
             ],
             [
              0.7777777777777778,
              "#fb9f3a"
             ],
             [
              0.8888888888888888,
              "#fdca26"
             ],
             [
              1,
              "#f0f921"
             ]
            ],
            "type": "heatmap"
           }
          ],
          "histogram": [
           {
            "marker": {
             "pattern": {
              "fillmode": "overlay",
              "size": 10,
              "solidity": 0.2
             }
            },
            "type": "histogram"
           }
          ],
          "histogram2d": [
           {
            "colorbar": {
             "outlinewidth": 0,
             "ticks": ""
            },
            "colorscale": [
             [
              0,
              "#0d0887"
             ],
             [
              0.1111111111111111,
              "#46039f"
             ],
             [
              0.2222222222222222,
              "#7201a8"
             ],
             [
              0.3333333333333333,
              "#9c179e"
             ],
             [
              0.4444444444444444,
              "#bd3786"
             ],
             [
              0.5555555555555556,
              "#d8576b"
             ],
             [
              0.6666666666666666,
              "#ed7953"
             ],
             [
              0.7777777777777778,
              "#fb9f3a"
             ],
             [
              0.8888888888888888,
              "#fdca26"
             ],
             [
              1,
              "#f0f921"
             ]
            ],
            "type": "histogram2d"
           }
          ],
          "histogram2dcontour": [
           {
            "colorbar": {
             "outlinewidth": 0,
             "ticks": ""
            },
            "colorscale": [
             [
              0,
              "#0d0887"
             ],
             [
              0.1111111111111111,
              "#46039f"
             ],
             [
              0.2222222222222222,
              "#7201a8"
             ],
             [
              0.3333333333333333,
              "#9c179e"
             ],
             [
              0.4444444444444444,
              "#bd3786"
             ],
             [
              0.5555555555555556,
              "#d8576b"
             ],
             [
              0.6666666666666666,
              "#ed7953"
             ],
             [
              0.7777777777777778,
              "#fb9f3a"
             ],
             [
              0.8888888888888888,
              "#fdca26"
             ],
             [
              1,
              "#f0f921"
             ]
            ],
            "type": "histogram2dcontour"
           }
          ],
          "mesh3d": [
           {
            "colorbar": {
             "outlinewidth": 0,
             "ticks": ""
            },
            "type": "mesh3d"
           }
          ],
          "parcoords": [
           {
            "line": {
             "colorbar": {
              "outlinewidth": 0,
              "ticks": ""
             }
            },
            "type": "parcoords"
           }
          ],
          "pie": [
           {
            "automargin": true,
            "type": "pie"
           }
          ],
          "scatter": [
           {
            "fillpattern": {
             "fillmode": "overlay",
             "size": 10,
             "solidity": 0.2
            },
            "type": "scatter"
           }
          ],
          "scatter3d": [
           {
            "line": {
             "colorbar": {
              "outlinewidth": 0,
              "ticks": ""
             }
            },
            "marker": {
             "colorbar": {
              "outlinewidth": 0,
              "ticks": ""
             }
            },
            "type": "scatter3d"
           }
          ],
          "scattercarpet": [
           {
            "marker": {
             "colorbar": {
              "outlinewidth": 0,
              "ticks": ""
             }
            },
            "type": "scattercarpet"
           }
          ],
          "scattergeo": [
           {
            "marker": {
             "colorbar": {
              "outlinewidth": 0,
              "ticks": ""
             }
            },
            "type": "scattergeo"
           }
          ],
          "scattergl": [
           {
            "marker": {
             "colorbar": {
              "outlinewidth": 0,
              "ticks": ""
             }
            },
            "type": "scattergl"
           }
          ],
          "scattermap": [
           {
            "marker": {
             "colorbar": {
              "outlinewidth": 0,
              "ticks": ""
             }
            },
            "type": "scattermap"
           }
          ],
          "scattermapbox": [
           {
            "marker": {
             "colorbar": {
              "outlinewidth": 0,
              "ticks": ""
             }
            },
            "type": "scattermapbox"
           }
          ],
          "scatterpolar": [
           {
            "marker": {
             "colorbar": {
              "outlinewidth": 0,
              "ticks": ""
             }
            },
            "type": "scatterpolar"
           }
          ],
          "scatterpolargl": [
           {
            "marker": {
             "colorbar": {
              "outlinewidth": 0,
              "ticks": ""
             }
            },
            "type": "scatterpolargl"
           }
          ],
          "scatterternary": [
           {
            "marker": {
             "colorbar": {
              "outlinewidth": 0,
              "ticks": ""
             }
            },
            "type": "scatterternary"
           }
          ],
          "surface": [
           {
            "colorbar": {
             "outlinewidth": 0,
             "ticks": ""
            },
            "colorscale": [
             [
              0,
              "#0d0887"
             ],
             [
              0.1111111111111111,
              "#46039f"
             ],
             [
              0.2222222222222222,
              "#7201a8"
             ],
             [
              0.3333333333333333,
              "#9c179e"
             ],
             [
              0.4444444444444444,
              "#bd3786"
             ],
             [
              0.5555555555555556,
              "#d8576b"
             ],
             [
              0.6666666666666666,
              "#ed7953"
             ],
             [
              0.7777777777777778,
              "#fb9f3a"
             ],
             [
              0.8888888888888888,
              "#fdca26"
             ],
             [
              1,
              "#f0f921"
             ]
            ],
            "type": "surface"
           }
          ],
          "table": [
           {
            "cells": {
             "fill": {
              "color": "#EBF0F8"
             },
             "line": {
              "color": "white"
             }
            },
            "header": {
             "fill": {
              "color": "#C8D4E3"
             },
             "line": {
              "color": "white"
             }
            },
            "type": "table"
           }
          ]
         },
         "layout": {
          "annotationdefaults": {
           "arrowcolor": "#2a3f5f",
           "arrowhead": 0,
           "arrowwidth": 1
          },
          "autotypenumbers": "strict",
          "coloraxis": {
           "colorbar": {
            "outlinewidth": 0,
            "ticks": ""
           }
          },
          "colorscale": {
           "diverging": [
            [
             0,
             "#8e0152"
            ],
            [
             0.1,
             "#c51b7d"
            ],
            [
             0.2,
             "#de77ae"
            ],
            [
             0.3,
             "#f1b6da"
            ],
            [
             0.4,
             "#fde0ef"
            ],
            [
             0.5,
             "#f7f7f7"
            ],
            [
             0.6,
             "#e6f5d0"
            ],
            [
             0.7,
             "#b8e186"
            ],
            [
             0.8,
             "#7fbc41"
            ],
            [
             0.9,
             "#4d9221"
            ],
            [
             1,
             "#276419"
            ]
           ],
           "sequential": [
            [
             0,
             "#0d0887"
            ],
            [
             0.1111111111111111,
             "#46039f"
            ],
            [
             0.2222222222222222,
             "#7201a8"
            ],
            [
             0.3333333333333333,
             "#9c179e"
            ],
            [
             0.4444444444444444,
             "#bd3786"
            ],
            [
             0.5555555555555556,
             "#d8576b"
            ],
            [
             0.6666666666666666,
             "#ed7953"
            ],
            [
             0.7777777777777778,
             "#fb9f3a"
            ],
            [
             0.8888888888888888,
             "#fdca26"
            ],
            [
             1,
             "#f0f921"
            ]
           ],
           "sequentialminus": [
            [
             0,
             "#0d0887"
            ],
            [
             0.1111111111111111,
             "#46039f"
            ],
            [
             0.2222222222222222,
             "#7201a8"
            ],
            [
             0.3333333333333333,
             "#9c179e"
            ],
            [
             0.4444444444444444,
             "#bd3786"
            ],
            [
             0.5555555555555556,
             "#d8576b"
            ],
            [
             0.6666666666666666,
             "#ed7953"
            ],
            [
             0.7777777777777778,
             "#fb9f3a"
            ],
            [
             0.8888888888888888,
             "#fdca26"
            ],
            [
             1,
             "#f0f921"
            ]
           ]
          },
          "colorway": [
           "#636efa",
           "#EF553B",
           "#00cc96",
           "#ab63fa",
           "#FFA15A",
           "#19d3f3",
           "#FF6692",
           "#B6E880",
           "#FF97FF",
           "#FECB52"
          ],
          "font": {
           "color": "#2a3f5f"
          },
          "geo": {
           "bgcolor": "white",
           "lakecolor": "white",
           "landcolor": "#E5ECF6",
           "showlakes": true,
           "showland": true,
           "subunitcolor": "white"
          },
          "hoverlabel": {
           "align": "left"
          },
          "hovermode": "closest",
          "mapbox": {
           "style": "light"
          },
          "paper_bgcolor": "white",
          "plot_bgcolor": "#E5ECF6",
          "polar": {
           "angularaxis": {
            "gridcolor": "white",
            "linecolor": "white",
            "ticks": ""
           },
           "bgcolor": "#E5ECF6",
           "radialaxis": {
            "gridcolor": "white",
            "linecolor": "white",
            "ticks": ""
           }
          },
          "scene": {
           "xaxis": {
            "backgroundcolor": "#E5ECF6",
            "gridcolor": "white",
            "gridwidth": 2,
            "linecolor": "white",
            "showbackground": true,
            "ticks": "",
            "zerolinecolor": "white"
           },
           "yaxis": {
            "backgroundcolor": "#E5ECF6",
            "gridcolor": "white",
            "gridwidth": 2,
            "linecolor": "white",
            "showbackground": true,
            "ticks": "",
            "zerolinecolor": "white"
           },
           "zaxis": {
            "backgroundcolor": "#E5ECF6",
            "gridcolor": "white",
            "gridwidth": 2,
            "linecolor": "white",
            "showbackground": true,
            "ticks": "",
            "zerolinecolor": "white"
           }
          },
          "shapedefaults": {
           "line": {
            "color": "#2a3f5f"
           }
          },
          "ternary": {
           "aaxis": {
            "gridcolor": "white",
            "linecolor": "white",
            "ticks": ""
           },
           "baxis": {
            "gridcolor": "white",
            "linecolor": "white",
            "ticks": ""
           },
           "bgcolor": "#E5ECF6",
           "caxis": {
            "gridcolor": "white",
            "linecolor": "white",
            "ticks": ""
           }
          },
          "title": {
           "x": 0.05
          },
          "xaxis": {
           "automargin": true,
           "gridcolor": "white",
           "linecolor": "white",
           "ticks": "",
           "title": {
            "standoff": 15
           },
           "zerolinecolor": "white",
           "zerolinewidth": 2
          },
          "yaxis": {
           "automargin": true,
           "gridcolor": "white",
           "linecolor": "white",
           "ticks": "",
           "title": {
            "standoff": 15
           },
           "zerolinecolor": "white",
           "zerolinewidth": 2
          }
         }
        },
        "title": {
         "text": "Diabetes Patient Clinical Space<br><sub>X: Disease Control | Y: Disease Progression | Z: Clinical Complexity</sub>"
        },
        "width": 900
       }
      }
     },
     "metadata": {},
     "output_type": "display_data"
    },
    {
     "name": "stdout",
     "output_type": "stream",
     "text": [
      "💾 Saved: diabetes_patients_labeled_axes.html\n"
     ]
    }
   ],
   "source": [
    "\n",
    "\n",
    "import numpy as np\n",
    "import pandas as pd\n",
    "import plotly.graph_objects as go\n",
    "\n",
    "def analyze_patient_axes_detailed(df, coords_3d, n_extreme=20):\n",
    "    \"\"\"\n",
    "    Detailed analysis of what each axis represents in patient clinical space\n",
    "    \"\"\"\n",
    "    df_with_coords = df.copy()\n",
    "    df_with_coords['x'] = coords_3d[:, 0]\n",
    "    df_with_coords['y'] = coords_3d[:, 1] \n",
    "    df_with_coords['z'] = coords_3d[:, 2]\n",
    "    \n",
    "    print(\"🔍 DETAILED PATIENT AXIS INTERPRETATION\")\n",
    "    print(\"=\" * 70)\n",
    "    \n",
    "    # X-AXIS ANALYSIS - Disease Control & Management\n",
    "    print(f\"\\n📍 X-AXIS: Disease Control & Management\")\n",
    "    print(f\"{'='*50}\")\n",
    "    \n",
    "    left_patients = df_with_coords.nsmallest(n_extreme, 'x')\n",
    "    right_patients = df_with_coords.nlargest(n_extreme, 'x')\n",
    "    \n",
    "    print(f\"\\n⬅️  LEFT EXTREME (X < {left_patients['x'].max():.2f}):\")\n",
    "    print(f\"   🎯 HbA1c Control:\")\n",
    "    print(f\"      • Average HbA1c: {left_patients['hba1c_current'].mean():.1f}%\")\n",
    "    print(f\"      • Well controlled (<7%): {(left_patients['hba1c_current'] < 7).sum()}/{len(left_patients)} ({(left_patients['hba1c_current'] < 7).mean()*100:.1f}%)\")\n",
    "    print(f\"   💊 Treatment:\")\n",
    "    print(f\"      • Average adherence: {left_patients['adherence'].mean():.1f}%\")\n",
    "    print(f\"      • Excellent response: {(left_patients['treatment_response'] == 'Excellent').sum()}/{len(left_patients)}\")\n",
    "    print(f\"   📊 Stability:\")\n",
    "    print(f\"      • Average hospitalizations: {left_patients['hospitalizations'].mean():.1f}\")\n",
    "    print(f\"      • Average complications: {left_patients['complications_count'].mean():.1f}\")\n",
    "    \n",
    "    print(f\"\\n➡️  RIGHT EXTREME (X > {right_patients['x'].min():.2f}):\")\n",
    "    print(f\"   🎯 HbA1c Control:\")\n",
    "    print(f\"      • Average HbA1c: {right_patients['hba1c_current'].mean():.1f}%\")\n",
    "    print(f\"      • Poorly controlled (>9%): {(right_patients['hba1c_current'] > 9).sum()}/{len(right_patients)} ({(right_patients['hba1c_current'] > 9).mean()*100:.1f}%)\")\n",
    "    print(f\"   💊 Treatment:\")\n",
    "    print(f\"      • Average adherence: {right_patients['adherence'].mean():.1f}%\")\n",
    "    print(f\"      • Poor response: {(right_patients['treatment_response'] == 'Poor').sum()}/{len(right_patients)}\")\n",
    "    print(f\"   📊 Stability:\")\n",
    "    print(f\"      • Average hospitalizations: {right_patients['hospitalizations'].mean():.1f}\")\n",
    "    print(f\"      • Average complications: {right_patients['complications_count'].mean():.1f}\")\n",
    "    \n",
    "    # Y-AXIS ANALYSIS - Disease Duration & Progression\n",
    "    print(f\"\\n📍 Y-AXIS: Disease Duration & Progression\")\n",
    "    print(f\"{'='*50}\")\n",
    "    \n",
    "    front_patients = df_with_coords.nsmallest(n_extreme, 'y')\n",
    "    back_patients = df_with_coords.nlargest(n_extreme, 'y')\n",
    "    \n",
    "    print(f\"\\n⬇️  FRONT EXTREME (Y < {front_patients['y'].max():.2f}):\")\n",
    "    print(f\"   ⏰ Disease Timeline:\")\n",
    "    print(f\"      • Average age: {front_patients['age'].mean():.1f} years\")\n",
    "    print(f\"      • Average years with diabetes: {front_patients['years_since_diagnosis'].mean():.1f}\")\n",
    "    print(f\"      • Newly diagnosed (<2 years): {(front_patients['years_since_diagnosis'] < 2).sum()}/{len(front_patients)}\")\n",
    "    print(f\"   🔬 Disease State:\")\n",
    "    print(f\"      • Type 1 diabetes: {(front_patients['diabetes_type'] == 'Type 1').sum()}/{len(front_patients)}\")\n",
    "    print(f\"      • Average complications: {front_patients['complications_count'].mean():.1f}\")\n",
    "    print(f\"      • Simple complexity: {(front_patients['complexity'] == 'Simple').sum()}/{len(front_patients)}\")\n",
    "    \n",
    "    print(f\"\\n⬆️  BACK EXTREME (Y > {back_patients['y'].min():.2f}):\")\n",
    "    print(f\"   ⏰ Disease Timeline:\")\n",
    "    print(f\"      • Average age: {back_patients['age'].mean():.1f} years\")\n",
    "    print(f\"      • Average years with diabetes: {back_patients['years_since_diagnosis'].mean():.1f}\")\n",
    "    print(f\"      • Long-standing (>10 years): {(back_patients['years_since_diagnosis'] > 10).sum()}/{len(back_patients)}\")\n",
    "    print(f\"   🔬 Disease State:\")\n",
    "    print(f\"      • Type 2 diabetes: {(back_patients['diabetes_type'] == 'Type 2').sum()}/{len(back_patients)}\")\n",
    "    print(f\"      • Average complications: {back_patients['complications_count'].mean():.1f}\")\n",
    "    print(f\"      • Complex cases: {(back_patients['complexity'] == 'Complex').sum()}/{len(back_patients)}\")\n",
    "    \n",
    "    # Z-AXIS ANALYSIS - Clinical Complexity & Comorbidity Burden\n",
    "    print(f\"\\n📍 Z-AXIS: Clinical Complexity & Comorbidity Burden\")\n",
    "    print(f\"{'='*50}\")\n",
    "    \n",
    "    bottom_patients = df_with_coords.nsmallest(n_extreme, 'z')\n",
    "    top_patients = df_with_coords.nlargest(n_extreme, 'z')\n",
    "    \n",
    "    print(f\"\\n⬇️  BOTTOM EXTREME (Z < {bottom_patients['z'].max():.2f}):\")\n",
    "    print(f\"   🏥 Healthcare Utilization:\")\n",
    "    print(f\"      • Average hospitalizations: {bottom_patients['hospitalizations'].mean():.1f}\")\n",
    "    print(f\"      • Zero hospitalizations: {(bottom_patients['hospitalizations'] == 0).sum()}/{len(bottom_patients)}\")\n",
    "    print(f\"   🔗 Disease Burden:\")\n",
    "    print(f\"      • Average comorbidities: {bottom_patients['comorbidities_count'].mean():.1f}\")\n",
    "    print(f\"      • Average complications: {bottom_patients['complications_count'].mean():.1f}\")\n",
    "    print(f\"      • Low risk category: {(bottom_patients['risk_category'] == 'Low Risk').sum()}/{len(bottom_patients)}\")\n",
    "    print(f\"   💰 Social Factors:\")\n",
    "    print(f\"      • Average SES score: {bottom_patients['ses_score'].mean():.1f}/10\")\n",
    "    print(f\"      • Private insurance: {(bottom_patients['insurance'] == 'Private').sum()}/{len(bottom_patients)}\")\n",
    "    \n",
    "    print(f\"\\n⬆️  TOP EXTREME (Z > {top_patients['z'].min():.2f}):\")\n",
    "    print(f\"   🏥 Healthcare Utilization:\")\n",
    "    print(f\"      • Average hospitalizations: {top_patients['hospitalizations'].mean():.1f}\")\n",
    "    print(f\"      • Multiple hospitalizations (>2): {(top_patients['hospitalizations'] > 2).sum()}/{len(top_patients)}\")\n",
    "    print(f\"   🔗 Disease Burden:\")\n",
    "    print(f\"      • Average comorbidities: {top_patients['comorbidities_count'].mean():.1f}\")\n",
    "    print(f\"      • Average complications: {top_patients['complications_count'].mean():.1f}\")\n",
    "    print(f\"      • High/Very High risk: {(top_patients['risk_category'].isin(['High Risk', 'Very High Risk'])).sum()}/{len(top_patients)}\")\n",
    "    print(f\"   💰 Social Factors:\")\n",
    "    print(f\"      • Average SES score: {top_patients['ses_score'].mean():.1f}/10\")\n",
    "    print(f\"      • Medicaid/Uninsured: {(top_patients['insurance'].isin(['Medicaid', 'Uninsured'])).sum()}/{len(top_patients)}\")\n",
    "    \n",
    "    return df_with_coords\n",
    "\n",
    "def create_axis_correlation_analysis(df_with_coords):\n",
    "    \"\"\"\n",
    "    Analyze correlations between axes and clinical variables\n",
    "    \"\"\"\n",
    "    print(f\"\\n📊 AXIS CORRELATION ANALYSIS\")\n",
    "    print(f\"{'='*50}\")\n",
    "    \n",
    "    # Key clinical variables to analyze\n",
    "    clinical_vars = {\n",
    "        'hba1c_current': 'Current HbA1c',\n",
    "        'hba1c_change': 'HbA1c Change',\n",
    "        'years_since_diagnosis': 'Years with Diabetes',\n",
    "        'age': 'Age',\n",
    "        'complications_count': 'Complications',\n",
    "        'comorbidities_count': 'Comorbidities',\n",
    "        'hospitalizations': 'Hospitalizations',\n",
    "        'adherence': 'Medication Adherence',\n",
    "        'cv_risk': 'CV Risk Score',\n",
    "        'kidney_risk': 'Kidney Risk',\n",
    "        'bmi': 'BMI',\n",
    "        'ses_score': 'Socioeconomic Score'\n",
    "    }\n",
    "    \n",
    "    axes = ['x', 'y', 'z']\n",
    "    axis_names = ['X (Control)', 'Y (Progression)', 'Z (Complexity)']\n",
    "    \n",
    "    print(f\"\\n{'Variable':<20} {'X-Axis':<12} {'Y-Axis':<12} {'Z-Axis':<12}\")\n",
    "    print(f\"{'-'*20} {'-'*12} {'-'*12} {'-'*12}\")\n",
    "    \n",
    "    for var, name in clinical_vars.items():\n",
    "        if var in df_with_coords.columns:\n",
    "            correlations = []\n",
    "            for axis in axes:\n",
    "                corr = df_with_coords[axis].corr(df_with_coords[var])\n",
    "                correlations.append(f\"{corr:>+.3f}\")\n",
    "            \n",
    "            print(f\"{name:<20} {correlations[0]:<12} {correlations[1]:<12} {correlations[2]:<12}\")\n",
    "    \n",
    "    # Find strongest correlations for each axis\n",
    "    print(f\"\\n🎯 STRONGEST CORRELATIONS:\")\n",
    "    for i, (axis, name) in enumerate(zip(axes, axis_names)):\n",
    "        print(f\"\\n{name}:\")\n",
    "        axis_corrs = []\n",
    "        for var, var_name in clinical_vars.items():\n",
    "            if var in df_with_coords.columns:\n",
    "                corr = abs(df_with_coords[axis].corr(df_with_coords[var]))\n",
    "                axis_corrs.append((var_name, corr))\n",
    "        \n",
    "        # Sort by correlation strength and show top 3\n",
    "        axis_corrs.sort(key=lambda x: x[1], reverse=True)\n",
    "        for j, (var_name, corr) in enumerate(axis_corrs[:3]):\n",
    "            print(f\"   {j+1}. {var_name}: {corr:.3f}\")\n",
    "\n",
    "def create_labeled_patient_plot(df, coords_3d):\n",
    "    \"\"\"\n",
    "    Create patient plot with axis interpretation labels\n",
    "    \"\"\"\n",
    "    # Create base plot\n",
    "    fig = create_patient_3d_plot(df, coords_3d, color_by='control_status')\n",
    "    \n",
    "    # Add axis interpretation labels\n",
    "    axis_range = max(abs(coords_3d).max() * 1.3, 12)\n",
    "    \n",
    "    # X-axis labels (Disease Control)\n",
    "    fig.add_trace(go.Scatter3d(\n",
    "        x=[-axis_range * 0.9], y=[0], z=[axis_range * 0.2],\n",
    "        mode='text',\n",
    "        text=['Well<br>Controlled'],\n",
    "        textfont=dict(size=12, color='darkblue'),\n",
    "        showlegend=False,\n",
    "        hoverinfo='none'\n",
    "    ))\n",
    "    \n",
    "    fig.add_trace(go.Scatter3d(\n",
    "        x=[axis_range * 0.9], y=[0], z=[axis_range * 0.2],\n",
    "        mode='text',\n",
    "        text=['Poorly<br>Controlled'],\n",
    "        textfont=dict(size=12, color='darkred'),\n",
    "        showlegend=False,\n",
    "        hoverinfo='none'\n",
    "    ))\n",
    "    \n",
    "    # Y-axis labels (Disease Progression)\n",
    "    fig.add_trace(go.Scatter3d(\n",
    "        x=[0], y=[-axis_range * 0.9], z=[axis_range * 0.2],\n",
    "        mode='text',\n",
    "        text=['Recently<br>Diagnosed'],\n",
    "        textfont=dict(size=12, color='darkgreen'),\n",
    "        showlegend=False,\n",
    "        hoverinfo='none'\n",
    "    ))\n",
    "    \n",
    "    fig.add_trace(go.Scatter3d(\n",
    "        x=[0], y=[axis_range * 0.9], z=[axis_range * 0.2],\n",
    "        mode='text',\n",
    "        text=['Long-standing<br>Diabetes'],\n",
    "        textfont=dict(size=12, color='darkgreen'),\n",
    "        showlegend=False,\n",
    "        hoverinfo='none'\n",
    "    ))\n",
    "    \n",
    "    # Z-axis labels (Clinical Complexity)\n",
    "    fig.add_trace(go.Scatter3d(\n",
    "        x=[axis_range * 0.2], y=[0], z=[-axis_range * 0.9],\n",
    "        mode='text',\n",
    "        text=['Simple<br>Cases'],\n",
    "        textfont=dict(size=12, color='darkorange'),\n",
    "        showlegend=False,\n",
    "        hoverinfo='none'\n",
    "    ))\n",
    "    \n",
    "    fig.add_trace(go.Scatter3d(\n",
    "        x=[axis_range * 0.2], y=[0], z=[axis_range * 0.9],\n",
    "        mode='text',\n",
    "        text=['Complex<br>Cases'],\n",
    "        textfont=dict(size=12, color='darkorange'),\n",
    "        showlegend=False,\n",
    "        hoverinfo='none'\n",
    "    ))\n",
    "    \n",
    "    # Update title with axis interpretations\n",
    "    fig.update_layout(\n",
    "        title='Diabetes Patient Clinical Space<br><sub>X: Disease Control | Y: Disease Progression | Z: Clinical Complexity</sub>'\n",
    "    )\n",
    "    \n",
    "    return fig\n",
    "\n",
    "# ============================================\n",
    "# USAGE EXAMPLE\n",
    "# ============================================\n",
    "\n",
    "# After you have df and coords_3d from your patient analysis:\n",
    "\n",
    "# 1. Detailed axis analysis\n",
    "print(\"🔍 Running detailed axis interpretation...\")\n",
    "df_with_coords = analyze_patient_axes_detailed(df, coords_3d, n_extreme=25)\n",
    "\n",
    "# 2. Correlation analysis\n",
    "create_axis_correlation_analysis(df_with_coords)\n",
    "\n",
    "# 3. Create labeled plot\n",
    "print(\"\\n🎨 Creating labeled patient visualization...\")\n",
    "fig_labeled = create_labeled_patient_plot(df, coords_3d)\n",
    "fig_labeled.show()\n",
    "\n",
    "# 4. Save labeled version\n",
    "fig_labeled.write_html(\"diabetes_patients_labeled_axes.html\")\n",
    "print(\"💾 Saved: diabetes_patients_labeled_axes.html\")"
   ]
  },
  {
   "cell_type": "code",
   "execution_count": null,
   "id": "ecc0b426",
   "metadata": {},
   "outputs": [
    {
     "name": "stdout",
     "output_type": "stream",
     "text": [
      "🚀 Starting Comprehensive Diabetes Patient Data Analysis\n",
      "================================================================================\n",
      "🔍 Fetching complete patient dataset from Weaviate...\n",
      "✅ Loaded 500 patients for analysis\n",
      "\n",
      "================================================================================\n",
      "📊 DIABETES PATIENT DATASET OVERVIEW\n",
      "================================================================================\n",
      "\n",
      "📈 DATASET SIZE & STRUCTURE:\n",
      "   • Total Patients: 500\n",
      "   • Total Features: 43\n",
      "   • Data Quality Score: 0.950\n",
      "   • Missing Data: 0 values (0.00%)\n",
      "\n",
      "👥 DEMOGRAPHICS:\n",
      "   • Age Range: 18-95 years (μ=54.1, σ=15.3)\n",
      "   • Gender Distribution:\n",
      "     - Female: 264 (52.8%)\n",
      "     - Male: 236 (47.2%)\n",
      "   • Diabetes Type Distribution:\n",
      "     - Type 2: 440 (88.0%)\n",
      "     - Type 1: 60 (12.0%)\n",
      "\n",
      "🔬 CLINICAL CHARACTERISTICS:\n",
      "   • Disease Duration: 5.1 ± 4.8 years\n",
      "   • HbA1c Current: 8.1 ± 1.9%\n",
      "   • HbA1c Change: -1.4 ± 1.0%\n",
      "   • BMI: 29.6 ± 5.1 kg/m²\n",
      "   • Blood Pressure: 131/80 mmHg\n",
      "\n",
      "🎯 GLYCEMIC CONTROL STATUS:\n",
      "   • Well Controlled (<7%): 154 (30.8%)\n",
      "   • Moderately Controlled (7-8%): 88 (17.6%)\n",
      "   • Poorly Controlled (8-9%): 91 (18.2%)\n",
      "   • Very Poor Control (≥9%): 167 (33.4%)\n",
      "\n",
      "⚕️ DISEASE BURDEN:\n",
      "   • Average Complications: 1.2\n",
      "   • Patients with Complications: 320 (64.0%)\n",
      "   • Average Comorbidities: 2.0\n",
      "   • Average Medications: 3.9\n",
      "\n",
      "🏥 HEALTHCARE UTILIZATION:\n",
      "   • Average Hospitalizations/Year: 0.3\n",
      "   • Patients with Hospitalizations: 116 (23.2%)\n",
      "   • Average ER Visits/Year: 0.6\n",
      "\n",
      "⚠️ RISK PROFILES:\n",
      "   • Cardiovascular Risk: 0.375 ± 0.153\n",
      "   • Kidney Disease Risk: 0.233 ± 0.069\n",
      "   • Retinopathy Risk: 0.389 ± 0.256\n",
      "   • Neuropathy Risk: 0.316 ± 0.217\n",
      "\n",
      "💊 TREATMENT RESPONSE:\n",
      "   • Good: 217 (43.4%)\n",
      "   • Excellent: 208 (41.6%)\n",
      "   • Moderate: 63 (12.6%)\n",
      "   • Poor: 12 (2.4%)\n",
      "   • Average Medication Adherence: 79.4%\n",
      "\n",
      "💰 SOCIAL DETERMINANTS:\n",
      "   • Private: 203 (40.6%)\n",
      "   • Medicare: 160 (32.0%)\n",
      "   • Medicaid: 97 (19.4%)\n",
      "   • Uninsured: 40 (8.0%)\n",
      "   • Average SES Score: 5.4/10\n",
      "\n",
      "🏃 LIFESTYLE FACTORS:\n",
      "   • Never Smoker: 273 (54.6%)\n",
      "   • Former Smoker: 147 (29.4%)\n",
      "   • Current Smoker: 80 (16.0%)\n",
      "   • Average Exercise: 2.9 hours/week\n",
      "   • Average Diet Score: 5.4/10\n",
      "\n",
      "📊 DISTRIBUTION ANALYSIS:\n",
      "==================================================\n",
      "\n",
      "📈 CONTINUOUS VARIABLES:\n",
      "Variable                  Mean     Std      Min      25%      50%      75%      Max     \n",
      "-----------------------------------------------------------------------------------------\n",
      "Age (years)                  54.1    15.3    18.0    43.0    54.0    64.0    95.0\n",
      "Years with Diabetes           5.1     4.8     0.0     1.6     3.6     7.1    30.5\n",
      "Current HbA1c (%)             8.1     1.9     5.5     6.5     8.0     9.6    14.0\n",
      "BMI (kg/m²)                  29.6     5.1    18.0    26.0    29.6    33.0    45.0\n",
      "Systolic BP (mmHg)          130.5    16.2    73.0   119.0   131.0   141.0   180.0\n",
      "Creatinine (mg/dL)            1.1     0.3     0.5     0.9     1.1     1.3     2.1\n",
      "eGFR (mL/min/1.73m²)         70.5    31.6    25.6    49.2    61.5    83.1   200.1\n",
      "LDL Cholesterol (mg/dL)      99.4    28.7     8.0    79.8    99.0   117.2   203.0\n",
      "HDL Cholesterol (mg/dL)      49.6    11.7    13.0    42.0    50.0    58.0    82.0\n",
      "Cardiovascular Risk           0.4     0.2     0.1     0.2     0.3     0.5     0.8\n",
      "Medication Adherence (%)     79.4    13.4    40.0    70.5    79.7    90.2   100.0\n",
      "\n",
      "📋 MOST COMMON CLINICAL ITEMS:\n",
      "==================================================\n",
      "\n",
      "🔴 TOP COMPLICATIONS:\n",
      "    1. Alzheimer's disease risk      :  66 patients (13.2%)\n",
      "    2. diabetic neuropathy           :  63 patients (12.6%)\n",
      "    3. diabetic nephropathy          :  61 patients (12.2%)\n",
      "    4. peripheral artery disease     :  61 patients (12.2%)\n",
      "    5. hearing impairment            :  57 patients (11.4%)\n",
      "    6. diabetic retinopathy          :  57 patients (11.4%)\n",
      "    7. skin conditions               :  54 patients (10.8%)\n",
      "    8. gastroparesis                 :  53 patients (10.6%)\n",
      "    9. erectile dysfunction          :  52 patients (10.4%)\n",
      "   10. foot ulcers                   :  50 patients (10.0%)\n",
      "\n",
      "🟡 TOP COMORBIDITIES:\n",
      "    1. vitamin D deficiency          :  92 patients (18.4%)\n",
      "    2. GERD                          :  92 patients (18.4%)\n",
      "    3. hypertension                  :  91 patients (18.2%)\n",
      "    4. hyperlipidemia                :  86 patients (17.2%)\n",
      "    5. PCOS                          :  84 patients (16.8%)\n",
      "    6. fatty liver disease           :  84 patients (16.8%)\n",
      "    7. sleep apnea                   :  79 patients (15.8%)\n",
      "    8. obesity                       :  78 patients (15.6%)\n",
      "    9. thyroid disorders             :  77 patients (15.4%)\n",
      "   10. depression                    :  77 patients (15.4%)\n",
      "\n",
      "💊 TOP MEDICATIONS:\n",
      "    1. Rosuvastatin 20mg daily            : 138 patients (27.6%)\n",
      "    2. Amlodipine 5mg daily               : 133 patients (26.6%)\n",
      "    3. Losartan 50mg daily                : 126 patients (25.2%)\n",
      "    4. Aspirin 81mg daily                 : 126 patients (25.2%)\n",
      "    5. Metoprolol 50mg BID                : 120 patients (24.0%)\n",
      "    6. Atorvastatin 40mg daily            : 116 patients (23.2%)\n",
      "    7. Hydrochlorothiazide 25mg daily     : 112 patients (22.4%)\n",
      "    8. Lisinopril 10mg daily              : 111 patients (22.2%)\n",
      "    9. Metformin 500mg BID                :  90 patients (18.0%)\n",
      "   10. Insulin aspart TID                 :  89 patients (17.8%)\n",
      "\n",
      "🔵 TOP SYMPTOMS:\n",
      "    1. numbness in extremities       : 107 patients (21.4%)\n",
      "    2. polydipsia                    :  99 patients (19.8%)\n",
      "    3. fruity breath odor            :  98 patients (19.6%)\n",
      "    4. polyuria                      :  96 patients (19.2%)\n",
      "    5. increased hunger              :  94 patients (18.8%)\n",
      "    6. frequent infections           :  92 patients (18.4%)\n",
      "    7. dry skin                      :  90 patients (18.0%)\n",
      "    8. irritability                  :  88 patients (17.6%)\n",
      "    9. slow healing wounds           :  88 patients (17.6%)\n",
      "   10. unexplained weight loss       :  88 patients (17.6%)\n",
      "\n",
      "📊 COMPREHENSIVE SUMMARY STATISTICS:\n",
      "============================================================\n",
      "\n",
      "🔬 CLINICAL OUTCOMES BY DIABETES TYPE:\n",
      "\n",
      "Type 2 (n=440):\n",
      "   • Age: 54.3 ± 15.4 years\n",
      "   • HbA1c: 8.1 ± 1.9%\n",
      "   • BMI: 30.3 ± 5.0\n",
      "   • Complications: 1.2\n",
      "   • CV Risk: 0.377\n",
      "   • Well controlled (<7%): 29.8%\n",
      "\n",
      "Type 1 (n=60):\n",
      "   • Age: 52.5 ± 14.3 years\n",
      "   • HbA1c: 7.9 ± 1.8%\n",
      "   • BMI: 25.1 ± 3.4\n",
      "   • Complications: 1.2\n",
      "   • CV Risk: 0.361\n",
      "   • Well controlled (<7%): 38.3%\n",
      "\n",
      "📈 OUTCOMES BY GLYCEMIC CONTROL:\n",
      "\n",
      "Well Controlled (n=154):\n",
      "   • Complications: 0.9\n",
      "   • Hospitalizations: 0.2\n",
      "   • CV Risk: 0.367\n",
      "   • Adherence: 78.7%\n",
      "\n",
      "Moderately Controlled (n=88):\n",
      "   • Complications: 1.0\n",
      "   • Hospitalizations: 0.2\n",
      "   • CV Risk: 0.380\n",
      "   • Adherence: 81.3%\n",
      "\n",
      "Poorly Controlled (n=91):\n",
      "   • Complications: 1.4\n",
      "   • Hospitalizations: 0.3\n",
      "   • CV Risk: 0.379\n",
      "   • Adherence: 77.7%\n",
      "\n",
      "Very Poor Control (n=167):\n",
      "   • Complications: 1.7\n",
      "   • Hospitalizations: 0.4\n",
      "   • CV Risk: 0.378\n",
      "   • Adherence: 80.1%\n",
      "\n",
      "🔗 KEY CORRELATIONS:\n",
      "   • HbA1c vs Complications: +0.271\n",
      "   • HbA1c vs Hospitalizations: +0.165\n",
      "   • HbA1c vs CV Risk: +0.050\n",
      "   • Adherence vs HbA1c: +0.017\n",
      "   • Age vs Complications: +0.065\n",
      "   • BMI vs HbA1c: +0.113\n",
      "   • Years DM vs Complications: +0.507\n",
      "\n",
      "🎨 Creating comprehensive data visualization dashboard...\n"
     ]
    },
    {
     "data": {
      "application/vnd.plotly.v1+json": {
       "config": {
        "plotlyServerURL": "https://plot.ly"
       },
       "data": [
        {
         "name": "Age",
         "nbinsx": 20,
         "type": "histogram",
         "x": {
          "bdata": "LDAzUzESIxsnQEw4OTBKLEI+LilBJUw8PjtRO0FGTTsnODcXN0IsOiNLNzdCEzgxHCouSycxLiA9S0AnPD0pLz1eJy08VSJFOCo7TEY4NzJBUCs/VUNHLTNJJDctOU0xLyc7MUkyJjU4ElJLQDktNy87MyFNLzI7NDxYME8tTDhMSUcyHDBDM0tMICZGVj9GKUVAQTceRz47OB06WlRERiE/SSQgOSohNCclEhc2JzQbKCFZJzxWNkZPNSs8P0MoMDE3KzUpKUk7OT40Q0s7NxI3KyolPjI4PC1EOjYoPkEvNi9DKjUsJUEqNCs0VzQ3TiEzNksuTyFKIUUZLDgkNRYkNCsmRDQ2Ji49MD8vIyFGQyo5KkJfHjsxEjY3Nh0rLjMuPjU2QysxKSo8LB40TywtPk0hJ0c8QiooMTpLJCc/Ph4qITY2Eio8RDUrNzYmTj4iOzQ+OkRARjk8NkEzGUI4PUo8MiM0JkESKy1fTUowQRY/OENASEc4VD5QPkAuKDk1NEo1JTtKSDlZMUQ6NjlGMEI1LSk4NTpONzA7MTQ+OTo3JkNIKU01LDZUNRdANSs7QDs1LSwxUTI/IicfSDAmMkA7QzI2SDdDGkcdLkQwLjlTPCczQSssKy81MjIWEkBAKicoFzo1M09KFEksJBhRQDQ=",
          "dtype": "i1"
         },
         "xaxis": "x",
         "yaxis": "y"
        },
        {
         "name": "HbA1c",
         "nbinsx": 20,
         "type": "histogram",
         "x": {
          "bdata": "zczMzMzMIEAAAAAAAAAeQJqZmZmZmSNAMzMzMzMzJUDNzMzMzMwjQDMzMzMzMyNAAAAAAAAAIUAzMzMzMzMhQM3MzMzMzCBAMzMzMzMzJUCamZmZmZkfQAAAAAAAABZAmpmZmZmZJEDNzMzMzMwgQGZmZmZmZiZAZmZmZmZmGECamZmZmZkmQGZmZmZmZhZAMzMzMzMzH0AzMzMzMzMiQAAAAAAAACVAmpmZmZmZI0AAAAAAAAAaQAAAAAAAABZAmpmZmZmZF0AzMzMzMzMgQGZmZmZmZiFAAAAAAAAAJEBmZmZmZmYeQAAAAAAAAB5AZmZmZmZmI0BmZmZmZmYeQDMzMzMzMyBAAAAAAAAAFkAAAAAAAAAlQDMzMzMzMyNAAAAAAAAAGkAAAAAAAAAiQDMzMzMzMylAZmZmZmZmGkAzMzMzMzMjQAAAAAAAABZAzczMzMzMJkDNzMzMzMwcQGZmZmZmZiBAzczMzMzMGkBmZmZmZmYYQAAAAAAAABZAAAAAAAAAFkAAAAAAAAAiQM3MzMzMzBZAAAAAAAAAJUAAAAAAAAAcQM3MzMzMzCZAAAAAAAAAFkCamZmZmZkiQDMzMzMzMxtAZmZmZmZmHkAzMzMzMzMjQJqZmZmZmSlAAAAAAAAAIEAAAAAAAAAeQAAAAAAAACFAzczMzMzMHkCamZmZmZkgQDMzMzMzMyNAAAAAAAAAJEAAAAAAAAAWQGZmZmZmZiVAAAAAAAAAFkAzMzMzMzMoQGZmZmZmZiJAzczMzMzMHkBmZmZmZmYcQGZmZmZmZiBAZmZmZmZmIUDNzMzMzMwcQJqZmZmZmSFAzczMzMzMFkAAAAAAAAAgQAAAAAAAABZAmpmZmZmZHUBmZmZmZmYgQGZmZmZmZhxAAAAAAAAAFkAAAAAAAAAeQJqZmZmZmSRAzczMzMzMJUDNzMzMzMwaQGZmZmZmZhxAmpmZmZmZHUAzMzMzMzMkQJqZmZmZmRdAZmZmZmZmIUBmZmZmZmYlQM3MzMzMzCVAZmZmZmZmJEDNzMzMzMwYQAAAAAAAABZAZmZmZmZmIUAAAAAAAAAWQAAAAAAAABZAAAAAAAAAFkAAAAAAAAAlQGZmZmZmZhZAAAAAAAAAGEDNzMzMzMwYQAAAAAAAACVAZmZmZmZmJkAAAAAAAAAiQM3MzMzMzBZAAAAAAAAAHkDNzMzMzMwgQAAAAAAAABZAMzMzMzMzF0AAAAAAAAAWQGZmZmZmZhxAmpmZmZmZHUBmZmZmZmYlQDMzMzMzMyNAAAAAAAAAI0AzMzMzMzMqQM3MzMzMzCFAZmZmZmZmGEAAAAAAAAAeQAAAAAAAABZAMzMzMzMzHUCamZmZmZkhQJqZmZmZmRlAmpmZmZmZI0CamZmZmZkZQAAAAAAAAB5AAAAAAAAAHEBmZmZmZmYYQJqZmZmZmRlAAAAAAAAAFkDNzMzMzMwaQM3MzMzMzBhAAAAAAAAAFkAAAAAAAAAeQJqZmZmZmRlAZmZmZmZmHkAAAAAAAAAgQM3MzMzMzCBAMzMzMzMzGUDNzMzMzMweQAAAAAAAABZAmpmZmZmZIkAAAAAAAAAiQM3MzMzMzBpAAAAAAAAALECamZmZmZkdQDMzMzMzMyBAzczMzMzMIkAAAAAAAAAnQJqZmZmZmRlAmpmZmZmZIkCamZmZmZkgQM3MzMzMzCBAAAAAAAAAHEAAAAAAAAAgQDMzMzMzMyFAAAAAAAAAFkAAAAAAAAAWQAAAAAAAABZAAAAAAAAAFkAzMzMzMzMhQJqZmZmZmSRAZmZmZmZmIUDNzMzMzMwYQGZmZmZmZiRAZmZmZmZmHEAAAAAAAAAcQAAAAAAAACBAzczMzMzMHkCamZmZmZkdQAAAAAAAACFAAAAAAAAAFkBmZmZmZmYlQDMzMzMzMx1AAAAAAAAAFkAAAAAAAAAgQGZmZmZmZiBAAAAAAAAAHkAAAAAAAAAWQGZmZmZmZiZAMzMzMzMzIEAAAAAAAAAWQM3MzMzMzBhAmpmZmZmZGUCamZmZmZkhQM3MzMzMzCNAAAAAAAAAIEDNzMzMzMwaQM3MzMzMzBZAAAAAAAAAFkAAAAAAAAAWQDMzMzMzMx1AMzMzMzMzHUDNzMzMzMwhQDMzMzMzMyFAMzMzMzMzHUDNzMzMzMweQM3MzMzMzBhAmpmZmZmZIUCamZmZmZklQDMzMzMzMyNAAAAAAAAAI0AAAAAAAAAeQAAAAAAAABZAMzMzMzMzIEAAAAAAAAAWQDMzMzMzMxtAAAAAAAAAIUBmZmZmZmYgQGZmZmZmZihAzczMzMzMI0DNzMzMzMwkQGZmZmZmZiNAZmZmZmZmJUAzMzMzMzMZQAAAAAAAACBAAAAAAAAAHEAAAAAAAAAhQM3MzMzMzCJAmpmZmZmZIEAAAAAAAAAWQGZmZmZmZilAAAAAAAAAFkAAAAAAAAAhQJqZmZmZmSJAAAAAAAAAJUCamZmZmZkbQAAAAAAAABZAzczMzMzMIUBmZmZmZmYqQAAAAAAAABZAMzMzMzMzIUAzMzMzMzMhQM3MzMzMzCJAzczMzMzMIEAAAAAAAAAWQAAAAAAAABZAmpmZmZmZIEAAAAAAAAAmQM3MzMzMzCRAzczMzMzMGkAAAAAAAAAiQAAAAAAAACNAMzMzMzMzIUCamZmZmZkgQDMzMzMzMyVAAAAAAAAAHkBmZmZmZmYjQAAAAAAAABxAMzMzMzMzGUAAAAAAAAAkQAAAAAAAABZAAAAAAAAAGEAAAAAAAAAjQAAAAAAAACFAMzMzMzMzIECamZmZmZkmQDMzMzMzMxtAMzMzMzMzIUDNzMzMzMwkQGZmZmZmZhhAAAAAAAAAFkAAAAAAAAAjQDMzMzMzMyJAZmZmZmZmKEAAAAAAAAAnQJqZmZmZmSBAzczMzMzMI0DNzMzMzMwlQM3MzMzMzCFAMzMzMzMzHUCamZmZmZkjQAAAAAAAACFAAAAAAAAAIkAAAAAAAAAWQGZmZmZmZiNAAAAAAAAAFkAAAAAAAAAjQJqZmZmZmR9AZmZmZmZmKUAAAAAAAAAgQJqZmZmZmR9AzczMzMzMJUAAAAAAAAAWQAAAAAAAABpAAAAAAAAAFkDNzMzMzMwmQJqZmZmZmRdAzczMzMzMHkAzMzMzMzMmQAAAAAAAABpAAAAAAAAAJECamZmZmZkiQDMzMzMzMyFAmpmZmZmZF0CamZmZmZkZQAAAAAAAACRAAAAAAAAAGkBmZmZmZmYWQDMzMzMzMyNAmpmZmZmZHUAzMzMzMzMjQM3MzMzMzCRAMzMzMzMzG0AzMzMzMzMlQJqZmZmZmSBAzczMzMzMJUAzMzMzMzMZQAAAAAAAABZAAAAAAAAAHkAzMzMzMzMXQDMzMzMzMyBAMzMzMzMzHUDNzMzMzMwgQDMzMzMzMx9AmpmZmZmZIkCamZmZmZkiQDMzMzMzMyJAmpmZmZmZH0AAAAAAAAAcQM3MzMzMzBxAZmZmZmZmIEAzMzMzMzMgQGZmZmZmZiJAAAAAAAAAFkAAAAAAAAAjQM3MzMzMzChAZmZmZmZmIkAAAAAAAAAhQGZmZmZmZhhAZmZmZmZmGECamZmZmZkhQDMzMzMzMxdAmpmZmZmZIUCamZmZmZklQDMzMzMzMyNAZmZmZmZmIEAAAAAAAAAeQM3MzMzMzBpAAAAAAAAAGkDNzMzMzMwaQDMzMzMzMyBAzczMzMzMIUAAAAAAAAAaQJqZmZmZmShAmpmZmZmZIEAAAAAAAAAoQAAAAAAAABZAAAAAAAAAFkBmZmZmZmYeQAAAAAAAAB5AAAAAAAAAFkAAAAAAAAAWQGZmZmZmZiJAmpmZmZmZH0BmZmZmZmYjQJqZmZmZmSRAAAAAAAAAI0AzMzMzMzMXQAAAAAAAACJAAAAAAAAAGkAAAAAAAAAWQM3MzMzMzCRAMzMzMzMzH0AAAAAAAAAlQJqZmZmZmSRAzczMzMzMI0AAAAAAAAAlQGZmZmZmZh5AzczMzMzMJECamZmZmZkdQJqZmZmZmRtAAAAAAAAAFkDNzMzMzMweQM3MzMzMzCZAMzMzMzMzIEAAAAAAAAAiQM3MzMzMzBxAAAAAAAAAIUAzMzMzMzMkQM3MzMzMzBZAzczMzMzMI0DNzMzMzMwcQAAAAAAAACBAMzMzMzMzH0BmZmZmZmYcQDMzMzMzMx9AMzMzMzMzF0DNzMzMzMwYQJqZmZmZmSVAzczMzMzMFkCamZmZmZkdQAAAAAAAACBAzczMzMzMGEAAAAAAAAAWQAAAAAAAABZAmpmZmZmZH0CamZmZmZkjQJqZmZmZmSNAAAAAAAAAFkBmZmZmZmYcQM3MzMzMzB5AzczMzMzMJkBmZmZmZmYnQAAAAAAAACdAzczMzMzMGkDNzMzMzMwgQJqZmZmZmRlAzczMzMzMI0AAAAAAAAAWQJqZmZmZmSFAZmZmZmZmHEAzMzMzMzMkQAAAAAAAABZAAAAAAAAAGkAAAAAAAAAhQDMzMzMzMyJAAAAAAAAAJ0DNzMzMzMwhQDMzMzMzMyZAAAAAAAAAGEAAAAAAAAAWQDMzMzMzMytAAAAAAAAAHEAzMzMzMzMfQDMzMzMzMxtAmpmZmZmZF0BmZmZmZmYiQAAAAAAAACRAMzMzMzMzIEDNzMzMzMwcQAAAAAAAABZAMzMzMzMzKEBmZmZmZmYWQGZmZmZmZiBAmpmZmZmZI0AzMzMzMzMjQAAAAAAAACNAMzMzMzMzIkAAAAAAAAAWQGZmZmZmZiVAMzMzMzMzIEAAAAAAAAAWQDMzMzMzMxtAmpmZmZmZIUCamZmZmZkdQGZmZmZmZiRAMzMzMzMzGUBmZmZmZmYjQGZmZmZmZh5AAAAAAAAAJEDNzMzMzMwWQAAAAAAAACZAAAAAAAAAIEAzMzMzMzMjQJqZmZmZmR1AAAAAAAAAGkAzMzMzMzMjQDMzMzMzMx9AAAAAAAAAFkAzMzMzMzMZQDMzMzMzMyVAAAAAAAAAHECamZmZmZkXQAAAAAAAABZAmpmZmZmZIUCamZmZmZkkQJqZmZmZmRtAMzMzMzMzIEDNzMzMzMweQM3MzMzMzCJAzczMzMzMI0BmZmZmZmYkQAAAAAAAABxAmpmZmZmZF0AzMzMzMzMiQAAAAAAAACdAAAAAAAAAGECamZmZmZkjQJqZmZmZmSZAzczMzMzMFkDNzMzMzMwkQAAAAAAAACVAzczMzMzMHkDNzMzMzMwaQAAAAAAAACFAMzMzMzMzI0DNzMzMzMwWQAAAAAAAACZAZmZmZmZmHkAAAAAAAAAWQAAAAAAAAB5AZmZmZmZmHkAAAAAAAAAWQA==",
          "dtype": "f8"
         },
         "xaxis": "x2",
         "yaxis": "y2"
        },
        {
         "name": "BMI",
         "nbinsx": 20,
         "type": "histogram",
         "x": {
          "bdata": "ZmZmZmZmRkDNzMzMzMw6QM3MzMzMTDVAMzMzMzMzOUAAAAAAAAA9QJqZmZmZmT5AzczMzMzMPUAAAAAAAAA7QJqZmZmZmTpAzczMzMzMQEAzMzMzMzM/QAAAAAAAwEBAmpmZmZmZOUBmZmZmZuY9QGZmZmZm5j1AZmZmZmZmOkCamZmZmRk/QGZmZmZm5j5AmpmZmZmZO0AzMzMzM7M/QJqZmZmZGTNAMzMzMzMzO0CamZmZmZk9QM3MzMzMTDdAAAAAAABAQEAAAAAAAAA/QAAAAAAAgDdAzczMzMwMQUDNzMzMzMw9QGZmZmZm5jlAmpmZmZkZPkCamZmZmZlCQAAAAAAAAD5AMzMzMzMzN0CamZmZmVlBQM3MzMzMTDVAmpmZmZkZPkBmZmZmZmY5QM3MzMzMTDlAMzMzMzPzQUAzMzMzM7M/QJqZmZmZmT1AmpmZmZmZOkCamZmZmRlAQM3MzMzMzDZAzczMzMyMQEAzMzMzM3NBQJqZmZmZGTVAMzMzMzOzNkBmZmZmZmY/QAAAAAAAADtAMzMzMzMzPkCamZmZmRlBQGZmZmZmZjtAAAAAAAAAREAzMzMzMzNAQGZmZmZmZjdAZmZmZmbmOkBmZmZmZuY+QDMzMzMzsz5AMzMzMzOzOEAzMzMzM7M9QAAAAAAAgEBAZmZmZmbmPEAAAAAAAIBAQDMzMzMzMztAMzMzMzMzO0DNzMzMzEw/QM3MzMzMTD1AmpmZmZkZN0DNzMzMzMxDQJqZmZmZWUFAzczMzMwMQUAAAAAAAAA4QGZmZmZmZjlAMzMzMzOzREAzMzMzM7M8QAAAAAAAAENAMzMzMzMzNUCamZmZmRlAQJqZmZmZGTVAMzMzMzOzPEDNzMzMzMxAQAAAAAAAgDhAmpmZmZnZQEAAAAAAAIA8QAAAAAAAAD9AZmZmZmZmOUAAAAAAAABBQDMzMzMzM0BAmpmZmZmZOECamZmZmZk4QDMzMzMzM0BAmpmZmZkZQEAAAAAAAAA7QM3MzMzMTDRAZmZmZmamQEDNzMzMzMxBQJqZmZmZ2UBAZmZmZmbmPEDNzMzMzExBQJqZmZmZ2UJAAAAAAACAPkDNzMzMzExDQDMzMzMzMzpAzczMzMxMPEDNzMzMzEw4QDMzMzMzMz5AAAAAAAAAN0AAAAAAAMBEQAAAAAAAgDtAmpmZmZnZQUCamZmZmZlAQDMzMzMzsztAzczMzMzMQUCamZmZmZk6QGZmZmZmZj9AMzMzMzMzP0AAAAAAAABDQAAAAAAAADhAmpmZmZmZOkDNzMzMzExAQGZmZmZmZj5AMzMzMzPzREAzMzMzMzM7QM3MzMzMTDpAmpmZmZkZPEDNzMzMzAxEQM3MzMzMzD1AZmZmZmYmQkCamZmZmZk4QGZmZmZm5j5AzczMzMzMP0DNzMzMzEw5QJqZmZmZmT5AAAAAAAAAQkCamZmZmRkyQM3MzMzMzEFAzczMzMxMOEAAAAAAAAA7QDMzMzMzM0FAMzMzMzMzNUBmZmZmZuY+QM3MzMzMTDxAAAAAAACAM0AAAAAAAAA/QJqZmZmZGTpAAAAAAACAOkAzMzMzMzM/QJqZmZmZGT5AZmZmZmZmPkBmZmZmZmZEQDMzMzMzs0BAzczMzMzMP0AAAAAAAIA8QJqZmZmZGTZAZmZmZmZmOUAAAAAAAIA3QM3MzMzMTDJAzczMzMxMOkDNzMzMzEw+QDMzMzMzs0FAZmZmZmZmQkBmZmZmZqZBQGZmZmZm5jRAAAAAAAAAMkCamZmZmZk9QAAAAAAAgD5AZmZmZmZmPEDNzMzMzMw3QDMzMzMzs0RAAAAAAAAAPUBmZmZmZqZAQAAAAAAAwEBAzczMzMzMPUDNzMzMzEw8QAAAAAAAAD1AMzMzMzPzQ0AAAAAAAIA/QAAAAAAAADtAAAAAAABAQUCamZmZmdlAQJqZmZmZmT5AAAAAAAAAREBmZmZmZuY3QDMzMzMzsz5AMzMzMzNzQECamZmZmZk3QAAAAAAAgDpAZmZmZmZmPECamZmZmZk9QDMzMzMzMz1AzczMzMyMQUAAAAAAAIA7QJqZmZmZmTtAZmZmZmbmNkDNzMzMzMw7QJqZmZmZGUFAZmZmZmbmPEDNzMzMzIxAQAAAAAAAwENAAAAAAAAAOUDNzMzMzEw+QDMzMzMzMz5AzczMzMzMNUAAAAAAAEBDQAAAAAAAgEVAAAAAAAAANUCamZmZmZk9QM3MzMzMTDdAZmZmZmamQkDNzMzMzMxCQM3MzMzMTD1AMzMzMzOzO0DNzMzMzEw/QGZmZmZmJkJAMzMzMzOzOUBmZmZmZqZEQGZmZmZm5jpAzczMzMyMQ0DNzMzMzEw+QAAAAAAAgDxAAAAAAAAAOkAAAAAAAIA9QGZmZmZm5jdAAAAAAACAPkAAAAAAAMBAQM3MzMzMTDtAAAAAAACAQUAzMzMzM7M7QDMzMzMzc0FAZmZmZmbmQEAzMzMzM7M3QDMzMzMzMzRAMzMzMzOzREDNzMzMzEw+QGZmZmZmZjxAmpmZmZkZQ0BmZmZmZuY2QM3MzMzMTD9AAAAAAACAQkCamZmZmZk4QM3MzMzMDEJAmpmZmZkZN0BmZmZmZuZCQDMzMzMzszhAMzMzMzMzOkAzMzMzM7NAQDMzMzMzMz5AzczMzMzMOEBmZmZmZmY9QJqZmZmZmUBAzczMzMxMPUCamZmZmRk9QJqZmZmZGUJAmpmZmZmZN0AzMzMzMzM7QJqZmZmZWUBAMzMzMzOzO0BmZmZmZmZBQM3MzMzMzD5AzczMzMxMQkBmZmZmZmY/QAAAAAAAgD9AAAAAAACAOEAAAAAAAIBEQM3MzMzMjEBAAAAAAAAAOUAzMzMzMzM2QAAAAAAAADlAMzMzMzOzO0AzMzMzMzM8QM3MzMzMTDZAmpmZmZmZOEDNzMzMzMw+QM3MzMzMzDtAzczMzMzMNUDNzMzMzMw8QJqZmZmZmTlAMzMzMzMzOkCamZmZmRlBQM3MzMzMzD1AZmZmZmbmN0BmZmZmZuY1QM3MzMzMTENAMzMzMzMzMkBmZmZmZuY9QDMzMzMzszxAAAAAAACAPkAzMzMzM7M9QJqZmZmZGUBAzczMzMzMO0DNzMzMzMxAQAAAAAAAgDhAZmZmZmZmO0BmZmZmZmY7QM3MzMzMzERAAAAAAACAQEBmZmZmZuY8QJqZmZmZGT5AMzMzMzOzOEAzMzMzMzM6QJqZmZmZGTpAmpmZmZkZOECamZmZmZk6QGZmZmZmZj9AZmZmZmbmPUDNzMzMzMxDQJqZmZmZGUZAzczMzMxMREBmZmZmZuY+QJqZmZmZGTtAmpmZmZmZPUAzMzMzM3NAQAAAAAAAQENAmpmZmZkZQEAzMzMzM7M0QAAAAAAAADJAMzMzMzOzQEAzMzMzMzM6QM3MzMzMzD9AMzMzMzOzPUCamZmZmRk3QAAAAAAAAEFAAAAAAACAN0CamZmZmRk1QDMzMzMzszRAmpmZmZmZPUAAAAAAAAA+QGZmZmZmZjlAmpmZmZlZQUCamZmZmZk5QJqZmZmZmTdAZmZmZmbmQECamZmZmZk9QAAAAAAAAD1AMzMzMzOzN0BmZmZmZmZAQDMzMzMzMzlAmpmZmZmZQUBmZmZmZiZBQDMzMzMzszVAZmZmZmZmP0AzMzMzMzNAQM3MzMzMzDhAZmZmZmbmPUCamZmZmZk5QGZmZmZmZj9AmpmZmZkZOUCamZmZmZk+QM3MzMzMzEJAMzMzMzOzQECamZmZmRk9QGZmZmZm5kBAAAAAAACAMkBmZmZmZqZAQM3MzMzMTD5AzczMzMxMQEAzMzMzMzM2QAAAAAAAgDxAzczMzMzMOUAAAAAAAMBAQAAAAAAAgDtAzczMzMzMOUAzMzMzM/NAQAAAAAAAgEZAmpmZmZkZPkAAAAAAAAA3QJqZmZmZWUJAzczMzMxMP0CamZmZmZk4QDMzMzMzs0FAZmZmZmZmOECamZmZmRk6QGZmZmZm5kJAzczMzMzMOkAAAAAAAAA9QDMzMzMzszhAzczMzMzMPUBmZmZmZqZAQJqZmZmZGTVAMzMzMzOzPUAAAAAAAIA/QAAAAAAAgEBAMzMzMzMzPUCamZmZmRk1QJqZmZmZGTtAAAAAAAAAPEAzMzMzM7M5QGZmZmZm5j1AmpmZmZkZQkAAAAAAAABAQAAAAAAAAD1AmpmZmZlZQEDNzMzMzEw+QJqZmZmZGT5AmpmZmZmZPEBmZmZmZuY9QM3MzMzMzDtAAAAAAAAANEDNzMzMzEw9QJqZmZmZmTpAAAAAAADAQUBmZmZmZuY/QJqZmZmZGUJAAAAAAACAQUAzMzMzMzM5QAAAAAAAAD5AMzMzMzPzQEAzMzMzMzM9QAAAAAAAAD9AmpmZmZmZO0AzMzMzM/NDQDMzMzMzMzRAzczMzMzMP0BmZmZmZmY5QGZmZmZmZjlAzczMzMzMPUDNzMzMzMw3QGZmZmZm5j1AzczMzMzMOEAAAAAAAABCQAAAAAAAAD9AMzMzMzOzP0AzMzMzM7M+QM3MzMzMzEFAAAAAAADAQEAzMzMzM7M3QJqZmZmZmTZAAAAAAACAQEAzMzMzM7M7QM3MzMzMTDpAMzMzMzMzOkBmZmZmZuY1QGZmZmZm5jhAzczMzMxMPUBmZmZmZmY4QGZmZmZm5jlAzczMzMwMQUAAAAAAAAA9QM3MzMzMzDpAmpmZmZkZPkAAAAAAAABCQJqZmZmZGThAAAAAAACAOEDNzMzMzMw/QAAAAAAAgENAZmZmZmbmO0CamZmZmZk5QJqZmZmZGTxAZmZmZmbmP0DNzMzMzMw+QAAAAAAAADlAzczMzMxMOkCamZmZmRlBQJqZmZmZGTlAMzMzMzOzPEAAAAAAAAA6QM3MzMzMzEJAMzMzMzOzPEBmZmZmZiZAQJqZmZmZWUJAZmZmZmZmQEDNzMzMzMxAQDMzMzMzsz1AAAAAAACAPkAzMzMzM7M7QGZmZmZmZkNAmpmZmZmZPkCamZmZmRk8QGZmZmZmZj1AMzMzMzMzN0DNzMzMzExEQAAAAAAAADtAmpmZmZkZOECamZmZmRk3QJqZmZmZWUBAzczMzMxMP0CamZmZmRlCQJqZmZmZGUBAAAAAAACAO0BmZmZmZuZBQJqZmZmZmT1AmpmZmZkZO0CamZmZmZk8QJqZmZmZGT9AzczMzMzMO0BmZmZmZmY3QDMzMzMzsz1AZmZmZmbmOUAzMzMzMzNAQGZmZmZm5kFAAAAAAAAAPEAAAAAAAAA5QGZmZmZm5jVAZmZmZmZmOEAAAAAAAAA6QJqZmZmZGUBAMzMzMzNzQEAzMzMzM7M9QA==",
          "dtype": "f8"
         },
         "xaxis": "x3",
         "yaxis": "y3"
        },
        {
         "domain": {
          "x": [
           0,
           0.2888888888888889
          ],
          "y": [
           0.3888888888888889,
           0.6111111111111112
          ]
         },
         "labels": [
          "Type 2",
          "Type 1"
         ],
         "name": "Diabetes Type",
         "showlegend": true,
         "textfont": {
          "size": 12
         },
         "textinfo": "label+percent",
         "textposition": "inside",
         "type": "pie",
         "values": {
          "bdata": "uAE8AA==",
          "dtype": "i2"
         }
        },
        {
         "domain": {
          "x": [
           0.35555555555555557,
           0.6444444444444445
          ],
          "y": [
           0.3888888888888889,
           0.6111111111111112
          ]
         },
         "labels": [
          "Good",
          "Excellent",
          "Moderate",
          "Poor"
         ],
         "name": "Treatment Response",
         "showlegend": true,
         "textfont": {
          "size": 12
         },
         "textinfo": "label+percent",
         "textposition": "inside",
         "type": "pie",
         "values": {
          "bdata": "2QDQAD8ADAA=",
          "dtype": "i2"
         }
        },
        {
         "name": "Complications",
         "type": "bar",
         "x": {
          "bdata": "AAECAwQFBgcI",
          "dtype": "i1"
         },
         "xaxis": "x4",
         "y": {
          "bdata": "tACSAGUAJwAWAAgAAgABAAEA",
          "dtype": "i2"
         },
         "yaxis": "y4"
        },
        {
         "marker": {
          "opacity": 0.6,
          "size": 4
         },
         "mode": "markers",
         "name": "HbA1c vs Years",
         "type": "scatter",
         "x": {
          "bdata": "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",
          "dtype": "f8"
         },
         "xaxis": "x5",
         "y": {
          "bdata": "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",
          "dtype": "f8"
         },
         "yaxis": "y5"
        },
        {
         "boxpoints": "outliers",
         "name": "CV Risk",
         "type": "box",
         "xaxis": "x6",
         "y": {
          "bdata": "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",
          "dtype": "f8"
         },
         "yaxis": "y6"
        },
        {
         "boxpoints": "outliers",
         "name": "Kidney Risk",
         "type": "box",
         "xaxis": "x6",
         "y": {
          "bdata": "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",
          "dtype": "f8"
         },
         "yaxis": "y6"
        },
        {
         "boxpoints": "outliers",
         "name": "Retinopathy Risk",
         "type": "box",
         "xaxis": "x6",
         "y": {
          "bdata": "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",
          "dtype": "f8"
         },
         "yaxis": "y6"
        },
        {
         "boxpoints": "outliers",
         "name": "Neuropathy Risk",
         "type": "box",
         "xaxis": "x6",
         "y": {
          "bdata": "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",
          "dtype": "f8"
         },
         "yaxis": "y6"
        },
        {
         "name": "Hospitalizations",
         "type": "bar",
         "x": {
          "bdata": "AAECAw==",
          "dtype": "i1"
         },
         "xaxis": "x7",
         "y": {
          "bdata": "gAFkAA0AAwA=",
          "dtype": "i2"
         },
         "yaxis": "y7"
        }
       ],
       "layout": {
        "annotations": [
         {
          "font": {
           "size": 16
          },
          "showarrow": false,
          "text": "Age Distribution",
          "x": 0.14444444444444446,
          "xanchor": "center",
          "xref": "paper",
          "y": 1,
          "yanchor": "bottom",
          "yref": "paper"
         },
         {
          "font": {
           "size": 16
          },
          "showarrow": false,
          "text": "HbA1c Distribution",
          "x": 0.5,
          "xanchor": "center",
          "xref": "paper",
          "y": 1,
          "yanchor": "bottom",
          "yref": "paper"
         },
         {
          "font": {
           "size": 16
          },
          "showarrow": false,
          "text": "BMI Distribution",
          "x": 0.8555555555555556,
          "xanchor": "center",
          "xref": "paper",
          "y": 1,
          "yanchor": "bottom",
          "yref": "paper"
         },
         {
          "font": {
           "size": 16
          },
          "showarrow": false,
          "text": "Diabetes Type",
          "x": 0.14444444444444446,
          "xanchor": "center",
          "xref": "paper",
          "y": 0.6111111111111112,
          "yanchor": "bottom",
          "yref": "paper"
         },
         {
          "font": {
           "size": 16
          },
          "showarrow": false,
          "text": "Treatment Response",
          "x": 0.5,
          "xanchor": "center",
          "xref": "paper",
          "y": 0.6111111111111112,
          "yanchor": "bottom",
          "yref": "paper"
         },
         {
          "font": {
           "size": 16
          },
          "showarrow": false,
          "text": "Complications Count",
          "x": 0.8555555555555556,
          "xanchor": "center",
          "xref": "paper",
          "y": 0.6111111111111112,
          "yanchor": "bottom",
          "yref": "paper"
         },
         {
          "font": {
           "size": 16
          },
          "showarrow": false,
          "text": "HbA1c vs Years with Diabetes",
          "x": 0.14444444444444446,
          "xanchor": "center",
          "xref": "paper",
          "y": 0.22222222222222224,
          "yanchor": "bottom",
          "yref": "paper"
         },
         {
          "font": {
           "size": 16
          },
          "showarrow": false,
          "text": "Risk Scores Distribution",
          "x": 0.5,
          "xanchor": "center",
          "xref": "paper",
          "y": 0.22222222222222224,
          "yanchor": "bottom",
          "yref": "paper"
         },
         {
          "font": {
           "size": 16
          },
          "showarrow": false,
          "text": "Healthcare Utilization",
          "x": 0.8555555555555556,
          "xanchor": "center",
          "xref": "paper",
          "y": 0.22222222222222224,
          "yanchor": "bottom",
          "yref": "paper"
         }
        ],
        "height": 1000,
        "legend": {
         "orientation": "v",
         "x": 1.01,
         "xanchor": "left",
         "y": 0.99,
         "yanchor": "top"
        },
        "paper_bgcolor": "white",
        "showlegend": true,
        "template": {
         "data": {
          "bar": [
           {
            "error_x": {
             "color": "#2a3f5f"
            },
            "error_y": {
             "color": "#2a3f5f"
            },
            "marker": {
             "line": {
              "color": "#E5ECF6",
              "width": 0.5
             },
             "pattern": {
              "fillmode": "overlay",
              "size": 10,
              "solidity": 0.2
             }
            },
            "type": "bar"
           }
          ],
          "barpolar": [
           {
            "marker": {
             "line": {
              "color": "#E5ECF6",
              "width": 0.5
             },
             "pattern": {
              "fillmode": "overlay",
              "size": 10,
              "solidity": 0.2
             }
            },
            "type": "barpolar"
           }
          ],
          "carpet": [
           {
            "aaxis": {
             "endlinecolor": "#2a3f5f",
             "gridcolor": "white",
             "linecolor": "white",
             "minorgridcolor": "white",
             "startlinecolor": "#2a3f5f"
            },
            "baxis": {
             "endlinecolor": "#2a3f5f",
             "gridcolor": "white",
             "linecolor": "white",
             "minorgridcolor": "white",
             "startlinecolor": "#2a3f5f"
            },
            "type": "carpet"
           }
          ],
          "choropleth": [
           {
            "colorbar": {
             "outlinewidth": 0,
             "ticks": ""
            },
            "type": "choropleth"
           }
          ],
          "contour": [
           {
            "colorbar": {
             "outlinewidth": 0,
             "ticks": ""
            },
            "colorscale": [
             [
              0,
              "#0d0887"
             ],
             [
              0.1111111111111111,
              "#46039f"
             ],
             [
              0.2222222222222222,
              "#7201a8"
             ],
             [
              0.3333333333333333,
              "#9c179e"
             ],
             [
              0.4444444444444444,
              "#bd3786"
             ],
             [
              0.5555555555555556,
              "#d8576b"
             ],
             [
              0.6666666666666666,
              "#ed7953"
             ],
             [
              0.7777777777777778,
              "#fb9f3a"
             ],
             [
              0.8888888888888888,
              "#fdca26"
             ],
             [
              1,
              "#f0f921"
             ]
            ],
            "type": "contour"
           }
          ],
          "contourcarpet": [
           {
            "colorbar": {
             "outlinewidth": 0,
             "ticks": ""
            },
            "type": "contourcarpet"
           }
          ],
          "heatmap": [
           {
            "colorbar": {
             "outlinewidth": 0,
             "ticks": ""
            },
            "colorscale": [
             [
              0,
              "#0d0887"
             ],
             [
              0.1111111111111111,
              "#46039f"
             ],
             [
              0.2222222222222222,
              "#7201a8"
             ],
             [
              0.3333333333333333,
              "#9c179e"
             ],
             [
              0.4444444444444444,
              "#bd3786"
             ],
             [
              0.5555555555555556,
              "#d8576b"
             ],
             [
              0.6666666666666666,
              "#ed7953"
             ],
             [
              0.7777777777777778,
              "#fb9f3a"
             ],
             [
              0.8888888888888888,
              "#fdca26"
             ],
             [
              1,
              "#f0f921"
             ]
            ],
            "type": "heatmap"
           }
          ],
          "histogram": [
           {
            "marker": {
             "pattern": {
              "fillmode": "overlay",
              "size": 10,
              "solidity": 0.2
             }
            },
            "type": "histogram"
           }
          ],
          "histogram2d": [
           {
            "colorbar": {
             "outlinewidth": 0,
             "ticks": ""
            },
            "colorscale": [
             [
              0,
              "#0d0887"
             ],
             [
              0.1111111111111111,
              "#46039f"
             ],
             [
              0.2222222222222222,
              "#7201a8"
             ],
             [
              0.3333333333333333,
              "#9c179e"
             ],
             [
              0.4444444444444444,
              "#bd3786"
             ],
             [
              0.5555555555555556,
              "#d8576b"
             ],
             [
              0.6666666666666666,
              "#ed7953"
             ],
             [
              0.7777777777777778,
              "#fb9f3a"
             ],
             [
              0.8888888888888888,
              "#fdca26"
             ],
             [
              1,
              "#f0f921"
             ]
            ],
            "type": "histogram2d"
           }
          ],
          "histogram2dcontour": [
           {
            "colorbar": {
             "outlinewidth": 0,
             "ticks": ""
            },
            "colorscale": [
             [
              0,
              "#0d0887"
             ],
             [
              0.1111111111111111,
              "#46039f"
             ],
             [
              0.2222222222222222,
              "#7201a8"
             ],
             [
              0.3333333333333333,
              "#9c179e"
             ],
             [
              0.4444444444444444,
              "#bd3786"
             ],
             [
              0.5555555555555556,
              "#d8576b"
             ],
             [
              0.6666666666666666,
              "#ed7953"
             ],
             [
              0.7777777777777778,
              "#fb9f3a"
             ],
             [
              0.8888888888888888,
              "#fdca26"
             ],
             [
              1,
              "#f0f921"
             ]
            ],
            "type": "histogram2dcontour"
           }
          ],
          "mesh3d": [
           {
            "colorbar": {
             "outlinewidth": 0,
             "ticks": ""
            },
            "type": "mesh3d"
           }
          ],
          "parcoords": [
           {
            "line": {
             "colorbar": {
              "outlinewidth": 0,
              "ticks": ""
             }
            },
            "type": "parcoords"
           }
          ],
          "pie": [
           {
            "automargin": true,
            "type": "pie"
           }
          ],
          "scatter": [
           {
            "fillpattern": {
             "fillmode": "overlay",
             "size": 10,
             "solidity": 0.2
            },
            "type": "scatter"
           }
          ],
          "scatter3d": [
           {
            "line": {
             "colorbar": {
              "outlinewidth": 0,
              "ticks": ""
             }
            },
            "marker": {
             "colorbar": {
              "outlinewidth": 0,
              "ticks": ""
             }
            },
            "type": "scatter3d"
           }
          ],
          "scattercarpet": [
           {
            "marker": {
             "colorbar": {
              "outlinewidth": 0,
              "ticks": ""
             }
            },
            "type": "scattercarpet"
           }
          ],
          "scattergeo": [
           {
            "marker": {
             "colorbar": {
              "outlinewidth": 0,
              "ticks": ""
             }
            },
            "type": "scattergeo"
           }
          ],
          "scattergl": [
           {
            "marker": {
             "colorbar": {
              "outlinewidth": 0,
              "ticks": ""
             }
            },
            "type": "scattergl"
           }
          ],
          "scattermap": [
           {
            "marker": {
             "colorbar": {
              "outlinewidth": 0,
              "ticks": ""
             }
            },
            "type": "scattermap"
           }
          ],
          "scattermapbox": [
           {
            "marker": {
             "colorbar": {
              "outlinewidth": 0,
              "ticks": ""
             }
            },
            "type": "scattermapbox"
           }
          ],
          "scatterpolar": [
           {
            "marker": {
             "colorbar": {
              "outlinewidth": 0,
              "ticks": ""
             }
            },
            "type": "scatterpolar"
           }
          ],
          "scatterpolargl": [
           {
            "marker": {
             "colorbar": {
              "outlinewidth": 0,
              "ticks": ""
             }
            },
            "type": "scatterpolargl"
           }
          ],
          "scatterternary": [
           {
            "marker": {
             "colorbar": {
              "outlinewidth": 0,
              "ticks": ""
             }
            },
            "type": "scatterternary"
           }
          ],
          "surface": [
           {
            "colorbar": {
             "outlinewidth": 0,
             "ticks": ""
            },
            "colorscale": [
             [
              0,
              "#0d0887"
             ],
             [
              0.1111111111111111,
              "#46039f"
             ],
             [
              0.2222222222222222,
              "#7201a8"
             ],
             [
              0.3333333333333333,
              "#9c179e"
             ],
             [
              0.4444444444444444,
              "#bd3786"
             ],
             [
              0.5555555555555556,
              "#d8576b"
             ],
             [
              0.6666666666666666,
              "#ed7953"
             ],
             [
              0.7777777777777778,
              "#fb9f3a"
             ],
             [
              0.8888888888888888,
              "#fdca26"
             ],
             [
              1,
              "#f0f921"
             ]
            ],
            "type": "surface"
           }
          ],
          "table": [
           {
            "cells": {
             "fill": {
              "color": "#EBF0F8"
             },
             "line": {
              "color": "white"
             }
            },
            "header": {
             "fill": {
              "color": "#C8D4E3"
             },
             "line": {
              "color": "white"
             }
            },
            "type": "table"
           }
          ]
         },
         "layout": {
          "annotationdefaults": {
           "arrowcolor": "#2a3f5f",
           "arrowhead": 0,
           "arrowwidth": 1
          },
          "autotypenumbers": "strict",
          "coloraxis": {
           "colorbar": {
            "outlinewidth": 0,
            "ticks": ""
           }
          },
          "colorscale": {
           "diverging": [
            [
             0,
             "#8e0152"
            ],
            [
             0.1,
             "#c51b7d"
            ],
            [
             0.2,
             "#de77ae"
            ],
            [
             0.3,
             "#f1b6da"
            ],
            [
             0.4,
             "#fde0ef"
            ],
            [
             0.5,
             "#f7f7f7"
            ],
            [
             0.6,
             "#e6f5d0"
            ],
            [
             0.7,
             "#b8e186"
            ],
            [
             0.8,
             "#7fbc41"
            ],
            [
             0.9,
             "#4d9221"
            ],
            [
             1,
             "#276419"
            ]
           ],
           "sequential": [
            [
             0,
             "#0d0887"
            ],
            [
             0.1111111111111111,
             "#46039f"
            ],
            [
             0.2222222222222222,
             "#7201a8"
            ],
            [
             0.3333333333333333,
             "#9c179e"
            ],
            [
             0.4444444444444444,
             "#bd3786"
            ],
            [
             0.5555555555555556,
             "#d8576b"
            ],
            [
             0.6666666666666666,
             "#ed7953"
            ],
            [
             0.7777777777777778,
             "#fb9f3a"
            ],
            [
             0.8888888888888888,
             "#fdca26"
            ],
            [
             1,
             "#f0f921"
            ]
           ],
           "sequentialminus": [
            [
             0,
             "#0d0887"
            ],
            [
             0.1111111111111111,
             "#46039f"
            ],
            [
             0.2222222222222222,
             "#7201a8"
            ],
            [
             0.3333333333333333,
             "#9c179e"
            ],
            [
             0.4444444444444444,
             "#bd3786"
            ],
            [
             0.5555555555555556,
             "#d8576b"
            ],
            [
             0.6666666666666666,
             "#ed7953"
            ],
            [
             0.7777777777777778,
             "#fb9f3a"
            ],
            [
             0.8888888888888888,
             "#fdca26"
            ],
            [
             1,
             "#f0f921"
            ]
           ]
          },
          "colorway": [
           "#636efa",
           "#EF553B",
           "#00cc96",
           "#ab63fa",
           "#FFA15A",
           "#19d3f3",
           "#FF6692",
           "#B6E880",
           "#FF97FF",
           "#FECB52"
          ],
          "font": {
           "color": "#2a3f5f"
          },
          "geo": {
           "bgcolor": "white",
           "lakecolor": "white",
           "landcolor": "#E5ECF6",
           "showlakes": true,
           "showland": true,
           "subunitcolor": "white"
          },
          "hoverlabel": {
           "align": "left"
          },
          "hovermode": "closest",
          "mapbox": {
           "style": "light"
          },
          "paper_bgcolor": "white",
          "plot_bgcolor": "#E5ECF6",
          "polar": {
           "angularaxis": {
            "gridcolor": "white",
            "linecolor": "white",
            "ticks": ""
           },
           "bgcolor": "#E5ECF6",
           "radialaxis": {
            "gridcolor": "white",
            "linecolor": "white",
            "ticks": ""
           }
          },
          "scene": {
           "xaxis": {
            "backgroundcolor": "#E5ECF6",
            "gridcolor": "white",
            "gridwidth": 2,
            "linecolor": "white",
            "showbackground": true,
            "ticks": "",
            "zerolinecolor": "white"
           },
           "yaxis": {
            "backgroundcolor": "#E5ECF6",
            "gridcolor": "white",
            "gridwidth": 2,
            "linecolor": "white",
            "showbackground": true,
            "ticks": "",
            "zerolinecolor": "white"
           },
           "zaxis": {
            "backgroundcolor": "#E5ECF6",
            "gridcolor": "white",
            "gridwidth": 2,
            "linecolor": "white",
            "showbackground": true,
            "ticks": "",
            "zerolinecolor": "white"
           }
          },
          "shapedefaults": {
           "line": {
            "color": "#2a3f5f"
           }
          },
          "ternary": {
           "aaxis": {
            "gridcolor": "white",
            "linecolor": "white",
            "ticks": ""
           },
           "baxis": {
            "gridcolor": "white",
            "linecolor": "white",
            "ticks": ""
           },
           "bgcolor": "#E5ECF6",
           "caxis": {
            "gridcolor": "white",
            "linecolor": "white",
            "ticks": ""
           }
          },
          "title": {
           "x": 0.05
          },
          "xaxis": {
           "automargin": true,
           "gridcolor": "white",
           "linecolor": "white",
           "ticks": "",
           "title": {
            "standoff": 15
           },
           "zerolinecolor": "white",
           "zerolinewidth": 2
          },
          "yaxis": {
           "automargin": true,
           "gridcolor": "white",
           "linecolor": "white",
           "ticks": "",
           "title": {
            "standoff": 15
           },
           "zerolinecolor": "white",
           "zerolinewidth": 2
          }
         }
        },
        "title": {
         "text": "Diabetes Patient Dataset Comprehensive Analysis"
        },
        "xaxis": {
         "anchor": "y",
         "domain": [
          0,
          0.2888888888888889
         ]
        },
        "xaxis2": {
         "anchor": "y2",
         "domain": [
          0.35555555555555557,
          0.6444444444444445
         ]
        },
        "xaxis3": {
         "anchor": "y3",
         "domain": [
          0.7111111111111111,
          1
         ]
        },
        "xaxis4": {
         "anchor": "y4",
         "domain": [
          0.7111111111111111,
          1
         ]
        },
        "xaxis5": {
         "anchor": "y5",
         "domain": [
          0,
          0.2888888888888889
         ]
        },
        "xaxis6": {
         "anchor": "y6",
         "domain": [
          0.35555555555555557,
          0.6444444444444445
         ]
        },
        "xaxis7": {
         "anchor": "y7",
         "domain": [
          0.7111111111111111,
          1
         ]
        },
        "yaxis": {
         "anchor": "x",
         "domain": [
          0.7777777777777778,
          1
         ]
        },
        "yaxis2": {
         "anchor": "x2",
         "domain": [
          0.7777777777777778,
          1
         ]
        },
        "yaxis3": {
         "anchor": "x3",
         "domain": [
          0.7777777777777778,
          1
         ]
        },
        "yaxis4": {
         "anchor": "x4",
         "domain": [
          0.3888888888888889,
          0.6111111111111112
         ]
        },
        "yaxis5": {
         "anchor": "x5",
         "domain": [
          0,
          0.22222222222222224
         ]
        },
        "yaxis6": {
         "anchor": "x6",
         "domain": [
          0,
          0.22222222222222224
         ]
        },
        "yaxis7": {
         "anchor": "x7",
         "domain": [
          0,
          0.22222222222222224
         ]
        }
       }
      }
     },
     "metadata": {},
     "output_type": "display_data"
    },
    {
     "name": "stdout",
     "output_type": "stream",
     "text": [
      "\n",
      "💾 Saved analysis dashboard: diabetes_patient_analysis_dashboard.html\n",
      "\n",
      "================================================================================\n",
      "✅ ANALYSIS COMPLETE\n",
      "================================================================================\n",
      "📊 Dataset: 500 diabetes patients analyzed\n",
      "🎯 Key Findings:\n",
      "   • Average HbA1c: 8.1%\n",
      "   • Well controlled patients: 30.8%\n",
      "   • Patients with complications: 64.0%\n",
      "   • Average CV risk: 0.375\n",
      "   • Type 2 diabetes prevalence: 88.0%\n"
     ]
    }
   ],
   "source": [
    "\n",
    "import numpy as np\n",
    "import pandas as pd\n",
    "import plotly.graph_objects as go\n",
    "import plotly.express as px\n",
    "from plotly.subplots import make_subplots\n",
    "import requests\n",
    "import json\n",
    "from scipy import stats\n",
    "import matplotlib.pyplot as plt\n",
    "import seaborn as sns\n",
    "\n",
    "# Configuration\n",
    "WEAVIATE_URL = \"http://localhost:8080\"\n",
    "\n",
    "def fetch_complete_patient_data(limit=1000):\n",
    "    \"\"\"\n",
    "    Fetch complete diabetes patient data from Weaviate for analysis\n",
    "    \"\"\"\n",
    "    print(f\"🔍 Fetching complete patient dataset from Weaviate...\")\n",
    "    \n",
    "    query = {\n",
    "        \"query\": f\"\"\"\n",
    "        {{\n",
    "            Get {{\n",
    "                DiabetesPatients(limit: {limit}) {{\n",
    "                    patient_id\n",
    "                    age\n",
    "                    gender\n",
    "                    diabetes_type\n",
    "                    years_since_diagnosis\n",
    "                    hba1c_current\n",
    "                    hba1c_baseline\n",
    "                    hba1c_change\n",
    "                    glucose_fasting\n",
    "                    glucose_random\n",
    "                    bmi\n",
    "                    blood_pressure_systolic\n",
    "                    blood_pressure_diastolic\n",
    "                    creatinine\n",
    "                    egfr\n",
    "                    ldl_cholesterol\n",
    "                    hdl_cholesterol\n",
    "                    triglycerides\n",
    "                    albumin_creatinine_ratio\n",
    "                    symptoms\n",
    "                    complications\n",
    "                    comorbidities\n",
    "                    medications\n",
    "                    medication_adherence\n",
    "                    smoking_status\n",
    "                    alcohol_use\n",
    "                    exercise_weekly_hours\n",
    "                    diet_quality_score\n",
    "                    cardiovascular_risk_score\n",
    "                    kidney_disease_risk\n",
    "                    retinopathy_risk\n",
    "                    neuropathy_risk\n",
    "                    treatment_response\n",
    "                    weight_change\n",
    "                    hospitalizations_past_year\n",
    "                    emergency_visits_past_year\n",
    "                    insurance_type\n",
    "                    socioeconomic_score\n",
    "                    last_updated\n",
    "                    data_quality_score\n",
    "                }}\n",
    "            }}\n",
    "        }}\n",
    "        \"\"\"\n",
    "    }\n",
    "    \n",
    "    try:\n",
    "        response = requests.post(\n",
    "            f\"{WEAVIATE_URL}/v1/graphql\",\n",
    "            json=query,\n",
    "            headers={\"Content-Type\": \"application/json\"},\n",
    "            timeout=30\n",
    "        )\n",
    "        \n",
    "        result = response.json()\n",
    "        patients = result.get('data', {}).get('Get', {}).get('DiabetesPatients', [])\n",
    "        \n",
    "        if not patients:\n",
    "            print(\"⚠️ No patient data found\")\n",
    "            return None\n",
    "        \n",
    "        # Process and clean data\n",
    "        processed_data = []\n",
    "        \n",
    "        for patient in patients:\n",
    "            # Handle list fields\n",
    "            symptoms = patient.get('symptoms', [])\n",
    "            complications = patient.get('complications', [])\n",
    "            comorbidities = patient.get('comorbidities', [])\n",
    "            medications = patient.get('medications', [])\n",
    "            \n",
    "            # Ensure lists\n",
    "            if isinstance(symptoms, str):\n",
    "                symptoms = [symptoms] if symptoms else []\n",
    "            if isinstance(complications, str):\n",
    "                complications = [complications] if complications else []\n",
    "            if isinstance(comorbidities, str):\n",
    "                comorbidities = [comorbidities] if comorbidities else []\n",
    "            if isinstance(medications, str):\n",
    "                medications = [medications] if medications else []\n",
    "            \n",
    "            processed_data.append({\n",
    "                'patient_id': patient.get('patient_id', ''),\n",
    "                'age': patient.get('age', 0),\n",
    "                'gender': patient.get('gender', 'Unknown'),\n",
    "                'diabetes_type': patient.get('diabetes_type', 'Unknown'),\n",
    "                'years_since_diagnosis': patient.get('years_since_diagnosis', 0),\n",
    "                'hba1c_current': patient.get('hba1c_current', 0),\n",
    "                'hba1c_baseline': patient.get('hba1c_baseline', 0),\n",
    "                'hba1c_change': patient.get('hba1c_change', 0),\n",
    "                'glucose_fasting': patient.get('glucose_fasting', 0),\n",
    "                'glucose_random': patient.get('glucose_random', 0),\n",
    "                'bmi': patient.get('bmi', 0),\n",
    "                'bp_systolic': patient.get('blood_pressure_systolic', 0),\n",
    "                'bp_diastolic': patient.get('blood_pressure_diastolic', 0),\n",
    "                'creatinine': patient.get('creatinine', 0),\n",
    "                'egfr': patient.get('egfr', 0),\n",
    "                'ldl': patient.get('ldl_cholesterol', 0),\n",
    "                'hdl': patient.get('hdl_cholesterol', 0),\n",
    "                'triglycerides': patient.get('triglycerides', 0),\n",
    "                'acr': patient.get('albumin_creatinine_ratio', 0),\n",
    "                'symptoms_count': len(symptoms),\n",
    "                'complications_count': len(complications),\n",
    "                'comorbidities_count': len(comorbidities),\n",
    "                'medications_count': len(medications),\n",
    "                'symptoms_list': symptoms,\n",
    "                'complications_list': complications,\n",
    "                'comorbidities_list': comorbidities,\n",
    "                'medications_list': medications,\n",
    "                'adherence': patient.get('medication_adherence', 0),\n",
    "                'smoking': patient.get('smoking_status', 'Unknown'),\n",
    "                'alcohol': patient.get('alcohol_use', 'Unknown'),\n",
    "                'exercise': patient.get('exercise_weekly_hours', 0),\n",
    "                'diet_score': patient.get('diet_quality_score', 0),\n",
    "                'cv_risk': patient.get('cardiovascular_risk_score', 0),\n",
    "                'kidney_risk': patient.get('kidney_disease_risk', 0),\n",
    "                'retinopathy_risk': patient.get('retinopathy_risk', 0),\n",
    "                'neuropathy_risk': patient.get('neuropathy_risk', 0),\n",
    "                'treatment_response': patient.get('treatment_response', 'Unknown'),\n",
    "                'weight_change': patient.get('weight_change', 0),\n",
    "                'hospitalizations': patient.get('hospitalizations_past_year', 0),\n",
    "                'er_visits': patient.get('emergency_visits_past_year', 0),\n",
    "                'insurance': patient.get('insurance_type', 'Unknown'),\n",
    "                'ses_score': patient.get('socioeconomic_score', 0),\n",
    "                'data_quality': patient.get('data_quality_score', 0)\n",
    "            })\n",
    "        \n",
    "        df = pd.DataFrame(processed_data)\n",
    "        print(f\"✅ Loaded {len(df)} patients for analysis\")\n",
    "        return df\n",
    "        \n",
    "    except Exception as e:\n",
    "        print(f\"❌ Error: {e}\")\n",
    "        return None\n",
    "\n",
    "def generate_dataset_overview(df):\n",
    "    \"\"\"\n",
    "    Generate comprehensive dataset overview\n",
    "    \"\"\"\n",
    "    print(\"\\n\" + \"=\"*80)\n",
    "    print(\"📊 DIABETES PATIENT DATASET OVERVIEW\")\n",
    "    print(\"=\"*80)\n",
    "    \n",
    "    # Basic dataset info\n",
    "    print(f\"\\n📈 DATASET SIZE & STRUCTURE:\")\n",
    "    print(f\"   • Total Patients: {len(df):,}\")\n",
    "    print(f\"   • Total Features: {len(df.columns)}\")\n",
    "    print(f\"   • Data Quality Score: {df['data_quality'].mean():.3f}\")\n",
    "    print(f\"   • Missing Data: {df.isnull().sum().sum()} values ({(df.isnull().sum().sum()/(len(df)*len(df.columns))*100):.2f}%)\")\n",
    "    \n",
    "    # Demographics summary\n",
    "    print(f\"\\n👥 DEMOGRAPHICS:\")\n",
    "    print(f\"   • Age Range: {df['age'].min()}-{df['age'].max()} years (μ={df['age'].mean():.1f}, σ={df['age'].std():.1f})\")\n",
    "    print(f\"   • Gender Distribution:\")\n",
    "    gender_counts = df['gender'].value_counts()\n",
    "    for gender, count in gender_counts.items():\n",
    "        print(f\"     - {gender}: {count:,} ({count/len(df)*100:.1f}%)\")\n",
    "    \n",
    "    print(f\"   • Diabetes Type Distribution:\")\n",
    "    diabetes_counts = df['diabetes_type'].value_counts()\n",
    "    for dtype, count in diabetes_counts.items():\n",
    "        print(f\"     - {dtype}: {count:,} ({count/len(df)*100:.1f}%)\")\n",
    "    \n",
    "    # Clinical characteristics\n",
    "    print(f\"\\n🔬 CLINICAL CHARACTERISTICS:\")\n",
    "    print(f\"   • Disease Duration: {df['years_since_diagnosis'].mean():.1f} ± {df['years_since_diagnosis'].std():.1f} years\")\n",
    "    print(f\"   • HbA1c Current: {df['hba1c_current'].mean():.1f} ± {df['hba1c_current'].std():.1f}%\")\n",
    "    print(f\"   • HbA1c Change: {df['hba1c_change'].mean():.1f} ± {df['hba1c_change'].std():.1f}%\")\n",
    "    print(f\"   • BMI: {df['bmi'].mean():.1f} ± {df['bmi'].std():.1f} kg/m²\")\n",
    "    print(f\"   • Blood Pressure: {df['bp_systolic'].mean():.0f}/{df['bp_diastolic'].mean():.0f} mmHg\")\n",
    "    \n",
    "    # Disease control analysis\n",
    "    well_controlled = (df['hba1c_current'] < 7).sum()\n",
    "    moderately_controlled = ((df['hba1c_current'] >= 7) & (df['hba1c_current'] < 8)).sum()\n",
    "    poorly_controlled = ((df['hba1c_current'] >= 8) & (df['hba1c_current'] < 9)).sum()\n",
    "    very_poor = (df['hba1c_current'] >= 9).sum()\n",
    "    \n",
    "    print(f\"\\n🎯 GLYCEMIC CONTROL STATUS:\")\n",
    "    print(f\"   • Well Controlled (<7%): {well_controlled:,} ({well_controlled/len(df)*100:.1f}%)\")\n",
    "    print(f\"   • Moderately Controlled (7-8%): {moderately_controlled:,} ({moderately_controlled/len(df)*100:.1f}%)\")\n",
    "    print(f\"   • Poorly Controlled (8-9%): {poorly_controlled:,} ({poorly_controlled/len(df)*100:.1f}%)\")\n",
    "    print(f\"   • Very Poor Control (≥9%): {very_poor:,} ({very_poor/len(df)*100:.1f}%)\")\n",
    "    \n",
    "    # Complications and comorbidities\n",
    "    print(f\"\\n⚕️ DISEASE BURDEN:\")\n",
    "    print(f\"   • Average Complications: {df['complications_count'].mean():.1f}\")\n",
    "    print(f\"   • Patients with Complications: {(df['complications_count'] > 0).sum():,} ({(df['complications_count'] > 0).mean()*100:.1f}%)\")\n",
    "    print(f\"   • Average Comorbidities: {df['comorbidities_count'].mean():.1f}\")\n",
    "    print(f\"   • Average Medications: {df['medications_count'].mean():.1f}\")\n",
    "    \n",
    "    # Healthcare utilization\n",
    "    print(f\"\\n🏥 HEALTHCARE UTILIZATION:\")\n",
    "    print(f\"   • Average Hospitalizations/Year: {df['hospitalizations'].mean():.1f}\")\n",
    "    print(f\"   • Patients with Hospitalizations: {(df['hospitalizations'] > 0).sum():,} ({(df['hospitalizations'] > 0).mean()*100:.1f}%)\")\n",
    "    print(f\"   • Average ER Visits/Year: {df['er_visits'].mean():.1f}\")\n",
    "    \n",
    "    # Risk profiles\n",
    "    print(f\"\\n⚠️ RISK PROFILES:\")\n",
    "    print(f\"   • Cardiovascular Risk: {df['cv_risk'].mean():.3f} ± {df['cv_risk'].std():.3f}\")\n",
    "    print(f\"   • Kidney Disease Risk: {df['kidney_risk'].mean():.3f} ± {df['kidney_risk'].std():.3f}\")\n",
    "    print(f\"   • Retinopathy Risk: {df['retinopathy_risk'].mean():.3f} ± {df['retinopathy_risk'].std():.3f}\")\n",
    "    print(f\"   • Neuropathy Risk: {df['neuropathy_risk'].mean():.3f} ± {df['neuropathy_risk'].std():.3f}\")\n",
    "    \n",
    "    # Treatment response\n",
    "    print(f\"\\n💊 TREATMENT RESPONSE:\")\n",
    "    response_counts = df['treatment_response'].value_counts()\n",
    "    for response, count in response_counts.items():\n",
    "        print(f\"   • {response}: {count:,} ({count/len(df)*100:.1f}%)\")\n",
    "    \n",
    "    print(f\"   • Average Medication Adherence: {df['adherence'].mean():.1f}%\")\n",
    "    \n",
    "    # Social determinants\n",
    "    print(f\"\\n💰 SOCIAL DETERMINANTS:\")\n",
    "    insurance_counts = df['insurance'].value_counts()\n",
    "    for insurance, count in insurance_counts.items():\n",
    "        print(f\"   • {insurance}: {count:,} ({count/len(df)*100:.1f}%)\")\n",
    "    print(f\"   • Average SES Score: {df['ses_score'].mean():.1f}/10\")\n",
    "    \n",
    "    # Lifestyle factors\n",
    "    print(f\"\\n🏃 LIFESTYLE FACTORS:\")\n",
    "    smoking_counts = df['smoking'].value_counts()\n",
    "    for status, count in smoking_counts.items():\n",
    "        print(f\"   • {status} Smoker: {count:,} ({count/len(df)*100:.1f}%)\")\n",
    "    print(f\"   • Average Exercise: {df['exercise'].mean():.1f} hours/week\")\n",
    "    print(f\"   • Average Diet Score: {df['diet_score'].mean():.1f}/10\")\n",
    "\n",
    "def analyze_distributions(df):\n",
    "    \"\"\"\n",
    "    Analyze key variable distributions\n",
    "    \"\"\"\n",
    "    print(f\"\\n📊 DISTRIBUTION ANALYSIS:\")\n",
    "    print(f\"{'='*50}\")\n",
    "    \n",
    "    # Key continuous variables\n",
    "    continuous_vars = {\n",
    "        'age': 'Age (years)',\n",
    "        'years_since_diagnosis': 'Years with Diabetes',\n",
    "        'hba1c_current': 'Current HbA1c (%)',\n",
    "        'bmi': 'BMI (kg/m²)',\n",
    "        'bp_systolic': 'Systolic BP (mmHg)',\n",
    "        'creatinine': 'Creatinine (mg/dL)',\n",
    "        'egfr': 'eGFR (mL/min/1.73m²)',\n",
    "        'ldl': 'LDL Cholesterol (mg/dL)',\n",
    "        'hdl': 'HDL Cholesterol (mg/dL)',\n",
    "        'cv_risk': 'Cardiovascular Risk',\n",
    "        'adherence': 'Medication Adherence (%)'\n",
    "    }\n",
    "    \n",
    "    print(f\"\\n📈 CONTINUOUS VARIABLES:\")\n",
    "    print(f\"{'Variable':<25} {'Mean':<8} {'Std':<8} {'Min':<8} {'25%':<8} {'50%':<8} {'75%':<8} {'Max':<8}\")\n",
    "    print(\"-\" * 89)\n",
    "    \n",
    "    for var, name in continuous_vars.items():\n",
    "        if var in df.columns:\n",
    "            stats_data = df[var].describe()\n",
    "            print(f\"{name:<25} {stats_data['mean']:>7.1f} {stats_data['std']:>7.1f} {stats_data['min']:>7.1f} {stats_data['25%']:>7.1f} {stats_data['50%']:>7.1f} {stats_data['75%']:>7.1f} {stats_data['max']:>7.1f}\")\n",
    "\n",
    "def analyze_most_common_items(df):\n",
    "    \"\"\"\n",
    "    Analyze most common complications, comorbidities, medications, and symptoms\n",
    "    \"\"\"\n",
    "    print(f\"\\n📋 MOST COMMON CLINICAL ITEMS:\")\n",
    "    print(f\"{'='*50}\")\n",
    "    \n",
    "    # Most common complications\n",
    "    all_complications = []\n",
    "    for comp_list in df['complications_list']:\n",
    "        if isinstance(comp_list, list):\n",
    "            all_complications.extend(comp_list)\n",
    "    \n",
    "    if all_complications:\n",
    "        comp_counts = pd.Series(all_complications).value_counts()\n",
    "        print(f\"\\n🔴 TOP COMPLICATIONS:\")\n",
    "        for i, (comp, count) in enumerate(comp_counts.head(10).items(), 1):\n",
    "            percent = count / len(df) * 100\n",
    "            print(f\"   {i:2d}. {comp:<30}: {count:3d} patients ({percent:4.1f}%)\")\n",
    "    \n",
    "    # Most common comorbidities\n",
    "    all_comorbidities = []\n",
    "    for comorb_list in df['comorbidities_list']:\n",
    "        if isinstance(comorb_list, list):\n",
    "            all_comorbidities.extend(comorb_list)\n",
    "    \n",
    "    if all_comorbidities:\n",
    "        comorb_counts = pd.Series(all_comorbidities).value_counts()\n",
    "        print(f\"\\n🟡 TOP COMORBIDITIES:\")\n",
    "        for i, (comorb, count) in enumerate(comorb_counts.head(10).items(), 1):\n",
    "            percent = count / len(df) * 100\n",
    "            print(f\"   {i:2d}. {comorb:<30}: {count:3d} patients ({percent:4.1f}%)\")\n",
    "    \n",
    "    # Most common medications\n",
    "    all_medications = []\n",
    "    for med_list in df['medications_list']:\n",
    "        if isinstance(med_list, list):\n",
    "            all_medications.extend(med_list)\n",
    "    \n",
    "    if all_medications:\n",
    "        med_counts = pd.Series(all_medications).value_counts()\n",
    "        print(f\"\\n💊 TOP MEDICATIONS:\")\n",
    "        for i, (med, count) in enumerate(med_counts.head(10).items(), 1):\n",
    "            percent = count / len(df) * 100\n",
    "            print(f\"   {i:2d}. {med:<35}: {count:3d} patients ({percent:4.1f}%)\")\n",
    "    \n",
    "    # Most common symptoms\n",
    "    all_symptoms = []\n",
    "    for symp_list in df['symptoms_list']:\n",
    "        if isinstance(symp_list, list):\n",
    "            all_symptoms.extend(symp_list)\n",
    "    \n",
    "    if all_symptoms:\n",
    "        symp_counts = pd.Series(all_symptoms).value_counts()\n",
    "        print(f\"\\n🔵 TOP SYMPTOMS:\")\n",
    "        for i, (symp, count) in enumerate(symp_counts.head(10).items(), 1):\n",
    "            percent = count / len(df) * 100\n",
    "            print(f\"   {i:2d}. {symp:<30}: {count:3d} patients ({percent:4.1f}%)\")\n",
    "\n",
    "def create_comprehensive_dashboard(df):\n",
    "    \"\"\"\n",
    "    Create comprehensive visualization dashboard\n",
    "    \"\"\"\n",
    "    print(f\"\\n🎨 Creating comprehensive data visualization dashboard...\")\n",
    "    \n",
    "    # Create subplot grid\n",
    "    fig = make_subplots(\n",
    "        rows=3, cols=3,\n",
    "        subplot_titles=[\n",
    "            'Age Distribution',\n",
    "            'HbA1c Distribution', \n",
    "            'BMI Distribution',\n",
    "            'Diabetes Type',\n",
    "            'Treatment Response',\n",
    "            'Complications Count',\n",
    "            'HbA1c vs Years with Diabetes',\n",
    "            'Risk Scores Distribution',\n",
    "            'Healthcare Utilization'\n",
    "        ],\n",
    "        specs=[\n",
    "            [{\"type\": \"histogram\"}, {\"type\": \"histogram\"}, {\"type\": \"histogram\"}],\n",
    "            [{\"type\": \"pie\"}, {\"type\": \"pie\"}, {\"type\": \"bar\"}],\n",
    "            [{\"type\": \"scatter\"}, {\"type\": \"box\"}, {\"type\": \"bar\"}]\n",
    "        ]\n",
    "    )\n",
    "    \n",
    "    # Row 1: Histograms\n",
    "    fig.add_trace(go.Histogram(x=df['age'], name='Age', nbinsx=20), row=1, col=1)\n",
    "    fig.add_trace(go.Histogram(x=df['hba1c_current'], name='HbA1c', nbinsx=20), row=1, col=2)\n",
    "    fig.add_trace(go.Histogram(x=df['bmi'], name='BMI', nbinsx=20), row=1, col=3)\n",
    "    \n",
    "    # Row 2: Pie charts and bar\n",
    "    diabetes_counts = df['diabetes_type'].value_counts()\n",
    "    fig.add_trace(go.Pie(\n",
    "        labels=diabetes_counts.index, \n",
    "        values=diabetes_counts.values, \n",
    "        name=\"Diabetes Type\",\n",
    "        textinfo='label+percent',\n",
    "        textposition='inside',\n",
    "        textfont_size=12,\n",
    "        showlegend=True\n",
    "    ), row=2, col=1)\n",
    "    \n",
    "    response_counts = df['treatment_response'].value_counts()\n",
    "    fig.add_trace(go.Pie(\n",
    "        labels=response_counts.index, \n",
    "        values=response_counts.values, \n",
    "        name=\"Treatment Response\",\n",
    "        textinfo='label+percent',\n",
    "        textposition='inside',\n",
    "        textfont_size=12,\n",
    "        showlegend=True\n",
    "    ), row=2, col=2)\n",
    "    \n",
    "    comp_counts = df['complications_count'].value_counts().sort_index()\n",
    "    fig.add_trace(go.Bar(x=comp_counts.index, y=comp_counts.values, name=\"Complications\"), row=2, col=3)\n",
    "    \n",
    "    # Row 3: Scatter, box, and bar\n",
    "    fig.add_trace(go.Scatter(\n",
    "        x=df['years_since_diagnosis'], \n",
    "        y=df['hba1c_current'],\n",
    "        mode='markers',\n",
    "        marker=dict(size=4, opacity=0.6),\n",
    "        name=\"HbA1c vs Years\"\n",
    "    ), row=3, col=1)\n",
    "    \n",
    "    # Risk scores box plot\n",
    "    risk_data = [df['cv_risk'], df['kidney_risk'], df['retinopathy_risk'], df['neuropathy_risk']]\n",
    "    risk_names = ['CV Risk', 'Kidney Risk', 'Retinopathy Risk', 'Neuropathy Risk']\n",
    "    \n",
    "    for i, (data, name) in enumerate(zip(risk_data, risk_names)):\n",
    "        fig.add_trace(go.Box(y=data, name=name, boxpoints='outliers'), row=3, col=2)\n",
    "    \n",
    "    # Healthcare utilization\n",
    "    hosp_counts = df['hospitalizations'].value_counts().sort_index()\n",
    "    fig.add_trace(go.Bar(x=hosp_counts.index, y=hosp_counts.values, name=\"Hospitalizations\"), row=3, col=3)\n",
    "    \n",
    "    # Update layout\n",
    "    fig.update_layout(\n",
    "        title_text=\"Diabetes Patient Dataset Comprehensive Analysis\",\n",
    "        showlegend=True,\n",
    "        height=1000,\n",
    "        paper_bgcolor='white',\n",
    "        legend=dict(\n",
    "            orientation=\"v\",\n",
    "            yanchor=\"top\",\n",
    "            y=0.99,\n",
    "            xanchor=\"left\",\n",
    "            x=1.01\n",
    "        )\n",
    "    )\n",
    "    \n",
    "    return fig\n",
    "\n",
    "def generate_summary_statistics(df):\n",
    "    \"\"\"\n",
    "    Generate comprehensive summary statistics\n",
    "    \"\"\"\n",
    "    print(f\"\\n📊 COMPREHENSIVE SUMMARY STATISTICS:\")\n",
    "    print(f\"{'='*60}\")\n",
    "    \n",
    "    # Clinical outcomes by diabetes type\n",
    "    print(f\"\\n🔬 CLINICAL OUTCOMES BY DIABETES TYPE:\")\n",
    "    for dtype in df['diabetes_type'].unique():\n",
    "        subset = df[df['diabetes_type'] == dtype]\n",
    "        print(f\"\\n{dtype} (n={len(subset)}):\")\n",
    "        print(f\"   • Age: {subset['age'].mean():.1f} ± {subset['age'].std():.1f} years\")\n",
    "        print(f\"   • HbA1c: {subset['hba1c_current'].mean():.1f} ± {subset['hba1c_current'].std():.1f}%\")\n",
    "        print(f\"   • BMI: {subset['bmi'].mean():.1f} ± {subset['bmi'].std():.1f}\")\n",
    "        print(f\"   • Complications: {subset['complications_count'].mean():.1f}\")\n",
    "        print(f\"   • CV Risk: {subset['cv_risk'].mean():.3f}\")\n",
    "        print(f\"   • Well controlled (<7%): {(subset['hba1c_current'] < 7).mean()*100:.1f}%\")\n",
    "    \n",
    "    # Outcomes by control status\n",
    "    print(f\"\\n📈 OUTCOMES BY GLYCEMIC CONTROL:\")\n",
    "    control_groups = {\n",
    "        'Well Controlled': df[df['hba1c_current'] < 7],\n",
    "        'Moderately Controlled': df[(df['hba1c_current'] >= 7) & (df['hba1c_current'] < 8)],\n",
    "        'Poorly Controlled': df[(df['hba1c_current'] >= 8) & (df['hba1c_current'] < 9)],\n",
    "        'Very Poor Control': df[df['hba1c_current'] >= 9]\n",
    "    }\n",
    "    \n",
    "    for group_name, group_df in control_groups.items():\n",
    "        if len(group_df) > 0:\n",
    "            print(f\"\\n{group_name} (n={len(group_df)}):\")\n",
    "            print(f\"   • Complications: {group_df['complications_count'].mean():.1f}\")\n",
    "            print(f\"   • Hospitalizations: {group_df['hospitalizations'].mean():.1f}\")\n",
    "            print(f\"   • CV Risk: {group_df['cv_risk'].mean():.3f}\")\n",
    "            print(f\"   • Adherence: {group_df['adherence'].mean():.1f}%\")\n",
    "    \n",
    "    # Correlation analysis\n",
    "    print(f\"\\n🔗 KEY CORRELATIONS:\")\n",
    "    correlations = [\n",
    "        ('HbA1c vs Complications', df['hba1c_current'].corr(df['complications_count'])),\n",
    "        ('HbA1c vs Hospitalizations', df['hba1c_current'].corr(df['hospitalizations'])),\n",
    "        ('HbA1c vs CV Risk', df['hba1c_current'].corr(df['cv_risk'])),\n",
    "        ('Adherence vs HbA1c', df['adherence'].corr(df['hba1c_current'])),\n",
    "        ('Age vs Complications', df['age'].corr(df['complications_count'])),\n",
    "        ('BMI vs HbA1c', df['bmi'].corr(df['hba1c_current'])),\n",
    "        ('Years DM vs Complications', df['years_since_diagnosis'].corr(df['complications_count']))\n",
    "    ]\n",
    "    \n",
    "    for desc, corr in correlations:\n",
    "        if not pd.isna(corr):\n",
    "            print(f\"   • {desc}: {corr:+.3f}\")\n",
    "\n",
    "# ============================================\n",
    "# MAIN ANALYSIS EXECUTION\n",
    "# ============================================\n",
    "\n",
    "def run_complete_analysis():\n",
    "    \"\"\"\n",
    "    Run complete patient data analysis\n",
    "    \"\"\"\n",
    "    print(\"🚀 Starting Comprehensive Diabetes Patient Data Analysis\")\n",
    "    print(\"=\"*80)\n",
    "    \n",
    "    # 1. Fetch data\n",
    "    df = fetch_complete_patient_data(limit=1000)\n",
    "    \n",
    "    if df is None:\n",
    "        print(\"❌ Could not fetch data. Exiting analysis.\")\n",
    "        return None\n",
    "    \n",
    "    # 2. Generate overview\n",
    "    generate_dataset_overview(df)\n",
    "    \n",
    "    # 3. Analyze distributions\n",
    "    analyze_distributions(df)\n",
    "    \n",
    "    # 4. Analyze common items\n",
    "    analyze_most_common_items(df)\n",
    "    \n",
    "    # 5. Generate summary statistics\n",
    "    generate_summary_statistics(df)\n",
    "    \n",
    "    # 6. Create comprehensive dashboard\n",
    "    fig = create_comprehensive_dashboard(df)\n",
    "    fig.show()\n",
    "    \n",
    "    # 7. Save dashboard\n",
    "    fig.write_html(\"diabetes_patient_analysis_dashboard.html\")\n",
    "    print(f\"\\n💾 Saved analysis dashboard: diabetes_patient_analysis_dashboard.html\")\n",
    "    \n",
    "    # 8. Generate final summary\n",
    "    print(f\"\\n\" + \"=\"*80)\n",
    "    print(\"✅ ANALYSIS COMPLETE\")\n",
    "    print(\"=\"*80)\n",
    "    print(f\"📊 Dataset: {len(df):,} diabetes patients analyzed\")\n",
    "    print(f\"🎯 Key Findings:\")\n",
    "    print(f\"   • Average HbA1c: {df['hba1c_current'].mean():.1f}%\")\n",
    "    print(f\"   • Well controlled patients: {(df['hba1c_current'] < 7).mean()*100:.1f}%\")\n",
    "    print(f\"   • Patients with complications: {(df['complications_count'] > 0).mean()*100:.1f}%\")\n",
    "    print(f\"   • Average CV risk: {df['cv_risk'].mean():.3f}\")\n",
    "    print(f\"   • Type 2 diabetes prevalence: {(df['diabetes_type'] == 'Type 2').mean()*100:.1f}%\")\n",
    "    \n",
    "    return df\n",
    "\n",
    "if __name__ == \"__main__\":\n",
    "    # Run the complete analysis\n",
    "    patient_df = run_complete_analysis()"
   ]
  }
 ],
 "metadata": {
  "kernelspec": {
   "display_name": "agents",
   "language": "python",
   "name": "python3"
  },
  "language_info": {
   "codemirror_mode": {
    "name": "ipython",
    "version": 3
   },
   "file_extension": ".py",
   "mimetype": "text/x-python",
   "name": "python",
   "nbconvert_exporter": "python",
   "pygments_lexer": "ipython3",
   "version": "3.11.11"
  }
 },
 "nbformat": 4,
 "nbformat_minor": 5
}
